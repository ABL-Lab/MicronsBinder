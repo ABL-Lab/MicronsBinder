{
 "cells": [
  {
   "cell_type": "code",
   "execution_count": 2,
   "metadata": {},
   "outputs": [],
   "source": [
    "from caveclient import CAVEclient\n",
    "import nglui\n",
    "\n"
   ]
  },
  {
   "cell_type": "code",
   "execution_count": 27,
   "metadata": {},
   "outputs": [],
   "source": [
    "# this is the datastack name of the public release\n",
    "# passing it will auto-configure many of the services\n",
    "client = CAVEclient('minnie65_public_v117')"
   ]
  },
  {
   "cell_type": "code",
   "execution_count": 28,
   "metadata": {},
   "outputs": [
    {
     "data": {
      "text/plain": [
       "['nucleus_detection_v0',\n",
       " 'synapses_pni_2',\n",
       " 'nucleus_neuron_svm',\n",
       " 'proofreading_status_public_release',\n",
       " 'func_unit_em_match_release']"
      ]
     },
     "execution_count": 28,
     "metadata": {},
     "output_type": "execute_result"
    }
   ],
   "source": [
    "client.materialize.get_tables()"
   ]
  },
  {
   "cell_type": "code",
   "execution_count": 20,
   "metadata": {},
   "outputs": [
    {
     "data": {
      "text/plain": [
       "{'description': 'This is the first version of Minnie that has proofreading enabled. Was first enabled on June 24, 2020. ',\n",
       " 'analysis_database': None,\n",
       " 'aligned_volume': {'image_source': 'precomputed://https://bossdb-open-data.s3.amazonaws.com/microns/minnie/minnie65-phase3-em/aligned/v1',\n",
       "  'description': \"This is the second alignment of the IARPA 'minnie65' dataset, completed in the spring of 2020 that used the seamless approach.\",\n",
       "  'name': 'minnie65_phase3',\n",
       "  'id': 1},\n",
       " 'local_server': 'https://minnie.microns-daf.com',\n",
       " 'synapse_table': 'synapses_pni_2',\n",
       " 'viewer_site': 'http://neuromancer-seung-import.appspot.com/',\n",
       " 'segmentation_source': 'graphene://https://minnie.microns-daf.com/segmentation/table/minnie3_v1',\n",
       " 'soma_table': 'nucleus_neuron_svm'}"
      ]
     },
     "execution_count": 20,
     "metadata": {},
     "output_type": "execute_result"
    }
   ],
   "source": [
    "# this shows you the basic information about this datastack within CAVE\n",
    "client.info.get_datastack_info()"
   ]
  },
  {
   "cell_type": "code",
   "execution_count": 29,
   "metadata": {},
   "outputs": [],
   "source": [
    "# pick a segment you selected from neuroglancer to enter here\n",
    "seg_id = 864691135474648896"
   ]
  },
  {
   "cell_type": "code",
   "execution_count": 30,
   "metadata": {},
   "outputs": [],
   "source": [
    "# lets get the outputs of this cell\n",
    "output_df = client.materialize.synapse_query(pre_ids=seg_id)\n",
    "# and the inputs\n",
    "input_df = client.materialize.synapse_query(post_ids=seg_id)\n"
   ]
  },
  {
   "cell_type": "code",
   "execution_count": 31,
   "metadata": {},
   "outputs": [
    {
     "data": {
      "text/plain": [
       "(232, 1554)"
      ]
     },
     "execution_count": 31,
     "metadata": {},
     "output_type": "execute_result"
    }
   ],
   "source": [
    "# here are the number of output synapses and input synapses\n",
    "len(output_df), len(input_df)"
   ]
  },
  {
   "cell_type": "code",
   "execution_count": 8,
   "metadata": {},
   "outputs": [
    {
     "data": {
      "text/html": [
       "<div>\n",
       "<style scoped>\n",
       "    .dataframe tbody tr th:only-of-type {\n",
       "        vertical-align: middle;\n",
       "    }\n",
       "\n",
       "    .dataframe tbody tr th {\n",
       "        vertical-align: top;\n",
       "    }\n",
       "\n",
       "    .dataframe thead th {\n",
       "        text-align: right;\n",
       "    }\n",
       "</style>\n",
       "<table border=\"1\" class=\"dataframe\">\n",
       "  <thead>\n",
       "    <tr style=\"text-align: right;\">\n",
       "      <th></th>\n",
       "      <th>id</th>\n",
       "      <th>valid</th>\n",
       "      <th>pre_pt_supervoxel_id</th>\n",
       "      <th>pre_pt_root_id</th>\n",
       "      <th>post_pt_supervoxel_id</th>\n",
       "      <th>post_pt_root_id</th>\n",
       "      <th>size</th>\n",
       "      <th>pre_pt_position</th>\n",
       "      <th>post_pt_position</th>\n",
       "      <th>ctr_pt_position</th>\n",
       "    </tr>\n",
       "  </thead>\n",
       "  <tbody>\n",
       "    <tr>\n",
       "      <th>0</th>\n",
       "      <td>342361353</td>\n",
       "      <td>t</td>\n",
       "      <td>103680030495990215</td>\n",
       "      <td>864691135474648896</td>\n",
       "      <td>103680030496002328</td>\n",
       "      <td>864691134947465724</td>\n",
       "      <td>456</td>\n",
       "      <td>[282724, 261022, 22820]</td>\n",
       "      <td>[282732, 260974, 22834]</td>\n",
       "      <td>[282698, 261034, 22826]</td>\n",
       "    </tr>\n",
       "    <tr>\n",
       "      <th>1</th>\n",
       "      <td>346621273</td>\n",
       "      <td>t</td>\n",
       "      <td>104239887938858534</td>\n",
       "      <td>864691135474648896</td>\n",
       "      <td>104239887938855726</td>\n",
       "      <td>864691135952035875</td>\n",
       "      <td>360</td>\n",
       "      <td>[286810, 238068, 21802]</td>\n",
       "      <td>[286892, 237968, 21804]</td>\n",
       "      <td>[286862, 237990, 21798]</td>\n",
       "    </tr>\n",
       "    <tr>\n",
       "      <th>2</th>\n",
       "      <td>368367952</td>\n",
       "      <td>t</td>\n",
       "      <td>105788756761877367</td>\n",
       "      <td>864691135474648896</td>\n",
       "      <td>105788756761876187</td>\n",
       "      <td>864691135307118406</td>\n",
       "      <td>10624</td>\n",
       "      <td>[298378, 243810, 25925]</td>\n",
       "      <td>[298388, 243778, 25927]</td>\n",
       "      <td>[298372, 243784, 25924]</td>\n",
       "    </tr>\n",
       "    <tr>\n",
       "      <th>3</th>\n",
       "      <td>381765166</td>\n",
       "      <td>t</td>\n",
       "      <td>107337074419646813</td>\n",
       "      <td>864691135474648896</td>\n",
       "      <td>107337074419638329</td>\n",
       "      <td>864691136536564642</td>\n",
       "      <td>10504</td>\n",
       "      <td>[309408, 244972, 19151]</td>\n",
       "      <td>[309456, 245044, 19136]</td>\n",
       "      <td>[309474, 245061, 19140]</td>\n",
       "    </tr>\n",
       "    <tr>\n",
       "      <th>5</th>\n",
       "      <td>324562691</td>\n",
       "      <td>t</td>\n",
       "      <td>102693493620865226</td>\n",
       "      <td>864691135474648896</td>\n",
       "      <td>102693493620852318</td>\n",
       "      <td>864691136908297582</td>\n",
       "      <td>28416</td>\n",
       "      <td>[275832, 250790, 22228]</td>\n",
       "      <td>[275894, 250834, 22218]</td>\n",
       "      <td>[275864, 250820, 22226]</td>\n",
       "    </tr>\n",
       "  </tbody>\n",
       "</table>\n",
       "</div>"
      ],
      "text/plain": [
       "          id valid  pre_pt_supervoxel_id      pre_pt_root_id  \\\n",
       "0  342361353     t    103680030495990215  864691135474648896   \n",
       "1  346621273     t    104239887938858534  864691135474648896   \n",
       "2  368367952     t    105788756761877367  864691135474648896   \n",
       "3  381765166     t    107337074419646813  864691135474648896   \n",
       "5  324562691     t    102693493620865226  864691135474648896   \n",
       "\n",
       "   post_pt_supervoxel_id     post_pt_root_id   size          pre_pt_position  \\\n",
       "0     103680030496002328  864691134947465724    456  [282724, 261022, 22820]   \n",
       "1     104239887938855726  864691135952035875    360  [286810, 238068, 21802]   \n",
       "2     105788756761876187  864691135307118406  10624  [298378, 243810, 25925]   \n",
       "3     107337074419638329  864691136536564642  10504  [309408, 244972, 19151]   \n",
       "5     102693493620852318  864691136908297582  28416  [275832, 250790, 22228]   \n",
       "\n",
       "          post_pt_position          ctr_pt_position  \n",
       "0  [282732, 260974, 22834]  [282698, 261034, 22826]  \n",
       "1  [286892, 237968, 21804]  [286862, 237990, 21798]  \n",
       "2  [298388, 243778, 25927]  [298372, 243784, 25924]  \n",
       "3  [309456, 245044, 19136]  [309474, 245061, 19140]  \n",
       "5  [275894, 250834, 22218]  [275864, 250820, 22226]  "
      ]
     },
     "execution_count": 8,
     "metadata": {},
     "output_type": "execute_result"
    }
   ],
   "source": [
    "# take peak at the output synapse dataframe\n",
    "output_df.head()"
   ]
  },
  {
   "cell_type": "markdown",
   "metadata": {},
   "source": [
    "<div style=\"border-left: 3px solid #000; padding: 1px; padding-left: 10px; background: #F0FAFF; \">\n",
    "\n",
    "<h3> Synapse Table Descriptions</h3>\n",
    "Here's a breakdown of what each of those columns mean.\n",
    "</div>\n",
    "\n",
    "<table style={float:left}>\n",
    "    <tr>\n",
    "        <td><h4>column</h4></td>\n",
    "        <td><h4>description</h4></td>\n",
    "    </tr> \n",
    "    <tr>\n",
    "        <td>id</td>\n",
    "        <td>The ID that is specific to this synapse, it corresponds to the ID in the synapse cleft segmentation</td>\n",
    "    </tr>\n",
    "    <tr>\n",
    "        <td>pre_pt_position</td>\n",
    "        <td>a point that is in the pre-synaptic terminal of this synapse (in 4,4,40 voxels) </td>\n",
    "    </tr>\n",
    "    <tr>\n",
    "        <td>pre_pt_supervoxel_id</td>\n",
    "        <td>the ID in the watershed layer this pre-synaptic point lies in, a bookkeeping column for the presynaptic side </td>\n",
    "    </tr>\n",
    "    <tr>\n",
    "        <td>pre_pt_root_id</td>\n",
    "        <td>the ID of the segment on the presynaptic side</td>\n",
    "    </tr>\n",
    "     <tr>\n",
    "        <td>ctr_pt_position</td>\n",
    "        <td>a point that is on the center of the synapse (in voxels)</td>\n",
    "    </tr>\n",
    "    <tr>\n",
    "        <td>post_pt_position</td>\n",
    "        <td>Same as pre_pt but for the post synaptic side.</td>\n",
    "    </tr>\n",
    "    <tr>\n",
    "        <td>post_pt_supervoxel_id</td>\n",
    "        <td>Same bookkeeping column as pre_pt but for the post synaptic side.</td>\n",
    "    </tr>\n",
    "    <tr>\n",
    "        <td>post_pt_root_id</td>\n",
    "        <td>Same as pre_pt but for the post synaptic side</td>\n",
    "    </tr>\n",
    "    <tr>\n",
    "        <td>size</td>\n",
    "        <td>The volume of the segmented synaptic cleft in units of 4,4,40 voxels.</td>\n",
    "    </tr>\n",
    "</table>\n",
    "<div style=\"border-left: 3px solid #000; padding: 1px; padding-left: 10px; background: #F0FAFF; \">\n",
    "\n",
    "Each row in this table is a single synapse. You should see that the value in the pre_pt_root_id column is the same for all, and equals the id you selected above. \n",
    "<h5>Note again that position columns are in voxel coordinates, just like Neuroglancer displays in the upper left corner. The units of this resolution are stored in metadata for each table, but  the tables are generally stored at  4x4x40 nm resolution for this dataset.</h5>\n",
    "</div>"
   ]
  },
  {
   "cell_type": "code",
   "execution_count": 9,
   "metadata": {},
   "outputs": [
    {
     "data": {
      "text/plain": [
       "['nucleus_detection_v0',\n",
       " 'synapses_pni_2',\n",
       " 'nucleus_neuron_svm',\n",
       " 'proofreading_status_public_release',\n",
       " 'func_unit_em_match_release']"
      ]
     },
     "execution_count": 9,
     "metadata": {},
     "output_type": "execute_result"
    }
   ],
   "source": [
    "# synapses however are just one example of annotation tables on the dataset\n",
    "# there are more tables available, you can list them using this method\n",
    "client.materialize.get_tables()"
   ]
  },
  {
   "cell_type": "code",
   "execution_count": 10,
   "metadata": {},
   "outputs": [
    {
     "data": {
      "text/plain": [
       "{'valid': True,\n",
       " 'schema': 'synapse',\n",
       " 'created': '2020-11-04T06:48:36.953637',\n",
       " 'id': 16,\n",
       " 'aligned_volume': 'minnie65_phase3',\n",
       " 'table_name': 'synapses_pni_2',\n",
       " 'user_id': '304',\n",
       " 'reference_table': '',\n",
       " 'schema_type': 'synapse',\n",
       " 'description': 'Automated synapse detection performed by Nick Turner from the Seung Lab.  size represents the number of (4x4x40 nm) voxels painted by the automated cleft segmentation, and the IDs reference the IDs of the cleft segmentation.  Ctr_pt reflects the centroid of the cleft segmentation. The cleft segmentation volume is located in the flat_segmentation_source field. ',\n",
       " 'flat_segmentation_source': 'precomputed://s3://bossdb-open-data/microns/minnie/minnie65-phase3-ws/clefts/v0/clefts',\n",
       " 'voxel_resolution': [4.0, 4.0, 40.0]}"
      ]
     },
     "execution_count": 10,
     "metadata": {},
     "output_type": "execute_result"
    }
   ],
   "source": [
    "# synapses_pni_2 is the synapse table (see the info metadata above)\n",
    "# you can access the metadata of the synapse table here\n",
    "client.materialize.get_table_metadata('synapses_pni_2')"
   ]
  },
  {
   "cell_type": "code",
   "execution_count": 11,
   "metadata": {},
   "outputs": [
    {
     "data": {
      "text/plain": [
       "{'valid': True,\n",
       " 'schema': 'cell_type_local',\n",
       " 'created': '2020-11-12T22:38:01.869172',\n",
       " 'id': 38,\n",
       " 'aligned_volume': 'minnie65_phase3',\n",
       " 'table_name': 'nucleus_neuron_svm',\n",
       " 'user_id': '121',\n",
       " 'reference_table': '',\n",
       " 'schema_type': 'cell_type_local',\n",
       " 'description': 'This table contains a prediction about what nucleus detections are neurons and which are likely not neurons.  This is based upon a model trained by Leila Elabbady (Allen Institute) on nucleus segmentations in Basil, processed for features such as volume, foldedness, location in cortex, etc, and applied to Minnie65.  In Basil the model had a cross validated f1 score of .97 and a recall of .97 for neurons.  Manual validation performed on a column of 1316 nuclei in Minnie65 measured a recall of .996 and a precision of .969. ',\n",
       " 'flat_segmentation_source': 'precomputed://https://seungdata.princeton.edu/minnie65-phase3-ws/nuclei/v0/seg',\n",
       " 'voxel_resolution': [4.0, 4.0, 40.0]}"
      ]
     },
     "execution_count": 11,
     "metadata": {},
     "output_type": "execute_result"
    }
   ],
   "source": [
    "# another useful table is the nucleus_neuron_svm table\n",
    "# that contains the list of all nucleus detections and those that were classified as neurons\n",
    "client.materialize.get_table_metadata('nucleus_neuron_svm')"
   ]
  },
  {
   "cell_type": "code",
   "execution_count": 13,
   "metadata": {},
   "outputs": [
    {
     "data": {
      "text/plain": [
       "171815"
      ]
     },
     "execution_count": 13,
     "metadata": {},
     "output_type": "execute_result"
    }
   ],
   "source": [
    "# here you can see how many entries are in a table\n",
    "client.materialize.get_annotation_count('nucleus_neuron_svm')"
   ]
  },
  {
   "cell_type": "code",
   "execution_count": 15,
   "metadata": {},
   "outputs": [
    {
     "data": {
      "text/html": [
       "<div>\n",
       "<style scoped>\n",
       "    .dataframe tbody tr th:only-of-type {\n",
       "        vertical-align: middle;\n",
       "    }\n",
       "\n",
       "    .dataframe tbody tr th {\n",
       "        vertical-align: top;\n",
       "    }\n",
       "\n",
       "    .dataframe thead th {\n",
       "        text-align: right;\n",
       "    }\n",
       "</style>\n",
       "<table border=\"1\" class=\"dataframe\">\n",
       "  <thead>\n",
       "    <tr style=\"text-align: right;\">\n",
       "      <th></th>\n",
       "      <th>id</th>\n",
       "      <th>valid</th>\n",
       "      <th>classification_system</th>\n",
       "      <th>cell_type</th>\n",
       "      <th>pt_supervoxel_id</th>\n",
       "      <th>pt_root_id</th>\n",
       "      <th>pt_position</th>\n",
       "    </tr>\n",
       "  </thead>\n",
       "  <tbody>\n",
       "    <tr>\n",
       "      <th>0</th>\n",
       "      <td>348209</td>\n",
       "      <td>t</td>\n",
       "      <td>is_neuron</td>\n",
       "      <td>not-neuron</td>\n",
       "      <td>92423916840203243</td>\n",
       "      <td>864691134945836023</td>\n",
       "      <td>[200928, 282512, 16717]</td>\n",
       "    </tr>\n",
       "    <tr>\n",
       "      <th>1</th>\n",
       "      <td>640071</td>\n",
       "      <td>t</td>\n",
       "      <td>is_neuron</td>\n",
       "      <td>not-neuron</td>\n",
       "      <td>0</td>\n",
       "      <td>0</td>\n",
       "      <td>[371696, 98672, 19791]</td>\n",
       "    </tr>\n",
       "    <tr>\n",
       "      <th>2</th>\n",
       "      <td>462557</td>\n",
       "      <td>t</td>\n",
       "      <td>is_neuron</td>\n",
       "      <td>not-neuron</td>\n",
       "      <td>101417167182010351</td>\n",
       "      <td>864691135294515893</td>\n",
       "      <td>[266304, 178832, 25200]</td>\n",
       "    </tr>\n",
       "    <tr>\n",
       "      <th>3</th>\n",
       "      <td>266849</td>\n",
       "      <td>t</td>\n",
       "      <td>is_neuron</td>\n",
       "      <td>not-neuron</td>\n",
       "      <td>88330641678196634</td>\n",
       "      <td>864691135974582895</td>\n",
       "      <td>[171184, 194128, 20082]</td>\n",
       "    </tr>\n",
       "    <tr>\n",
       "      <th>4</th>\n",
       "      <td>219514</td>\n",
       "      <td>t</td>\n",
       "      <td>is_neuron</td>\n",
       "      <td>not-neuron</td>\n",
       "      <td>85994867133853165</td>\n",
       "      <td>864691135644554735</td>\n",
       "      <td>[154480, 92528, 23737]</td>\n",
       "    </tr>\n",
       "  </tbody>\n",
       "</table>\n",
       "</div>"
      ],
      "text/plain": [
       "       id valid classification_system   cell_type    pt_supervoxel_id  \\\n",
       "0  348209     t             is_neuron  not-neuron   92423916840203243   \n",
       "1  640071     t             is_neuron  not-neuron                   0   \n",
       "2  462557     t             is_neuron  not-neuron  101417167182010351   \n",
       "3  266849     t             is_neuron  not-neuron   88330641678196634   \n",
       "4  219514     t             is_neuron  not-neuron   85994867133853165   \n",
       "\n",
       "           pt_root_id              pt_position  \n",
       "0  864691134945836023  [200928, 282512, 16717]  \n",
       "1                   0   [371696, 98672, 19791]  \n",
       "2  864691135294515893  [266304, 178832, 25200]  \n",
       "3  864691135974582895  [171184, 194128, 20082]  \n",
       "4  864691135644554735   [154480, 92528, 23737]  "
      ]
     },
     "execution_count": 15,
     "metadata": {},
     "output_type": "execute_result"
    }
   ],
   "source": [
    "# this is small enough that simply downloading the entire thing\n",
    "# is reasonable\n",
    "nuc_df = client.materialize.query_table('nucleus_neuron_svm')\n",
    "nuc_df.head()"
   ]
  },
  {
   "cell_type": "markdown",
   "metadata": {},
   "source": [
    "<h2>Column descriptions</h2>\n",
    "<table style={float:left} width=\"75%\">\n",
    "    <tr><td><h4>column</h4></td>\n",
    "        <td><h4>description</h4></td>\n",
    "    </tr>\n",
    "       <tr><td>id</td>\n",
    "           <td>corresponds to the ID from the nucleus detection and segmentation</td>\n",
    "    </tr>\n",
    "           <tr><td>valid</td>\n",
    "           <td>internal check, uniformly ‘t’</td>\n",
    "    </tr>\n",
    "               <tr><td>classification_system</td>\n",
    "           <td>uniformly “is_neuron” for all entries.</td>\n",
    "    </tr>\n",
    "                  <tr><td>cell_type</td>\n",
    "           <td>‘neuron’ if the classifier called this a neuron,‘not-neuron’ if it was not classified as a neuron  this contains both non-neuronal cells as well as false positive detections.</td>\n",
    "    </tr>\n",
    "                  <tr><td>pt_supervoxel_id</td>\n",
    "           <td>the ID of the supervoxel from the watershed segmentation that is under the pt_position</td>\n",
    "    </tr>\n",
    "                  <tr><td>pt_root_id</td>\n",
    "           <td>the ID of the segment/root_id under the pt_position from the Proofread Segmentation (v117).</td>\n",
    "    </tr>\n",
    "                  <tr><td>pt_position</td>\n",
    "           <td>the location in 4,4,40 nm voxels of the nucleus location</td>\n",
    "    </tr>\n",
    "</table>\n"
   ]
  },
  {
   "cell_type": "code",
   "execution_count": 32,
   "metadata": {},
   "outputs": [],
   "source": [
    "# you might notice that the 1st row had \n",
    "# an entry for pt_root_id = 0, which means that this nucleus was outside the segmented volume\n",
    "# we can filter out those detections in the query_table\n",
    "# using the filter options in query table\n",
    "client.materialize.query_table?\n"
   ]
  },
  {
   "cell_type": "code",
   "execution_count": 33,
   "metadata": {},
   "outputs": [
    {
     "data": {
      "text/html": [
       "<div>\n",
       "<style scoped>\n",
       "    .dataframe tbody tr th:only-of-type {\n",
       "        vertical-align: middle;\n",
       "    }\n",
       "\n",
       "    .dataframe tbody tr th {\n",
       "        vertical-align: top;\n",
       "    }\n",
       "\n",
       "    .dataframe thead th {\n",
       "        text-align: right;\n",
       "    }\n",
       "</style>\n",
       "<table border=\"1\" class=\"dataframe\">\n",
       "  <thead>\n",
       "    <tr style=\"text-align: right;\">\n",
       "      <th></th>\n",
       "      <th>id</th>\n",
       "      <th>valid</th>\n",
       "      <th>classification_system</th>\n",
       "      <th>cell_type</th>\n",
       "      <th>pt_supervoxel_id</th>\n",
       "      <th>pt_root_id</th>\n",
       "      <th>pt_position</th>\n",
       "    </tr>\n",
       "  </thead>\n",
       "  <tbody>\n",
       "    <tr>\n",
       "      <th>0</th>\n",
       "      <td>348209</td>\n",
       "      <td>t</td>\n",
       "      <td>is_neuron</td>\n",
       "      <td>not-neuron</td>\n",
       "      <td>92423916840203243</td>\n",
       "      <td>864691134945836023</td>\n",
       "      <td>[200928, 282512, 16717]</td>\n",
       "    </tr>\n",
       "    <tr>\n",
       "      <th>1</th>\n",
       "      <td>462557</td>\n",
       "      <td>t</td>\n",
       "      <td>is_neuron</td>\n",
       "      <td>not-neuron</td>\n",
       "      <td>101417167182010351</td>\n",
       "      <td>864691135294515893</td>\n",
       "      <td>[266304, 178832, 25200]</td>\n",
       "    </tr>\n",
       "    <tr>\n",
       "      <th>2</th>\n",
       "      <td>266849</td>\n",
       "      <td>t</td>\n",
       "      <td>is_neuron</td>\n",
       "      <td>not-neuron</td>\n",
       "      <td>88330641678196634</td>\n",
       "      <td>864691135974582895</td>\n",
       "      <td>[171184, 194128, 20082]</td>\n",
       "    </tr>\n",
       "    <tr>\n",
       "      <th>3</th>\n",
       "      <td>219514</td>\n",
       "      <td>t</td>\n",
       "      <td>is_neuron</td>\n",
       "      <td>not-neuron</td>\n",
       "      <td>85994867133853165</td>\n",
       "      <td>864691135644554735</td>\n",
       "      <td>[154480, 92528, 23737]</td>\n",
       "    </tr>\n",
       "    <tr>\n",
       "      <th>4</th>\n",
       "      <td>485509</td>\n",
       "      <td>t</td>\n",
       "      <td>is_neuron</td>\n",
       "      <td>neuron</td>\n",
       "      <td>103588564537113366</td>\n",
       "      <td>864691136740606812</td>\n",
       "      <td>[282608, 103808, 20318]</td>\n",
       "    </tr>\n",
       "  </tbody>\n",
       "</table>\n",
       "</div>"
      ],
      "text/plain": [
       "       id valid classification_system   cell_type    pt_supervoxel_id  \\\n",
       "0  348209     t             is_neuron  not-neuron   92423916840203243   \n",
       "1  462557     t             is_neuron  not-neuron  101417167182010351   \n",
       "2  266849     t             is_neuron  not-neuron   88330641678196634   \n",
       "3  219514     t             is_neuron  not-neuron   85994867133853165   \n",
       "4  485509     t             is_neuron      neuron  103588564537113366   \n",
       "\n",
       "           pt_root_id              pt_position  \n",
       "0  864691134945836023  [200928, 282512, 16717]  \n",
       "1  864691135294515893  [266304, 178832, 25200]  \n",
       "2  864691135974582895  [171184, 194128, 20082]  \n",
       "3  864691135644554735   [154480, 92528, 23737]  \n",
       "4  864691136740606812  [282608, 103808, 20318]  "
      ]
     },
     "execution_count": 33,
     "metadata": {},
     "output_type": "execute_result"
    }
   ],
   "source": [
    "nuc_df = client.materialize.query_table('nucleus_neuron_svm',\n",
    "                                        filter_out_dict={'pt_root_id':[0]})\n",
    "nuc_df.head()"
   ]
  },
  {
   "cell_type": "code",
   "execution_count": 35,
   "metadata": {},
   "outputs": [
    {
     "data": {
      "text/plain": [
       "(82247, 7)"
      ]
     },
     "execution_count": 35,
     "metadata": {},
     "output_type": "execute_result"
    }
   ],
   "source": [
    "# lets filter down to just the neurons and see how many we have\n",
    "nuc_df.query(\"cell_type=='neuron'\").shape"
   ]
  },
  {
   "cell_type": "code",
   "execution_count": 36,
   "metadata": {},
   "outputs": [
    {
     "data": {
      "text/plain": [
       "{'valid': True,\n",
       " 'schema': 'compartment_proofread_status',\n",
       " 'created': '2021-06-28T23:42:04.073685',\n",
       " 'id': 995,\n",
       " 'aligned_volume': 'minnie65_phase3',\n",
       " 'table_name': 'proofreading_status_public_release',\n",
       " 'user_id': '56',\n",
       " 'reference_table': None,\n",
       " 'schema_type': 'compartment_proofread_status',\n",
       " 'description': \"The proofreading status of neurons that have been comprehensively proofread as of Materialization v117. Axon and dendrite compartment status are marked separately under 'axon_status' and 'dendrite_status', as proofreading effort was applied differently to the different compartments in some cells. There are three possible status values for each compartment: 'non' indicates no comprehensive proofreading. 'clean' indicates that all false merges have been removed, but all tips have not necessarily been followed. 'extended' indicates that the cell is both clean and all tips have been followed as far as a proofreader was able to. The 'pt_position' is at a cell body or similar core position for the cell. The column 'valid_id' provides the root id when the proofreading was last checked. If the current root id in 'pt_root_id' is not the same as 'valid_id', there is no guarentee that the proofreading status is correct. Very small false axon merges (axon fragments approximately 5 microns or less in length) were considered acceptable for clean neurites. Note that this table does not list all edited cells, but only those with comprehensive effort toward the status mentioned here. Table compiled by Casey Schneider-Mizell, including work by many proofreaders and data maintained by Stelios Papadopoulos.\",\n",
       " 'flat_segmentation_source': None,\n",
       " 'voxel_resolution': [4.0, 4.0, 40.0]}"
      ]
     },
     "execution_count": 36,
     "metadata": {},
     "output_type": "execute_result"
    }
   ],
   "source": [
    "# but maybe we are interested in neurons which have been proofread and have lots\n",
    "# of outputs... we can get that information from this table\n",
    "client.materialize.get_table_metadata('proofreading_status_public_release')"
   ]
  },
  {
   "cell_type": "code",
   "execution_count": 37,
   "metadata": {},
   "outputs": [
    {
     "data": {
      "text/plain": [
       "601"
      ]
     },
     "execution_count": 37,
     "metadata": {},
     "output_type": "execute_result"
    }
   ],
   "source": [
    "# how many annotations are there\n",
    "client.materialize.get_annotation_count('proofreading_status_public_release')"
   ]
  },
  {
   "cell_type": "code",
   "execution_count": null,
   "metadata": {},
   "outputs": [],
   "source": [
    "prf_df=client.materialize.query_table('proofreading_status_public_release', \n",
    "                                      filter_equal_dict={'status_dend'})"
   ]
  }
 ],
 "metadata": {
  "kernelspec": {
   "display_name": "Python 3",
   "language": "python",
   "name": "python3"
  },
  "language_info": {
   "codemirror_mode": {
    "name": "ipython",
    "version": 3
   },
   "file_extension": ".py",
   "mimetype": "text/x-python",
   "name": "python",
   "nbconvert_exporter": "python",
   "pygments_lexer": "ipython3",
   "version": "3.7.0"
  }
 },
 "nbformat": 4,
 "nbformat_minor": 4
}
