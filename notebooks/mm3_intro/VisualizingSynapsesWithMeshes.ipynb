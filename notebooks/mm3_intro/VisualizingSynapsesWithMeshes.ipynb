{
 "cells": [
  {
   "cell_type": "markdown",
   "metadata": {},
   "source": [
    "<div style=\"background: #DFF0D8; border-radius: 3px; padding: 10px;\">\n",
    "</b> Importing the key modules and set parameters\n",
    "\n",
    "</div>"
   ]
  },
  {
   "cell_type": "code",
   "execution_count": 6,
   "metadata": {},
   "outputs": [],
   "source": [
    "from meshparty import trimesh_io, trimesh_vtk\n",
    "from caveclient import CAVEclient\n",
    "import numpy as np\n",
    "import pandas as pd\n",
    "import cloudvolume\n",
    "import itkwidgets\n",
    "\n",
    "\n",
    "#setting up the cave client, if you have not done this before checkout the notebook CAVEsetup at \n",
    "#https://github.com/AllenInstitute/MicronsBinder/tree/master/notebooks/mm3_intro\n",
    "client = CAVEclient()\n",
    "#client.auth.get_new_token()\n",
    "#client.auth.save_token(token=\"Your token here\")\n",
    "\n",
    "\n",
    "dataset_name = 'minnie65_public_v117'\n",
    "client = CAVEclient(dataset_name)\n"
   ]
  },
  {
   "cell_type": "markdown",
   "metadata": {},
   "source": [
    "<div style=\"background: #DFF0D8; border-radius: 3px; padding: 10px;\">\n",
    "</b> Using the CAVEclient, we can query the synapse table for any neuron in the volume\n",
    "      </div>"
   ]
  },
  {
   "cell_type": "code",
   "execution_count": 2,
   "metadata": {},
   "outputs": [
    {
     "data": {
      "text/plain": [
       "['nucleus_detection_v0',\n",
       " 'synapses_pni_2',\n",
       " 'nucleus_neuron_svm',\n",
       " 'proofreading_status_public_release',\n",
       " 'func_unit_em_match_release',\n",
       " 'allen_soma_ei_class_model_v1',\n",
       " 'allen_visp_column_soma_coarse_types_v1']"
      ]
     },
     "execution_count": 2,
     "metadata": {},
     "output_type": "execute_result"
    }
   ],
   "source": [
    "client.materialize.get_tables()"
   ]
  },
  {
   "cell_type": "code",
   "execution_count": 3,
   "metadata": {},
   "outputs": [
    {
     "data": {
      "text/html": [
       "<div>\n",
       "<style scoped>\n",
       "    .dataframe tbody tr th:only-of-type {\n",
       "        vertical-align: middle;\n",
       "    }\n",
       "\n",
       "    .dataframe tbody tr th {\n",
       "        vertical-align: top;\n",
       "    }\n",
       "\n",
       "    .dataframe thead th {\n",
       "        text-align: right;\n",
       "    }\n",
       "</style>\n",
       "<table border=\"1\" class=\"dataframe\">\n",
       "  <thead>\n",
       "    <tr style=\"text-align: right;\">\n",
       "      <th></th>\n",
       "      <th>id</th>\n",
       "      <th>valid</th>\n",
       "      <th>pt_supervoxel_id</th>\n",
       "      <th>pt_root_id</th>\n",
       "      <th>valid_id</th>\n",
       "      <th>status_dendrite</th>\n",
       "      <th>status_axon</th>\n",
       "      <th>pt_position</th>\n",
       "    </tr>\n",
       "  </thead>\n",
       "  <tbody>\n",
       "    <tr>\n",
       "      <th>0</th>\n",
       "      <td>1</td>\n",
       "      <td>t</td>\n",
       "      <td>89529934389098311</td>\n",
       "      <td>864691136296964635</td>\n",
       "      <td>864691136296964635</td>\n",
       "      <td>extended</td>\n",
       "      <td>non</td>\n",
       "      <td>[179808, 216672, 23361]</td>\n",
       "    </tr>\n",
       "    <tr>\n",
       "      <th>1</th>\n",
       "      <td>2</td>\n",
       "      <td>t</td>\n",
       "      <td>90584228533843146</td>\n",
       "      <td>864691136311986237</td>\n",
       "      <td>864691136311986237</td>\n",
       "      <td>extended</td>\n",
       "      <td>non</td>\n",
       "      <td>[187840, 207232, 22680]</td>\n",
       "    </tr>\n",
       "    <tr>\n",
       "      <th>2</th>\n",
       "      <td>3</td>\n",
       "      <td>t</td>\n",
       "      <td>89528353773943370</td>\n",
       "      <td>864691135355207119</td>\n",
       "      <td>864691135355207119</td>\n",
       "      <td>extended</td>\n",
       "      <td>non</td>\n",
       "      <td>[180016, 204592, 22798]</td>\n",
       "    </tr>\n",
       "    <tr>\n",
       "      <th>3</th>\n",
       "      <td>4</td>\n",
       "      <td>t</td>\n",
       "      <td>91077153340676495</td>\n",
       "      <td>864691135355207375</td>\n",
       "      <td>864691135355207375</td>\n",
       "      <td>extended</td>\n",
       "      <td>non</td>\n",
       "      <td>[191424, 209888, 22845]</td>\n",
       "    </tr>\n",
       "    <tr>\n",
       "      <th>4</th>\n",
       "      <td>5</td>\n",
       "      <td>t</td>\n",
       "      <td>88897234233461709</td>\n",
       "      <td>864691136422983727</td>\n",
       "      <td>864691136422983727</td>\n",
       "      <td>extended</td>\n",
       "      <td>non</td>\n",
       "      <td>[175248, 220944, 23561]</td>\n",
       "    </tr>\n",
       "  </tbody>\n",
       "</table>\n",
       "</div>"
      ],
      "text/plain": [
       "   id valid   pt_supervoxel_id          pt_root_id            valid_id  \\\n",
       "0   1     t  89529934389098311  864691136296964635  864691136296964635   \n",
       "1   2     t  90584228533843146  864691136311986237  864691136311986237   \n",
       "2   3     t  89528353773943370  864691135355207119  864691135355207119   \n",
       "3   4     t  91077153340676495  864691135355207375  864691135355207375   \n",
       "4   5     t  88897234233461709  864691136422983727  864691136422983727   \n",
       "\n",
       "  status_dendrite status_axon              pt_position  \n",
       "0        extended         non  [179808, 216672, 23361]  \n",
       "1        extended         non  [187840, 207232, 22680]  \n",
       "2        extended         non  [180016, 204592, 22798]  \n",
       "3        extended         non  [191424, 209888, 22845]  \n",
       "4        extended         non  [175248, 220944, 23561]  "
      ]
     },
     "execution_count": 3,
     "metadata": {},
     "output_type": "execute_result"
    }
   ],
   "source": [
    "#selecting for only the proofread cells  \n",
    "proofread = client.materialize.query_table('proofreading_status_public_release')\n",
    "proofread.head()\n"
   ]
  },
  {
   "cell_type": "markdown",
   "metadata": {},
   "source": [
    "<div style=\"background: #DFF0D8; border-radius: 3px; padding: 10px;\">\n",
    "</b> We can go on to find the post_synaptic cell id (post_pt_root_id) with the most synapses. (Hint, we recommend focusing on the proofread cells)\n",
    "        </div>"
   ]
  },
  {
   "cell_type": "code",
   "execution_count": 21,
   "metadata": {
    "scrolled": true
   },
   "outputs": [
    {
     "name": "stdout",
     "output_type": "stream",
     "text": [
      "Cell ID: 864691135837451155, Number of synapses: 16\n"
     ]
    },
    {
     "name": "stderr",
     "output_type": "stream",
     "text": [
      "\n",
      "A value is trying to be set on a copy of a slice from a DataFrame.\n",
      "Try using .loc[row_indexer,col_indexer] = value instead\n",
      "\n",
      "See the caveats in the documentation: https://pandas.pydata.org/pandas-docs/stable/user_guide/indexing.html#returning-a-view-versus-a-copy\n"
     ]
    }
   ],
   "source": [
    "#synapse table with all the synapses in the volume (proofread and non-proofread cells)\n",
    "all_syn_df = client.materialize.query_table('synapses_pni_2')\n",
    "\n",
    "#subselecting only synapses onto proofread cells\n",
    "proofread_synapses = all_syn_df[all_syn_df.post_pt_root_id.isin(proofread.pt_root_id)]\n",
    "proofread_synapses['syn_num']=proofread_synapses.groupby('post_pt_root_id')['id'].transform(len)\n",
    "\n",
    "#which proofread cell id has the largest number of post-synaptic synapses\n",
    "most_syn = max(proofread_synapses.syn_num) \n",
    "\n",
    "#since there may be multiple cells with the same maximum number, we will just take the first one\n",
    "cellid = proofread_synapses[proofread_synapses.syn_num==most_syn]['post_pt_root_id'].values[0] \n",
    "\n",
    "\n",
    "#segmentation ID for the proofread cell with the greatest number of synapses\n",
    "print('Cell ID: %d, Number of synapses: %d'%(cellid,most_syn))\n"
   ]
  },
  {
   "cell_type": "markdown",
   "metadata": {},
   "source": [
    "<div style=\"background: #DFF0D8; border-radius: 3px; padding: 10px;\">\n",
    "</b> Now we can move on to visualize this cell in 3D with some of it's biggest synapses\n",
    "        </div>"
   ]
  },
  {
   "cell_type": "code",
   "execution_count": 22,
   "metadata": {},
   "outputs": [],
   "source": [
    "seg_source = client.info.segmentation_source()\n",
    "\n",
    "#using the google cloud segmentation path\n",
    "cv = cloudvolume.CloudVolume(\"precomputed://gs://iarpa_microns/minnie/minnie65/seg\", use_https=True)\n",
    "\n",
    "#you can also try the aws segmentation path\n",
    "#cv = cloudvolume.CloudVolume(\"precomputed://s3://bossdb-open-data/microns/minnie/minnie65-flat-seg/\", use_https=True)\n",
    "\n",
    "mesh = cv.mesh.get(cellid,lod=3)[cellid]\n",
    "poly_data = trimesh_vtk.trimesh_to_vtk(mesh.vertices, mesh.faces, None)\n",
    "\n",
    "#setting up an itkwidgets viewer\n",
    "viewer=itkwidgets.view(geometries=[poly_data])\n",
    "\n"
   ]
  },
  {
   "cell_type": "code",
   "execution_count": 23,
   "metadata": {},
   "outputs": [
    {
     "data": {
      "application/vnd.jupyter.widget-view+json": {
       "model_id": "9ba5f3e75ec14de5b19672521facf028",
       "version_major": 2,
       "version_minor": 0
      },
      "text/plain": [
       "Viewer(geometries=[{'vtkClass': 'vtkPolyData', 'points': {'vtkClass': 'vtkPoints', 'name': '_points', 'numberO…"
      ]
     },
     "metadata": {},
     "output_type": "display_data"
    }
   ],
   "source": [
    "viewer"
   ]
  },
  {
   "cell_type": "code",
   "execution_count": 33,
   "metadata": {},
   "outputs": [
    {
     "name": "stdout",
     "output_type": "stream",
     "text": [
      "           pre_pt_root_id   size\n",
      "16968  864691135347316908  92392\n",
      "20433  864691136100692752  79068\n",
      "20062  864691135228996162  76772\n",
      "11897  864691133644557380  75988\n",
      "21347  864691135360920908  73300\n",
      "1817   864691135296375944  72376\n",
      "2338   864691134978346775  71860\n",
      "19604  864691136705563246  71648\n",
      "5292   864691136337720348  71572\n",
      "24604  864691134929711911  71568\n"
     ]
    }
   ],
   "source": [
    "post_synapse_df = client.materialize.synapse_query(post_ids = np.array([cellid]))\n",
    "biggest_synapses = post_synapse_df.sort_values(by=['size'],ascending=False).head(10)\n",
    "print(biggest_synapses[['pre_pt_root_id', 'size']])\n"
   ]
  },
  {
   "cell_type": "markdown",
   "metadata": {},
   "source": [
    "<div style=\"background: #DFF0D8; border-radius: 3px; padding: 10px;\">\n",
    "</b> Lastly we will visualize the cell and these 10 synapses, please note that you need to increase the size of the synapses using the slider in the widget tool\n",
    "        </div>"
   ]
  },
  {
   "cell_type": "code",
   "execution_count": 31,
   "metadata": {},
   "outputs": [],
   "source": [
    "#mm = trimesh_io.MeshMeta(disk_cache_path='test/test_files')\n",
    "#mesh = mm.mesh(filename ='/data/dynamic_brain_workshop/electron_microscopy/2021/meshes/%d.h5'%cellid)\n",
    "mesh_poly =trimesh_vtk.trimesh_to_vtk(mesh.vertices,mesh.faces,None)\n",
    "\n",
    "poly_data = trimesh_vtk.trimesh_to_vtk(mesh.vertices, mesh.faces, None)\n",
    "\n",
    "voxel_resolution = np.array([4,4,40])#setting the voxel resolution to convert to nm\n",
    "syn_pts = np.vstack(biggest_synapses['ctr_pt_position'].values) * voxel_resolution\n",
    "syn_sizes = biggest_synapses['size']\n",
    "syn_actors = trimesh_vtk.point_cloud_actor(syn_pts, size=syn_sizes.values)\n",
    "viewer2 =itkwidgets.view(geometries=[poly_data],\n",
    "                        point_sets = [syn_pts],\n",
    "                        point_sets_colors = ['b'])\n",
    "\n"
   ]
  },
  {
   "cell_type": "code",
   "execution_count": 32,
   "metadata": {
    "scrolled": false
   },
   "outputs": [
    {
     "data": {
      "application/vnd.jupyter.widget-view+json": {
       "model_id": "c3d0ecb32c8c4a84bdd6201a04f7cbb3",
       "version_major": 2,
       "version_minor": 0
      },
      "text/plain": [
       "Viewer(geometries=[{'vtkClass': 'vtkPolyData', 'points': {'vtkClass': 'vtkPoints', 'name': '_points', 'numberO…"
      ]
     },
     "metadata": {},
     "output_type": "display_data"
    }
   ],
   "source": [
    "#when visualizing the synapses, they will initially appear very small, be sure to increase the size of the \n",
    "#synapses using the sliding bar under Point Set 0. You can also change the color using color map in the widget\n",
    "#You should be able to see a pyramidal neuron with 10 points indicating where it receives its 10 largest synapses\n",
    "viewer2"
   ]
  },
  {
   "cell_type": "code",
   "execution_count": null,
   "metadata": {},
   "outputs": [],
   "source": []
  }
 ],
 "metadata": {
  "kernelspec": {
   "display_name": "Python 3",
   "language": "python",
   "name": "python3"
  },
  "language_info": {
   "codemirror_mode": {
    "name": "ipython",
    "version": 3
   },
   "file_extension": ".py",
   "mimetype": "text/x-python",
   "name": "python",
   "nbconvert_exporter": "python",
   "pygments_lexer": "ipython3",
   "version": "3.7.10"
  }
 },
 "nbformat": 4,
 "nbformat_minor": 2
}
