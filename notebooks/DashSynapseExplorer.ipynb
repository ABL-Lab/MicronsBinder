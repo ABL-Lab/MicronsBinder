{
 "cells": [
  {
   "cell_type": "code",
   "execution_count": 112,
   "metadata": {},
   "outputs": [],
   "source": [
    "import jupyterlab_dash\n",
    "import dash\n",
    "import pandas as pd\n",
    "from nglui.statebuilder import *\n",
    "from dashdataframe import configure_app\n",
    "import numpy as np\n",
    "import matplotlib.pyplot as plt"
   ]
  },
  {
   "cell_type": "code",
   "execution_count": null,
   "metadata": {},
   "outputs": [],
   "source": []
  },
  {
   "cell_type": "code",
   "execution_count": 93,
   "metadata": {},
   "outputs": [],
   "source": [
    "soma_subgraph_df = pd.read_csv('../soma_subgraph_synapses_spines_v185.csv')"
   ]
  },
  {
   "cell_type": "code",
   "execution_count": 94,
   "metadata": {},
   "outputs": [],
   "source": [
    "# we need the position in voxel in a single column\n",
    "# to make nglui work correctly\n",
    "soma_subgraph_df.loc[:, 'ctr_pos']=soma_subgraph_df.apply(lambda x: [x.ctr_pos_x_vx, x.ctr_pos_y_vx, x.ctr_pos_z_vx], axis=1).copy()\n"
   ]
  },
  {
   "cell_type": "code",
   "execution_count": 95,
   "metadata": {},
   "outputs": [],
   "source": [
    "# setup a nglui pipeline to visualize synapses\n",
    "# get sources from the neuroglancer link\n",
    "img_source = \"precomputed://gs://neuroglancer/pinky100_v0/son_of_alignment_v15_rechunked\"\n",
    "seg_source = \"precomputed://gs://microns_public_datasets/pinky100_v185/seg\"\n",
    "\n",
    "# use nglui (www.github.com/seung-lab/NeuroglancerAnnotationUI) to setup a dataframe > neuroglancer link pipeline\n",
    "img_layer = ImageLayerConfig(name='layer23',\n",
    "                             source=img_source,\n",
    "                             )\n",
    "# we want the segmentation layer with our target neuron always on\n",
    "seg_layer = SegmentationLayerConfig(name = 'seg',\n",
    "                                    source = seg_source)\n",
    "\n",
    "# need to consolidate the synapse position into a single column\n",
    "\n",
    "# setup a mapping rule for point annotations\n",
    "# in this case this is setup to light up pre and post partner\n",
    "syn_points = PointMapper(point_column='ctr_pos', linked_segmentation_column=['pre_root_id', 'post_root_id'])\n",
    "\n",
    "# add these points linked to the segmentation layer name\n",
    "syn_layer = AnnotationLayerConfig(name='synapses', mapping_rules=syn_points, linked_segmentation_layer='seg')\n",
    "# setup a state builder with this layer pipeline\n",
    "sb = StateBuilder([img_layer, seg_layer, syn_layer])"
   ]
  },
  {
   "cell_type": "code",
   "execution_count": 96,
   "metadata": {},
   "outputs": [],
   "source": [
    "# simple function to take the selected\n",
    "# rows based upon user selection\n",
    "# filter the dataframe\n",
    "# and use the nglui pipeline to generate\n",
    "# a neuroglancer link\n",
    "def visualize_synapses( selected_ids, df):\n",
    "    dff=df.loc[selected_ids]\n",
    "    return sb.render_state(dff, return_as='url')\n"
   ]
  },
  {
   "cell_type": "code",
   "execution_count": 97,
   "metadata": {},
   "outputs": [],
   "source": [
    "viewer = jupyterlab_dash.AppViewer()\n",
    "\n",
    "app = dash.Dash(__name__)\n",
    "# only some of the columns make sense to scatter plot\n",
    "# this configures the link that is generated at the bottom \n",
    "# to be dynamically calculated by the 'visualize_synapses'\n",
    "# function\n",
    "configure_app(app, soma_subgraph_df,\n",
    "              link_func=visualize_synapses, link_name='ngl synapse link',\n",
    "              plot_columns = ['cleft_vx', 'spine_vol_um3', 'ctr_pt_x_nm', 'ctr_pt_y_nm', 'ctr_pt_z_nm'])\n",
    "\n",
    "viewer.show(app)"
   ]
  },
  {
   "cell_type": "markdown",
   "metadata": {},
   "source": [
    "Now lets do some analysis that reproduces results from Dorkenwald et al. 2019\n",
    "\n",
    "https://www.biorxiv.org/content/10.1101/2019.12.29.890319v1\n",
    "\n",
    "but now in a dynamic plot"
   ]
  },
  {
   "cell_type": "code",
   "execution_count": 120,
   "metadata": {},
   "outputs": [],
   "source": [
    "# the paper works in log volume units\n",
    "soma_subgraph_df['log_spine_vol_um3']=np.log10(soma_subgraph_df.spine_vol_um3)\n",
    "soma_subgraph_df['log_cleft_vx']=np.log(soma_subgraph_df.cleft_vx)\n",
    "\n",
    "conn_grouped=soma_subgraph_df.groupby(['pre_root_id', 'post_root_id'])\n",
    "\n",
    "# average size of synapses in connection (both log first and straight)\n",
    "mean_size_df=conn_grouped[['cleft_vx','log_spine_vol_um3','log_cleft_vx', 'spine_vol_um3']].transform('mean')\n",
    "# how many total synapses are involved with this synapse connection\n",
    "count_df = conn_grouped['cleft_vx'].transform('count')\n",
    "count_df.name='num_syn_in_conn'"
   ]
  },
  {
   "cell_type": "code",
   "execution_count": 121,
   "metadata": {},
   "outputs": [
    {
     "data": {
      "text/html": [
       "<div>\n",
       "<style scoped>\n",
       "    .dataframe tbody tr th:only-of-type {\n",
       "        vertical-align: middle;\n",
       "    }\n",
       "\n",
       "    .dataframe tbody tr th {\n",
       "        vertical-align: top;\n",
       "    }\n",
       "\n",
       "    .dataframe thead th {\n",
       "        text-align: right;\n",
       "    }\n",
       "</style>\n",
       "<table border=\"1\" class=\"dataframe\">\n",
       "  <thead>\n",
       "    <tr style=\"text-align: right;\">\n",
       "      <th></th>\n",
       "      <th>mean_cleft_vx</th>\n",
       "      <th>mean_log_spine_vol_um3</th>\n",
       "      <th>mean_log_cleft_vx</th>\n",
       "      <th>mean_spine_vol_um3</th>\n",
       "    </tr>\n",
       "  </thead>\n",
       "  <tbody>\n",
       "    <tr>\n",
       "      <th>0</th>\n",
       "      <td>798.000000</td>\n",
       "      <td>-0.876135</td>\n",
       "      <td>6.682109</td>\n",
       "      <td>0.133004</td>\n",
       "    </tr>\n",
       "    <tr>\n",
       "      <th>1</th>\n",
       "      <td>209.000000</td>\n",
       "      <td>-1.056534</td>\n",
       "      <td>5.342334</td>\n",
       "      <td>0.087794</td>\n",
       "    </tr>\n",
       "    <tr>\n",
       "      <th>2</th>\n",
       "      <td>589.666667</td>\n",
       "      <td>-0.897432</td>\n",
       "      <td>6.238515</td>\n",
       "      <td>0.140721</td>\n",
       "    </tr>\n",
       "    <tr>\n",
       "      <th>3</th>\n",
       "      <td>589.666667</td>\n",
       "      <td>-0.897432</td>\n",
       "      <td>6.238515</td>\n",
       "      <td>0.140721</td>\n",
       "    </tr>\n",
       "    <tr>\n",
       "      <th>4</th>\n",
       "      <td>589.666667</td>\n",
       "      <td>-0.897432</td>\n",
       "      <td>6.238515</td>\n",
       "      <td>0.140721</td>\n",
       "    </tr>\n",
       "    <tr>\n",
       "      <th>...</th>\n",
       "      <td>...</td>\n",
       "      <td>...</td>\n",
       "      <td>...</td>\n",
       "      <td>...</td>\n",
       "    </tr>\n",
       "    <tr>\n",
       "      <th>1956</th>\n",
       "      <td>74.000000</td>\n",
       "      <td>-1.600121</td>\n",
       "      <td>4.304065</td>\n",
       "      <td>0.025112</td>\n",
       "    </tr>\n",
       "    <tr>\n",
       "      <th>1957</th>\n",
       "      <td>211.000000</td>\n",
       "      <td>-1.524232</td>\n",
       "      <td>5.351858</td>\n",
       "      <td>0.029907</td>\n",
       "    </tr>\n",
       "    <tr>\n",
       "      <th>1958</th>\n",
       "      <td>134.000000</td>\n",
       "      <td>-1.220009</td>\n",
       "      <td>4.897840</td>\n",
       "      <td>0.060255</td>\n",
       "    </tr>\n",
       "    <tr>\n",
       "      <th>1959</th>\n",
       "      <td>95.000000</td>\n",
       "      <td>-1.831054</td>\n",
       "      <td>4.553877</td>\n",
       "      <td>0.014755</td>\n",
       "    </tr>\n",
       "    <tr>\n",
       "      <th>1960</th>\n",
       "      <td>515.000000</td>\n",
       "      <td>-1.073639</td>\n",
       "      <td>6.244167</td>\n",
       "      <td>0.084404</td>\n",
       "    </tr>\n",
       "  </tbody>\n",
       "</table>\n",
       "<p>1961 rows × 4 columns</p>\n",
       "</div>"
      ],
      "text/plain": [
       "      mean_cleft_vx  ...  mean_spine_vol_um3\n",
       "0        798.000000  ...            0.133004\n",
       "1        209.000000  ...            0.087794\n",
       "2        589.666667  ...            0.140721\n",
       "3        589.666667  ...            0.140721\n",
       "4        589.666667  ...            0.140721\n",
       "...             ...  ...                 ...\n",
       "1956      74.000000  ...            0.025112\n",
       "1957     211.000000  ...            0.029907\n",
       "1958     134.000000  ...            0.060255\n",
       "1959      95.000000  ...            0.014755\n",
       "1960     515.000000  ...            0.084404\n",
       "\n",
       "[1961 rows x 4 columns]"
      ]
     },
     "execution_count": 121,
     "metadata": {},
     "output_type": "execute_result"
    }
   ],
   "source": [
    "mean_size_df.columns=['mean_cleft_vx', 'mean_log_spine_vol_um3', 'mean_log_cleft_vx','mean_spine_vol_um3']\n",
    "mean_size_df"
   ]
  },
  {
   "cell_type": "code",
   "execution_count": 122,
   "metadata": {},
   "outputs": [],
   "source": [
    "new_df = pd.concat([soma_subgraph_df, mean_size_df, count_df], axis=1)"
   ]
  },
  {
   "cell_type": "code",
   "execution_count": 147,
   "metadata": {},
   "outputs": [
    {
     "data": {
      "text/plain": [
       "Text(0.5, 1.0, 'see Figure 3d')"
      ]
     },
     "execution_count": 147,
     "metadata": {},
     "output_type": "execute_result"
    },
    {
     "data": {
      "image/png": "[encoded data removed]",
      "text/plain": [
       "<Figure size 432x288 with 1 Axes>"
      ]
     },
     "metadata": {
      "needs_background": "light"
     },
     "output_type": "display_data"
    }
   ],
   "source": [
    "f, ax = plt.subplots()\n",
    "new_df.query('num_syn_in_conn==2').log_spine_vol_um3.hist(bins=np.linspace(-2.1,0,30))\n",
    "ax.set_xlabel('spine_vol_um3')\n",
    "ax.set_title('see Figure 3d')"
   ]
  },
  {
   "cell_type": "code",
   "execution_count": 149,
   "metadata": {},
   "outputs": [
    {
     "data": {
      "text/plain": [
       "Text(0.5, 1.0, 'see Figure 3e')"
      ]
     },
     "execution_count": 149,
     "metadata": {},
     "output_type": "execute_result"
    },
    {
     "data": {
      "image/png": "[encoded data removed]",
      "text/plain": [
       "<Figure size 432x288 with 1 Axes>"
      ]
     },
     "metadata": {
      "needs_background": "light"
     },
     "output_type": "display_data"
    }
   ],
   "source": [
    "f, ax = plt.subplots()\n",
    "new_df.query('num_syn_in_conn==2').mean_log_spine_vol_um3.hist(bins=np.linspace(-2.1,0,30))\n",
    "ax.set_xlabel('mean_spine_vol_um3')\n",
    "ax.set_title('see Figure 3e')"
   ]
  },
  {
   "cell_type": "code",
   "execution_count": 100,
   "metadata": {},
   "outputs": [],
   "source": [
    "# # iterate over all connections in dataset\n",
    "# for ind, grp in conn_grouped:\n",
    "#     # for connections with nsyn>1\n",
    "#     # \n",
    "#     if len(grp)>1:\n",
    "#         print(ind)"
   ]
  },
  {
   "cell_type": "code",
   "execution_count": 150,
   "metadata": {},
   "outputs": [],
   "source": [
    "# pick out the columns that are relevant\n",
    "selected_columns = [ 'num_syn_in_conn', 'mean_spine_vol_um3', 'cleft_vx', 'spine_vol_um3',\n",
    "       'ctr_pt_x_nm', 'ctr_pt_y_nm', 'ctr_pt_z_nm', 'log_spine_vol_um3', 'log_cleft_vx',\n",
    "       'mean_cleft_vx', 'mean_log_spine_vol_um3', 'mean_log_cleft_vx']"
   ]
  },
  {
   "cell_type": "code",
   "execution_count": 152,
   "metadata": {},
   "outputs": [],
   "source": [
    "viewer = jupyterlab_dash.AppViewer()\n",
    "\n",
    "app = dash.Dash(__name__)\n",
    "# now you can explore this dataset, and select synapses based upon\n",
    "# their aggregate connection properties\n",
    "# as well as their individual properties\n",
    "# you can select synapses involved in dual or more than dual connections\n",
    "# and then hit filter on the left to only show those points\n",
    "# as you change the x,y axis on the scatter plot.\n",
    "# the link will keep updating to include annotation points\n",
    "# for the synapses you select.\n",
    "configure_app(app, new_df,\n",
    "              link_func=visualize_synapses, link_name='ngl synapse link',\n",
    "              plot_columns = selected_columns)\n",
    "\n",
    "viewer.show(app)"
   ]
  },
  {
   "cell_type": "code",
   "execution_count": null,
   "metadata": {},
   "outputs": [],
   "source": []
  }
 ],
 "metadata": {
  "kernelspec": {
   "display_name": "Python 3",
   "language": "python",
   "name": "python3"
  },
  "language_info": {
   "codemirror_mode": {
    "name": "ipython",
    "version": 3
   },
   "file_extension": ".py",
   "mimetype": "text/x-python",
   "name": "python",
   "nbconvert_exporter": "python",
   "pygments_lexer": "ipython3",
   "version": "3.7.0"
  }
 },
 "nbformat": 4,
 "nbformat_minor": 4
}
