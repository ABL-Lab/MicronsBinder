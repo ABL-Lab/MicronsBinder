{
 "cells": [
  {
   "cell_type": "code",
   "execution_count": 1,
   "metadata": {},
   "outputs": [],
   "source": [
    "# lets import some stuff..\n",
    "from meshparty import trimesh_io, trimesh_vtk\n",
    "import matplotlib.pyplot as plt\n",
    "import pandas as pd\n",
    "import numpy as np\n",
    "import vtk"
   ]
  },
  {
   "cell_type": "code",
   "execution_count": 2,
   "metadata": {},
   "outputs": [],
   "source": [
    "# setup the mesh meta to handle downloads and caching\n",
    "mesh_dir = 'data/meshes'\n",
    "seg_source = \"precomputed://https://storage.googleapis.com/microns_public_datasets/pinky100_v185/seg\"\n",
    "mm = trimesh_io.MeshMeta(cv_path=seg_source,\n",
    "                         disk_cache_path='mesh_dir', \n",
    "                         cache_size=20)\n",
    "\n",
    "syn_df = pd.read_csv('data/soma_subgraph_synapses_spines_v185.csv')"
   ]
  },
  {
   "cell_type": "code",
   "execution_count": 3,
   "metadata": {},
   "outputs": [
    {
     "data": {
      "text/html": [
       "<div>\n",
       "<style scoped>\n",
       "    .dataframe tbody tr th:only-of-type {\n",
       "        vertical-align: middle;\n",
       "    }\n",
       "\n",
       "    .dataframe tbody tr th {\n",
       "        vertical-align: top;\n",
       "    }\n",
       "\n",
       "    .dataframe thead th {\n",
       "        text-align: right;\n",
       "    }\n",
       "</style>\n",
       "<table border=\"1\" class=\"dataframe\">\n",
       "  <thead>\n",
       "    <tr style=\"text-align: right;\">\n",
       "      <th></th>\n",
       "      <th>id</th>\n",
       "      <th>pre_root_id</th>\n",
       "      <th>post_root_id</th>\n",
       "      <th>cleft_vx</th>\n",
       "      <th>spine_vol_um3</th>\n",
       "      <th>ctr_pt_x_nm</th>\n",
       "      <th>ctr_pt_y_nm</th>\n",
       "      <th>ctr_pt_z_nm</th>\n",
       "      <th>pre_pos_x_vx</th>\n",
       "      <th>pre_pos_y_vx</th>\n",
       "      <th>pre_pos_z_vx</th>\n",
       "      <th>ctr_pos_x_vx</th>\n",
       "      <th>ctr_pos_y_vx</th>\n",
       "      <th>ctr_pos_z_vx</th>\n",
       "      <th>post_pos_x_vx</th>\n",
       "      <th>post_pos_y_vx</th>\n",
       "      <th>post_pos_z_vx</th>\n",
       "    </tr>\n",
       "  </thead>\n",
       "  <tbody>\n",
       "    <tr>\n",
       "      <th>0</th>\n",
       "      <td>1484</td>\n",
       "      <td>648518346349539437</td>\n",
       "      <td>648518346349531254</td>\n",
       "      <td>798</td>\n",
       "      <td>0.133004</td>\n",
       "      <td>365476</td>\n",
       "      <td>231192</td>\n",
       "      <td>63280</td>\n",
       "      <td>91332</td>\n",
       "      <td>57836</td>\n",
       "      <td>1584</td>\n",
       "      <td>91369</td>\n",
       "      <td>57798</td>\n",
       "      <td>1582</td>\n",
       "      <td>91332</td>\n",
       "      <td>57748</td>\n",
       "      <td>1584</td>\n",
       "    </tr>\n",
       "    <tr>\n",
       "      <th>1</th>\n",
       "      <td>3056393</td>\n",
       "      <td>648518346349537978</td>\n",
       "      <td>648518346349531254</td>\n",
       "      <td>209</td>\n",
       "      <td>0.087794</td>\n",
       "      <td>312120</td>\n",
       "      <td>209816</td>\n",
       "      <td>9960</td>\n",
       "      <td>78050</td>\n",
       "      <td>52470</td>\n",
       "      <td>248</td>\n",
       "      <td>78030</td>\n",
       "      <td>52454</td>\n",
       "      <td>249</td>\n",
       "      <td>77980</td>\n",
       "      <td>52444</td>\n",
       "      <td>249</td>\n",
       "    </tr>\n",
       "    <tr>\n",
       "      <th>2</th>\n",
       "      <td>310116</td>\n",
       "      <td>648518346349538410</td>\n",
       "      <td>648518346349531254</td>\n",
       "      <td>869</td>\n",
       "      <td>0.234537</td>\n",
       "      <td>313596</td>\n",
       "      <td>185764</td>\n",
       "      <td>23920</td>\n",
       "      <td>78314</td>\n",
       "      <td>46428</td>\n",
       "      <td>598</td>\n",
       "      <td>78399</td>\n",
       "      <td>46441</td>\n",
       "      <td>598</td>\n",
       "      <td>78404</td>\n",
       "      <td>46410</td>\n",
       "      <td>598</td>\n",
       "    </tr>\n",
       "    <tr>\n",
       "      <th>3</th>\n",
       "      <td>1533059</td>\n",
       "      <td>648518346349538410</td>\n",
       "      <td>648518346349531254</td>\n",
       "      <td>231</td>\n",
       "      <td>0.081921</td>\n",
       "      <td>289560</td>\n",
       "      <td>174904</td>\n",
       "      <td>33920</td>\n",
       "      <td>72340</td>\n",
       "      <td>43756</td>\n",
       "      <td>849</td>\n",
       "      <td>72390</td>\n",
       "      <td>43726</td>\n",
       "      <td>848</td>\n",
       "      <td>72354</td>\n",
       "      <td>43704</td>\n",
       "      <td>849</td>\n",
       "    </tr>\n",
       "    <tr>\n",
       "      <th>4</th>\n",
       "      <td>2505779</td>\n",
       "      <td>648518346349538410</td>\n",
       "      <td>648518346349531254</td>\n",
       "      <td>669</td>\n",
       "      <td>0.105706</td>\n",
       "      <td>296056</td>\n",
       "      <td>162304</td>\n",
       "      <td>9520</td>\n",
       "      <td>73966</td>\n",
       "      <td>40608</td>\n",
       "      <td>231</td>\n",
       "      <td>74014</td>\n",
       "      <td>40576</td>\n",
       "      <td>238</td>\n",
       "      <td>73918</td>\n",
       "      <td>40562</td>\n",
       "      <td>232</td>\n",
       "    </tr>\n",
       "  </tbody>\n",
       "</table>\n",
       "</div>"
      ],
      "text/plain": [
       "        id         pre_root_id        post_root_id  cleft_vx  spine_vol_um3  \\\n",
       "0     1484  648518346349539437  648518346349531254       798       0.133004   \n",
       "1  3056393  648518346349537978  648518346349531254       209       0.087794   \n",
       "2   310116  648518346349538410  648518346349531254       869       0.234537   \n",
       "3  1533059  648518346349538410  648518346349531254       231       0.081921   \n",
       "4  2505779  648518346349538410  648518346349531254       669       0.105706   \n",
       "\n",
       "   ctr_pt_x_nm  ctr_pt_y_nm  ctr_pt_z_nm  pre_pos_x_vx  pre_pos_y_vx  \\\n",
       "0       365476       231192        63280         91332         57836   \n",
       "1       312120       209816         9960         78050         52470   \n",
       "2       313596       185764        23920         78314         46428   \n",
       "3       289560       174904        33920         72340         43756   \n",
       "4       296056       162304         9520         73966         40608   \n",
       "\n",
       "   pre_pos_z_vx  ctr_pos_x_vx  ctr_pos_y_vx  ctr_pos_z_vx  post_pos_x_vx  \\\n",
       "0          1584         91369         57798          1582          91332   \n",
       "1           248         78030         52454           249          77980   \n",
       "2           598         78399         46441           598          78404   \n",
       "3           849         72390         43726           848          72354   \n",
       "4           231         74014         40576           238          73918   \n",
       "\n",
       "   post_pos_y_vx  post_pos_z_vx  \n",
       "0          57748           1584  \n",
       "1          52444            249  \n",
       "2          46410            598  \n",
       "3          43704            849  \n",
       "4          40562            232  "
      ]
     },
     "execution_count": 3,
     "metadata": {},
     "output_type": "execute_result"
    }
   ],
   "source": [
    "syn_df.head()"
   ]
  },
  {
   "cell_type": "code",
   "execution_count": 4,
   "metadata": {},
   "outputs": [
    {
     "name": "stderr",
     "output_type": "stream",
     "text": [
      "Existence Testing:   0%|          | 0/20 [00:00<?, ?it/s]\n",
      "Downloading: 1it [00:00,  6.26it/s]\n",
      "Downloading: 510it [00:05, 87.92it/s]                         \n",
      "Decoding Mesh Buffer: 100%|██████████| 256/256 [00:00<00:00, 3781.66it/s]\n"
     ]
    }
   ],
   "source": [
    "# download a cell mesh\n",
    "seg_id = 648518346349531254\n",
    "\n",
    "mesh = mm.mesh(seg_id=seg_id, remove_duplicate_vertices=True)"
   ]
  },
  {
   "cell_type": "code",
   "execution_count": 27,
   "metadata": {},
   "outputs": [],
   "source": [
    "mm.mesh?"
   ]
  },
  {
   "cell_type": "code",
   "execution_count": 7,
   "metadata": {},
   "outputs": [],
   "source": [
    "# make an actor\n",
    "mesh_actor = trimesh_vtk.mesh_actor(mesh)"
   ]
  },
  {
   "cell_type": "code",
   "execution_count": 9,
   "metadata": {},
   "outputs": [
    {
     "data": {
      "text/plain": [
       "(vtkRenderingOpenGL2Python.vtkOpenGLRenderer)0x1a2ee36440"
      ]
     },
     "execution_count": 9,
     "metadata": {},
     "output_type": "execute_result"
    }
   ],
   "source": [
    "# lets say we want to aim a camera at a particular synapse on this cell\n",
    "syn_pos=syn_df.query(f'post_root_id=={seg_id}').iloc[0][['ctr_pt_x_nm', 'ctr_pt_y_nm', 'ctr_pt_z_nm']]\n",
    "camera = trimesh_vtk.oriented_camera(syn_pos, backoff=10)\n",
    "trimesh_vtk.render_actors([mesh_actor], camera=camera)\n",
    "\n",
    "# now note when i adjust the camera dynamically\n",
    "# my camera object is updated, so when i hit 'q'\n",
    "# or close window, the camera has new parameters"
   ]
  },
  {
   "cell_type": "code",
   "execution_count": 10,
   "metadata": {},
   "outputs": [
    {
     "data": {
      "text/plain": [
       "(vtkRenderingOpenGL2Python.vtkOpenGLRenderer)0x1a2ee36130"
      ]
     },
     "execution_count": 10,
     "metadata": {},
     "output_type": "execute_result"
    }
   ],
   "source": [
    "# so when i run the camera again.. i get the same perspective\n",
    "trimesh_vtk.render_actors([mesh_actor], camera=camera)"
   ]
  },
  {
   "cell_type": "code",
   "execution_count": 11,
   "metadata": {},
   "outputs": [],
   "source": [
    "ren, cameras = trimesh_vtk.render_actors([mesh_actor], return_keyframes=True)"
   ]
  },
  {
   "cell_type": "code",
   "execution_count": null,
   "metadata": {},
   "outputs": [],
   "source": []
  },
  {
   "cell_type": "code",
   "execution_count": 14,
   "metadata": {},
   "outputs": [
    {
     "data": {
      "text/plain": [
       "(vtkRenderingOpenGL2Python.vtkOpenGLRenderer)0x1a414c4980"
      ]
     },
     "execution_count": 14,
     "metadata": {},
     "output_type": "execute_result"
    }
   ],
   "source": [
    "# cameras are by default perspectivetransformation\n",
    "# but for figures you want to do orthographic, so scale is more meaningful\n",
    "# across depths.\n",
    "# to do this, you want to adjust the camera's mode to ParallelProjection\n",
    "camera.SetParallelProjection(True)\n",
    "# you have to set the scale of the camera\n",
    "# which is half the height of the window\n",
    "# in world units (so nm for our meshes)\n",
    "camera.SetParallelScale(1500)\n",
    "trimesh_vtk.render_actors([mesh_actor], camera=camera)"
   ]
  },
  {
   "cell_type": "code",
   "execution_count": 15,
   "metadata": {},
   "outputs": [
    {
     "data": {
      "text/plain": [
       "(vtkRenderingOpenGL2Python.vtkOpenGLRenderer)0x1a41a8e360"
      ]
     },
     "execution_count": 15,
     "metadata": {},
     "output_type": "execute_result"
    }
   ],
   "source": [
    "\n",
    "\n",
    "# this is the built in LegendScaleActor.. it will dynamically update\n",
    "# but has an ugly font and line and you can't control its size precisely\n",
    "# reccomended workflow... take two renderings, with and without and use\n",
    "# image with scale bar to create your own custom one in illustrator\n",
    "\n",
    "legendScaleActor = vtk.vtkLegendScaleActor()\n",
    "legendScaleActor.BottomAxisVisibilityOff()\n",
    "legendScaleActor.TopAxisVisibilityOff()\n",
    "legendScaleActor.LeftAxisVisibilityOff()\n",
    "legendScaleActor.RightAxisVisibilityOff()\n",
    "legendScaleActor.GetLegendTitleProperty().SetFontSize(50)\n",
    "legendScaleActor.GetLegendTitleProperty().SetColor(0,0,0)\n",
    "\n",
    "\n",
    "trimesh_vtk.render_actors([mesh_actor, legendScaleActor], camera=camera)\n"
   ]
  },
  {
   "cell_type": "code",
   "execution_count": 16,
   "metadata": {},
   "outputs": [
    {
     "data": {
      "text/plain": [
       "(vtkRenderingOpenGL2Python.vtkOpenGLRenderer)0x1a41a8e2f0"
      ]
     },
     "execution_count": 16,
     "metadata": {},
     "output_type": "execute_result"
    }
   ],
   "source": [
    "# save images, one with legendActor one without\n",
    "# i also make the background gray in order to see the end of the scalebar better\n",
    "trimesh_vtk.render_actors([mesh_actor, legendScaleActor], filename='image_with_scale.png',\n",
    "                          back_color=(.5, .5, .5), do_save=True, camera=camera)\n",
    "trimesh_vtk.render_actors([mesh_actor], filename='image_without.png', do_save=True, camera=camera)\n"
   ]
  },
  {
   "cell_type": "code",
   "execution_count": null,
   "metadata": {},
   "outputs": [],
   "source": [
    "# this approach requires that you prespecify your window height in nm and pixels, and your scale bar size\n",
    "# in nm. I'm not sure whether this is good enough to really merge into MeshParty, but it works here."
   ]
  },
  {
   "cell_type": "code",
   "execution_count": 17,
   "metadata": {},
   "outputs": [],
   "source": [
    "# vtk function to make a simple line actor in the lower left that is a certain number of pixels wide\n",
    "def make_scalebar_actor(width_frac, line_width=5.0, color=(0,0,0), offset=.05):\n",
    "    points = vtk.vtkPoints();\n",
    "    points.SetNumberOfPoints(2);\n",
    "    points.Allocate(2);\n",
    "\n",
    "    points.InsertPoint(0, offset, offset, 0);\n",
    "    points.InsertPoint(1, offset+width_frac, offset, 0);\n",
    "\n",
    "    cells = vtk.vtkCellArray();\n",
    "    cells.Initialize();\n",
    "\n",
    "    line = vtk.vtkLine();\n",
    "    line.GetPointIds().SetId(0, 0);\n",
    "    line.GetPointIds().SetId(1, 1);\n",
    "\n",
    "    cells.InsertNextCell(line);\n",
    "    poly = vtk.vtkPolyData();\n",
    "    poly.Initialize();\n",
    "    poly.SetPoints(points);\n",
    "    poly.SetLines(cells);\n",
    "    poly.Modified();\n",
    "\n",
    "    coordinate = vtk.vtkCoordinate();\n",
    "    coordinate.SetCoordinateSystemToNormalizedDisplay();\n",
    "    mapper = vtk.vtkPolyDataMapper2D();\n",
    "    mapper.SetInputData(poly);\n",
    "    mapper.SetTransformCoordinate(coordinate);\n",
    "    mapper.ScalarVisibilityOn();\n",
    "    mapper.SetScalarModeToUsePointData();\n",
    "    mapper.Update();\n",
    "    \n",
    "    actor = vtk.vtkActor2D();\n",
    "    actor.SetMapper(mapper);\n",
    "    actor.GetProperty().SetLineWidth(line_width); \n",
    "    actor.GetProperty().SetColor(*color)\n",
    "    \n",
    "    return actor\n",
    "# used for my testing\n",
    "# scalebarActor = make_scalebar_actor(100)"
   ]
  },
  {
   "cell_type": "code",
   "execution_count": 18,
   "metadata": {},
   "outputs": [],
   "source": [
    "# functions to make a camera and scale bar that are calibrated together\n",
    "\n",
    "def make_scale_bar_from_camera(camera, scale_bar_nm, video_height=720, video_width=1440):\n",
    "    \n",
    "    scale_bar_frac_h = scale_bar_nm/camera.GetParallelScale()\n",
    "    scale_bar_frac = scale_bar_frac_h * (video_height*1.0/(video_width*2))\n",
    "    scale_bar_actor = make_scalebar_actor(scale_bar_frac)\n",
    "    \n",
    "    return  scale_bar_actor  \n",
    "\n",
    "def make_orthographic_camera_and_scalebar(ctr_pt, window_height_nm, scale_bar_nm,\n",
    "                                          video_width=1440, video_height=720):\n",
    "    \n",
    "    camera = trimesh_vtk.oriented_camera(ctr_pt, backoff_vector=1000)\n",
    "    camera.SetParallelProjection(True)\n",
    "    camera.SetParallelScale(window_height_nm)\n",
    "    scale_bar_actor = make_scale_bar_from_camera(camera, scale_bar_nm,\n",
    "                                                 video_height=video_height,\n",
    "                                                 video_width=video_width)\n",
    "    return camera, scale_bar_actor\n",
    " "
   ]
  },
  {
   "cell_type": "code",
   "execution_count": null,
   "metadata": {},
   "outputs": [],
   "source": []
  },
  {
   "cell_type": "code",
   "execution_count": 20,
   "metadata": {},
   "outputs": [
    {
     "data": {
      "text/plain": [
       "(vtkRenderingOpenGL2Python.vtkOpenGLRenderer)0x1a41a8ee50"
      ]
     },
     "execution_count": 20,
     "metadata": {},
     "output_type": "execute_result"
    }
   ],
   "source": [
    "# use these functions to make a camera scale bar pair\n",
    "camera, scale_bar_actor = make_orthographic_camera_and_scalebar(syn_pos,\n",
    "                                                                3000, 3000,\n",
    "                                                                video_height=1440,\n",
    "                                                                video_width=1080*2)\n",
    "\n",
    "# these are other scale bar options\n",
    "# this one places a scalebar in a specific 3d location\n",
    "# sba = trimesh_vtk.scale_bar_actor(syn_pos, camera, length=3000)\n",
    "# this is a second scalebar actor that helped convince me that orthographic view was working right\n",
    "# sba2 = trimesh_vtk.scale_bar_actor(syn_pos+[0,10000,0], camera, length=3000)\n",
    "\n",
    "# this is a 3d line that has end points in specific 3d locations, which convinced me the scalebar was right\n",
    "# linea=trimesh_vtk.linked_point_actor(np.array([syn_pos]), np.array([syn_pos+[3000,0,0]]), line_width=5)\n",
    "\n",
    "# here is a prettier way that uses the above function to make a 50um scale bar\n",
    "# however, if you zoom at all the scalebar won't change and will not be 50um anymore\n",
    "trimesh_vtk.render_actors([mesh_actor, scale_bar_actor],\n",
    "                          camera=camera, video_height=1440, video_width=1080*2)"
   ]
  },
  {
   "cell_type": "code",
   "execution_count": 22,
   "metadata": {},
   "outputs": [],
   "source": [
    "# a brief tour through other visualization options\n",
    "import seaborn as sns\n",
    "\n",
    "\n",
    "# point cloud actor, for drawing lots of spheres\n",
    "\n",
    "# down list to only synapses onto this cell\n",
    "cell_syn_df = syn_df.query(f'post_root_id=={seg_id}')\n",
    "# make an xyz array\n",
    "syn_xyz=cell_syn_df[['ctr_pt_x_nm', 'ctr_pt_y_nm', 'ctr_pt_z_nm']].values\n",
    "# make size 50*sqrt(cleft_size)\n",
    "syn_size = 50*np.sqrt(cell_syn_df.cleft_vx.values)\n",
    "# run sizes through a colormap\n",
    "cmap = np.array(sns.color_palette('viridis', 1000))\n",
    "# according to the log of the cleft size\n",
    "# note you can use this function to map 'color' \n",
    "# onto meshes, skeleton nodes, etc...\n",
    "# for explicit color passing, vtk needs Nx3 uint8 arrays from [0,255]\n",
    "syn_color = trimesh_vtk.values_to_colors(np.log(cell_syn_df.cleft_vx.values),\n",
    "                                         cmap)\n",
    "# use point cloud actor function to make an actor\n",
    "syn_actor = trimesh_vtk.point_cloud_actor(syn_xyz,\n",
    "                                          size=syn_size,\n",
    "                                          color=syn_color)\n",
    "\n",
    "\n"
   ]
  },
  {
   "cell_type": "code",
   "execution_count": 23,
   "metadata": {},
   "outputs": [
    {
     "data": {
      "text/plain": [
       "(vtkRenderingOpenGL2Python.vtkOpenGLRenderer)0x1a38bc1bb0"
      ]
     },
     "execution_count": 23,
     "metadata": {},
     "output_type": "execute_result"
    }
   ],
   "source": [
    "# visualize points and cell\n",
    "trimesh_vtk.render_actors([syn_actor, mesh_actor])"
   ]
  },
  {
   "cell_type": "code",
   "execution_count": 24,
   "metadata": {},
   "outputs": [],
   "source": [
    "# linked point actor, for drawing lots of lines connecting points\n",
    "\n",
    "# make pre and post xyz arrays\n",
    "pre_xyz=cell_syn_df[['pre_pos_x_vx', 'pre_pos_y_vx', 'pre_pos_z_vx']].values * np.array([4,4,40])\n",
    "post_xyz =cell_syn_df[['post_pos_x_vx', 'post_pos_y_vx', 'post_pos_z_vx']].values * np.array([4,4,40])\n",
    "\n",
    "syn_line_actor = trimesh_vtk.linked_point_actor(pre_xyz, post_xyz, line_width=5, opacity=1.0)\n"
   ]
  },
  {
   "cell_type": "code",
   "execution_count": 25,
   "metadata": {},
   "outputs": [
    {
     "data": {
      "text/plain": [
       "(vtkRenderingOpenGL2Python.vtkOpenGLRenderer)0x1a41ac04b0"
      ]
     },
     "execution_count": 25,
     "metadata": {},
     "output_type": "execute_result"
    }
   ],
   "source": [
    "# lets aim the camera at first synapse to see it better.. backoff 4 microns\n",
    "camera = trimesh_vtk.oriented_camera(syn_xyz[0,:], backoff=4)\n",
    "trimesh_vtk.render_actors([syn_line_actor, mesh_actor], camera=camera)"
   ]
  },
  {
   "cell_type": "code",
   "execution_count": null,
   "metadata": {},
   "outputs": [],
   "source": []
  },
  {
   "cell_type": "code",
   "execution_count": null,
   "metadata": {},
   "outputs": [],
   "source": []
  }
 ],
 "metadata": {
  "kernelspec": {
   "display_name": "Python 3",
   "language": "python",
   "name": "python3"
  },
  "language_info": {
   "codemirror_mode": {
    "name": "ipython",
    "version": 3
   },
   "file_extension": ".py",
   "mimetype": "text/x-python",
   "name": "python",
   "nbconvert_exporter": "python",
   "pygments_lexer": "ipython3",
   "version": "3.7.3"
  }
 },
 "nbformat": 4,
 "nbformat_minor": 4
}
