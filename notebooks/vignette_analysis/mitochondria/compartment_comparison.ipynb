{
 "cells": [
  {
   "cell_type": "markdown",
   "metadata": {},
   "source": [
    "# Neuronal compartment comparison\n",
    "Loads some intermediate data and performs the compartment comparison analysis from the current manuscript. \n",
    "\n",
    "The intermediate data consists of:\n",
    "* `data/pni_mito_cellswskel_v185_fullstats.csv` - A dataframe describing the mitochondria of each cell. See the README and columns below for the included statistics."
   ]
  },
  {
   "cell_type": "code",
   "execution_count": 1,
   "metadata": {},
   "outputs": [],
   "source": [
    "# just getting past the weird Static TLS thing...\n",
    "from meshparty import trimesh_io\n",
    "\n",
    "from collections import Counter\n",
    "\n",
    "import numpy as np\n",
    "import pandas as pd\n",
    "import matplotlib.pyplot as plt\n",
    "from scipy import stats\n",
    "\n",
    "from lib import plot, u"
   ]
  },
  {
   "cell_type": "code",
   "execution_count": 2,
   "metadata": {},
   "outputs": [],
   "source": [
    "MITODF_FILENAME = \"data/pni_mito_cellswskel_v185_fullstats.csv\"\n",
    "CLEANIDS_FILENAME = \"data/clean_compartment_ids_v185.csv\""
   ]
  },
  {
   "cell_type": "markdown",
   "metadata": {},
   "source": [
    "#### Reading data"
   ]
  },
  {
   "cell_type": "code",
   "execution_count": 3,
   "metadata": {},
   "outputs": [],
   "source": [
    "mitodf = pd.read_csv(MITODF_FILENAME, index_col=0)\n",
    "cleanids = u.readids(CLEANIDS_FILENAME)"
   ]
  },
  {
   "cell_type": "markdown",
   "metadata": {},
   "source": [
    "#### Restricting analysis to cells with QC'd compartment labels"
   ]
  },
  {
   "cell_type": "code",
   "execution_count": 4,
   "metadata": {},
   "outputs": [],
   "source": [
    "mitodf = mitodf[mitodf.cellid.isin(cleanids)]"
   ]
  },
  {
   "cell_type": "code",
   "execution_count": 5,
   "metadata": {},
   "outputs": [
    {
     "data": {
      "text/html": [
       "<div>\n",
       "<style scoped>\n",
       "    .dataframe tbody tr th:only-of-type {\n",
       "        vertical-align: middle;\n",
       "    }\n",
       "\n",
       "    .dataframe tbody tr th {\n",
       "        vertical-align: top;\n",
       "    }\n",
       "\n",
       "    .dataframe thead th {\n",
       "        text-align: right;\n",
       "    }\n",
       "</style>\n",
       "<table border=\"1\" class=\"dataframe\">\n",
       "  <thead>\n",
       "    <tr style=\"text-align: right;\">\n",
       "      <th></th>\n",
       "      <th>mito_vx</th>\n",
       "      <th>ctr_pos_x_vx</th>\n",
       "      <th>ctr_pos_y_vx</th>\n",
       "      <th>ctr_pos_z_vx</th>\n",
       "      <th>bbox_beg_x_vx</th>\n",
       "      <th>bbox_beg_y_vx</th>\n",
       "      <th>bbox_beg_z_vx</th>\n",
       "      <th>bbox_end_x_vx</th>\n",
       "      <th>bbox_end_y_vx</th>\n",
       "      <th>bbox_end_z_vx</th>\n",
       "      <th>cellid</th>\n",
       "      <th>ctr_pos_x_nm</th>\n",
       "      <th>ctr_pos_y_nm</th>\n",
       "      <th>ctr_pos_z_nm</th>\n",
       "      <th>surface_area</th>\n",
       "      <th>complexityindex</th>\n",
       "      <th>compartment</th>\n",
       "    </tr>\n",
       "    <tr>\n",
       "      <th>mito_id</th>\n",
       "      <th></th>\n",
       "      <th></th>\n",
       "      <th></th>\n",
       "      <th></th>\n",
       "      <th></th>\n",
       "      <th></th>\n",
       "      <th></th>\n",
       "      <th></th>\n",
       "      <th></th>\n",
       "      <th></th>\n",
       "      <th></th>\n",
       "      <th></th>\n",
       "      <th></th>\n",
       "      <th></th>\n",
       "      <th></th>\n",
       "      <th></th>\n",
       "      <th></th>\n",
       "    </tr>\n",
       "  </thead>\n",
       "  <tbody>\n",
       "    <tr>\n",
       "      <th>1776789</th>\n",
       "      <td>523452</td>\n",
       "      <td>74500</td>\n",
       "      <td>43210</td>\n",
       "      <td>1457</td>\n",
       "      <td>73444</td>\n",
       "      <td>42632</td>\n",
       "      <td>1401</td>\n",
       "      <td>75636</td>\n",
       "      <td>43732</td>\n",
       "      <td>1564</td>\n",
       "      <td>648518346349538102</td>\n",
       "      <td>298000</td>\n",
       "      <td>172840</td>\n",
       "      <td>58280</td>\n",
       "      <td>6.992364</td>\n",
       "      <td>30.063988</td>\n",
       "      <td>Apical</td>\n",
       "    </tr>\n",
       "    <tr>\n",
       "      <th>3274765</th>\n",
       "      <td>28928</td>\n",
       "      <td>101724</td>\n",
       "      <td>45126</td>\n",
       "      <td>1527</td>\n",
       "      <td>101666</td>\n",
       "      <td>45084</td>\n",
       "      <td>1519</td>\n",
       "      <td>101790</td>\n",
       "      <td>45168</td>\n",
       "      <td>1538</td>\n",
       "      <td>648518346349533350</td>\n",
       "      <td>406896</td>\n",
       "      <td>180504</td>\n",
       "      <td>61080</td>\n",
       "      <td>0.597341</td>\n",
       "      <td>6.137019</td>\n",
       "      <td>Basal</td>\n",
       "    </tr>\n",
       "    <tr>\n",
       "      <th>2278727</th>\n",
       "      <td>639232</td>\n",
       "      <td>81958</td>\n",
       "      <td>57076</td>\n",
       "      <td>1632</td>\n",
       "      <td>81550</td>\n",
       "      <td>56774</td>\n",
       "      <td>1549</td>\n",
       "      <td>82466</td>\n",
       "      <td>57562</td>\n",
       "      <td>1745</td>\n",
       "      <td>648518346349539401</td>\n",
       "      <td>327832</td>\n",
       "      <td>228304</td>\n",
       "      <td>65280</td>\n",
       "      <td>6.389076</td>\n",
       "      <td>15.378901</td>\n",
       "      <td>Basal</td>\n",
       "    </tr>\n",
       "    <tr>\n",
       "      <th>2635064</th>\n",
       "      <td>1034492</td>\n",
       "      <td>90120</td>\n",
       "      <td>59784</td>\n",
       "      <td>1155</td>\n",
       "      <td>88866</td>\n",
       "      <td>58924</td>\n",
       "      <td>1099</td>\n",
       "      <td>91392</td>\n",
       "      <td>60532</td>\n",
       "      <td>1198</td>\n",
       "      <td>648518346349538440</td>\n",
       "      <td>360480</td>\n",
       "      <td>239136</td>\n",
       "      <td>46200</td>\n",
       "      <td>11.151718</td>\n",
       "      <td>31.224768</td>\n",
       "      <td>Basal</td>\n",
       "    </tr>\n",
       "    <tr>\n",
       "      <th>4006807</th>\n",
       "      <td>23496</td>\n",
       "      <td>114062</td>\n",
       "      <td>75542</td>\n",
       "      <td>225</td>\n",
       "      <td>114014</td>\n",
       "      <td>75520</td>\n",
       "      <td>217</td>\n",
       "      <td>114110</td>\n",
       "      <td>75570</td>\n",
       "      <td>236</td>\n",
       "      <td>648518346349532006</td>\n",
       "      <td>456248</td>\n",
       "      <td>302168</td>\n",
       "      <td>9000</td>\n",
       "      <td>0.398477</td>\n",
       "      <td>2.761537</td>\n",
       "      <td>Axonal</td>\n",
       "    </tr>\n",
       "  </tbody>\n",
       "</table>\n",
       "</div>"
      ],
      "text/plain": [
       "         mito_vx  ctr_pos_x_vx  ctr_pos_y_vx  ctr_pos_z_vx  bbox_beg_x_vx  \\\n",
       "mito_id                                                                     \n",
       "1776789   523452         74500         43210          1457          73444   \n",
       "3274765    28928        101724         45126          1527         101666   \n",
       "2278727   639232         81958         57076          1632          81550   \n",
       "2635064  1034492         90120         59784          1155          88866   \n",
       "4006807    23496        114062         75542           225         114014   \n",
       "\n",
       "         bbox_beg_y_vx  bbox_beg_z_vx  bbox_end_x_vx  bbox_end_y_vx  \\\n",
       "mito_id                                                               \n",
       "1776789          42632           1401          75636          43732   \n",
       "3274765          45084           1519         101790          45168   \n",
       "2278727          56774           1549          82466          57562   \n",
       "2635064          58924           1099          91392          60532   \n",
       "4006807          75520            217         114110          75570   \n",
       "\n",
       "         bbox_end_z_vx              cellid  ctr_pos_x_nm  ctr_pos_y_nm  \\\n",
       "mito_id                                                                  \n",
       "1776789           1564  648518346349538102        298000        172840   \n",
       "3274765           1538  648518346349533350        406896        180504   \n",
       "2278727           1745  648518346349539401        327832        228304   \n",
       "2635064           1198  648518346349538440        360480        239136   \n",
       "4006807            236  648518346349532006        456248        302168   \n",
       "\n",
       "         ctr_pos_z_nm  surface_area  complexityindex compartment  \n",
       "mito_id                                                           \n",
       "1776789         58280      6.992364        30.063988      Apical  \n",
       "3274765         61080      0.597341         6.137019       Basal  \n",
       "2278727         65280      6.389076        15.378901       Basal  \n",
       "2635064         46200     11.151718        31.224768       Basal  \n",
       "4006807          9000      0.398477         2.761537      Axonal  "
      ]
     },
     "execution_count": 5,
     "metadata": {},
     "output_type": "execute_result"
    }
   ],
   "source": [
    "mitodf.head()"
   ]
  },
  {
   "cell_type": "code",
   "execution_count": 6,
   "metadata": {},
   "outputs": [
    {
     "data": {
      "text/plain": [
       "(61682, 17)"
      ]
     },
     "execution_count": 6,
     "metadata": {},
     "output_type": "execute_result"
    }
   ],
   "source": [
    "mitodf.shape"
   ]
  },
  {
   "cell_type": "code",
   "execution_count": 7,
   "metadata": {},
   "outputs": [
    {
     "data": {
      "text/plain": [
       "Counter({'Apical': 7813,\n",
       "         'Basal': 19814,\n",
       "         'Axonal': 3714,\n",
       "         'Somatic': 29678,\n",
       "         'Unknown': 648,\n",
       "         'Unknown dendritic': 15})"
      ]
     },
     "execution_count": 7,
     "metadata": {},
     "output_type": "execute_result"
    }
   ],
   "source": [
    "Counter(mitodf.compartment)"
   ]
  },
  {
   "cell_type": "markdown",
   "metadata": {},
   "source": [
    "## Mitochondrion volume"
   ]
  },
  {
   "cell_type": "code",
   "execution_count": 8,
   "metadata": {},
   "outputs": [
    {
     "data": {
      "image/png": "[encoded data removed]",
      "text/plain": [
       "<Figure size 360x720 with 1 Axes>"
      ]
     },
     "metadata": {
      "needs_background": "light"
     },
     "output_type": "display_data"
    }
   ],
   "source": [
    "plt.figure(figsize=(5, 10))\n",
    "\n",
    "plot.boxplot_by_comp(mitodf, varname=\"mito_vx\", varscale=plot.DEFAULT_VX_VOL)\n",
    "plt.yscale(\"log\")\n",
    "\n",
    "plot.plt.show()"
   ]
  },
  {
   "cell_type": "markdown",
   "metadata": {},
   "source": [
    "### Statistics"
   ]
  },
  {
   "cell_type": "code",
   "execution_count": 9,
   "metadata": {},
   "outputs": [],
   "source": [
    "axon_to_soma = stats.mannwhitneyu(\n",
    "    mitodf.mito_vx[mitodf.compartment == \"Axonal\"],\n",
    "    mitodf.mito_vx[mitodf.compartment == \"Somatic\"],\n",
    "    alternative=\"less\")\n",
    "\n",
    "soma_to_apical = stats.mannwhitneyu(\n",
    "    mitodf.mito_vx[mitodf.compartment == \"Somatic\"],\n",
    "    mitodf.mito_vx[mitodf.compartment == \"Apical\"],\n",
    "    alternative=\"less\")\n",
    "\n",
    "apical_to_basal = stats.mannwhitneyu(\n",
    "    mitodf.mito_vx[mitodf.compartment == \"Apical\"],\n",
    "    mitodf.mito_vx[mitodf.compartment == \"Basal\"],\n",
    "    alternative=\"less\")"
   ]
  },
  {
   "cell_type": "code",
   "execution_count": 10,
   "metadata": {},
   "outputs": [
    {
     "data": {
      "text/plain": [
       "MannwhitneyuResult(statistic=28964481.5, pvalue=0.0)"
      ]
     },
     "execution_count": 10,
     "metadata": {},
     "output_type": "execute_result"
    }
   ],
   "source": [
    "axon_to_soma"
   ]
  },
  {
   "cell_type": "code",
   "execution_count": 11,
   "metadata": {},
   "outputs": [
    {
     "data": {
      "text/plain": [
       "MannwhitneyuResult(statistic=85273473.0, pvalue=1.625664210127439e-284)"
      ]
     },
     "execution_count": 11,
     "metadata": {},
     "output_type": "execute_result"
    }
   ],
   "source": [
    "soma_to_apical"
   ]
  },
  {
   "cell_type": "code",
   "execution_count": 12,
   "metadata": {},
   "outputs": [
    {
     "data": {
      "text/plain": [
       "MannwhitneyuResult(statistic=71301361.0, pvalue=7.980714871481457e-25)"
      ]
     },
     "execution_count": 12,
     "metadata": {},
     "output_type": "execute_result"
    }
   ],
   "source": [
    "apical_to_basal"
   ]
  },
  {
   "cell_type": "markdown",
   "metadata": {},
   "source": [
    "### Re-plotting with significance annotations"
   ]
  },
  {
   "cell_type": "code",
   "execution_count": 13,
   "metadata": {},
   "outputs": [],
   "source": [
    "p95s = list()\n",
    "for comp in ['Axonal', 'Somatic', 'Apical', 'Basal']:\n",
    "    subdf = mitodf[mitodf.compartment == comp]\n",
    "    p95s.append(np.percentile(subdf.mito_vx * plot.DEFAULT_VX_VOL, 95))"
   ]
  },
  {
   "cell_type": "code",
   "execution_count": 14,
   "metadata": {},
   "outputs": [
    {
     "data": {
      "text/plain": [
       "[0.0424883140928, 0.24321579748799974, 0.7652268467071994, 0.7024701649983998]"
      ]
     },
     "execution_count": 14,
     "metadata": {},
     "output_type": "execute_result"
    }
   ],
   "source": [
    "p95s"
   ]
  },
  {
   "cell_type": "code",
   "execution_count": 15,
   "metadata": {},
   "outputs": [
    {
     "data": {
      "image/png": "[encoded data removed]",
      "text/plain": [
       "<Figure size 360x720 with 1 Axes>"
      ]
     },
     "metadata": {
      "needs_background": "light"
     },
     "output_type": "display_data"
    }
   ],
   "source": [
    "plt.figure(figsize=(5, 10))\n",
    "plot.boxplot_by_comp(mitodf)\n",
    "plt.yscale(\"log\")\n",
    "\n",
    "plot.barplot_annotate_brackets(0, 1, '**', np.arange(4), p95s, dh=0.04)\n",
    "plot.barplot_annotate_brackets(1, 2, '**', np.arange(4), p95s, dh=0.1)\n",
    "plot.barplot_annotate_brackets(2, 3, '*', np.arange(4), p95s, dh=.2)\n",
    "\n",
    "plt.xticks(rotation=45, fontsize=22)\n",
    "plt.yticks(fontsize=22)\n",
    "\n",
    "plot.plt.tight_layout()\n",
    "plot.plt.show()"
   ]
  },
  {
   "cell_type": "markdown",
   "metadata": {},
   "source": [
    "## Mitochondrion complexity index"
   ]
  },
  {
   "cell_type": "code",
   "execution_count": 16,
   "metadata": {},
   "outputs": [
    {
     "data": {
      "image/png": "[encoded data removed]",
      "text/plain": [
       "<Figure size 360x720 with 1 Axes>"
      ]
     },
     "metadata": {
      "needs_background": "light"
     },
     "output_type": "display_data"
    }
   ],
   "source": [
    "plt.figure(figsize=(5, 10))\n",
    "\n",
    "plot.boxplot_by_comp(mitodf, varname=\"complexityindex\")\n",
    "plt.ylim(0, 60)\n",
    "\n",
    "plot.plt.show()"
   ]
  },
  {
   "cell_type": "markdown",
   "metadata": {},
   "source": [
    "### Statistics"
   ]
  },
  {
   "cell_type": "code",
   "execution_count": 17,
   "metadata": {},
   "outputs": [],
   "source": [
    "axon_to_soma = stats.mannwhitneyu(\n",
    "    mitodf.complexityindex[mitodf.compartment == \"Axonal\"],\n",
    "    mitodf.complexityindex[mitodf.compartment == \"Somatic\"],\n",
    "    alternative=\"less\")\n",
    "\n",
    "soma_to_apical = stats.mannwhitneyu(\n",
    "    mitodf.complexityindex[mitodf.compartment == \"Somatic\"],\n",
    "    mitodf.complexityindex[mitodf.compartment == \"Apical\"],\n",
    "    alternative=\"less\")\n",
    "\n",
    "apical_to_basal = stats.mannwhitneyu(\n",
    "    mitodf.complexityindex[mitodf.compartment == \"Apical\"],\n",
    "    mitodf.complexityindex[mitodf.compartment == \"Basal\"],\n",
    "    alternative=\"less\")"
   ]
  },
  {
   "cell_type": "code",
   "execution_count": 18,
   "metadata": {},
   "outputs": [
    {
     "data": {
      "text/plain": [
       "MannwhitneyuResult(statistic=29324269.0, pvalue=0.0)"
      ]
     },
     "execution_count": 18,
     "metadata": {},
     "output_type": "execute_result"
    }
   ],
   "source": [
    "axon_to_soma"
   ]
  },
  {
   "cell_type": "code",
   "execution_count": 19,
   "metadata": {},
   "outputs": [
    {
     "data": {
      "text/plain": [
       "MannwhitneyuResult(statistic=88764365.0, pvalue=6.040452708079799e-224)"
      ]
     },
     "execution_count": 19,
     "metadata": {},
     "output_type": "execute_result"
    }
   ],
   "source": [
    "soma_to_apical"
   ]
  },
  {
   "cell_type": "code",
   "execution_count": 20,
   "metadata": {},
   "outputs": [
    {
     "data": {
      "text/plain": [
       "MannwhitneyuResult(statistic=74096712.0, pvalue=1.523066910303161e-08)"
      ]
     },
     "execution_count": 20,
     "metadata": {},
     "output_type": "execute_result"
    }
   ],
   "source": [
    "apical_to_basal"
   ]
  },
  {
   "cell_type": "markdown",
   "metadata": {},
   "source": [
    "### Re-plotting with significance annotations"
   ]
  },
  {
   "cell_type": "code",
   "execution_count": 21,
   "metadata": {},
   "outputs": [],
   "source": [
    "p95s = list()\n",
    "for comp in ['Axonal', 'Somatic', 'Apical', 'Basal']:\n",
    "    subdf = mitodf[mitodf.compartment == comp]\n",
    "    p95s.append(np.percentile(subdf.complexityindex, 95))"
   ]
  },
  {
   "cell_type": "code",
   "execution_count": 22,
   "metadata": {},
   "outputs": [
    {
     "data": {
      "image/png": "[encoded data removed]",
      "text/plain": [
       "<Figure size 360x720 with 1 Axes>"
      ]
     },
     "metadata": {
      "needs_background": "light"
     },
     "output_type": "display_data"
    }
   ],
   "source": [
    "plt.figure(figsize=(5, 10))\n",
    "plot.boxplot_by_comp(mitodf, varname=\"complexityindex\")\n",
    "plt.ylim(0, 65)\n",
    "\n",
    "plot.barplot_annotate_brackets(0, 1, '**', np.arange(4), p95s, dh=0.4)\n",
    "plot.barplot_annotate_brackets(1, 2, '**', np.arange(4), p95s, dh=0.01)\n",
    "plot.barplot_annotate_brackets(2, 3, '*', np.arange(4), p95s, dh=0.075)\n",
    "\n",
    "plt.xticks(rotation=45, fontsize=22)\n",
    "plt.yticks(fontsize=22)\n",
    "\n",
    "plot.plt.tight_layout()\n",
    "plot.plt.show()"
   ]
  }
 ],
 "metadata": {
  "kernelspec": {
   "display_name": "Python 3",
   "language": "python",
   "name": "python3"
  },
  "language_info": {
   "codemirror_mode": {
    "name": "ipython",
    "version": 3
   },
   "file_extension": ".py",
   "mimetype": "text/x-python",
   "name": "python",
   "nbconvert_exporter": "python",
   "pygments_lexer": "ipython3",
   "version": "3.7.3"
  }
 },
 "nbformat": 4,
 "nbformat_minor": 4
}
