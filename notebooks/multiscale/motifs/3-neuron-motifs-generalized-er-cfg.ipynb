{
 "cells": [
  {
   "cell_type": "markdown",
   "metadata": {},
   "source": [
    "# 3-Cell Motifs in PyC Subgraph (Generalized ER & CFG)"
   ]
  },
  {
   "cell_type": "code",
   "execution_count": 2,
   "metadata": {},
   "outputs": [],
   "source": [
    "import os\n",
    "import random\n",
    "from time import time\n",
    "import pandas as pd\n",
    "import numpy as np\n",
    "import networkx as nx\n",
    "\n",
    "from utils.graph_creation import *\n",
    "from utils.motif_counts import *\n",
    "from utils.visualization import *\n",
    "from utils.fileio import *"
   ]
  },
  {
   "cell_type": "markdown",
   "metadata": {},
   "source": [
    "## Create PyC Subgraph"
   ]
  },
  {
   "cell_type": "code",
   "execution_count": 3,
   "metadata": {},
   "outputs": [
    {
     "data": {
      "text/html": [
       "<div>\n",
       "<style scoped>\n",
       "    .dataframe tbody tr th:only-of-type {\n",
       "        vertical-align: middle;\n",
       "    }\n",
       "\n",
       "    .dataframe tbody tr th {\n",
       "        vertical-align: top;\n",
       "    }\n",
       "\n",
       "    .dataframe thead th {\n",
       "        text-align: right;\n",
       "    }\n",
       "</style>\n",
       "<table border=\"1\" class=\"dataframe\">\n",
       "  <thead>\n",
       "    <tr style=\"text-align: right;\">\n",
       "      <th></th>\n",
       "      <th>segmentation</th>\n",
       "      <th>id</th>\n",
       "      <th>valid</th>\n",
       "      <th>pre_pt_position</th>\n",
       "      <th>pre_pt_supervoxel_id</th>\n",
       "      <th>pre_pt_root_id</th>\n",
       "      <th>ctr_pt_position</th>\n",
       "      <th>post_pt_position</th>\n",
       "      <th>post_pt_supervoxel_id</th>\n",
       "      <th>post_pt_root_id</th>\n",
       "      <th>size</th>\n",
       "      <th>spine_vol</th>\n",
       "      <th>exclude_conn</th>\n",
       "    </tr>\n",
       "  </thead>\n",
       "  <tbody>\n",
       "    <tr>\n",
       "      <th>0</th>\n",
       "      <td>185</td>\n",
       "      <td>1484</td>\n",
       "      <td>1</td>\n",
       "      <td>[91332, 57836, 1584]</td>\n",
       "      <td>97170491155950710</td>\n",
       "      <td>648518346349539437</td>\n",
       "      <td>[91369, 57798, 1582]</td>\n",
       "      <td>[91332, 57748, 1584]</td>\n",
       "      <td>97170491155951077</td>\n",
       "      <td>648518346349531254</td>\n",
       "      <td>798</td>\n",
       "      <td>0.133004</td>\n",
       "      <td>0</td>\n",
       "    </tr>\n",
       "    <tr>\n",
       "      <th>1</th>\n",
       "      <td>185</td>\n",
       "      <td>2254</td>\n",
       "      <td>1</td>\n",
       "      <td>[64762, 45414, 711]</td>\n",
       "      <td>89838917557174822</td>\n",
       "      <td>648518346349537978</td>\n",
       "      <td>[64742, 45419, 708]</td>\n",
       "      <td>[64720, 45430, 708]</td>\n",
       "      <td>89838917557173796</td>\n",
       "      <td>648518346349537300</td>\n",
       "      <td>129</td>\n",
       "      <td>0.016346</td>\n",
       "      <td>0</td>\n",
       "    </tr>\n",
       "    <tr>\n",
       "      <th>2</th>\n",
       "      <td>185</td>\n",
       "      <td>3785</td>\n",
       "      <td>1</td>\n",
       "      <td>[69646, 63086, 721]</td>\n",
       "      <td>91264984138384361</td>\n",
       "      <td>648518346349533058</td>\n",
       "      <td>[69604, 63106, 721]</td>\n",
       "      <td>[69558, 63120, 721]</td>\n",
       "      <td>90983509161691227</td>\n",
       "      <td>648518346349538715</td>\n",
       "      <td>62</td>\n",
       "      <td>0.020969</td>\n",
       "      <td>0</td>\n",
       "    </tr>\n",
       "    <tr>\n",
       "      <th>3</th>\n",
       "      <td>185</td>\n",
       "      <td>3863</td>\n",
       "      <td>1</td>\n",
       "      <td>[66776, 39946, 1138]</td>\n",
       "      <td>90396382837344883</td>\n",
       "      <td>648518346349539333</td>\n",
       "      <td>[66750, 39982, 1139]</td>\n",
       "      <td>[66722, 39990, 1139]</td>\n",
       "      <td>90396382837366381</td>\n",
       "      <td>648518346349539806</td>\n",
       "      <td>62</td>\n",
       "      <td>0.018033</td>\n",
       "      <td>0</td>\n",
       "    </tr>\n",
       "    <tr>\n",
       "      <th>4</th>\n",
       "      <td>185</td>\n",
       "      <td>4062</td>\n",
       "      <td>1</td>\n",
       "      <td>[89112, 48970, 2154]</td>\n",
       "      <td>96597662777759466</td>\n",
       "      <td>648518346349523975</td>\n",
       "      <td>[89162, 48958, 2154]</td>\n",
       "      <td>[89198, 48936, 2154]</td>\n",
       "      <td>96597662777759456</td>\n",
       "      <td>648518346349537716</td>\n",
       "      <td>62</td>\n",
       "      <td>0.008805</td>\n",
       "      <td>0</td>\n",
       "    </tr>\n",
       "  </tbody>\n",
       "</table>\n",
       "</div>"
      ],
      "text/plain": [
       "   segmentation    id  valid       pre_pt_position  pre_pt_supervoxel_id  \\\n",
       "0           185  1484      1  [91332, 57836, 1584]     97170491155950710   \n",
       "1           185  2254      1   [64762, 45414, 711]     89838917557174822   \n",
       "2           185  3785      1   [69646, 63086, 721]     91264984138384361   \n",
       "3           185  3863      1  [66776, 39946, 1138]     90396382837344883   \n",
       "4           185  4062      1  [89112, 48970, 2154]     96597662777759466   \n",
       "\n",
       "       pre_pt_root_id       ctr_pt_position      post_pt_position  \\\n",
       "0  648518346349539437  [91369, 57798, 1582]  [91332, 57748, 1584]   \n",
       "1  648518346349537978   [64742, 45419, 708]   [64720, 45430, 708]   \n",
       "2  648518346349533058   [69604, 63106, 721]   [69558, 63120, 721]   \n",
       "3  648518346349539333  [66750, 39982, 1139]  [66722, 39990, 1139]   \n",
       "4  648518346349523975  [89162, 48958, 2154]  [89198, 48936, 2154]   \n",
       "\n",
       "   post_pt_supervoxel_id     post_pt_root_id  size  spine_vol  exclude_conn  \n",
       "0      97170491155951077  648518346349531254   798   0.133004             0  \n",
       "1      89838917557173796  648518346349537300   129   0.016346             0  \n",
       "2      90983509161691227  648518346349538715    62   0.020969             0  \n",
       "3      90396382837366381  648518346349539806    62   0.018033             0  \n",
       "4      96597662777759456  648518346349537716    62   0.008805             0  "
      ]
     },
     "execution_count": 3,
     "metadata": {},
     "output_type": "execute_result"
    }
   ],
   "source": [
    "# fetch and preview the synapses table\n",
    "pcy_synapses = read_pyc_graph(\"data/pyc_graph_v185.csv\")\n",
    "pcy_synapses.head()"
   ]
  },
  {
   "cell_type": "code",
   "execution_count": 4,
   "metadata": {},
   "outputs": [],
   "source": [
    "pcy_synapses = format_synapses(pcy_synapses)\n",
    "\n",
    "# create the simple directed graph (no self-loops, no multi-edges)\n",
    "# treat multiple synapses as one connection\n",
    "pyc_subgraph = synapses_to_connections(pcy_synapses[['pre','post']])\n",
    "# remove self-loops\n",
    "g_actual = remove_autapses(edges_to_graph(pyc_subgraph))"
   ]
  },
  {
   "cell_type": "code",
   "execution_count": 5,
   "metadata": {},
   "outputs": [
    {
     "name": "stdout",
     "output_type": "stream",
     "text": [
      "Name: \n",
      "Type: DiGraph\n",
      "Number of nodes: 334\n",
      "Number of edges: 1738\n",
      "Average in degree:   5.2036\n",
      "Average out degree:   5.2036\n"
     ]
    }
   ],
   "source": [
    "print(nx.info(g_actual))"
   ]
  },
  {
   "cell_type": "markdown",
   "metadata": {},
   "source": [
    "## 3-Cell Motifs"
   ]
  },
  {
   "cell_type": "code",
   "execution_count": 6,
   "metadata": {},
   "outputs": [
    {
     "name": "stdout",
     "output_type": "stream",
     "text": [
      "CPU times: user 3min 35s, sys: 196 ms, total: 3min 35s\n",
      "Wall time: 3min 36s\n"
     ]
    }
   ],
   "source": [
    "%%time\n",
    "# count 3-cell motifs in the observation\n",
    "obs_three_counts, _ = count_three_neuron_motifs(*graph_to_sets(g_actual), motifs)\n",
    "# analytically compute 2-cell motif counts in Erdos-Renyi model\n",
    "three_pr, two_pr = compute_three_neuron_motif_probabilities_GE(g_actual)\n",
    "er_three_counts = compute_expected_three_neuron_motifs(g_actual, three_pr)"
   ]
  },
  {
   "cell_type": "code",
   "execution_count": null,
   "metadata": {},
   "outputs": [],
   "source": [
    "%%time\n",
    "s=100 # total 1000 samples (10 workers x 100 continous samples)\n",
    "config_three_counts = sample_motifs_parallel_continuous(continuous_sample_three_neuron_motifs_GE, g_actual, samples=s, niters=int(1e4), threads=10)"
   ]
  },
  {
   "cell_type": "code",
   "execution_count": 16,
   "metadata": {},
   "outputs": [
    {
     "data": {
      "image/png": "[encoded data removed]",
      "text/plain": [
       "<Figure size 720x216 with 1 Axes>"
      ]
     },
     "metadata": {
      "needs_background": "light"
     },
     "output_type": "display_data"
    }
   ],
   "source": [
    "# relative counts in ratio (/ER expected counts)\n",
    "res_three = plot_three_neuron_counts_violin(obs_three_counts, er_three_counts, config_three_counts, \n",
    "                                            subtitle='', ylim=[-2, 30], fname=\"3_violin_GE\", figsize=(10,3))"
   ]
  },
  {
   "cell_type": "code",
   "execution_count": 17,
   "metadata": {},
   "outputs": [
    {
     "data": {
      "image/png": "[encoded data removed]",
      "text/plain": [
       "<Figure size 720x216 with 1 Axes>"
      ]
     },
     "metadata": {
      "needs_background": "light"
     },
     "output_type": "display_data"
    }
   ],
   "source": [
    "# relative counts in difference (-CFG expected counts)\n",
    "plot_three_neuron_counts_diff_violin(obs_three_counts, er_three_counts, config_three_counts, \n",
    "                                     subtitle='', ylim=[-500, 500], fname=\"3_violin_diff_GE\");"
   ]
  },
  {
   "cell_type": "code",
   "execution_count": 18,
   "metadata": {},
   "outputs": [
    {
     "data": {
      "image/png": "[encoded data removed]",
      "text/plain": [
       "<Figure size 864x864 with 1 Axes>"
      ]
     },
     "metadata": {
      "needs_background": "light"
     },
     "output_type": "display_data"
    }
   ],
   "source": [
    "plot_three_neuron_counts_scatter(obs_three_counts, er_three_counts, config_three_counts, figsize=(12,12), fname=\"3_scatter_GE\")"
   ]
  },
  {
   "cell_type": "code",
   "execution_count": 19,
   "metadata": {},
   "outputs": [
    {
     "data": {
      "text/html": [
       "<div>\n",
       "<style scoped>\n",
       "    .dataframe tbody tr th:only-of-type {\n",
       "        vertical-align: middle;\n",
       "    }\n",
       "\n",
       "    .dataframe tbody tr th {\n",
       "        vertical-align: top;\n",
       "    }\n",
       "\n",
       "    .dataframe thead th {\n",
       "        text-align: right;\n",
       "    }\n",
       "</style>\n",
       "<table border=\"1\" class=\"dataframe\">\n",
       "  <thead>\n",
       "    <tr style=\"text-align: right;\">\n",
       "      <th></th>\n",
       "      <th>obs</th>\n",
       "      <th>er_exp</th>\n",
       "      <th>config_exp</th>\n",
       "      <th>config_std</th>\n",
       "      <th>config_z</th>\n",
       "    </tr>\n",
       "  </thead>\n",
       "  <tbody>\n",
       "    <tr>\n",
       "      <th>1</th>\n",
       "      <td>5622854</td>\n",
       "      <td>5.604778e+06</td>\n",
       "      <td>5622699.612</td>\n",
       "      <td>94.631933</td>\n",
       "      <td>1.631458</td>\n",
       "    </tr>\n",
       "    <tr>\n",
       "      <th>2</th>\n",
       "      <td>488467</td>\n",
       "      <td>5.227965e+05</td>\n",
       "      <td>488887.890</td>\n",
       "      <td>271.523220</td>\n",
       "      <td>-1.550107</td>\n",
       "    </tr>\n",
       "    <tr>\n",
       "      <th>3</th>\n",
       "      <td>8828</td>\n",
       "      <td>9.669864e+03</td>\n",
       "      <td>8569.208</td>\n",
       "      <td>80.930318</td>\n",
       "      <td>3.197714</td>\n",
       "    </tr>\n",
       "    <tr>\n",
       "      <th>4</th>\n",
       "      <td>18644</td>\n",
       "      <td>4.063738e+03</td>\n",
       "      <td>18565.275</td>\n",
       "      <td>89.024248</td>\n",
       "      <td>0.884310</td>\n",
       "    </tr>\n",
       "    <tr>\n",
       "      <th>5</th>\n",
       "      <td>4209</td>\n",
       "      <td>4.063738e+03</td>\n",
       "      <td>4300.006</td>\n",
       "      <td>35.587420</td>\n",
       "      <td>-2.557252</td>\n",
       "    </tr>\n",
       "    <tr>\n",
       "      <th>6</th>\n",
       "      <td>8755</td>\n",
       "      <td>8.127476e+03</td>\n",
       "      <td>8662.560</td>\n",
       "      <td>83.799312</td>\n",
       "      <td>1.103112</td>\n",
       "    </tr>\n",
       "    <tr>\n",
       "      <th>7</th>\n",
       "      <td>284</td>\n",
       "      <td>3.006584e+02</td>\n",
       "      <td>315.254</td>\n",
       "      <td>19.462998</td>\n",
       "      <td>-1.605816</td>\n",
       "    </tr>\n",
       "    <tr>\n",
       "      <th>8</th>\n",
       "      <td>1071</td>\n",
       "      <td>3.006584e+02</td>\n",
       "      <td>1251.151</td>\n",
       "      <td>76.687895</td>\n",
       "      <td>-2.349145</td>\n",
       "    </tr>\n",
       "    <tr>\n",
       "      <th>9</th>\n",
       "      <td>13</td>\n",
       "      <td>5.561104e+00</td>\n",
       "      <td>20.722</td>\n",
       "      <td>4.583418</td>\n",
       "      <td>-1.684769</td>\n",
       "    </tr>\n",
       "    <tr>\n",
       "      <th>10</th>\n",
       "      <td>999</td>\n",
       "      <td>1.263510e+02</td>\n",
       "      <td>837.490</td>\n",
       "      <td>32.265693</td>\n",
       "      <td>5.005626</td>\n",
       "    </tr>\n",
       "    <tr>\n",
       "      <th>11</th>\n",
       "      <td>79</td>\n",
       "      <td>4.211700e+01</td>\n",
       "      <td>64.416</td>\n",
       "      <td>8.152878</td>\n",
       "      <td>1.788816</td>\n",
       "    </tr>\n",
       "    <tr>\n",
       "      <th>12</th>\n",
       "      <td>17</td>\n",
       "      <td>2.337041e+00</td>\n",
       "      <td>16.585</td>\n",
       "      <td>4.131567</td>\n",
       "      <td>0.100446</td>\n",
       "    </tr>\n",
       "    <tr>\n",
       "      <th>13</th>\n",
       "      <td>23</td>\n",
       "      <td>4.674083e+00</td>\n",
       "      <td>29.967</td>\n",
       "      <td>5.559750</td>\n",
       "      <td>-1.253114</td>\n",
       "    </tr>\n",
       "    <tr>\n",
       "      <th>14</th>\n",
       "      <td>39</td>\n",
       "      <td>2.337041e+00</td>\n",
       "      <td>59.419</td>\n",
       "      <td>10.975970</td>\n",
       "      <td>-1.860337</td>\n",
       "    </tr>\n",
       "    <tr>\n",
       "      <th>15</th>\n",
       "      <td>2</td>\n",
       "      <td>1.729076e-01</td>\n",
       "      <td>4.363</td>\n",
       "      <td>2.042891</td>\n",
       "      <td>-1.156694</td>\n",
       "    </tr>\n",
       "    <tr>\n",
       "      <th>16</th>\n",
       "      <td>0</td>\n",
       "      <td>1.066057e-03</td>\n",
       "      <td>0.082</td>\n",
       "      <td>0.285232</td>\n",
       "      <td>-0.287485</td>\n",
       "    </tr>\n",
       "  </tbody>\n",
       "</table>\n",
       "</div>"
      ],
      "text/plain": [
       "        obs        er_exp   config_exp  config_std  config_z\n",
       "1   5622854  5.604778e+06  5622699.612   94.631933  1.631458\n",
       "2    488467  5.227965e+05   488887.890  271.523220 -1.550107\n",
       "3      8828  9.669864e+03     8569.208   80.930318  3.197714\n",
       "4     18644  4.063738e+03    18565.275   89.024248  0.884310\n",
       "5      4209  4.063738e+03     4300.006   35.587420 -2.557252\n",
       "6      8755  8.127476e+03     8662.560   83.799312  1.103112\n",
       "7       284  3.006584e+02      315.254   19.462998 -1.605816\n",
       "8      1071  3.006584e+02     1251.151   76.687895 -2.349145\n",
       "9        13  5.561104e+00       20.722    4.583418 -1.684769\n",
       "10      999  1.263510e+02      837.490   32.265693  5.005626\n",
       "11       79  4.211700e+01       64.416    8.152878  1.788816\n",
       "12       17  2.337041e+00       16.585    4.131567  0.100446\n",
       "13       23  4.674083e+00       29.967    5.559750 -1.253114\n",
       "14       39  2.337041e+00       59.419   10.975970 -1.860337\n",
       "15        2  1.729076e-01        4.363    2.042891 -1.156694\n",
       "16        0  1.066057e-03        0.082    0.285232 -0.287485"
      ]
     },
     "execution_count": 19,
     "metadata": {},
     "output_type": "execute_result"
    }
   ],
   "source": [
    "res_three"
   ]
  },
  {
   "cell_type": "code",
   "execution_count": 20,
   "metadata": {},
   "outputs": [
    {
     "data": {
      "text/plain": [
       "1     0.046\n",
       "2     0.053\n",
       "3     0.001\n",
       "4     0.184\n",
       "5     0.005\n",
       "6     0.137\n",
       "7     0.054\n",
       "8     0.010\n",
       "9     0.020\n",
       "10    0.000\n",
       "11    0.038\n",
       "12    0.388\n",
       "13    0.078\n",
       "14    0.021\n",
       "15    0.066\n",
       "16    0.000\n",
       "dtype: float64"
      ]
     },
     "execution_count": 20,
     "metadata": {},
     "output_type": "execute_result"
    }
   ],
   "source": [
    "# p-values\n",
    "np.minimum((config_three_counts > obs_three_counts).sum(0) / 1000, \n",
    "           (config_three_counts < obs_three_counts).sum(0) / 1000)"
   ]
  },
  {
   "cell_type": "markdown",
   "metadata": {},
   "source": [
    "## Clustering Coefficient"
   ]
  },
  {
   "cell_type": "code",
   "execution_count": 21,
   "metadata": {},
   "outputs": [
    {
     "data": {
      "text/plain": [
       "0.09538309604147807"
      ]
     },
     "execution_count": 21,
     "metadata": {},
     "output_type": "execute_result"
    }
   ],
   "source": [
    "# clustering coefficient of the observed network\n",
    "nx.transitivity(g_actual.to_undirected())"
   ]
  },
  {
   "cell_type": "code",
   "execution_count": 22,
   "metadata": {},
   "outputs": [
    {
     "data": {
      "text/plain": [
       "0.03069536602470735"
      ]
     },
     "execution_count": 22,
     "metadata": {},
     "output_type": "execute_result"
    }
   ],
   "source": [
    "# expected clustering coefficient of the networsk sampled from the generalized ER model\n",
    "1-two_pr['pr_null']"
   ]
  },
  {
   "cell_type": "code",
   "execution_count": 23,
   "metadata": {},
   "outputs": [
    {
     "data": {
      "text/plain": [
       "0.08400544922878357"
      ]
     },
     "execution_count": 23,
     "metadata": {},
     "output_type": "execute_result"
    }
   ],
   "source": [
    "# expected clustering coefficient of the networsk sampled from the generalized CFG model\n",
    "clustering_coef(config_three_counts).mean()"
   ]
  },
  {
   "cell_type": "code",
   "execution_count": 24,
   "metadata": {},
   "outputs": [
    {
     "data": {
      "text/plain": [
       "(0.015068961176745608, 0.0005574436712161263)"
      ]
     },
     "execution_count": 24,
     "metadata": {},
     "output_type": "execute_result"
    }
   ],
   "source": [
    "two_pr['pr_uni'], two_pr['pr_bi']"
   ]
  },
  {
   "cell_type": "code",
   "execution_count": null,
   "metadata": {},
   "outputs": [],
   "source": []
  }
 ],
 "metadata": {
  "kernelspec": {
   "display_name": "Python 3",
   "language": "python",
   "name": "python3"
  },
  "language_info": {
   "codemirror_mode": {
    "name": "ipython",
    "version": 3
   },
   "file_extension": ".py",
   "mimetype": "text/x-python",
   "name": "python",
   "nbconvert_exporter": "python",
   "pygments_lexer": "ipython3",
   "version": "3.7.3"
  }
 },
 "nbformat": 4,
 "nbformat_minor": 4
}
