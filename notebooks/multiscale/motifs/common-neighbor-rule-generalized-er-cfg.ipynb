{
 "cells": [
  {
   "cell_type": "markdown",
   "metadata": {},
   "source": [
    "# Common Neighbor Rule in PyC Subgraph (Generalized ER & CFG)"
   ]
  },
  {
   "cell_type": "code",
   "execution_count": 2,
   "metadata": {},
   "outputs": [],
   "source": [
    "import os\n",
    "import random\n",
    "from time import time\n",
    "import pandas as pd\n",
    "import numpy as np\n",
    "import networkx as nx\n",
    "\n",
    "from utils.graph_creation import *\n",
    "from utils.common_neighbor_rule import *\n",
    "from utils.visualization import *\n",
    "from utils.fileio import *"
   ]
  },
  {
   "cell_type": "markdown",
   "metadata": {},
   "source": [
    "## Create PyC Subgraph"
   ]
  },
  {
   "cell_type": "code",
   "execution_count": 3,
   "metadata": {},
   "outputs": [
    {
     "data": {
      "text/html": [
       "<div>\n",
       "<style scoped>\n",
       "    .dataframe tbody tr th:only-of-type {\n",
       "        vertical-align: middle;\n",
       "    }\n",
       "\n",
       "    .dataframe tbody tr th {\n",
       "        vertical-align: top;\n",
       "    }\n",
       "\n",
       "    .dataframe thead th {\n",
       "        text-align: right;\n",
       "    }\n",
       "</style>\n",
       "<table border=\"1\" class=\"dataframe\">\n",
       "  <thead>\n",
       "    <tr style=\"text-align: right;\">\n",
       "      <th></th>\n",
       "      <th>segmentation</th>\n",
       "      <th>id</th>\n",
       "      <th>valid</th>\n",
       "      <th>pre_pt_position</th>\n",
       "      <th>pre_pt_supervoxel_id</th>\n",
       "      <th>pre_pt_root_id</th>\n",
       "      <th>ctr_pt_position</th>\n",
       "      <th>post_pt_position</th>\n",
       "      <th>post_pt_supervoxel_id</th>\n",
       "      <th>post_pt_root_id</th>\n",
       "      <th>size</th>\n",
       "      <th>spine_vol</th>\n",
       "      <th>exclude_conn</th>\n",
       "    </tr>\n",
       "  </thead>\n",
       "  <tbody>\n",
       "    <tr>\n",
       "      <th>0</th>\n",
       "      <td>185</td>\n",
       "      <td>1484</td>\n",
       "      <td>1</td>\n",
       "      <td>[91332, 57836, 1584]</td>\n",
       "      <td>97170491155950710</td>\n",
       "      <td>648518346349539437</td>\n",
       "      <td>[91369, 57798, 1582]</td>\n",
       "      <td>[91332, 57748, 1584]</td>\n",
       "      <td>97170491155951077</td>\n",
       "      <td>648518346349531254</td>\n",
       "      <td>798</td>\n",
       "      <td>0.133004</td>\n",
       "      <td>0</td>\n",
       "    </tr>\n",
       "    <tr>\n",
       "      <th>1</th>\n",
       "      <td>185</td>\n",
       "      <td>2254</td>\n",
       "      <td>1</td>\n",
       "      <td>[64762, 45414, 711]</td>\n",
       "      <td>89838917557174822</td>\n",
       "      <td>648518346349537978</td>\n",
       "      <td>[64742, 45419, 708]</td>\n",
       "      <td>[64720, 45430, 708]</td>\n",
       "      <td>89838917557173796</td>\n",
       "      <td>648518346349537300</td>\n",
       "      <td>129</td>\n",
       "      <td>0.016346</td>\n",
       "      <td>0</td>\n",
       "    </tr>\n",
       "    <tr>\n",
       "      <th>2</th>\n",
       "      <td>185</td>\n",
       "      <td>3785</td>\n",
       "      <td>1</td>\n",
       "      <td>[69646, 63086, 721]</td>\n",
       "      <td>91264984138384361</td>\n",
       "      <td>648518346349533058</td>\n",
       "      <td>[69604, 63106, 721]</td>\n",
       "      <td>[69558, 63120, 721]</td>\n",
       "      <td>90983509161691227</td>\n",
       "      <td>648518346349538715</td>\n",
       "      <td>62</td>\n",
       "      <td>0.020969</td>\n",
       "      <td>0</td>\n",
       "    </tr>\n",
       "    <tr>\n",
       "      <th>3</th>\n",
       "      <td>185</td>\n",
       "      <td>3863</td>\n",
       "      <td>1</td>\n",
       "      <td>[66776, 39946, 1138]</td>\n",
       "      <td>90396382837344883</td>\n",
       "      <td>648518346349539333</td>\n",
       "      <td>[66750, 39982, 1139]</td>\n",
       "      <td>[66722, 39990, 1139]</td>\n",
       "      <td>90396382837366381</td>\n",
       "      <td>648518346349539806</td>\n",
       "      <td>62</td>\n",
       "      <td>0.018033</td>\n",
       "      <td>0</td>\n",
       "    </tr>\n",
       "    <tr>\n",
       "      <th>4</th>\n",
       "      <td>185</td>\n",
       "      <td>4062</td>\n",
       "      <td>1</td>\n",
       "      <td>[89112, 48970, 2154]</td>\n",
       "      <td>96597662777759466</td>\n",
       "      <td>648518346349523975</td>\n",
       "      <td>[89162, 48958, 2154]</td>\n",
       "      <td>[89198, 48936, 2154]</td>\n",
       "      <td>96597662777759456</td>\n",
       "      <td>648518346349537716</td>\n",
       "      <td>62</td>\n",
       "      <td>0.008805</td>\n",
       "      <td>0</td>\n",
       "    </tr>\n",
       "  </tbody>\n",
       "</table>\n",
       "</div>"
      ],
      "text/plain": [
       "   segmentation    id  valid       pre_pt_position  pre_pt_supervoxel_id  \\\n",
       "0           185  1484      1  [91332, 57836, 1584]     97170491155950710   \n",
       "1           185  2254      1   [64762, 45414, 711]     89838917557174822   \n",
       "2           185  3785      1   [69646, 63086, 721]     91264984138384361   \n",
       "3           185  3863      1  [66776, 39946, 1138]     90396382837344883   \n",
       "4           185  4062      1  [89112, 48970, 2154]     96597662777759466   \n",
       "\n",
       "       pre_pt_root_id       ctr_pt_position      post_pt_position  \\\n",
       "0  648518346349539437  [91369, 57798, 1582]  [91332, 57748, 1584]   \n",
       "1  648518346349537978   [64742, 45419, 708]   [64720, 45430, 708]   \n",
       "2  648518346349533058   [69604, 63106, 721]   [69558, 63120, 721]   \n",
       "3  648518346349539333  [66750, 39982, 1139]  [66722, 39990, 1139]   \n",
       "4  648518346349523975  [89162, 48958, 2154]  [89198, 48936, 2154]   \n",
       "\n",
       "   post_pt_supervoxel_id     post_pt_root_id  size  spine_vol  exclude_conn  \n",
       "0      97170491155951077  648518346349531254   798   0.133004             0  \n",
       "1      89838917557173796  648518346349537300   129   0.016346             0  \n",
       "2      90983509161691227  648518346349538715    62   0.020969             0  \n",
       "3      90396382837366381  648518346349539806    62   0.018033             0  \n",
       "4      96597662777759456  648518346349537716    62   0.008805             0  "
      ]
     },
     "execution_count": 3,
     "metadata": {},
     "output_type": "execute_result"
    }
   ],
   "source": [
    "# fetch and preview the synapses table\n",
    "pcy_synapses = read_pyc_graph(\"data/pyc_graph_v185.csv\")\n",
    "pcy_synapses.head()"
   ]
  },
  {
   "cell_type": "code",
   "execution_count": 4,
   "metadata": {},
   "outputs": [],
   "source": [
    "pcy_synapses = format_synapses(pcy_synapses)\n",
    "\n",
    "# create the simple directed graph (no self-loops, no multi-edges)\n",
    "# treat multiple synapses as one connection\n",
    "pyc_subgraph = synapses_to_connections(pcy_synapses[['pre','post']])\n",
    "# remove self-loops\n",
    "g_actual = remove_autapses(edges_to_graph(pyc_subgraph))"
   ]
  },
  {
   "cell_type": "code",
   "execution_count": 5,
   "metadata": {},
   "outputs": [
    {
     "name": "stdout",
     "output_type": "stream",
     "text": [
      "Name: \n",
      "Type: DiGraph\n",
      "Number of nodes: 334\n",
      "Number of edges: 1738\n",
      "Average in degree:   5.2036\n",
      "Average out degree:   5.2036\n"
     ]
    }
   ],
   "source": [
    "print(nx.info(g_actual))"
   ]
  },
  {
   "cell_type": "markdown",
   "metadata": {},
   "source": [
    "## Common Neighbor Rule"
   ]
  },
  {
   "cell_type": "code",
   "execution_count": 6,
   "metadata": {},
   "outputs": [
    {
     "name": "stdout",
     "output_type": "stream",
     "text": [
      "CPU times: user 8.22 s, sys: 20 ms, total: 8.24 s\n",
      "Wall time: 8.27 s\n"
     ]
    }
   ],
   "source": [
    "%%time\n",
    "# calculate common neighbor stats in the observation\n",
    "obs_cnr_stats = get_cnr_stats(g_actual)"
   ]
  },
  {
   "cell_type": "markdown",
   "metadata": {},
   "source": [
    "- \"undir_pair\" - number of pairs with [bin] common neighbor\n",
    "- \"dir_spair\" - number of pairs with [bin] common successor (strict, not a predecessor to any)\n",
    "- \"dir_ppair\" - number of pairs with [bin] common predecessor (strict, not a successor to any)\n",
    "- \"undir_conn\" - number of connected pairs with [bin] common neighbor\n",
    "- \"dir_sconn\" - number of connected pairs with [bin] common successor (strict, not a predecessor to any)\n",
    "- \"dir_pconn\" - number of connected pairs with [bin] common predecessor (strict, not a successor to any)\n",
    "- \"dir_uni_sconn\" - number of unidirectionally connected pairs with [bin] common successor (strict, not a predecessor to any)\n",
    "- \"dir_uni_pconn\" - number of unidirectionally connected pairs with [bin] common predecessor (strict, not a successor to any)\n",
    "- \"dir_bi_sconn\" - number of bidirectionally connected pairs with [bin] common successor (strict, not a predecessor to any)\n",
    "- \"dir_bi_pconn\" - number of bidirectionally connected pairs with [bin] common predecessor (strict, not a successor to any)\n",
    "- \"undir_perc\" - percentage of pairs with [bin] common neighbor to be connected\n",
    "- \"dir_sperc\" - percentage of pairs with [bin] strict common successor to be connected\n",
    "- \"dir_pperc\" - percentage of pairs with [bin] strict common predcessor to be connected"
   ]
  },
  {
   "cell_type": "code",
   "execution_count": 7,
   "metadata": {},
   "outputs": [
    {
     "data": {
      "text/html": [
       "<div>\n",
       "<style scoped>\n",
       "    .dataframe tbody tr th:only-of-type {\n",
       "        vertical-align: middle;\n",
       "    }\n",
       "\n",
       "    .dataframe tbody tr th {\n",
       "        vertical-align: top;\n",
       "    }\n",
       "\n",
       "    .dataframe thead th {\n",
       "        text-align: right;\n",
       "    }\n",
       "</style>\n",
       "<table border=\"1\" class=\"dataframe\">\n",
       "  <thead>\n",
       "    <tr style=\"text-align: right;\">\n",
       "      <th></th>\n",
       "      <th>undir_pair</th>\n",
       "      <th>dir_spair</th>\n",
       "      <th>dir_ppair</th>\n",
       "      <th>undir_conn</th>\n",
       "      <th>dir_sconn</th>\n",
       "      <th>dir_pconn</th>\n",
       "      <th>dir_uni_sconn</th>\n",
       "      <th>dir_uni_pconn</th>\n",
       "      <th>dir_bi_sconn</th>\n",
       "      <th>dir_bi_pconn</th>\n",
       "      <th>undir_perc</th>\n",
       "      <th>dir_sperc</th>\n",
       "      <th>dir_pperc</th>\n",
       "    </tr>\n",
       "  </thead>\n",
       "  <tbody>\n",
       "    <tr>\n",
       "      <th>0</th>\n",
       "      <td>34324.0</td>\n",
       "      <td>52856.0</td>\n",
       "      <td>39977.0</td>\n",
       "      <td>458.0</td>\n",
       "      <td>1280.0</td>\n",
       "      <td>963.0</td>\n",
       "      <td>1270.0</td>\n",
       "      <td>945.0</td>\n",
       "      <td>10.0</td>\n",
       "      <td>18.0</td>\n",
       "      <td>0.013343</td>\n",
       "      <td>0.024217</td>\n",
       "      <td>0.024089</td>\n",
       "    </tr>\n",
       "    <tr>\n",
       "      <th>1</th>\n",
       "      <td>13313.0</td>\n",
       "      <td>1416.0</td>\n",
       "      <td>12189.0</td>\n",
       "      <td>434.0</td>\n",
       "      <td>162.0</td>\n",
       "      <td>526.0</td>\n",
       "      <td>154.0</td>\n",
       "      <td>516.0</td>\n",
       "      <td>8.0</td>\n",
       "      <td>10.0</td>\n",
       "      <td>0.032600</td>\n",
       "      <td>0.114407</td>\n",
       "      <td>0.043154</td>\n",
       "    </tr>\n",
       "    <tr>\n",
       "      <th>2</th>\n",
       "      <td>4510.0</td>\n",
       "      <td>714.0</td>\n",
       "      <td>2683.0</td>\n",
       "      <td>310.0</td>\n",
       "      <td>117.0</td>\n",
       "      <td>154.0</td>\n",
       "      <td>109.0</td>\n",
       "      <td>152.0</td>\n",
       "      <td>8.0</td>\n",
       "      <td>2.0</td>\n",
       "      <td>0.068736</td>\n",
       "      <td>0.163866</td>\n",
       "      <td>0.057398</td>\n",
       "    </tr>\n",
       "    <tr>\n",
       "      <th>3</th>\n",
       "      <td>1793.0</td>\n",
       "      <td>318.0</td>\n",
       "      <td>618.0</td>\n",
       "      <td>180.0</td>\n",
       "      <td>69.0</td>\n",
       "      <td>49.0</td>\n",
       "      <td>64.0</td>\n",
       "      <td>48.0</td>\n",
       "      <td>5.0</td>\n",
       "      <td>1.0</td>\n",
       "      <td>0.100390</td>\n",
       "      <td>0.216981</td>\n",
       "      <td>0.079288</td>\n",
       "    </tr>\n",
       "    <tr>\n",
       "      <th>4</th>\n",
       "      <td>801.0</td>\n",
       "      <td>142.0</td>\n",
       "      <td>117.0</td>\n",
       "      <td>132.0</td>\n",
       "      <td>26.0</td>\n",
       "      <td>11.0</td>\n",
       "      <td>26.0</td>\n",
       "      <td>11.0</td>\n",
       "      <td>0.0</td>\n",
       "      <td>0.0</td>\n",
       "      <td>0.164794</td>\n",
       "      <td>0.183099</td>\n",
       "      <td>0.094017</td>\n",
       "    </tr>\n",
       "    <tr>\n",
       "      <th>5</th>\n",
       "      <td>402.0</td>\n",
       "      <td>68.0</td>\n",
       "      <td>22.0</td>\n",
       "      <td>74.0</td>\n",
       "      <td>13.0</td>\n",
       "      <td>4.0</td>\n",
       "      <td>13.0</td>\n",
       "      <td>4.0</td>\n",
       "      <td>0.0</td>\n",
       "      <td>0.0</td>\n",
       "      <td>0.184080</td>\n",
       "      <td>0.191176</td>\n",
       "      <td>0.181818</td>\n",
       "    </tr>\n",
       "    <tr>\n",
       "      <th>6</th>\n",
       "      <td>182.0</td>\n",
       "      <td>39.0</td>\n",
       "      <td>5.0</td>\n",
       "      <td>37.0</td>\n",
       "      <td>18.0</td>\n",
       "      <td>0.0</td>\n",
       "      <td>18.0</td>\n",
       "      <td>0.0</td>\n",
       "      <td>0.0</td>\n",
       "      <td>0.0</td>\n",
       "      <td>0.203297</td>\n",
       "      <td>0.461538</td>\n",
       "      <td>0.000000</td>\n",
       "    </tr>\n",
       "    <tr>\n",
       "      <th>7</th>\n",
       "      <td>119.0</td>\n",
       "      <td>25.0</td>\n",
       "      <td>0.0</td>\n",
       "      <td>18.0</td>\n",
       "      <td>8.0</td>\n",
       "      <td>0.0</td>\n",
       "      <td>8.0</td>\n",
       "      <td>0.0</td>\n",
       "      <td>0.0</td>\n",
       "      <td>0.0</td>\n",
       "      <td>0.151261</td>\n",
       "      <td>0.320000</td>\n",
       "      <td>0.000000</td>\n",
       "    </tr>\n",
       "    <tr>\n",
       "      <th>8</th>\n",
       "      <td>63.0</td>\n",
       "      <td>14.0</td>\n",
       "      <td>0.0</td>\n",
       "      <td>22.0</td>\n",
       "      <td>7.0</td>\n",
       "      <td>0.0</td>\n",
       "      <td>7.0</td>\n",
       "      <td>0.0</td>\n",
       "      <td>0.0</td>\n",
       "      <td>0.0</td>\n",
       "      <td>0.349206</td>\n",
       "      <td>0.500000</td>\n",
       "      <td>0.000000</td>\n",
       "    </tr>\n",
       "    <tr>\n",
       "      <th>9</th>\n",
       "      <td>104.0</td>\n",
       "      <td>19.0</td>\n",
       "      <td>0.0</td>\n",
       "      <td>42.0</td>\n",
       "      <td>7.0</td>\n",
       "      <td>0.0</td>\n",
       "      <td>7.0</td>\n",
       "      <td>0.0</td>\n",
       "      <td>0.0</td>\n",
       "      <td>0.0</td>\n",
       "      <td>0.403846</td>\n",
       "      <td>0.368421</td>\n",
       "      <td>0.000000</td>\n",
       "    </tr>\n",
       "  </tbody>\n",
       "</table>\n",
       "</div>"
      ],
      "text/plain": [
       "   undir_pair  dir_spair  dir_ppair  undir_conn  dir_sconn  dir_pconn  \\\n",
       "0     34324.0    52856.0    39977.0       458.0     1280.0      963.0   \n",
       "1     13313.0     1416.0    12189.0       434.0      162.0      526.0   \n",
       "2      4510.0      714.0     2683.0       310.0      117.0      154.0   \n",
       "3      1793.0      318.0      618.0       180.0       69.0       49.0   \n",
       "4       801.0      142.0      117.0       132.0       26.0       11.0   \n",
       "5       402.0       68.0       22.0        74.0       13.0        4.0   \n",
       "6       182.0       39.0        5.0        37.0       18.0        0.0   \n",
       "7       119.0       25.0        0.0        18.0        8.0        0.0   \n",
       "8        63.0       14.0        0.0        22.0        7.0        0.0   \n",
       "9       104.0       19.0        0.0        42.0        7.0        0.0   \n",
       "\n",
       "   dir_uni_sconn  dir_uni_pconn  dir_bi_sconn  dir_bi_pconn  undir_perc  \\\n",
       "0         1270.0          945.0          10.0          18.0    0.013343   \n",
       "1          154.0          516.0           8.0          10.0    0.032600   \n",
       "2          109.0          152.0           8.0           2.0    0.068736   \n",
       "3           64.0           48.0           5.0           1.0    0.100390   \n",
       "4           26.0           11.0           0.0           0.0    0.164794   \n",
       "5           13.0            4.0           0.0           0.0    0.184080   \n",
       "6           18.0            0.0           0.0           0.0    0.203297   \n",
       "7            8.0            0.0           0.0           0.0    0.151261   \n",
       "8            7.0            0.0           0.0           0.0    0.349206   \n",
       "9            7.0            0.0           0.0           0.0    0.403846   \n",
       "\n",
       "   dir_sperc  dir_pperc  \n",
       "0   0.024217   0.024089  \n",
       "1   0.114407   0.043154  \n",
       "2   0.163866   0.057398  \n",
       "3   0.216981   0.079288  \n",
       "4   0.183099   0.094017  \n",
       "5   0.191176   0.181818  \n",
       "6   0.461538   0.000000  \n",
       "7   0.320000   0.000000  \n",
       "8   0.500000   0.000000  \n",
       "9   0.368421   0.000000  "
      ]
     },
     "execution_count": 7,
     "metadata": {},
     "output_type": "execute_result"
    }
   ],
   "source": [
    "obs_cnr_stats"
   ]
  },
  {
   "cell_type": "code",
   "execution_count": 8,
   "metadata": {},
   "outputs": [
    {
     "data": {
      "application/vnd.jupyter.widget-view+json": {
       "model_id": "564623269a304cf0b62625aece232a31",
       "version_major": 2,
       "version_minor": 0
      },
      "text/plain": [
       "HBox(children=(FloatProgress(value=0.0), HTML(value='')))"
      ]
     },
     "metadata": {},
     "output_type": "display_data"
    },
    {
     "name": "stdout",
     "output_type": "stream",
     "text": [
      "\n",
      "CPU times: user 15min 51s, sys: 644 ms, total: 15min 52s\n",
      "Wall time: 16min 2s\n"
     ]
    }
   ],
   "source": [
    "%%time\n",
    "s=100 # total 100 samples (100 continous samples)\n",
    "cfg_cnr_samples = continuous_sample_cnr_GE(g_actual, samples=s, niters=int(1e4))"
   ]
  },
  {
   "cell_type": "code",
   "execution_count": 9,
   "metadata": {},
   "outputs": [],
   "source": [
    "cfg_cnr_stats, cfg_cnr_stats_std = cnr_mean_std(cfg_cnr_samples)"
   ]
  },
  {
   "cell_type": "code",
   "execution_count": 10,
   "metadata": {},
   "outputs": [
    {
     "data": {
      "text/html": [
       "<div>\n",
       "<style scoped>\n",
       "    .dataframe tbody tr th:only-of-type {\n",
       "        vertical-align: middle;\n",
       "    }\n",
       "\n",
       "    .dataframe tbody tr th {\n",
       "        vertical-align: top;\n",
       "    }\n",
       "\n",
       "    .dataframe thead th {\n",
       "        text-align: right;\n",
       "    }\n",
       "</style>\n",
       "<table border=\"1\" class=\"dataframe\">\n",
       "  <thead>\n",
       "    <tr style=\"text-align: right;\">\n",
       "      <th></th>\n",
       "      <th>undir_pair</th>\n",
       "      <th>dir_spair</th>\n",
       "      <th>dir_ppair</th>\n",
       "      <th>undir_conn</th>\n",
       "      <th>dir_sconn</th>\n",
       "      <th>dir_pconn</th>\n",
       "      <th>dir_uni_sconn</th>\n",
       "      <th>dir_uni_pconn</th>\n",
       "      <th>dir_bi_sconn</th>\n",
       "      <th>dir_bi_pconn</th>\n",
       "      <th>undir_perc</th>\n",
       "      <th>dir_sperc</th>\n",
       "      <th>dir_pperc</th>\n",
       "    </tr>\n",
       "  </thead>\n",
       "  <tbody>\n",
       "    <tr>\n",
       "      <th>0</th>\n",
       "      <td>34105.07</td>\n",
       "      <td>52833.82</td>\n",
       "      <td>39983.50</td>\n",
       "      <td>506.99</td>\n",
       "      <td>1295.87</td>\n",
       "      <td>1041.16</td>\n",
       "      <td>1287.55</td>\n",
       "      <td>1023.67</td>\n",
       "      <td>8.32</td>\n",
       "      <td>17.49</td>\n",
       "      <td>0.014866</td>\n",
       "      <td>0.024527</td>\n",
       "      <td>0.026040</td>\n",
       "    </tr>\n",
       "    <tr>\n",
       "      <th>1</th>\n",
       "      <td>13556.27</td>\n",
       "      <td>1451.58</td>\n",
       "      <td>12291.59</td>\n",
       "      <td>451.76</td>\n",
       "      <td>179.74</td>\n",
       "      <td>479.20</td>\n",
       "      <td>171.55</td>\n",
       "      <td>469.70</td>\n",
       "      <td>8.19</td>\n",
       "      <td>9.50</td>\n",
       "      <td>0.033324</td>\n",
       "      <td>0.123801</td>\n",
       "      <td>0.038987</td>\n",
       "    </tr>\n",
       "    <tr>\n",
       "      <th>2</th>\n",
       "      <td>4565.89</td>\n",
       "      <td>697.44</td>\n",
       "      <td>2652.91</td>\n",
       "      <td>299.54</td>\n",
       "      <td>105.23</td>\n",
       "      <td>143.85</td>\n",
       "      <td>99.53</td>\n",
       "      <td>140.74</td>\n",
       "      <td>5.70</td>\n",
       "      <td>3.11</td>\n",
       "      <td>0.065597</td>\n",
       "      <td>0.150883</td>\n",
       "      <td>0.054221</td>\n",
       "    </tr>\n",
       "    <tr>\n",
       "      <th>3</th>\n",
       "      <td>1796.37</td>\n",
       "      <td>322.43</td>\n",
       "      <td>546.76</td>\n",
       "      <td>186.41</td>\n",
       "      <td>56.90</td>\n",
       "      <td>33.90</td>\n",
       "      <td>53.38</td>\n",
       "      <td>33.17</td>\n",
       "      <td>3.52</td>\n",
       "      <td>0.73</td>\n",
       "      <td>0.103757</td>\n",
       "      <td>0.176518</td>\n",
       "      <td>0.062006</td>\n",
       "    </tr>\n",
       "    <tr>\n",
       "      <th>4</th>\n",
       "      <td>792.21</td>\n",
       "      <td>150.65</td>\n",
       "      <td>109.43</td>\n",
       "      <td>108.18</td>\n",
       "      <td>30.96</td>\n",
       "      <td>7.16</td>\n",
       "      <td>28.84</td>\n",
       "      <td>7.02</td>\n",
       "      <td>2.12</td>\n",
       "      <td>0.14</td>\n",
       "      <td>0.136553</td>\n",
       "      <td>0.205286</td>\n",
       "      <td>0.065469</td>\n",
       "    </tr>\n",
       "    <tr>\n",
       "      <th>5</th>\n",
       "      <td>380.41</td>\n",
       "      <td>72.73</td>\n",
       "      <td>21.75</td>\n",
       "      <td>63.95</td>\n",
       "      <td>16.33</td>\n",
       "      <td>1.35</td>\n",
       "      <td>15.05</td>\n",
       "      <td>1.34</td>\n",
       "      <td>1.28</td>\n",
       "      <td>0.01</td>\n",
       "      <td>0.168190</td>\n",
       "      <td>0.224482</td>\n",
       "      <td>0.061145</td>\n",
       "    </tr>\n",
       "    <tr>\n",
       "      <th>6</th>\n",
       "      <td>190.18</td>\n",
       "      <td>36.31</td>\n",
       "      <td>4.16</td>\n",
       "      <td>35.67</td>\n",
       "      <td>8.90</td>\n",
       "      <td>0.31</td>\n",
       "      <td>8.17</td>\n",
       "      <td>0.29</td>\n",
       "      <td>0.73</td>\n",
       "      <td>0.02</td>\n",
       "      <td>0.187344</td>\n",
       "      <td>0.245160</td>\n",
       "      <td>0.069469</td>\n",
       "    </tr>\n",
       "    <tr>\n",
       "      <th>7</th>\n",
       "      <td>99.51</td>\n",
       "      <td>19.90</td>\n",
       "      <td>0.67</td>\n",
       "      <td>22.08</td>\n",
       "      <td>5.07</td>\n",
       "      <td>0.04</td>\n",
       "      <td>4.68</td>\n",
       "      <td>0.04</td>\n",
       "      <td>0.39</td>\n",
       "      <td>0.00</td>\n",
       "      <td>0.221737</td>\n",
       "      <td>0.254937</td>\n",
       "      <td>0.030000</td>\n",
       "    </tr>\n",
       "    <tr>\n",
       "      <th>8</th>\n",
       "      <td>54.44</td>\n",
       "      <td>10.63</td>\n",
       "      <td>0.20</td>\n",
       "      <td>12.89</td>\n",
       "      <td>3.15</td>\n",
       "      <td>0.03</td>\n",
       "      <td>2.93</td>\n",
       "      <td>0.03</td>\n",
       "      <td>0.22</td>\n",
       "      <td>0.00</td>\n",
       "      <td>0.237182</td>\n",
       "      <td>0.304037</td>\n",
       "      <td>0.025000</td>\n",
       "    </tr>\n",
       "    <tr>\n",
       "      <th>9</th>\n",
       "      <td>70.65</td>\n",
       "      <td>15.51</td>\n",
       "      <td>0.03</td>\n",
       "      <td>19.53</td>\n",
       "      <td>4.85</td>\n",
       "      <td>0.00</td>\n",
       "      <td>4.32</td>\n",
       "      <td>0.00</td>\n",
       "      <td>0.53</td>\n",
       "      <td>0.00</td>\n",
       "      <td>0.274713</td>\n",
       "      <td>0.314253</td>\n",
       "      <td>0.000000</td>\n",
       "    </tr>\n",
       "  </tbody>\n",
       "</table>\n",
       "</div>"
      ],
      "text/plain": [
       "   undir_pair  dir_spair  dir_ppair  undir_conn  dir_sconn  dir_pconn  \\\n",
       "0    34105.07   52833.82   39983.50      506.99    1295.87    1041.16   \n",
       "1    13556.27    1451.58   12291.59      451.76     179.74     479.20   \n",
       "2     4565.89     697.44    2652.91      299.54     105.23     143.85   \n",
       "3     1796.37     322.43     546.76      186.41      56.90      33.90   \n",
       "4      792.21     150.65     109.43      108.18      30.96       7.16   \n",
       "5      380.41      72.73      21.75       63.95      16.33       1.35   \n",
       "6      190.18      36.31       4.16       35.67       8.90       0.31   \n",
       "7       99.51      19.90       0.67       22.08       5.07       0.04   \n",
       "8       54.44      10.63       0.20       12.89       3.15       0.03   \n",
       "9       70.65      15.51       0.03       19.53       4.85       0.00   \n",
       "\n",
       "   dir_uni_sconn  dir_uni_pconn  dir_bi_sconn  dir_bi_pconn  undir_perc  \\\n",
       "0        1287.55        1023.67          8.32         17.49    0.014866   \n",
       "1         171.55         469.70          8.19          9.50    0.033324   \n",
       "2          99.53         140.74          5.70          3.11    0.065597   \n",
       "3          53.38          33.17          3.52          0.73    0.103757   \n",
       "4          28.84           7.02          2.12          0.14    0.136553   \n",
       "5          15.05           1.34          1.28          0.01    0.168190   \n",
       "6           8.17           0.29          0.73          0.02    0.187344   \n",
       "7           4.68           0.04          0.39          0.00    0.221737   \n",
       "8           2.93           0.03          0.22          0.00    0.237182   \n",
       "9           4.32           0.00          0.53          0.00    0.274713   \n",
       "\n",
       "   dir_sperc  dir_pperc  \n",
       "0   0.024527   0.026040  \n",
       "1   0.123801   0.038987  \n",
       "2   0.150883   0.054221  \n",
       "3   0.176518   0.062006  \n",
       "4   0.205286   0.065469  \n",
       "5   0.224482   0.061145  \n",
       "6   0.245160   0.069469  \n",
       "7   0.254937   0.030000  \n",
       "8   0.304037   0.025000  \n",
       "9   0.314253   0.000000  "
      ]
     },
     "execution_count": 10,
     "metadata": {},
     "output_type": "execute_result"
    }
   ],
   "source": [
    "cfg_cnr_stats"
   ]
  },
  {
   "cell_type": "code",
   "execution_count": 11,
   "metadata": {},
   "outputs": [
    {
     "data": {
      "image/png": "[encoded data removed]",
      "text/plain": [
       "<Figure size 432x288 with 1 Axes>"
      ]
     },
     "metadata": {
      "needs_background": "light"
     },
     "output_type": "display_data"
    }
   ],
   "source": [
    "_, two_pr = compute_three_neuron_motif_probabilities_GE(g_actual)\n",
    "ER_p_null = 1 - 2*two_pr[\"pr_uni\"] - two_pr[\"pr_bi\"]\n",
    "\n",
    "plot_cnr(obs_cnr_stats, cfg_cnr_stats, cfg_cnr_stats_std, ER_p_null, \n",
    "         figsize=(6,4), fontsizes=(16, 16, 16, 14), fname=\"cnr_GE\")"
   ]
  },
  {
   "cell_type": "code",
   "execution_count": 12,
   "metadata": {},
   "outputs": [
    {
     "data": {
      "text/plain": [
       "(0.8637575765406493, 9.983128500788891e-05)"
      ]
     },
     "execution_count": 12,
     "metadata": {},
     "output_type": "execute_result"
    }
   ],
   "source": [
    "# Pearson r^2 and p-value\n",
    "pearson_r2(np.arange(10), obs_cnr_stats[\"undir_perc\"])"
   ]
  },
  {
   "cell_type": "code",
   "execution_count": 13,
   "metadata": {},
   "outputs": [
    {
     "data": {
      "text/plain": [
       "(0.9948609533603663, 1.91109823294144e-10)"
      ]
     },
     "execution_count": 13,
     "metadata": {},
     "output_type": "execute_result"
    }
   ],
   "source": [
    "# Pearson r^2 and p-value\n",
    "pearson_r2(np.arange(10), cfg_cnr_stats[\"undir_perc\"])"
   ]
  },
  {
   "cell_type": "code",
   "execution_count": 14,
   "metadata": {},
   "outputs": [
    {
     "name": "stdout",
     "output_type": "stream",
     "text": [
      "3.3972514771158004 0.0006806638361577241 0.0\n"
     ]
    },
    {
     "data": {
      "image/png": "[encoded data removed]",
      "text/plain": [
       "<Figure size 288x288 with 1 Axes>"
      ]
     },
     "metadata": {
      "needs_background": "light"
     },
     "output_type": "display_data"
    }
   ],
   "source": [
    "# compare number connected pairs with strict common predecessors in the observation and generalized cfg model\n",
    "# z-score, p-value (z-test), p-value (sorting)\n",
    "plot_common_predecessor(cfg_cnr_samples, obs_cnr_stats, figsize=(4,4), fname=\"commom_pred_GE\")"
   ]
  },
  {
   "cell_type": "code",
   "execution_count": 15,
   "metadata": {},
   "outputs": [
    {
     "name": "stdout",
     "output_type": "stream",
     "text": [
      "1.4245185702543663 0.15429641331424718 0.05\n"
     ]
    },
    {
     "data": {
      "image/png": "[encoded data removed]",
      "text/plain": [
       "<Figure size 288x288 with 1 Axes>"
      ]
     },
     "metadata": {
      "needs_background": "light"
     },
     "output_type": "display_data"
    }
   ],
   "source": [
    "# compare number connected pairs with strict common successor in the observation and generalized cfg model\n",
    "# z-score, p-value (z-test), p-value (sorting)\n",
    "plot_common_successor(cfg_cnr_samples, obs_cnr_stats, figsize=(4,4), fname=\"commom_succ_GE\")"
   ]
  },
  {
   "cell_type": "code",
   "execution_count": null,
   "metadata": {},
   "outputs": [],
   "source": []
  }
 ],
 "metadata": {
  "kernelspec": {
   "display_name": "Python 3",
   "language": "python",
   "name": "python3"
  },
  "language_info": {
   "codemirror_mode": {
    "name": "ipython",
    "version": 3
   },
   "file_extension": ".py",
   "mimetype": "text/x-python",
   "name": "python",
   "nbconvert_exporter": "python",
   "pygments_lexer": "ipython3",
   "version": "3.7.3"
  }
 },
 "nbformat": 4,
 "nbformat_minor": 4
}
