{
 "cells": [
  {
   "cell_type": "markdown",
   "metadata": {},
   "source": [
    "# Degree Distribution in PyC Subgraph (Full)"
   ]
  },
  {
   "cell_type": "code",
   "execution_count": 1,
   "metadata": {},
   "outputs": [],
   "source": [
    "import os\n",
    "import random\n",
    "from time import time\n",
    "import pandas as pd\n",
    "import numpy as np\n",
    "import networkx as nx\n",
    "\n",
    "from utils.graph_creation import *\n",
    "from utils.motif_counts import *\n",
    "from utils.visualization import *"
   ]
  },
  {
   "cell_type": "markdown",
   "metadata": {},
   "source": [
    "## Create PyC Subgraph"
   ]
  },
  {
   "cell_type": "code",
   "execution_count": 2,
   "metadata": {},
   "outputs": [
    {
     "data": {
      "text/html": [
       "<div>\n",
       "<style scoped>\n",
       "    .dataframe tbody tr th:only-of-type {\n",
       "        vertical-align: middle;\n",
       "    }\n",
       "\n",
       "    .dataframe tbody tr th {\n",
       "        vertical-align: top;\n",
       "    }\n",
       "\n",
       "    .dataframe thead th {\n",
       "        text-align: right;\n",
       "    }\n",
       "</style>\n",
       "<table border=\"1\" class=\"dataframe\">\n",
       "  <thead>\n",
       "    <tr style=\"text-align: right;\">\n",
       "      <th></th>\n",
       "      <th>pre</th>\n",
       "      <th>post</th>\n",
       "    </tr>\n",
       "  </thead>\n",
       "  <tbody>\n",
       "    <tr>\n",
       "      <th>0</th>\n",
       "      <td>648518346349539437</td>\n",
       "      <td>648518346349531254</td>\n",
       "    </tr>\n",
       "    <tr>\n",
       "      <th>1</th>\n",
       "      <td>648518346349537978</td>\n",
       "      <td>648518346349537300</td>\n",
       "    </tr>\n",
       "    <tr>\n",
       "      <th>2</th>\n",
       "      <td>648518346349533058</td>\n",
       "      <td>648518346349538715</td>\n",
       "    </tr>\n",
       "    <tr>\n",
       "      <th>3</th>\n",
       "      <td>648518346349539333</td>\n",
       "      <td>648518346349539806</td>\n",
       "    </tr>\n",
       "    <tr>\n",
       "      <th>4</th>\n",
       "      <td>648518346349523975</td>\n",
       "      <td>648518346349537716</td>\n",
       "    </tr>\n",
       "    <tr>\n",
       "      <th>...</th>\n",
       "      <td>...</td>\n",
       "      <td>...</td>\n",
       "    </tr>\n",
       "    <tr>\n",
       "      <th>1976</th>\n",
       "      <td>648518346349539110</td>\n",
       "      <td>648518346349538440</td>\n",
       "    </tr>\n",
       "    <tr>\n",
       "      <th>1977</th>\n",
       "      <td>648518346349539110</td>\n",
       "      <td>648518346349523993</td>\n",
       "    </tr>\n",
       "    <tr>\n",
       "      <th>1978</th>\n",
       "      <td>648518346349539110</td>\n",
       "      <td>648518346349524141</td>\n",
       "    </tr>\n",
       "    <tr>\n",
       "      <th>1979</th>\n",
       "      <td>648518346349539110</td>\n",
       "      <td>648518346349539900</td>\n",
       "    </tr>\n",
       "    <tr>\n",
       "      <th>1980</th>\n",
       "      <td>648518346349539110</td>\n",
       "      <td>648518346349539961</td>\n",
       "    </tr>\n",
       "  </tbody>\n",
       "</table>\n",
       "<p>1981 rows × 2 columns</p>\n",
       "</div>"
      ],
      "text/plain": [
       "                     pre                post\n",
       "0     648518346349539437  648518346349531254\n",
       "1     648518346349537978  648518346349537300\n",
       "2     648518346349533058  648518346349538715\n",
       "3     648518346349539333  648518346349539806\n",
       "4     648518346349523975  648518346349537716\n",
       "...                  ...                 ...\n",
       "1976  648518346349539110  648518346349538440\n",
       "1977  648518346349539110  648518346349523993\n",
       "1978  648518346349539110  648518346349524141\n",
       "1979  648518346349539110  648518346349539900\n",
       "1980  648518346349539110  648518346349539961\n",
       "\n",
       "[1981 rows x 2 columns]"
      ]
     },
     "execution_count": 2,
     "metadata": {},
     "output_type": "execute_result"
    }
   ],
   "source": [
    "pyc_synapses = pd.read_csv('data/synapses.csv')\n",
    "pyc_synapses"
   ]
  },
  {
   "cell_type": "code",
   "execution_count": 3,
   "metadata": {},
   "outputs": [
    {
     "data": {
      "text/html": [
       "<div>\n",
       "<style scoped>\n",
       "    .dataframe tbody tr th:only-of-type {\n",
       "        vertical-align: middle;\n",
       "    }\n",
       "\n",
       "    .dataframe tbody tr th {\n",
       "        vertical-align: top;\n",
       "    }\n",
       "\n",
       "    .dataframe thead th {\n",
       "        text-align: right;\n",
       "    }\n",
       "</style>\n",
       "<table border=\"1\" class=\"dataframe\">\n",
       "  <thead>\n",
       "    <tr style=\"text-align: right;\">\n",
       "      <th></th>\n",
       "      <th>segmentation</th>\n",
       "      <th>segment_id</th>\n",
       "      <th>manual_id</th>\n",
       "      <th>loc</th>\n",
       "      <th>axon_len</th>\n",
       "      <th>dendrite_len</th>\n",
       "    </tr>\n",
       "  </thead>\n",
       "  <tbody>\n",
       "    <tr>\n",
       "      <th>0</th>\n",
       "      <td>185</td>\n",
       "      <td>648518346349491311</td>\n",
       "      <td>466</td>\n",
       "      <td>[314028 159940  77280]</td>\n",
       "      <td>0.000000</td>\n",
       "      <td>1441.069000</td>\n",
       "    </tr>\n",
       "    <tr>\n",
       "      <th>1</th>\n",
       "      <td>185</td>\n",
       "      <td>648518346349492130</td>\n",
       "      <td>499</td>\n",
       "      <td>[291484 145484  80960]</td>\n",
       "      <td>0.000000</td>\n",
       "      <td>747.483938</td>\n",
       "    </tr>\n",
       "    <tr>\n",
       "      <th>2</th>\n",
       "      <td>185</td>\n",
       "      <td>648518346349492197</td>\n",
       "      <td>503</td>\n",
       "      <td>[270948 158088  86240]</td>\n",
       "      <td>0.000000</td>\n",
       "      <td>586.186063</td>\n",
       "    </tr>\n",
       "    <tr>\n",
       "      <th>3</th>\n",
       "      <td>185</td>\n",
       "      <td>648518346349492682</td>\n",
       "      <td>163</td>\n",
       "      <td>[461372 212624  27640]</td>\n",
       "      <td>643.547438</td>\n",
       "      <td>979.816375</td>\n",
       "    </tr>\n",
       "    <tr>\n",
       "      <th>4</th>\n",
       "      <td>185</td>\n",
       "      <td>648518346349493472</td>\n",
       "      <td>549</td>\n",
       "      <td>[431864 156576  85720]</td>\n",
       "      <td>0.000000</td>\n",
       "      <td>0.000000</td>\n",
       "    </tr>\n",
       "    <tr>\n",
       "      <th>...</th>\n",
       "      <td>...</td>\n",
       "      <td>...</td>\n",
       "      <td>...</td>\n",
       "      <td>...</td>\n",
       "      <td>...</td>\n",
       "      <td>...</td>\n",
       "    </tr>\n",
       "    <tr>\n",
       "      <th>358</th>\n",
       "      <td>185</td>\n",
       "      <td>648518346349540048</td>\n",
       "      <td>80</td>\n",
       "      <td>[349132 163492  11480]</td>\n",
       "      <td>961.385250</td>\n",
       "      <td>1321.124250</td>\n",
       "    </tr>\n",
       "    <tr>\n",
       "      <th>359</th>\n",
       "      <td>185</td>\n",
       "      <td>648518346349540051</td>\n",
       "      <td>259</td>\n",
       "      <td>[444892 247424  47480]</td>\n",
       "      <td>61.243563</td>\n",
       "      <td>1999.626500</td>\n",
       "    </tr>\n",
       "    <tr>\n",
       "      <th>360</th>\n",
       "      <td>185</td>\n",
       "      <td>648518346349540053</td>\n",
       "      <td>102</td>\n",
       "      <td>[446104 253936  18320]</td>\n",
       "      <td>56.518617</td>\n",
       "      <td>1612.330500</td>\n",
       "    </tr>\n",
       "    <tr>\n",
       "      <th>361</th>\n",
       "      <td>185</td>\n",
       "      <td>648518346349540055</td>\n",
       "      <td>139</td>\n",
       "      <td>[340468 248332  23400]</td>\n",
       "      <td>46.961094</td>\n",
       "      <td>3101.869750</td>\n",
       "    </tr>\n",
       "    <tr>\n",
       "      <th>362</th>\n",
       "      <td>185</td>\n",
       "      <td>648518346349540057</td>\n",
       "      <td>215</td>\n",
       "      <td>[415440 177540  35640]</td>\n",
       "      <td>1526.214750</td>\n",
       "      <td>1829.562500</td>\n",
       "    </tr>\n",
       "  </tbody>\n",
       "</table>\n",
       "<p>363 rows × 6 columns</p>\n",
       "</div>"
      ],
      "text/plain": [
       "     segmentation          segment_id  manual_id                     loc  \\\n",
       "0             185  648518346349491311        466  [314028 159940  77280]   \n",
       "1             185  648518346349492130        499  [291484 145484  80960]   \n",
       "2             185  648518346349492197        503  [270948 158088  86240]   \n",
       "3             185  648518346349492682        163  [461372 212624  27640]   \n",
       "4             185  648518346349493472        549  [431864 156576  85720]   \n",
       "..            ...                 ...        ...                     ...   \n",
       "358           185  648518346349540048         80  [349132 163492  11480]   \n",
       "359           185  648518346349540051        259  [444892 247424  47480]   \n",
       "360           185  648518346349540053        102  [446104 253936  18320]   \n",
       "361           185  648518346349540055        139  [340468 248332  23400]   \n",
       "362           185  648518346349540057        215  [415440 177540  35640]   \n",
       "\n",
       "        axon_len  dendrite_len  \n",
       "0       0.000000   1441.069000  \n",
       "1       0.000000    747.483938  \n",
       "2       0.000000    586.186063  \n",
       "3     643.547438    979.816375  \n",
       "4       0.000000      0.000000  \n",
       "..           ...           ...  \n",
       "358   961.385250   1321.124250  \n",
       "359    61.243563   1999.626500  \n",
       "360    56.518617   1612.330500  \n",
       "361    46.961094   3101.869750  \n",
       "362  1526.214750   1829.562500  \n",
       "\n",
       "[363 rows x 6 columns]"
      ]
     },
     "execution_count": 3,
     "metadata": {},
     "output_type": "execute_result"
    }
   ],
   "source": [
    "pyc_soma = pd.read_csv('data/soma.csv')\n",
    "pyc_soma"
   ]
  },
  {
   "cell_type": "code",
   "execution_count": 4,
   "metadata": {},
   "outputs": [],
   "source": [
    "# create the simple directed graph (no self-loops, no multi-edges)\n",
    "# treat multiple synapses as one connection\n",
    "pyc_subgraph = synapses_to_connections(pyc_synapses[['pre','post']])\n",
    "# remove self-loops\n",
    "g_actual = remove_autapses(edges_to_graph(pyc_subgraph))\n",
    "g_actual.add_nodes_from(pyc_soma[\"segment_id\"])"
   ]
  },
  {
   "cell_type": "code",
   "execution_count": 5,
   "metadata": {},
   "outputs": [
    {
     "name": "stdout",
     "output_type": "stream",
     "text": [
      "Name: \n",
      "Type: DiGraph\n",
      "Number of nodes: 363\n",
      "Number of edges: 1750\n",
      "Average in degree:   4.8209\n",
      "Average out degree:   4.8209\n"
     ]
    }
   ],
   "source": [
    "print(nx.info(g_actual))"
   ]
  },
  {
   "cell_type": "code",
   "execution_count": 6,
   "metadata": {},
   "outputs": [],
   "source": [
    "import ast\n",
    "def string2array(array_string):\n",
    "    array_string = ','.join(array_string.replace('[ ', '[').split())\n",
    "    return np.array(ast.literal_eval(array_string))"
   ]
  },
  {
   "cell_type": "code",
   "execution_count": 7,
   "metadata": {},
   "outputs": [],
   "source": [
    "locs = {n:string2array(np.array(pyc_soma[pyc_soma[\"segment_id\"] == n][\"loc\"])[0]) for n in g_actual.nodes()}\n",
    "axls = {n:np.array(pyc_soma[pyc_soma[\"segment_id\"] == n][\"axon_len\"])[0] for n in g_actual.nodes()}"
   ]
  },
  {
   "cell_type": "code",
   "execution_count": 8,
   "metadata": {},
   "outputs": [],
   "source": [
    "nx.set_node_attributes(g_actual, locs, \"loc\")\n",
    "nx.set_node_attributes(g_actual, axls, \"axl\")"
   ]
  },
  {
   "cell_type": "code",
   "execution_count": 10,
   "metadata": {},
   "outputs": [
    {
     "name": "stdout",
     "output_type": "stream",
     "text": [
      "Name: \n",
      "Type: DiGraph\n",
      "Number of nodes: 363\n",
      "Number of edges: 1750\n",
      "Average in degree:   4.8209\n",
      "Average out degree:   4.8209\n"
     ]
    }
   ],
   "source": [
    "g_full = get_thresholded_graph(g_actual, axls, -1)\n",
    "print(nx.info(g_full))"
   ]
  },
  {
   "cell_type": "code",
   "execution_count": 11,
   "metadata": {},
   "outputs": [
    {
     "data": {
      "text/plain": [
       "False"
      ]
     },
     "execution_count": 11,
     "metadata": {},
     "output_type": "execute_result"
    }
   ],
   "source": [
    "nx.is_weakly_connected(g_full)"
   ]
  },
  {
   "cell_type": "markdown",
   "metadata": {},
   "source": [
    "## Compare the Degree Distribution with ER model"
   ]
  },
  {
   "cell_type": "code",
   "execution_count": 12,
   "metadata": {},
   "outputs": [],
   "source": [
    "# in-degree sequence\n",
    "aic = np.array([g_full.in_degree(n) for n in g_full.nodes()])\n",
    "# out-degree sequence\n",
    "aoc = np.array([g_full.out_degree(n) for n in g_full.nodes()])"
   ]
  },
  {
   "cell_type": "code",
   "execution_count": 13,
   "metadata": {},
   "outputs": [],
   "source": [
    "def er_sample_degs(g, p, selfloop=True):\n",
    "    cp_indegs = []\n",
    "    cp_outdegs = []\n",
    "    for i in range(100):\n",
    "        if selfloop:\n",
    "            # ER model with selfloop\n",
    "            edges = g.edges()\n",
    "            inds = np.random.choice([True, False], len(edges), p=[p, 1-p])\n",
    "            edges = np.array(edges)[inds]\n",
    "            g_sampled = nx.DiGraph()\n",
    "            g_sampled.add_nodes_from(g.nodes())\n",
    "            g_sampled.add_edges_from(edges)\n",
    "        else:\n",
    "            g_sampled = nx.erdos_renyi_graph(len(g.nodes()), p, directed=True)\n",
    "            \n",
    "        cp_indegs.append([g_sampled.in_degree(n) for n in g_sampled.nodes()])\n",
    "        cp_outdegs.append([g_sampled.out_degree(n) for n in g_sampled.nodes()])\n",
    "    cp_indegs = np.array(cp_indegs).reshape(-1)\n",
    "    cp_outdegs = np.array(cp_outdegs).reshape(-1)\n",
    "    return cp_indegs, cp_outdegs"
   ]
  },
  {
   "cell_type": "code",
   "execution_count": 14,
   "metadata": {},
   "outputs": [
    {
     "name": "stdout",
     "output_type": "stream",
     "text": [
      "CPU times: user 10.6 s, sys: 644 ms, total: 11.2 s\n",
      "Wall time: 11.2 s\n"
     ]
    }
   ],
   "source": [
    "%%time\n",
    "g_complete = nx.complete_graph(len(g_full.nodes()), nx.DiGraph())\n",
    "p_connect = len(g_full.edges) / len(g_complete.edges)\n",
    "ric_sample, roc_sample = er_sample_degs(g_complete, p_connect)"
   ]
  },
  {
   "cell_type": "code",
   "execution_count": 15,
   "metadata": {},
   "outputs": [],
   "source": [
    "def hist_outline(dataIn, *args, **kwargs):\n",
    "    (histIn, binsIn) = np.histogram(dataIn, *args, **kwargs)\n",
    "    histIn = np.insert(histIn, 0, 0)\n",
    "    histIn = np.append(histIn, 0)\n",
    "    bins = [t for b in zip(binsIn, binsIn) for t in b]\n",
    "    data = [t for b in zip(histIn[:-1], histIn[1:]) for t in b]\n",
    "    return (bins, data)\n",
    "\n",
    "def overlay_hists_log(x, y, xlabels, ylabels, title, density=False, nbins=8, fname=\"temp\"):\n",
    "    f, axes = plt.subplots(2, 2, figsize=(12,8)) \n",
    "    for axs, d, dlabels in zip(axes, (x,y), (xlabels, ylabels)):\n",
    "        ex = -0.2\n",
    "        colors = [\"#D8545D\", \"k\"]\n",
    "        lss = [\"-\", \"--\"]\n",
    "        bins = np.linspace(0, np.max([np.max(di) for di in d]), nbins)\n",
    "        bins_exp = np.concatenate(([ex], np.e**np.linspace(0, np.log(np.max([np.max(di) for di in d])), nbins)))\n",
    "        for l, di, c, ls in zip(dlabels, d, colors, lss):\n",
    "            nzx = di.astype(np.float)\n",
    "            nzx[nzx == 0] = np.e**ex\n",
    "            dx, dy = hist_outline(di, bins=bins, density=density)\n",
    "            dx_exp, dy_exp = hist_outline(nzx, bins=bins_exp, density=density)\n",
    "            if (l == \"Expected from ER\") or (l == \"Expected from ER(ge)\") and not density:\n",
    "                dy = np.array(dy) / 100\n",
    "                dy_exp = np.array(dy_exp) / 100\n",
    "            axs[0].plot(dx, dy, label=l, c=c, linestyle=ls)\n",
    "            axs[1].plot(dx_exp, np.array(dy_exp), label=l, c=c, linestyle=ls)\n",
    "        axs[0].legend(loc='best', fontsize=14)\n",
    "        axs[1].legend(loc='best', fontsize=14)\n",
    "        axs[1].set_xscale('log')\n",
    "        axs[1].set_yscale('log')\n",
    "        axs[0].tick_params(length=8, width=1.5, labelsize=14)\n",
    "        axs[1].tick_params(length=8, width=1.5, labelsize=14)\n",
    "    axes[0][0].set_xlabel('In degree', fontsize=20);\n",
    "    axes[0][1].set_xlabel('In degree', fontsize=20);\n",
    "    axes[0][0].set_ylabel('Number of cells', fontsize=20);\n",
    "    axes[0][1].set_ylabel('Number of cells', fontsize=20);\n",
    "    axes[1][0].set_xlabel('Out degree', fontsize=20)\n",
    "    axes[1][1].set_xlabel('Out degree', fontsize=20);\n",
    "    axes[1][0].set_ylabel('Number of cells', fontsize=20);\n",
    "    axes[1][1].set_ylabel('Number of cells', fontsize=20);\n",
    "    f.suptitle(title, fontsize=20);\n",
    "    f.tight_layout(rect=[0,0,1,0.94])\n",
    "    f.savefig(\"figures/{}.pdf\".format(fname), bbox_inches='tight')"
   ]
  },
  {
   "cell_type": "code",
   "execution_count": 16,
   "metadata": {},
   "outputs": [
    {
     "data": {
      "image/png": "[encoded data removed]",
      "text/plain": [
       "<Figure size 864x576 with 4 Axes>"
      ]
     },
     "metadata": {
      "needs_background": "light"
     },
     "output_type": "display_data"
    }
   ],
   "source": [
    "overlay_hists_log([aic, ric_sample], \n",
    "                  [aoc, roc_sample], \n",
    "                  ['Observed', 'Expected from ER'], \n",
    "                  ['Observed', 'Expected from ER'], \n",
    "                  title='', density=False, fname=\"full/full_degree_distribution\")"
   ]
  },
  {
   "cell_type": "code",
   "execution_count": 17,
   "metadata": {},
   "outputs": [],
   "source": [
    "three_pr, two_pr = compute_three_neuron_motif_probabilities_GE(g_full)"
   ]
  },
  {
   "cell_type": "code",
   "execution_count": 18,
   "metadata": {},
   "outputs": [
    {
     "data": {
      "text/plain": [
       "{'pr_uni': 0.012845684367532684,\n",
       " 'pr_bi': 0.00047182016041885454,\n",
       " 'pr_null': 0.9738368111045158}"
      ]
     },
     "execution_count": 18,
     "metadata": {},
     "output_type": "execute_result"
    }
   ],
   "source": [
    "two_pr"
   ]
  },
  {
   "cell_type": "code",
   "execution_count": 19,
   "metadata": {},
   "outputs": [],
   "source": [
    "ug_complete = nx.complete_graph(len(g_full.nodes()))"
   ]
  },
  {
   "cell_type": "code",
   "execution_count": 20,
   "metadata": {},
   "outputs": [],
   "source": [
    "def er_gr_sample_degs(ug, p_uni, p_bi, selfloop=True):\n",
    "    cp_indegs = []\n",
    "    cp_outdegs = []\n",
    "    for i in range(100):\n",
    "        if selfloop:\n",
    "            # ER model with selfloop\n",
    "            edges = []\n",
    "            for e in ug.edges():\n",
    "                a = np.random.rand()\n",
    "                if a < p_uni: \n",
    "                    edges.append(e)\n",
    "                elif a < 2*p_uni: \n",
    "                    edges.append(e[::-1])\n",
    "                elif a < 2*p_uni + p_bi: \n",
    "                    edges.append(e)\n",
    "                    edges.append(e[::-1])\n",
    "            g_sampled = nx.DiGraph()\n",
    "            g_sampled.add_nodes_from(ug.nodes())\n",
    "            g_sampled.add_edges_from(edges)\n",
    "        else:\n",
    "            g_sampled = nx.erdos_renyi_graph(len(ug.nodes()), p, directed=True)\n",
    "        cp_indegs.append([g_sampled.in_degree(n) for n in g_sampled.nodes()])\n",
    "        cp_outdegs.append([g_sampled.out_degree(n) for n in g_sampled.nodes()])\n",
    "    cp_indegs = np.array(cp_indegs).reshape(-1)\n",
    "    cp_outdegs = np.array(cp_outdegs).reshape(-1)\n",
    "    return cp_indegs, cp_outdegs"
   ]
  },
  {
   "cell_type": "code",
   "execution_count": 21,
   "metadata": {},
   "outputs": [
    {
     "name": "stdout",
     "output_type": "stream",
     "text": [
      "CPU times: user 5.01 s, sys: 0 ns, total: 5.01 s\n",
      "Wall time: 5.02 s\n"
     ]
    }
   ],
   "source": [
    "%%time\n",
    "ge_ric_sample, ge_roc_sample = er_gr_sample_degs(ug_complete, two_pr[\"pr_uni\"], two_pr[\"pr_bi\"])"
   ]
  },
  {
   "cell_type": "code",
   "execution_count": 22,
   "metadata": {},
   "outputs": [
    {
     "data": {
      "image/png": "[encoded data removed]",
      "text/plain": [
       "<Figure size 864x576 with 4 Axes>"
      ]
     },
     "metadata": {
      "needs_background": "light"
     },
     "output_type": "display_data"
    }
   ],
   "source": [
    "overlay_hists_log([aic, ge_ric_sample], \n",
    "                  [aoc, ge_roc_sample], \n",
    "                  ['Observed', 'Expected from ER(ge)'], \n",
    "                  ['Observed', 'Expected from ER(ge)'], \n",
    "                  title='', density=False, fname=\"full/full_degree_distribution_ge\")"
   ]
  },
  {
   "cell_type": "code",
   "execution_count": null,
   "metadata": {},
   "outputs": [],
   "source": []
  }
 ],
 "metadata": {
  "kernelspec": {
   "display_name": "playground",
   "language": "python",
   "name": "myenv"
  },
  "language_info": {
   "codemirror_mode": {
    "name": "ipython",
    "version": 3
   },
   "file_extension": ".py",
   "mimetype": "text/x-python",
   "name": "python",
   "nbconvert_exporter": "python",
   "pygments_lexer": "ipython3",
   "version": "3.7.1"
  }
 },
 "nbformat": 4,
 "nbformat_minor": 4
}
