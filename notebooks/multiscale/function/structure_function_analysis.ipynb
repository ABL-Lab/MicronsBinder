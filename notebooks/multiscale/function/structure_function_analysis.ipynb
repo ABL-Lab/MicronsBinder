{
 "cells": [
  {
   "cell_type": "markdown",
   "metadata": {},
   "source": [
    "# Structure-Function Analysis\n",
    "- Related to Figure 7.\n",
    "- Visual response is correlated with connectivity."
   ]
  },
  {
   "cell_type": "code",
   "execution_count": 1,
   "metadata": {},
   "outputs": [],
   "source": [
    "import numpy as np\n",
    "import pandas as pd\n",
    "import pickle\n",
    "\n",
    "import datajoint as dj\n",
    "\n",
    "import matplotlib.pyplot as plt\n",
    "import matplotlib.gridspec as gridspec\n",
    "import seaborn as sns\n",
    "\n",
    "import statsmodels.api as sm\n",
    "import statsmodels.formula.api as smf\n",
    "from scipy.stats import pearsonr, percentileofscore\n",
    "\n",
    "from lib.utils import *\n",
    "from lib.datajoint import *\n",
    "from lib.calcium import *\n",
    "from lib.plot import *\n",
    "\n",
    "%matplotlib inline"
   ]
  },
  {
   "cell_type": "markdown",
   "metadata": {},
   "source": [
    "## Connect to DataJoint database\n",
    "- You need to be registered to access the database. Please register [here](https://forms.gle/6SeDGRT8zoLqpbfU9).\n",
    "- For more information, refer to [README](https://github.com/seung-lab/MicronsBinder/blob/master/notebooks/multiscale/function/README.md) in the repository.\n",
    "#### Currently, it is temporarily available without registration try running below cell."
   ]
  },
  {
   "cell_type": "code",
   "execution_count": 3,
   "metadata": {},
   "outputs": [
    {
     "name": "stdout",
     "output_type": "stream",
     "text": [
      "Connecting seung_guest@datajoint.ninai.org:3306\n"
     ]
    }
   ],
   "source": [
    "# dj.config[\"database.host\"] = \"datajoint.ninai.org\"\n",
    "dj.config.load(\"dj_conf.json\")\n",
    "dj.conn()\n",
    "\n",
    "pinky = dj.create_virtual_module(\"seung_pinky\", \"seung_pinky\")"
   ]
  },
  {
   "cell_type": "markdown",
   "metadata": {},
   "source": [
    "## All pyramidal cells (PyCs)\n",
    "- 363 pyramidal cells that have soma inside the volume."
   ]
  },
  {
   "cell_type": "code",
   "execution_count": 11,
   "metadata": {},
   "outputs": [
    {
     "data": {
      "text/html": [
       "\n",
       "        \n",
       "        <style type=\"text/css\">\n",
       "            .Relation{\n",
       "                border-collapse:collapse;\n",
       "            }\n",
       "            .Relation th{\n",
       "                background: #A0A0A0; color: #ffffff; padding:4px; border:#f0e0e0 1px solid;\n",
       "                font-weight: normal; font-family: monospace; font-size: 100%;\n",
       "            }\n",
       "            .Relation td{\n",
       "                padding:4px; border:#f0e0e0 1px solid; font-size:100%;\n",
       "            }\n",
       "            .Relation tr:nth-child(odd){\n",
       "                background: #ffffff;\n",
       "            }\n",
       "            .Relation tr:nth-child(even){\n",
       "                background: #f3f1ff;\n",
       "            }\n",
       "            /* Tooltip container */\n",
       "            .djtooltip {\n",
       "            }\n",
       "            /* Tooltip text */\n",
       "            .djtooltip .djtooltiptext {\n",
       "                visibility: hidden;\n",
       "                width: 120px;\n",
       "                background-color: black;\n",
       "                color: #fff;\n",
       "                text-align: center;\n",
       "                padding: 5px 0;\n",
       "                border-radius: 6px;\n",
       "                /* Position the tooltip text - see examples below! */\n",
       "                position: absolute;\n",
       "                z-index: 1;\n",
       "            }\n",
       "            #primary {\n",
       "                font-weight: bold;\n",
       "                color: black;\n",
       "            }\n",
       "\n",
       "            #nonprimary {\n",
       "                font-weight: normal;\n",
       "                color: white;\n",
       "            }\n",
       "\n",
       "            /* Show the tooltip text when you mouse over the tooltip container */\n",
       "            .djtooltip:hover .djtooltiptext {\n",
       "                visibility: visible;\n",
       "            }\n",
       "        </style>\n",
       "        \n",
       "        <b>Cells with soma</b>\n",
       "            <div style=\"max-height:1000px;max-width:1500px;overflow:auto;\">\n",
       "            <table border=\"1\" class=\"Relation\">\n",
       "                <thead> <tr style=\"text-align: right;\"> <th> <div class=\"djtooltip\">\n",
       "                                <p id=\"primary\">segmentation</p>\n",
       "                                <span class=\"djtooltiptext\"></span>\n",
       "                            </div></th><th><div class=\"djtooltip\">\n",
       "                                <p id=\"primary\">segment_id</p>\n",
       "                                <span class=\"djtooltiptext\"></span>\n",
       "                            </div></th><th><div class=\"djtooltip\">\n",
       "                                <p id=\"primary\">manual_id</p>\n",
       "                                <span class=\"djtooltiptext\"></span>\n",
       "                            </div> </th> </tr> </thead>\n",
       "                <tbody> <tr> <td>185</td>\n",
       "<td>648518346349491311</td>\n",
       "<td>466</td></tr><tr><td>185</td>\n",
       "<td>648518346349492130</td>\n",
       "<td>499</td></tr><tr><td>185</td>\n",
       "<td>648518346349492197</td>\n",
       "<td>503</td></tr><tr><td>185</td>\n",
       "<td>648518346349492682</td>\n",
       "<td>163</td></tr><tr><td>185</td>\n",
       "<td>648518346349493472</td>\n",
       "<td>549</td></tr><tr><td>185</td>\n",
       "<td>648518346349493487</td>\n",
       "<td>552</td></tr><tr><td>185</td>\n",
       "<td>648518346349493874</td>\n",
       "<td>-1</td></tr><tr><td>185</td>\n",
       "<td>648518346349494004</td>\n",
       "<td>47</td></tr><tr><td>185</td>\n",
       "<td>648518346349494577</td>\n",
       "<td>462</td></tr><tr><td>185</td>\n",
       "<td>648518346349496405</td>\n",
       "<td>174</td></tr><tr><td>185</td>\n",
       "<td>648518346349503588</td>\n",
       "<td>341</td></tr><tr><td>185</td>\n",
       "<td>648518346349505739</td>\n",
       "<td>481</td> </tr> </tbody>\n",
       "            </table>\n",
       "            <p>...</p>\n",
       "            <p>Total: 363</p></div>\n",
       "            "
      ],
      "text/plain": [
       "*segmentation  *segment_id    *manual_id   \n",
       "+------------+ +------------+ +-----------+\n",
       "185            64851834634949 466          \n",
       "185            64851834634949 499          \n",
       "185            64851834634949 503          \n",
       "185            64851834634949 163          \n",
       "185            64851834634949 549          \n",
       "185            64851834634949 552          \n",
       "185            64851834634949 -1           \n",
       "185            64851834634949 47           \n",
       "185            64851834634949 462          \n",
       "185            64851834634949 174          \n",
       "185            64851834634950 341          \n",
       "185            64851834634950 481          \n",
       "   ...\n",
       " (Total: 363)"
      ]
     },
     "execution_count": 11,
     "metadata": {},
     "output_type": "execute_result"
    }
   ],
   "source": [
    "pinky.Neuron()"
   ]
  },
  {
   "cell_type": "code",
   "execution_count": 4,
   "metadata": {},
   "outputs": [],
   "source": [
    "key = {\"segmentation\": 185}\n",
    "pyc_list = (pinky.Neuron() & key).fetch(\"segment_id\")\n",
    "n_pyc = pyc_list.shape[0]"
   ]
  },
  {
   "cell_type": "markdown",
   "metadata": {},
   "source": [
    "## PyCs with functional data"
   ]
  },
  {
   "cell_type": "code",
   "execution_count": 5,
   "metadata": {
    "scrolled": true
   },
   "outputs": [
    {
     "data": {
      "text/html": [
       "\n",
       "    \n",
       "    <style type=\"text/css\">\n",
       "        .Relation{\n",
       "            border-collapse:collapse;\n",
       "        }\n",
       "        .Relation th{\n",
       "            background: #A0A0A0; color: #ffffff; padding:4px; border:#f0e0e0 1px solid;\n",
       "            font-weight: normal; font-family: monospace; font-size: 100%;\n",
       "        }\n",
       "        .Relation td{\n",
       "            padding:4px; border:#f0e0e0 1px solid; font-size:100%;\n",
       "        }\n",
       "        .Relation tr:nth-child(odd){\n",
       "            background: #ffffff;\n",
       "        }\n",
       "        .Relation tr:nth-child(even){\n",
       "            background: #f3f1ff;\n",
       "        }\n",
       "        /* Tooltip container */\n",
       "        .djtooltip {\n",
       "        }\n",
       "        /* Tooltip text */\n",
       "        .djtooltip .djtooltiptext {\n",
       "            visibility: hidden;\n",
       "            width: 120px;\n",
       "            background-color: black;\n",
       "            color: #fff;\n",
       "            text-align: center;\n",
       "            padding: 5px 0;\n",
       "            border-radius: 6px;\n",
       "            /* Position the tooltip text - see examples below! */\n",
       "            position: absolute;\n",
       "            z-index: 1;\n",
       "        }\n",
       "        #primary {\n",
       "            font-weight: bold;\n",
       "            color: black;\n",
       "        }\n",
       "        #nonprimary {\n",
       "            font-weight: normal;\n",
       "            color: white;\n",
       "        }\n",
       "\n",
       "        /* Show the tooltip text when you mouse over the tooltip container */\n",
       "        .djtooltip:hover .djtooltiptext {\n",
       "            visibility: visible;\n",
       "        }\n",
       "    </style>\n",
       "    \n",
       "    <b>Tuning curve from EASE traces</b>\n",
       "        <div style=\"max-height:1000px;max-width:1500px;overflow:auto;\">\n",
       "        <table border=\"1\" class=\"Relation\">\n",
       "            <thead> <tr style=\"text-align: right;\"> <th> <div class=\"djtooltip\">\n",
       "                            <p id=\"primary\">scan_id</p>\n",
       "                            <span class=\"djtooltiptext\"></span>\n",
       "                        </div></th><th><div class=\"djtooltip\">\n",
       "                            <p id=\"primary\">segmentation</p>\n",
       "                            <span class=\"djtooltiptext\"></span>\n",
       "                        </div></th><th><div class=\"djtooltip\">\n",
       "                            <p id=\"primary\">segment_id</p>\n",
       "                            <span class=\"djtooltiptext\"></span>\n",
       "                        </div></th><th><div class=\"djtooltip\">\n",
       "                            <p id=\"primary\">manual_id</p>\n",
       "                            <span class=\"djtooltiptext\"></span>\n",
       "                        </div></th><th><div class=\"djtooltip\">\n",
       "                            <p id=\"nonprimary\">tune_curve</p>\n",
       "                            <span class=\"djtooltiptext\"></span>\n",
       "                        </div></th><th><div class=\"djtooltip\">\n",
       "                            <p id=\"nonprimary\">osi</p>\n",
       "                            <span class=\"djtooltiptext\"></span>\n",
       "                        </div></th><th><div class=\"djtooltip\">\n",
       "                            <p id=\"nonprimary\">osi_p</p>\n",
       "                            <span class=\"djtooltiptext\"></span>\n",
       "                        </div></th><th><div class=\"djtooltip\">\n",
       "                            <p id=\"nonprimary\">dsi</p>\n",
       "                            <span class=\"djtooltiptext\"></span>\n",
       "                        </div></th><th><div class=\"djtooltip\">\n",
       "                            <p id=\"nonprimary\">dsi_p</p>\n",
       "                            <span class=\"djtooltiptext\"></span>\n",
       "                        </div> </th> </tr> </thead>\n",
       "            <tbody> <tr> <td>1</td>\n",
       "<td>185</td>\n",
       "<td>648518346349492682</td>\n",
       "<td>163</td>\n",
       "<td>=BLOB=</td>\n",
       "<td>0.121011</td>\n",
       "<td>0.5419</td>\n",
       "<td>0.146072</td>\n",
       "<td>0.408</td></tr><tr><td>1</td>\n",
       "<td>185</td>\n",
       "<td>648518346349522230</td>\n",
       "<td>299</td>\n",
       "<td>=BLOB=</td>\n",
       "<td>0.369041</td>\n",
       "<td>0.0076</td>\n",
       "<td>0.352773</td>\n",
       "<td>0.0137</td></tr><tr><td>1</td>\n",
       "<td>185</td>\n",
       "<td>648518346349524063</td>\n",
       "<td>359</td>\n",
       "<td>=BLOB=</td>\n",
       "<td>0.422592</td>\n",
       "<td>0.0691</td>\n",
       "<td>0.411033</td>\n",
       "<td>0.0989</td></tr><tr><td>1</td>\n",
       "<td>185</td>\n",
       "<td>648518346349524141</td>\n",
       "<td>373</td>\n",
       "<td>=BLOB=</td>\n",
       "<td>0.0355879</td>\n",
       "<td>0.7989</td>\n",
       "<td>0.0699038</td>\n",
       "<td>0.3676</td></tr><tr><td>1</td>\n",
       "<td>185</td>\n",
       "<td>648518346349532006</td>\n",
       "<td>4</td>\n",
       "<td>=BLOB=</td>\n",
       "<td>0.52888</td>\n",
       "<td>0.0</td>\n",
       "<td>0.352457</td>\n",
       "<td>0.0499</td></tr><tr><td>1</td>\n",
       "<td>185</td>\n",
       "<td>648518346349534048</td>\n",
       "<td>393</td>\n",
       "<td>=BLOB=</td>\n",
       "<td>0.294242</td>\n",
       "<td>0.4675</td>\n",
       "<td>0.282311</td>\n",
       "<td>0.5334</td></tr><tr><td>1</td>\n",
       "<td>185</td>\n",
       "<td>648518346349534072</td>\n",
       "<td>112</td>\n",
       "<td>=BLOB=</td>\n",
       "<td>0.0723827</td>\n",
       "<td>0.7697</td>\n",
       "<td>0.0652564</td>\n",
       "<td>0.8107</td></tr><tr><td>1</td>\n",
       "<td>185</td>\n",
       "<td>648518346349534580</td>\n",
       "<td>94</td>\n",
       "<td>=BLOB=</td>\n",
       "<td>0.0511834</td>\n",
       "<td>0.3319</td>\n",
       "<td>0.0497808</td>\n",
       "<td>0.3393</td></tr><tr><td>1</td>\n",
       "<td>185</td>\n",
       "<td>648518346349534945</td>\n",
       "<td>471</td>\n",
       "<td>=BLOB=</td>\n",
       "<td>0.370999</td>\n",
       "<td>0.0</td>\n",
       "<td>0.202172</td>\n",
       "<td>0.0</td></tr><tr><td>1</td>\n",
       "<td>185</td>\n",
       "<td>648518346349537153</td>\n",
       "<td>38</td>\n",
       "<td>=BLOB=</td>\n",
       "<td>0.333346</td>\n",
       "<td>0.0307</td>\n",
       "<td>0.2339</td>\n",
       "<td>0.2073</td></tr><tr><td>1</td>\n",
       "<td>185</td>\n",
       "<td>648518346349537255</td>\n",
       "<td>490</td>\n",
       "<td>=BLOB=</td>\n",
       "<td>0.066315</td>\n",
       "<td>0.1817</td>\n",
       "<td>0.0339662</td>\n",
       "<td>0.6813</td></tr><tr><td>1</td>\n",
       "<td>185</td>\n",
       "<td>648518346349537300</td>\n",
       "<td>405</td>\n",
       "<td>=BLOB=</td>\n",
       "<td>0.529157</td>\n",
       "<td>0.5371</td>\n",
       "<td>0.536038</td>\n",
       "<td>0.4493</td></tr><tr><td>1</td>\n",
       "<td>185</td>\n",
       "<td>648518346349537331</td>\n",
       "<td>453</td>\n",
       "<td>=BLOB=</td>\n",
       "<td>0.425434</td>\n",
       "<td>0.0906</td>\n",
       "<td>0.295794</td>\n",
       "<td>0.3824</td></tr><tr><td>1</td>\n",
       "<td>185</td>\n",
       "<td>648518346349537487</td>\n",
       "<td>15</td>\n",
       "<td>=BLOB=</td>\n",
       "<td>0.399587</td>\n",
       "<td>0.206</td>\n",
       "<td>0.18457</td>\n",
       "<td>0.8242</td></tr><tr><td>1</td>\n",
       "<td>185</td>\n",
       "<td>648518346349537509</td>\n",
       "<td>130</td>\n",
       "<td>=BLOB=</td>\n",
       "<td>0.170354</td>\n",
       "<td>0.5315</td>\n",
       "<td>0.118609</td>\n",
       "<td>0.7607</td></tr><tr><td>1</td>\n",
       "<td>185</td>\n",
       "<td>648518346349537818</td>\n",
       "<td>175</td>\n",
       "<td>=BLOB=</td>\n",
       "<td>0.327356</td>\n",
       "<td>0.0081</td>\n",
       "<td>0.0651043</td>\n",
       "<td>0.8525</td></tr><tr><td>1</td>\n",
       "<td>185</td>\n",
       "<td>648518346349537848</td>\n",
       "<td>17</td>\n",
       "<td>=BLOB=</td>\n",
       "<td>0.0561542</td>\n",
       "<td>0.0451</td>\n",
       "<td>0.0329492</td>\n",
       "<td>0.3627</td></tr><tr><td>1</td>\n",
       "<td>185</td>\n",
       "<td>648518346349537860</td>\n",
       "<td>249</td>\n",
       "<td>=BLOB=</td>\n",
       "<td>0.730485</td>\n",
       "<td>0.0</td>\n",
       "<td>0.133555</td>\n",
       "<td>0.4035</td></tr><tr><td>1</td>\n",
       "<td>185</td>\n",
       "<td>648518346349537897</td>\n",
       "<td>520</td>\n",
       "<td>=BLOB=</td>\n",
       "<td>0.697575</td>\n",
       "<td>0.0193</td>\n",
       "<td>0.661672</td>\n",
       "<td>0.1121</td></tr><tr><td>1</td>\n",
       "<td>185</td>\n",
       "<td>648518346349538112</td>\n",
       "<td>380</td>\n",
       "<td>=BLOB=</td>\n",
       "<td>0.615566</td>\n",
       "<td>0.0</td>\n",
       "<td>0.0427523</td>\n",
       "<td>0.9325</td></tr><tr><td>1</td>\n",
       "<td>185</td>\n",
       "<td>648518346349538209</td>\n",
       "<td>329</td>\n",
       "<td>=BLOB=</td>\n",
       "<td>0.807169</td>\n",
       "<td>0.0</td>\n",
       "<td>0.0497363</td>\n",
       "<td>0.8805</td></tr><tr><td>1</td>\n",
       "<td>185</td>\n",
       "<td>648518346349538336</td>\n",
       "<td>404</td>\n",
       "<td>=BLOB=</td>\n",
       "<td>0.131176</td>\n",
       "<td>0.0302</td>\n",
       "<td>0.0305956</td>\n",
       "<td>0.8399</td></tr><tr><td>1</td>\n",
       "<td>185</td>\n",
       "<td>648518346349538440</td>\n",
       "<td>267</td>\n",
       "<td>=BLOB=</td>\n",
       "<td>0.528369</td>\n",
       "<td>0.0</td>\n",
       "<td>0.0651558</td>\n",
       "<td>0.9355</td></tr><tr><td>1</td>\n",
       "<td>185</td>\n",
       "<td>648518346349538527</td>\n",
       "<td>265</td>\n",
       "<td>=BLOB=</td>\n",
       "<td>0.591574</td>\n",
       "<td>0.3168</td>\n",
       "<td>0.57314</td>\n",
       "<td>0.4965</td></tr><tr><td>1</td>\n",
       "<td>185</td>\n",
       "<td>648518346349538715</td>\n",
       "<td>25</td>\n",
       "<td>=BLOB=</td>\n",
       "<td>0.162091</td>\n",
       "<td>0.0</td>\n",
       "<td>0.00733359</td>\n",
       "<td>0.9753</td></tr><tr><td>1</td>\n",
       "<td>185</td>\n",
       "<td>648518346349539401</td>\n",
       "<td>100</td>\n",
       "<td>=BLOB=</td>\n",
       "<td>0.284302</td>\n",
       "<td>0.0056</td>\n",
       "<td>0.190179</td>\n",
       "<td>0.1148</td></tr><tr><td>1</td>\n",
       "<td>185</td>\n",
       "<td>648518346349539423</td>\n",
       "<td>281</td>\n",
       "<td>=BLOB=</td>\n",
       "<td>0.0822107</td>\n",
       "<td>0.4781</td>\n",
       "<td>0.0895401</td>\n",
       "<td>0.3803</td></tr><tr><td>1</td>\n",
       "<td>185</td>\n",
       "<td>648518346349539524</td>\n",
       "<td>421</td>\n",
       "<td>=BLOB=</td>\n",
       "<td>0.202577</td>\n",
       "<td>0.0007</td>\n",
       "<td>0.27268</td>\n",
       "<td>0.0</td></tr><tr><td>1</td>\n",
       "<td>185</td>\n",
       "<td>648518346349539579</td>\n",
       "<td>408</td>\n",
       "<td>=BLOB=</td>\n",
       "<td>0.487524</td>\n",
       "<td>0.0</td>\n",
       "<td>0.244534</td>\n",
       "<td>0.0449</td></tr><tr><td>1</td>\n",
       "<td>185</td>\n",
       "<td>648518346349539599</td>\n",
       "<td>217</td>\n",
       "<td>=BLOB=</td>\n",
       "<td>0.455424</td>\n",
       "<td>0.0</td>\n",
       "<td>0.0400112</td>\n",
       "<td>0.9732</td></tr><tr><td>1</td>\n",
       "<td>185</td>\n",
       "<td>648518346349539780</td>\n",
       "<td>509</td>\n",
       "<td>=BLOB=</td>\n",
       "<td>0.0390623</td>\n",
       "<td>0.6656</td>\n",
       "<td>0.0736433</td>\n",
       "<td>0.2196</td></tr><tr><td>1</td>\n",
       "<td>185</td>\n",
       "<td>648518346349539794</td>\n",
       "<td>448</td>\n",
       "<td>=BLOB=</td>\n",
       "<td>0.643613</td>\n",
       "<td>0.0231</td>\n",
       "<td>0.208893</td>\n",
       "<td>0.7856</td></tr><tr><td>1</td>\n",
       "<td>185</td>\n",
       "<td>648518346349539840</td>\n",
       "<td>334</td>\n",
       "<td>=BLOB=</td>\n",
       "<td>0.109368</td>\n",
       "<td>0.2001</td>\n",
       "<td>0.0861034</td>\n",
       "<td>0.3797</td></tr><tr><td>1</td>\n",
       "<td>185</td>\n",
       "<td>648518346349539885</td>\n",
       "<td>271</td>\n",
       "<td>=BLOB=</td>\n",
       "<td>0.151656</td>\n",
       "<td>0.0123</td>\n",
       "<td>0.130425</td>\n",
       "<td>0.1069</td></tr><tr><td>1</td>\n",
       "<td>185</td>\n",
       "<td>648518346349539895</td>\n",
       "<td>330</td>\n",
       "<td>=BLOB=</td>\n",
       "<td>0.31602</td>\n",
       "<td>0.0</td>\n",
       "<td>0.0401288</td>\n",
       "<td>0.8873</td></tr><tr><td>2</td>\n",
       "<td>185</td>\n",
       "<td>648518346349531851</td>\n",
       "<td>28</td>\n",
       "<td>=BLOB=</td>\n",
       "<td>0.222007</td>\n",
       "<td>0.5045</td>\n",
       "<td>0.0367707</td>\n",
       "<td>0.9829</td></tr><tr><td>2</td>\n",
       "<td>185</td>\n",
       "<td>648518346349532086</td>\n",
       "<td>439</td>\n",
       "<td>=BLOB=</td>\n",
       "<td>0.722637</td>\n",
       "<td>0.2019</td>\n",
       "<td>0.262344</td>\n",
       "<td>0.8123</td></tr><tr><td>2</td>\n",
       "<td>185</td>\n",
       "<td>648518346349536366</td>\n",
       "<td>24</td>\n",
       "<td>=BLOB=</td>\n",
       "<td>0.267218</td>\n",
       "<td>0.5507</td>\n",
       "<td>0.220999</td>\n",
       "<td>0.6811</td></tr><tr><td>2</td>\n",
       "<td>185</td>\n",
       "<td>648518346349536680</td>\n",
       "<td>258</td>\n",
       "<td>=BLOB=</td>\n",
       "<td>0.0511397</td>\n",
       "<td>0.4457</td>\n",
       "<td>0.104391</td>\n",
       "<td>0.0241</td></tr><tr><td>2</td>\n",
       "<td>185</td>\n",
       "<td>648518346349537042</td>\n",
       "<td>113</td>\n",
       "<td>=BLOB=</td>\n",
       "<td>0.351134</td>\n",
       "<td>0.0001</td>\n",
       "<td>0.244111</td>\n",
       "<td>0.0458</td></tr><tr><td>2</td>\n",
       "<td>185</td>\n",
       "<td>648518346349537516</td>\n",
       "<td>251</td>\n",
       "<td>=BLOB=</td>\n",
       "<td>0.0562955</td>\n",
       "<td>0.4471</td>\n",
       "<td>0.0210539</td>\n",
       "<td>0.901</td></tr><tr><td>2</td>\n",
       "<td>185</td>\n",
       "<td>648518346349537657</td>\n",
       "<td>134</td>\n",
       "<td>=BLOB=</td>\n",
       "<td>0.320886</td>\n",
       "<td>0.1171</td>\n",
       "<td>0.0192131</td>\n",
       "<td>0.9927</td></tr><tr><td>2</td>\n",
       "<td>185</td>\n",
       "<td>648518346349537814</td>\n",
       "<td>382</td>\n",
       "<td>=BLOB=</td>\n",
       "<td>0.0372109</td>\n",
       "<td>0.3702</td>\n",
       "<td>0.0507979</td>\n",
       "<td>0.1535</td></tr><tr><td>2</td>\n",
       "<td>185</td>\n",
       "<td>648518346349537961</td>\n",
       "<td>220</td>\n",
       "<td>=BLOB=</td>\n",
       "<td>0.760249</td>\n",
       "<td>0.0</td>\n",
       "<td>0.0931324</td>\n",
       "<td>0.4938</td></tr><tr><td>2</td>\n",
       "<td>185</td>\n",
       "<td>648518346349538005</td>\n",
       "<td>407</td>\n",
       "<td>=BLOB=</td>\n",
       "<td>0.260013</td>\n",
       "<td>0.0001</td>\n",
       "<td>0.0881213</td>\n",
       "<td>0.7052</td></tr><tr><td>2</td>\n",
       "<td>185</td>\n",
       "<td>648518346349538239</td>\n",
       "<td>474</td>\n",
       "<td>=BLOB=</td>\n",
       "<td>0.702521</td>\n",
       "<td>0.0</td>\n",
       "<td>0.165135</td>\n",
       "<td>0.5453</td></tr><tr><td>2</td>\n",
       "<td>185</td>\n",
       "<td>648518346349538426</td>\n",
       "<td>0</td>\n",
       "<td>=BLOB=</td>\n",
       "<td>0.360054</td>\n",
       "<td>0.5926</td>\n",
       "<td>0.286339</td>\n",
       "<td>0.8828</td></tr><tr><td>2</td>\n",
       "<td>185</td>\n",
       "<td>648518346349539435</td>\n",
       "<td>32</td>\n",
       "<td>=BLOB=</td>\n",
       "<td>0.571477</td>\n",
       "<td>0.0181</td>\n",
       "<td>0.111878</td>\n",
       "<td>0.9368</td></tr><tr><td>2</td>\n",
       "<td>185</td>\n",
       "<td>648518346349539464</td>\n",
       "<td>332</td>\n",
       "<td>=BLOB=</td>\n",
       "<td>0.366744</td>\n",
       "<td>0.0044</td>\n",
       "<td>0.190218</td>\n",
       "<td>0.3233</td></tr><tr><td>2</td>\n",
       "<td>185</td>\n",
       "<td>648518346349539572</td>\n",
       "<td>335</td>\n",
       "<td>=BLOB=</td>\n",
       "<td>0.366838</td>\n",
       "<td>0.3168</td>\n",
       "<td>0.324788</td>\n",
       "<td>0.4626</td> </tr> </tbody>\n",
       "        </table>\n",
       "        <p>...</p>\n",
       "        <p>Total: 112</p></div>\n",
       "        "
      ],
      "text/plain": [
       "*scan_id    *segmentation    *segment_id            *manual_id    tune_curve osi           osi_p      dsi            dsi_p     \n",
       "+---------+ +--------------+ +--------------------+ +-----------+ +--------+ +-----------+ +--------+ +------------+ +--------+\n",
       "1           185              648518346349492682     163           =BLOB=     0.121011      0.5419     0.146072       0.408     \n",
       "1           185              648518346349522230     299           =BLOB=     0.369041      0.0076     0.352773       0.0137    \n",
       "1           185              648518346349524063     359           =BLOB=     0.422592      0.0691     0.411033       0.0989    \n",
       "1           185              648518346349524141     373           =BLOB=     0.0355879     0.7989     0.0699038      0.3676    \n",
       "1           185              648518346349532006     4             =BLOB=     0.52888       0.0        0.352457       0.0499    \n",
       "1           185              648518346349534048     393           =BLOB=     0.294242      0.4675     0.282311       0.5334    \n",
       "1           185              648518346349534072     112           =BLOB=     0.0723827     0.7697     0.0652564      0.8107    \n",
       "1           185              648518346349534580     94            =BLOB=     0.0511834     0.3319     0.0497808      0.3393    \n",
       "1           185              648518346349534945     471           =BLOB=     0.370999      0.0        0.202172       0.0       \n",
       "1           185              648518346349537153     38            =BLOB=     0.333346      0.0307     0.2339         0.2073    \n",
       "1           185              648518346349537255     490           =BLOB=     0.066315      0.1817     0.0339662      0.6813    \n",
       "1           185              648518346349537300     405           =BLOB=     0.529157      0.5371     0.536038       0.4493    \n",
       "1           185              648518346349537331     453           =BLOB=     0.425434      0.0906     0.295794       0.3824    \n",
       "1           185              648518346349537487     15            =BLOB=     0.399587      0.206      0.18457        0.8242    \n",
       "1           185              648518346349537509     130           =BLOB=     0.170354      0.5315     0.118609       0.7607    \n",
       "1           185              648518346349537818     175           =BLOB=     0.327356      0.0081     0.0651043      0.8525    \n",
       "1           185              648518346349537848     17            =BLOB=     0.0561542     0.0451     0.0329492      0.3627    \n",
       "1           185              648518346349537860     249           =BLOB=     0.730485      0.0        0.133555       0.4035    \n",
       "1           185              648518346349537897     520           =BLOB=     0.697575      0.0193     0.661672       0.1121    \n",
       "1           185              648518346349538112     380           =BLOB=     0.615566      0.0        0.0427523      0.9325    \n",
       "1           185              648518346349538209     329           =BLOB=     0.807169      0.0        0.0497363      0.8805    \n",
       "1           185              648518346349538336     404           =BLOB=     0.131176      0.0302     0.0305956      0.8399    \n",
       "1           185              648518346349538440     267           =BLOB=     0.528369      0.0        0.0651558      0.9355    \n",
       "1           185              648518346349538527     265           =BLOB=     0.591574      0.3168     0.57314        0.4965    \n",
       "1           185              648518346349538715     25            =BLOB=     0.162091      0.0        0.00733359     0.9753    \n",
       "1           185              648518346349539401     100           =BLOB=     0.284302      0.0056     0.190179       0.1148    \n",
       "1           185              648518346349539423     281           =BLOB=     0.0822107     0.4781     0.0895401      0.3803    \n",
       "1           185              648518346349539524     421           =BLOB=     0.202577      0.0007     0.27268        0.0       \n",
       "1           185              648518346349539579     408           =BLOB=     0.487524      0.0        0.244534       0.0449    \n",
       "1           185              648518346349539599     217           =BLOB=     0.455424      0.0        0.0400112      0.9732    \n",
       "1           185              648518346349539780     509           =BLOB=     0.0390623     0.6656     0.0736433      0.2196    \n",
       "1           185              648518346349539794     448           =BLOB=     0.643613      0.0231     0.208893       0.7856    \n",
       "1           185              648518346349539840     334           =BLOB=     0.109368      0.2001     0.0861034      0.3797    \n",
       "1           185              648518346349539885     271           =BLOB=     0.151656      0.0123     0.130425       0.1069    \n",
       "1           185              648518346349539895     330           =BLOB=     0.31602       0.0        0.0401288      0.8873    \n",
       "2           185              648518346349531851     28            =BLOB=     0.222007      0.5045     0.0367707      0.9829    \n",
       "2           185              648518346349532086     439           =BLOB=     0.722637      0.2019     0.262344       0.8123    \n",
       "2           185              648518346349536366     24            =BLOB=     0.267218      0.5507     0.220999       0.6811    \n",
       "2           185              648518346349536680     258           =BLOB=     0.0511397     0.4457     0.104391       0.0241    \n",
       "2           185              648518346349537042     113           =BLOB=     0.351134      0.0001     0.244111       0.0458    \n",
       "2           185              648518346349537516     251           =BLOB=     0.0562955     0.4471     0.0210539      0.901     \n",
       "2           185              648518346349537657     134           =BLOB=     0.320886      0.1171     0.0192131      0.9927    \n",
       "2           185              648518346349537814     382           =BLOB=     0.0372109     0.3702     0.0507979      0.1535    \n",
       "2           185              648518346349537961     220           =BLOB=     0.760249      0.0        0.0931324      0.4938    \n",
       "2           185              648518346349538005     407           =BLOB=     0.260013      0.0001     0.0881213      0.7052    \n",
       "2           185              648518346349538239     474           =BLOB=     0.702521      0.0        0.165135       0.5453    \n",
       "2           185              648518346349538426     0             =BLOB=     0.360054      0.5926     0.286339       0.8828    \n",
       "2           185              648518346349539435     32            =BLOB=     0.571477      0.0181     0.111878       0.9368    \n",
       "2           185              648518346349539464     332           =BLOB=     0.366744      0.0044     0.190218       0.3233    \n",
       "2           185              648518346349539572     335           =BLOB=     0.366838      0.3168     0.324788       0.4626    \n",
       "   ...\n",
       " (Total: 112)"
      ]
     },
     "execution_count": 5,
     "metadata": {},
     "output_type": "execute_result"
    }
   ],
   "source": [
    "pinky.EASETuning()"
   ]
  },
  {
   "cell_type": "code",
   "execution_count": 5,
   "metadata": {},
   "outputs": [],
   "source": [
    "tune_info = pd.DataFrame(pinky.EASETuning())\n",
    "pyc_func_list = np.array(tune_info[\"segment_id\"])\n",
    "scan_list = np.array(tune_info[\"scan_id\"])\n",
    "n_func = pyc_func_list.shape[0]\n",
    "\n",
    "osi_p = np.array(tune_info[\"osi_p\"])\n",
    "dsi_p = np.array(tune_info[\"dsi_p\"])\n",
    "\n",
    "tune_idx = osi_p<0.01"
   ]
  },
  {
   "cell_type": "markdown",
   "metadata": {},
   "source": [
    "## Soma center coordinates"
   ]
  },
  {
   "cell_type": "markdown",
   "metadata": {},
   "source": [
    "#### All PyCs"
   ]
  },
  {
   "cell_type": "code",
   "execution_count": 5,
   "metadata": {},
   "outputs": [],
   "source": [
    "pyc_soma_loc = np.zeros((n_pyc, 3))\n",
    "for i in range(n_pyc):\n",
    "    \n",
    "    seg_id = pyc_list[i]\n",
    "    pyc_soma_loc[i,:] = get_soma_loc(pinky, seg_id)"
   ]
  },
  {
   "cell_type": "markdown",
   "metadata": {},
   "source": [
    "#### PyCs with functional data"
   ]
  },
  {
   "cell_type": "code",
   "execution_count": 6,
   "metadata": {},
   "outputs": [],
   "source": [
    "pyc_func_soma_loc = np.zeros((n_func, 3))\n",
    "for i in range(n_func):\n",
    "    \n",
    "    seg_id = pyc_func_list[i]\n",
    "    idx = np.where(pyc_list==seg_id)[0][0]\n",
    "    pyc_func_soma_loc[i,:] = pyc_soma_loc[idx,:]"
   ]
  },
  {
   "cell_type": "markdown",
   "metadata": {},
   "source": [
    "## Compute in-connection density"
   ]
  },
  {
   "cell_type": "code",
   "execution_count": 6,
   "metadata": {},
   "outputs": [],
   "source": [
    "# In/out degree\n",
    "# Computing only for cells with functional data\n",
    "insyn_density = np.zeros((n_func)) # In-synapse density\n",
    "inconn_density = np.zeros((n_func)) # In-connection density\n",
    "outsyn_density = np.zeros((n_func)) # Out-synapse density\n",
    "outconn_density = np.zeros((n_func)) # Out-connection density\n",
    "total_insyn_density = np.zeros((n_func)) # Total in-synapse density\n",
    "\n",
    "for i in range(n_func):\n",
    "    \n",
    "    seg_id = pyc_func_list[i]\n",
    "    \n",
    "    key = {\"segment_id\": seg_id}\n",
    "    outsyn_density[i] = (pinky.SynDensity() & key).fetch1(\"syn_out_dens\")\n",
    "    insyn_density[i] = (pinky.SynDensity() & key).fetch1(\"syn_in_dens\")\n",
    "    \n",
    "    outconn_density[i] = (pinky.SynDensity() & key).fetch1(\"conn_out_dens\")\n",
    "    inconn_density[i] = (pinky.SynDensity() & key).fetch1(\"conn_in_dens\")\n",
    "    \n",
    "    total_insyn_density[i] = (pinky.SynDensity() & key).fetch1(\"total_syn_in_deg\")"
   ]
  },
  {
   "cell_type": "markdown",
   "metadata": {},
   "source": [
    "## Response strength"
   ]
  },
  {
   "cell_type": "code",
   "execution_count": 7,
   "metadata": {},
   "outputs": [],
   "source": [
    "mean_response = np.zeros(n_func)\n",
    "mean_active_response = np.zeros(n_func)\n",
    "response_arrays = dict()\n",
    "active_arrays = dict()\n",
    "\n",
    "for i in range(n_func):\n",
    "    \n",
    "    seg_id = pyc_func_list[i]\n",
    "    scan_id = int(scan_list[pyc_func_list==seg_id])\n",
    "\n",
    "    trace = get_trace(pinky, seg_id, scan_id, \"trace_raw\")\n",
    "    stimlab = get_stim_label(pinky, scan_id)\n",
    "    if dsi_p[pyc_func_list==seg_id]<0.01:\n",
    "        cell_type = \"ds\"\n",
    "    else:\n",
    "        cell_type = \"os\"\n",
    "        \n",
    "    mean_response[i] = compute_response_strength(trace, stimlab, cell_type)"
   ]
  },
  {
   "cell_type": "code",
   "execution_count": 8,
   "metadata": {},
   "outputs": [
    {
     "data": {
      "image/png": "[encoded data removed]",
      "text/plain": [
       "<Figure size 432x288 with 1 Axes>"
      ]
     },
     "metadata": {
      "needs_background": "light"
     },
     "output_type": "display_data"
    },
    {
     "name": "stdout",
     "output_type": "stream",
     "text": [
      "r = 0.33225210401435834, p = 0.038779237378214385\n"
     ]
    },
    {
     "data": {
      "image/png": "[encoded data removed]",
      "text/plain": [
       "<Figure size 432x288 with 1 Axes>"
      ]
     },
     "metadata": {
      "needs_background": "light"
     },
     "output_type": "display_data"
    },
    {
     "name": "stdout",
     "output_type": "stream",
     "text": [
      "r = -0.28454053268974727, p = 0.07915080854328033\n"
     ]
    }
   ],
   "source": [
    "plot_linear_fit(inconn_density[tune_idx], mean_response[tune_idx],\n",
    "         xlab=\"In-connection density ($\\mu m^{-1}$)\",\n",
    "         ylab=\"Mean response (a.u.)\")\n",
    "\n",
    "plot_linear_fit(total_insyn_density[tune_idx], mean_response[tune_idx],\n",
    "         xlab=\"Total in-synapse density ($\\mu m^{-1}$)\",\n",
    "         ylab=\"Mean response (a.u.)\")"
   ]
  },
  {
   "cell_type": "markdown",
   "metadata": {},
   "source": [
    "## Intermittency"
   ]
  },
  {
   "cell_type": "code",
   "execution_count": 17,
   "metadata": {},
   "outputs": [],
   "source": [
    "intermittency = np.zeros(n_func)\n",
    "for i in range(n_func):\n",
    "    \n",
    "    seg_id = pyc_func_list[i]\n",
    "    scan_id = int(scan_list[pyc_func_list==seg_id])\n",
    "\n",
    "    trace = get_trace(pinky, seg_id, scan_id, \"trace_raw\")\n",
    "    spike = get_trace(pinky, seg_id, scan_id, \"spike\")\n",
    "    stimlab = get_stim_label(pinky, scan_id)\n",
    "    \n",
    "    response_array = get_peakamp_tdarray(trace, stimlab)\n",
    "    tune = tuning_curve(response_array)\n",
    "    dir_pref = np.argmax(tune)\n",
    "    dir_opp = np.remainder(dir_pref+8, 16)\n",
    "    \n",
    "    if dsi_p[pyc_func_list==seg_id]<0.01:\n",
    "        pref_idx = [dir_pref]\n",
    "    else:\n",
    "        pref_idx = [dir_pref, dir_opp]\n",
    "    intermittency[i] = compute_intermittency(spike, stimlab, pref_idx, thr=3)"
   ]
  },
  {
   "cell_type": "code",
   "execution_count": 19,
   "metadata": {},
   "outputs": [
    {
     "data": {
      "image/png": "[encoded data removed]",
      "text/plain": [
       "<Figure size 432x288 with 1 Axes>"
      ]
     },
     "metadata": {
      "needs_background": "light"
     },
     "output_type": "display_data"
    },
    {
     "name": "stdout",
     "output_type": "stream",
     "text": [
      "r = -0.34969536645458743, p = 0.02909389851886998\n"
     ]
    },
    {
     "data": {
      "image/png": "[encoded data removed]",
      "text/plain": [
       "<Figure size 432x288 with 1 Axes>"
      ]
     },
     "metadata": {
      "needs_background": "light"
     },
     "output_type": "display_data"
    },
    {
     "name": "stdout",
     "output_type": "stream",
     "text": [
      "r = -0.012761752141055314, p = 0.938538280318435\n"
     ]
    }
   ],
   "source": [
    "plot_linear_fit(inconn_density[tune_idx], intermittency[tune_idx],\n",
    "         xlab=\"In-connection density ($\\mu m^{-1}$)\",\n",
    "         ylab=\"Intermittency\")\n",
    "\n",
    "plot_linear_fit(total_insyn_density[tune_idx], intermittency[tune_idx],\n",
    "         xlab=\"Total in-synapse density ($\\mu m^{-1}$)\",\n",
    "         ylab=\"Intermittency\")"
   ]
  },
  {
   "cell_type": "markdown",
   "metadata": {},
   "source": [
    "## OSi / DSi"
   ]
  },
  {
   "cell_type": "code",
   "execution_count": 20,
   "metadata": {},
   "outputs": [],
   "source": [
    "osi_list = np.zeros(n_func)\n",
    "dsi_list = np.zeros(n_func)\n",
    "\n",
    "for i in range(n_func):\n",
    "    \n",
    "    seg_id = pyc_func_list[i]\n",
    "    \n",
    "    key = {\"segment_id\": seg_id}\n",
    "    osi_list[i] = (pinky.EASETuning() & key).fetch1(\"osi\")\n",
    "    dsi_list[i] = (pinky.EASETuning() & key).fetch1(\"dsi\")"
   ]
  },
  {
   "cell_type": "code",
   "execution_count": 23,
   "metadata": {},
   "outputs": [
    {
     "data": {
      "image/png": "[encoded data removed]",
      "text/plain": [
       "<Figure size 432x288 with 1 Axes>"
      ]
     },
     "metadata": {
      "needs_background": "light"
     },
     "output_type": "display_data"
    },
    {
     "name": "stdout",
     "output_type": "stream",
     "text": [
      "r = 0.3203093978999877, p = 0.04681465098147745\n"
     ]
    },
    {
     "data": {
      "image/png": "[encoded data removed]",
      "text/plain": [
       "<Figure size 432x288 with 1 Axes>"
      ]
     },
     "metadata": {
      "needs_background": "light"
     },
     "output_type": "display_data"
    },
    {
     "name": "stdout",
     "output_type": "stream",
     "text": [
      "r = -0.21177408252478142, p = 0.19558354888129867\n"
     ]
    }
   ],
   "source": [
    "plot_linear_fit(inconn_density[tune_idx], osi_list[tune_idx],\n",
    "         xlab=\"In-connection density ($\\mu m^{-1}$)\",\n",
    "         ylab=\"OSi\")\n",
    "\n",
    "plot_linear_fit(total_insyn_density[tune_idx], osi_list[tune_idx],\n",
    "         xlab=\"Total in-synapse density ($\\mu m^{-1}$)\",\n",
    "         ylab=\"OSi\")"
   ]
  },
  {
   "cell_type": "code",
   "execution_count": 25,
   "metadata": {},
   "outputs": [
    {
     "data": {
      "image/png": "[encoded data removed]",
      "text/plain": [
       "<Figure size 432x288 with 1 Axes>"
      ]
     },
     "metadata": {
      "needs_background": "light"
     },
     "output_type": "display_data"
    },
    {
     "name": "stdout",
     "output_type": "stream",
     "text": [
      "r = -0.33907483947239997, p = 0.03471796566623156\n"
     ]
    },
    {
     "data": {
      "image/png": "[encoded data removed]",
      "text/plain": [
       "<Figure size 432x288 with 1 Axes>"
      ]
     },
     "metadata": {
      "needs_background": "light"
     },
     "output_type": "display_data"
    },
    {
     "name": "stdout",
     "output_type": "stream",
     "text": [
      "r = -0.15552821029638794, p = 0.34443293818390136\n"
     ]
    }
   ],
   "source": [
    "plot_linear_fit(inconn_density[tune_idx], dsi_list[tune_idx],\n",
    "         xlab=\"In-connection density ($\\mu m^{-1}$)\",\n",
    "         ylab=\"DSi\")\n",
    "\n",
    "plot_linear_fit(total_insyn_density[tune_idx], dsi_list[tune_idx],\n",
    "         xlab=\"Total in-synapse density ($\\mu m^{-1}$)\",\n",
    "         ylab=\"DSi\")"
   ]
  },
  {
   "cell_type": "markdown",
   "metadata": {},
   "source": [
    "## Spatial location restricted permutation test"
   ]
  },
  {
   "cell_type": "code",
   "execution_count": 26,
   "metadata": {},
   "outputs": [],
   "source": [
    "xloc = pyc_func_soma_loc[tune_idx,0]\n",
    "yloc = pyc_func_soma_loc[tune_idx,1]\n",
    "zloc = pyc_func_soma_loc[tune_idx,2]\n",
    "\n",
    "xbins = np.linspace(np.min(xloc), np.max(xloc)*1.001, 3); nx = xbins.shape[0]-1\n",
    "ybins = np.linspace(np.min(yloc), np.max(yloc)*1.001, 5); ny = ybins.shape[0]-1\n",
    "zbins = np.linspace(np.min(zloc), np.max(zloc)*1.001, 3); nz = zbins.shape[0]-1\n",
    "\n",
    "val_density = inconn_density[tune_idx]\n",
    "indices = np.arange(val_density.shape[0])\n",
    "\n",
    "idx_list = []\n",
    "density_list = []\n",
    "for i in range(nx):\n",
    "    for j in range(ny):\n",
    "        for k in range(nz):\n",
    "            \n",
    "            valid = (xloc>=xbins[i])*(xloc<xbins[i+1]) \\\n",
    "                    *(yloc>=ybins[j])*(yloc<ybins[j+1]) \\\n",
    "                    *(zloc>=zbins[k])*(zloc<zbins[k+1])\n",
    "            \n",
    "            density_bin = val_density[valid]\n",
    "            \n",
    "            idx_list.append(indices[valid])\n",
    "            density_list.append(density_bin)"
   ]
  },
  {
   "cell_type": "markdown",
   "metadata": {},
   "source": [
    "### Mean response"
   ]
  },
  {
   "cell_type": "code",
   "execution_count": 27,
   "metadata": {},
   "outputs": [],
   "source": [
    "xval = mean_response[tune_idx]\n",
    "yval = inconn_density[tune_idx]\n",
    "\n",
    "T = 10000\n",
    "rand_resp = np.zeros((T,))\n",
    "\n",
    "for t in range(T):\n",
    "    \n",
    "    density_shuffled = np.copy(xval)\n",
    "    for j in range(len(idx_list)):\n",
    "        idx_bin = idx_list[j]\n",
    "        np.random.shuffle(density_list[j])\n",
    "        density_shuffled[idx_bin] = density_list[j]\n",
    "    \n",
    "    r, p = pearsonr(xval, density_shuffled)\n",
    "    rand_resp[t] = r"
   ]
  },
  {
   "cell_type": "code",
   "execution_count": 28,
   "metadata": {},
   "outputs": [
    {
     "data": {
      "image/png": "[encoded data removed]",
      "text/plain": [
       "<Figure size 432x288 with 1 Axes>"
      ]
     },
     "metadata": {
      "needs_background": "light"
     },
     "output_type": "display_data"
    },
    {
     "data": {
      "image/png": "[encoded data removed]",
      "text/plain": [
       "<Figure size 432x288 with 1 Axes>"
      ]
     },
     "metadata": {
      "needs_background": "light"
     },
     "output_type": "display_data"
    },
    {
     "name": "stdout",
     "output_type": "stream",
     "text": [
      "p = 0.042300000000000004\n"
     ]
    }
   ],
   "source": [
    "r_true_resp, p_true_resp = pearsonr(inconn_density[tune_idx], mean_response[tune_idx])\n",
    "\n",
    "plt.figure()\n",
    "plt.boxplot(rand_resp, sym=\"\", whis=[5,95], vert=False)\n",
    "plt.plot(r_true_resp, 1, \"r.\", markersize=12, label=\"Observed\")\n",
    "plt.yticks([])\n",
    "plt.xlabel(\"Pearson corr. coef.\", fontsize=12)\n",
    "plt.legend(loc=\"upper right\")\n",
    "plt.show()\n",
    "\n",
    "plt.figure()\n",
    "plt.hist(rand_resp, bins=100, color=\"k\", alpha=0.8)\n",
    "plt.vlines(r_true_resp, 0, 275, linestyle=\"--\", color=\"r\")\n",
    "plt.xlabel(\"Pearson corr. coef.\", fontsize=12)\n",
    "plt.show()\n",
    "\n",
    "print(\"p = {}\".format(1-percentileofscore(rand_resp, r_true_resp)/100))"
   ]
  },
  {
   "cell_type": "markdown",
   "metadata": {},
   "source": [
    "### Intermittency"
   ]
  },
  {
   "cell_type": "code",
   "execution_count": 29,
   "metadata": {},
   "outputs": [],
   "source": [
    "xval = intermittency[tune_idx]\n",
    "yval = inconn_density[tune_idx]\n",
    "\n",
    "T = 10000\n",
    "rand_int = np.zeros((T,))\n",
    "\n",
    "for t in range(T):\n",
    "    \n",
    "    density_shuffled = np.copy(xval)\n",
    "    for j in range(len(idx_list)):\n",
    "        idx_bin = idx_list[j]\n",
    "        np.random.shuffle(density_list[j])\n",
    "        density_shuffled[idx_bin] = density_list[j]\n",
    "    \n",
    "    r, p = pearsonr(xval, density_shuffled)\n",
    "    rand_int[t] = r"
   ]
  },
  {
   "cell_type": "code",
   "execution_count": 30,
   "metadata": {},
   "outputs": [
    {
     "data": {
      "image/png": "[encoded data removed]",
      "text/plain": [
       "<Figure size 432x288 with 1 Axes>"
      ]
     },
     "metadata": {
      "needs_background": "light"
     },
     "output_type": "display_data"
    },
    {
     "data": {
      "image/png": "[encoded data removed]",
      "text/plain": [
       "<Figure size 432x288 with 1 Axes>"
      ]
     },
     "metadata": {
      "needs_background": "light"
     },
     "output_type": "display_data"
    },
    {
     "name": "stdout",
     "output_type": "stream",
     "text": [
      "p = 0.0232\n"
     ]
    }
   ],
   "source": [
    "r_true_int, p_true_int = pearsonr(inconn_density[tune_idx], intermittency[tune_idx])\n",
    "\n",
    "plt.figure()\n",
    "plt.boxplot(rand_int, sym=\"\", whis=[5,95], vert=False)\n",
    "plt.plot(r_true_int, 1, \"r.\", markersize=12, label=\"Observed\")\n",
    "plt.yticks([])\n",
    "plt.xlabel(\"Pearson corr. coef.\", fontsize=12)\n",
    "plt.legend(loc=\"upper right\")\n",
    "plt.show()\n",
    "\n",
    "plt.figure()\n",
    "plt.hist(rand_int, bins=100, color=\"k\", alpha=0.8)\n",
    "plt.vlines(r_true_int, 0, 275, linestyle=\"--\", color=\"r\")\n",
    "plt.xlabel(\"Pearson corr. coef.\", fontsize=12)\n",
    "plt.show()\n",
    "\n",
    "print(\"p = {}\".format(percentileofscore(rand_int, r_true_int)/100))"
   ]
  },
  {
   "cell_type": "code",
   "execution_count": 31,
   "metadata": {},
   "outputs": [],
   "source": [
    "xval = osi_list[tune_idx]\n",
    "yval = inconn_density[tune_idx]\n",
    "\n",
    "T = 10000\n",
    "rand_int = np.zeros((T,))\n",
    "\n",
    "for t in range(T):\n",
    "    \n",
    "    density_shuffled = np.copy(xval)\n",
    "    for j in range(len(idx_list)):\n",
    "        idx_bin = idx_list[j]\n",
    "        np.random.shuffle(density_list[j])\n",
    "        density_shuffled[idx_bin] = density_list[j]\n",
    "    \n",
    "    r, p = pearsonr(xval, density_shuffled)\n",
    "    rand_int[t] = r"
   ]
  },
  {
   "cell_type": "code",
   "execution_count": 33,
   "metadata": {},
   "outputs": [
    {
     "data": {
      "image/png": "[encoded data removed]",
      "text/plain": [
       "<Figure size 432x288 with 1 Axes>"
      ]
     },
     "metadata": {
      "needs_background": "light"
     },
     "output_type": "display_data"
    },
    {
     "data": {
      "image/png": "[encoded data removed]",
      "text/plain": [
       "<Figure size 432x288 with 1 Axes>"
      ]
     },
     "metadata": {
      "needs_background": "light"
     },
     "output_type": "display_data"
    },
    {
     "name": "stdout",
     "output_type": "stream",
     "text": [
      "p = 0.042300000000000004\n"
     ]
    }
   ],
   "source": [
    "r_true_int, p_true_int = pearsonr(inconn_density[tune_idx], osi_list[tune_idx])\n",
    "\n",
    "plt.figure()\n",
    "plt.boxplot(rand_int, sym=\"\", whis=[5,95], vert=False)\n",
    "plt.plot(r_true_int, 1, \"r.\", markersize=12, label=\"Observed\")\n",
    "plt.yticks([])\n",
    "plt.xlabel(\"Pearson corr. coef.\", fontsize=12)\n",
    "plt.legend(loc=\"upper right\")\n",
    "plt.show()\n",
    "\n",
    "plt.figure()\n",
    "plt.hist(rand_int, bins=100, color=\"k\", alpha=0.8)\n",
    "plt.vlines(r_true_int, 0, 275, linestyle=\"--\", color=\"r\")\n",
    "plt.xlabel(\"Pearson corr. coef.\", fontsize=12)\n",
    "plt.show()\n",
    "\n",
    "print(\"p = {}\".format(1-percentileofscore(rand_resp, r_true_resp)/100))"
   ]
  }
 ],
 "metadata": {
  "kernelspec": {
   "display_name": "Python 3",
   "language": "python",
   "name": "python3"
  },
  "language_info": {
   "codemirror_mode": {
    "name": "ipython",
    "version": 3
   },
   "file_extension": ".py",
   "mimetype": "text/x-python",
   "name": "python",
   "nbconvert_exporter": "python",
   "pygments_lexer": "ipython3",
   "version": "3.8.5"
  }
 },
 "nbformat": 4,
 "nbformat_minor": 4
}
