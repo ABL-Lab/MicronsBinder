{
 "cells": [
  {
   "cell_type": "markdown",
   "metadata": {},
   "source": [
    "# Intermittency Analysis\n",
    "- Figure 6"
   ]
  },
  {
   "cell_type": "code",
   "execution_count": 5,
   "metadata": {},
   "outputs": [],
   "source": [
    "import numpy as np\n",
    "import pandas as pd\n",
    "import pickle\n",
    "\n",
    "import matplotlib.pyplot as plt\n",
    "import matplotlib.gridspec as gridspec\n",
    "import seaborn as sns\n",
    "\n",
    "# from calcium_utils import *\n",
    "\n",
    "from scipy.sparse import csgraph\n",
    "from meshparty import skeleton_io\n",
    "from scipy.sparse.csgraph import shortest_path\n",
    "\n",
    "# from scipy.stats import pearsonr\n",
    "# from scipy.stats import ranksums\n",
    "# from scipy.stats import chi2_contingency\n",
    "# from scipy.stats import linregress\n",
    "# from scipy.stats import percentileofscore\n",
    "\n",
    "%matplotlib inline"
   ]
  },
  {
   "cell_type": "markdown",
   "metadata": {},
   "source": [
    "## Download data"
   ]
  },
  {
   "cell_type": "code",
   "execution_count": 11,
   "metadata": {},
   "outputs": [
    {
     "name": "stdout",
     "output_type": "stream",
     "text": [
      "Downloading...\n",
      "From: https://drive.google.com/uc?id=1S2qE6-oNP_KMvkobRxswkH0DqCJDbPnu\n",
      "To: /usr/people/jabae/github/MicronsBinder/notebooks/multiscale/function/data/calcium_trace.tgz\n",
      "47.4MB [00:00, 75.9MB/s]\n",
      "~/github/MicronsBinder/notebooks/multiscale/function/data ~/github/MicronsBinder/notebooks/multiscale/function\n",
      "~/github/MicronsBinder/notebooks/multiscale/function\n",
      "Downloading...\n",
      "From: https://drive.google.com/uc?id=1Tpa-p7rwOZ65rIwDPbm4famUFtqhbqOK\n",
      "To: /usr/people/jabae/github/MicronsBinder/notebooks/multiscale/function/data/smoothed_skeletons_v185.tgz\n",
      "493MB [00:06, 77.0MB/s] \n",
      "~/github/MicronsBinder/notebooks/multiscale/function/data ~/github/MicronsBinder/notebooks/multiscale/function\n",
      "~/github/MicronsBinder/notebooks/multiscale/function\n"
     ]
    }
   ],
   "source": [
    "!bash downloadCalciumTraces.sh # Functional activity\n",
    "!bash downloadSkeletons.sh # Skeletons"
   ]
  },
  {
   "cell_type": "markdown",
   "metadata": {},
   "source": [
    "## Functions"
   ]
  },
  {
   "cell_type": "code",
   "execution_count": 33,
   "metadata": {},
   "outputs": [],
   "source": [
    "def distance(x, y):\n",
    "    \n",
    "    return np.sqrt(np.sum((x-y)**2, axis=1))\n",
    "\n",
    "\n",
    "def str2coord(str_coord, dtype=\"int\"):\n",
    "    \n",
    "    l = str_coord[1:-1].split(\" \")\n",
    "    coord = []\n",
    "    for j in range(len(l)):\n",
    "        if l[j] != \"\":\n",
    "            if dtype == \"int\": \n",
    "                coord.append(int(l[j]))\n",
    "            elif dtype == \"float\":\n",
    "                coord.append(float(l[j]))\n",
    "    \n",
    "    coord = np.array(coord)\n",
    "    \n",
    "    return coord"
   ]
  },
  {
   "cell_type": "markdown",
   "metadata": {},
   "source": [
    "## All PyC"
   ]
  },
  {
   "cell_type": "code",
   "execution_count": 13,
   "metadata": {},
   "outputs": [
    {
     "data": {
      "text/html": [
       "<div>\n",
       "<style scoped>\n",
       "    .dataframe tbody tr th:only-of-type {\n",
       "        vertical-align: middle;\n",
       "    }\n",
       "\n",
       "    .dataframe tbody tr th {\n",
       "        vertical-align: top;\n",
       "    }\n",
       "\n",
       "    .dataframe thead th {\n",
       "        text-align: right;\n",
       "    }\n",
       "</style>\n",
       "<table border=\"1\" class=\"dataframe\">\n",
       "  <thead>\n",
       "    <tr style=\"text-align: right;\">\n",
       "      <th></th>\n",
       "      <th>segment_id</th>\n",
       "      <th>soma_loc</th>\n",
       "    </tr>\n",
       "  </thead>\n",
       "  <tbody>\n",
       "    <tr>\n",
       "      <th>0</th>\n",
       "      <td>648518346349491311</td>\n",
       "      <td>[314.028 159.94   77.28 ]</td>\n",
       "    </tr>\n",
       "    <tr>\n",
       "      <th>1</th>\n",
       "      <td>648518346349492130</td>\n",
       "      <td>[291.484 145.484  80.96 ]</td>\n",
       "    </tr>\n",
       "    <tr>\n",
       "      <th>2</th>\n",
       "      <td>648518346349492197</td>\n",
       "      <td>[270.948 158.088  86.24 ]</td>\n",
       "    </tr>\n",
       "    <tr>\n",
       "      <th>3</th>\n",
       "      <td>648518346349492682</td>\n",
       "      <td>[461.372 212.624  27.64 ]</td>\n",
       "    </tr>\n",
       "    <tr>\n",
       "      <th>4</th>\n",
       "      <td>648518346349493472</td>\n",
       "      <td>[431.864 156.576  85.72 ]</td>\n",
       "    </tr>\n",
       "    <tr>\n",
       "      <th>...</th>\n",
       "      <td>...</td>\n",
       "      <td>...</td>\n",
       "    </tr>\n",
       "    <tr>\n",
       "      <th>358</th>\n",
       "      <td>648518346349540048</td>\n",
       "      <td>[349.132 163.492  11.48 ]</td>\n",
       "    </tr>\n",
       "    <tr>\n",
       "      <th>359</th>\n",
       "      <td>648518346349540051</td>\n",
       "      <td>[444.892 247.424  47.48 ]</td>\n",
       "    </tr>\n",
       "    <tr>\n",
       "      <th>360</th>\n",
       "      <td>648518346349540053</td>\n",
       "      <td>[446.104 253.936  18.32 ]</td>\n",
       "    </tr>\n",
       "    <tr>\n",
       "      <th>361</th>\n",
       "      <td>648518346349540055</td>\n",
       "      <td>[340.468 248.332  23.4  ]</td>\n",
       "    </tr>\n",
       "    <tr>\n",
       "      <th>362</th>\n",
       "      <td>648518346349540057</td>\n",
       "      <td>[415.44 177.54  35.64]</td>\n",
       "    </tr>\n",
       "  </tbody>\n",
       "</table>\n",
       "<p>363 rows × 2 columns</p>\n",
       "</div>"
      ],
      "text/plain": [
       "             segment_id                   soma_loc\n",
       "0    648518346349491311  [314.028 159.94   77.28 ]\n",
       "1    648518346349492130  [291.484 145.484  80.96 ]\n",
       "2    648518346349492197  [270.948 158.088  86.24 ]\n",
       "3    648518346349492682  [461.372 212.624  27.64 ]\n",
       "4    648518346349493472  [431.864 156.576  85.72 ]\n",
       "..                  ...                        ...\n",
       "358  648518346349540048  [349.132 163.492  11.48 ]\n",
       "359  648518346349540051  [444.892 247.424  47.48 ]\n",
       "360  648518346349540053  [446.104 253.936  18.32 ]\n",
       "361  648518346349540055  [340.468 248.332  23.4  ]\n",
       "362  648518346349540057     [415.44 177.54  35.64]\n",
       "\n",
       "[363 rows x 2 columns]"
      ]
     },
     "execution_count": 13,
     "metadata": {},
     "output_type": "execute_result"
    }
   ],
   "source": [
    "cell_info = pd.read_csv(\"data/cell_info.csv\")\n",
    "\n",
    "pyc_list = cell_info[\"segment_id\"]\n",
    "n_pyc = pyc_list.shape[0]\n",
    "\n",
    "cell_info"
   ]
  },
  {
   "cell_type": "markdown",
   "metadata": {},
   "source": [
    "## PyC with functional data"
   ]
  },
  {
   "cell_type": "code",
   "execution_count": 14,
   "metadata": {
    "scrolled": true
   },
   "outputs": [
    {
     "data": {
      "text/html": [
       "<div>\n",
       "<style scoped>\n",
       "    .dataframe tbody tr th:only-of-type {\n",
       "        vertical-align: middle;\n",
       "    }\n",
       "\n",
       "    .dataframe tbody tr th {\n",
       "        vertical-align: top;\n",
       "    }\n",
       "\n",
       "    .dataframe thead th {\n",
       "        text-align: right;\n",
       "    }\n",
       "</style>\n",
       "<table border=\"1\" class=\"dataframe\">\n",
       "  <thead>\n",
       "    <tr style=\"text-align: right;\">\n",
       "      <th></th>\n",
       "      <th>segment_id</th>\n",
       "      <th>scan</th>\n",
       "      <th>osi</th>\n",
       "      <th>osi_p</th>\n",
       "      <th>dsi</th>\n",
       "      <th>dsi_p</th>\n",
       "    </tr>\n",
       "  </thead>\n",
       "  <tbody>\n",
       "    <tr>\n",
       "      <th>0</th>\n",
       "      <td>648518346349539895</td>\n",
       "      <td>1</td>\n",
       "      <td>1.399790</td>\n",
       "      <td>0.0093</td>\n",
       "      <td>0.360205</td>\n",
       "      <td>0.9048</td>\n",
       "    </tr>\n",
       "    <tr>\n",
       "      <th>1</th>\n",
       "      <td>648518346349537860</td>\n",
       "      <td>1</td>\n",
       "      <td>1.768346</td>\n",
       "      <td>0.0000</td>\n",
       "      <td>0.439699</td>\n",
       "      <td>0.6045</td>\n",
       "    </tr>\n",
       "    <tr>\n",
       "      <th>2</th>\n",
       "      <td>648518346349538440</td>\n",
       "      <td>1</td>\n",
       "      <td>1.375106</td>\n",
       "      <td>0.0027</td>\n",
       "      <td>0.263231</td>\n",
       "      <td>0.9977</td>\n",
       "    </tr>\n",
       "    <tr>\n",
       "      <th>3</th>\n",
       "      <td>648518346349538527</td>\n",
       "      <td>1</td>\n",
       "      <td>1.021334</td>\n",
       "      <td>0.0285</td>\n",
       "      <td>0.972555</td>\n",
       "      <td>0.9738</td>\n",
       "    </tr>\n",
       "    <tr>\n",
       "      <th>4</th>\n",
       "      <td>648518346349538209</td>\n",
       "      <td>1</td>\n",
       "      <td>1.863632</td>\n",
       "      <td>0.0000</td>\n",
       "      <td>0.100173</td>\n",
       "      <td>0.9697</td>\n",
       "    </tr>\n",
       "    <tr>\n",
       "      <th>...</th>\n",
       "      <td>...</td>\n",
       "      <td>...</td>\n",
       "      <td>...</td>\n",
       "      <td>...</td>\n",
       "      <td>...</td>\n",
       "      <td>...</td>\n",
       "    </tr>\n",
       "    <tr>\n",
       "      <th>107</th>\n",
       "      <td>648518346349537741</td>\n",
       "      <td>5</td>\n",
       "      <td>1.266736</td>\n",
       "      <td>0.0591</td>\n",
       "      <td>0.528219</td>\n",
       "      <td>0.9734</td>\n",
       "    </tr>\n",
       "    <tr>\n",
       "      <th>108</th>\n",
       "      <td>648518346349537901</td>\n",
       "      <td>5</td>\n",
       "      <td>1.163586</td>\n",
       "      <td>0.1107</td>\n",
       "      <td>1.162096</td>\n",
       "      <td>0.1381</td>\n",
       "    </tr>\n",
       "    <tr>\n",
       "      <th>109</th>\n",
       "      <td>648518346349538001</td>\n",
       "      <td>5</td>\n",
       "      <td>1.352991</td>\n",
       "      <td>0.0468</td>\n",
       "      <td>1.350374</td>\n",
       "      <td>0.0465</td>\n",
       "    </tr>\n",
       "    <tr>\n",
       "      <th>110</th>\n",
       "      <td>648518346349538251</td>\n",
       "      <td>5</td>\n",
       "      <td>1.436740</td>\n",
       "      <td>0.0149</td>\n",
       "      <td>1.399342</td>\n",
       "      <td>0.0315</td>\n",
       "    </tr>\n",
       "    <tr>\n",
       "      <th>111</th>\n",
       "      <td>648518346349538259</td>\n",
       "      <td>5</td>\n",
       "      <td>1.377379</td>\n",
       "      <td>0.0119</td>\n",
       "      <td>0.322484</td>\n",
       "      <td>0.9793</td>\n",
       "    </tr>\n",
       "  </tbody>\n",
       "</table>\n",
       "<p>112 rows × 6 columns</p>\n",
       "</div>"
      ],
      "text/plain": [
       "             segment_id  scan       osi   osi_p       dsi   dsi_p\n",
       "0    648518346349539895     1  1.399790  0.0093  0.360205  0.9048\n",
       "1    648518346349537860     1  1.768346  0.0000  0.439699  0.6045\n",
       "2    648518346349538440     1  1.375106  0.0027  0.263231  0.9977\n",
       "3    648518346349538527     1  1.021334  0.0285  0.972555  0.9738\n",
       "4    648518346349538209     1  1.863632  0.0000  0.100173  0.9697\n",
       "..                  ...   ...       ...     ...       ...     ...\n",
       "107  648518346349537741     5  1.266736  0.0591  0.528219  0.9734\n",
       "108  648518346349537901     5  1.163586  0.1107  1.162096  0.1381\n",
       "109  648518346349538001     5  1.352991  0.0468  1.350374  0.0465\n",
       "110  648518346349538251     5  1.436740  0.0149  1.399342  0.0315\n",
       "111  648518346349538259     5  1.377379  0.0119  0.322484  0.9793\n",
       "\n",
       "[112 rows x 6 columns]"
      ]
     },
     "execution_count": 14,
     "metadata": {},
     "output_type": "execute_result"
    }
   ],
   "source": [
    "cell_info_func = pd.read_csv(\"data/cell_functional_info.csv\")\n",
    "\n",
    "pyc_func_list = np.array(cell_info_func[\"segment_id\"])\n",
    "scan_list = np.array(cell_info_func[\"scan\"])\n",
    "n_func = pyc_func_list.shape[0]\n",
    "\n",
    "osi_p = np.array(cell_info_func[\"osi_p\"])\n",
    "dsi_p = np.array(cell_info_func[\"dsi_p\"])\n",
    "\n",
    "tune_os_idx = osi_p<0.05\n",
    "tune_ds_idx = dsi_p<0.05\n",
    "tune_all_idx = tune_os_idx + tune_ds_idx\n",
    "\n",
    "seg_id_os = pyc_func_list[tune_os_idx]\n",
    "seg_id_ds = pyc_func_list[tune_ds_idx]\n",
    "seg_id_tuned = pyc_func_list[tune_all_idx]\n",
    "\n",
    "cell_info_func"
   ]
  },
  {
   "cell_type": "code",
   "execution_count": 6,
   "metadata": {},
   "outputs": [],
   "source": [
    "f_rawtrace = open(\"data/trace_raw.pkl\",\"rb\")\n",
    "RawTrace = pickle.load(f_rawtrace)\n",
    "f_rawtrace.close()\n",
    "\n",
    "f_trace = open(\"data/trace.pkl\", \"rb\")\n",
    "Trace = pickle.load(f_trace)\n",
    "f_trace.close()\n",
    "\n",
    "f_spike = open(\"data/spike.pkl\", \"rb\")\n",
    "Spike = pickle.load(f_spike)\n",
    "f_spike.close()\n",
    "\n",
    "f_stim_lab = open(\"data/stimulus_label.pkl\", \"rb\")\n",
    "StimulusLabel = pickle.load(f_stim_lab)\n",
    "f_stim_lab.close()"
   ]
  },
  {
   "cell_type": "markdown",
   "metadata": {},
   "source": [
    "## PyC - PyC subgraph\n",
    "- Pyramidal cells that have cell bodies in our volume.\n",
    "- Connections among pyramidal cells"
   ]
  },
  {
   "cell_type": "code",
   "execution_count": 7,
   "metadata": {},
   "outputs": [
    {
     "data": {
      "text/html": [
       "<div>\n",
       "<style scoped>\n",
       "    .dataframe tbody tr th:only-of-type {\n",
       "        vertical-align: middle;\n",
       "    }\n",
       "\n",
       "    .dataframe tbody tr th {\n",
       "        vertical-align: top;\n",
       "    }\n",
       "\n",
       "    .dataframe thead th {\n",
       "        text-align: right;\n",
       "    }\n",
       "</style>\n",
       "<table border=\"1\" class=\"dataframe\">\n",
       "  <thead>\n",
       "    <tr style=\"text-align: right;\">\n",
       "      <th></th>\n",
       "      <th>segmentation</th>\n",
       "      <th>id</th>\n",
       "      <th>valid</th>\n",
       "      <th>pre_pt_position</th>\n",
       "      <th>pre_pt_supervoxel_id</th>\n",
       "      <th>pre_pt_root_id</th>\n",
       "      <th>ctr_pt_position</th>\n",
       "      <th>post_pt_position</th>\n",
       "      <th>post_pt_supervoxel_id</th>\n",
       "      <th>post_pt_root_id</th>\n",
       "      <th>size</th>\n",
       "      <th>spine_vol</th>\n",
       "      <th>exclude_conn</th>\n",
       "    </tr>\n",
       "  </thead>\n",
       "  <tbody>\n",
       "    <tr>\n",
       "      <th>0</th>\n",
       "      <td>185</td>\n",
       "      <td>1484</td>\n",
       "      <td>1</td>\n",
       "      <td>[91332 57836  1584]</td>\n",
       "      <td>97170491155950710</td>\n",
       "      <td>648518346349539437</td>\n",
       "      <td>[91369 57798  1582]</td>\n",
       "      <td>[91332 57748  1584]</td>\n",
       "      <td>97170491155951077</td>\n",
       "      <td>648518346349531254</td>\n",
       "      <td>798</td>\n",
       "      <td>0.133004</td>\n",
       "      <td>0</td>\n",
       "    </tr>\n",
       "    <tr>\n",
       "      <th>1</th>\n",
       "      <td>185</td>\n",
       "      <td>2254</td>\n",
       "      <td>1</td>\n",
       "      <td>[64762 45414   711]</td>\n",
       "      <td>89838917557174822</td>\n",
       "      <td>648518346349537978</td>\n",
       "      <td>[64742 45419   708]</td>\n",
       "      <td>[64720 45430   708]</td>\n",
       "      <td>89838917557173796</td>\n",
       "      <td>648518346349537300</td>\n",
       "      <td>129</td>\n",
       "      <td>0.016346</td>\n",
       "      <td>0</td>\n",
       "    </tr>\n",
       "    <tr>\n",
       "      <th>2</th>\n",
       "      <td>185</td>\n",
       "      <td>3785</td>\n",
       "      <td>1</td>\n",
       "      <td>[69646 63086   721]</td>\n",
       "      <td>91264984138384361</td>\n",
       "      <td>648518346349533058</td>\n",
       "      <td>[69604 63106   721]</td>\n",
       "      <td>[69558 63120   721]</td>\n",
       "      <td>90983509161691227</td>\n",
       "      <td>648518346349538715</td>\n",
       "      <td>62</td>\n",
       "      <td>0.020969</td>\n",
       "      <td>0</td>\n",
       "    </tr>\n",
       "    <tr>\n",
       "      <th>3</th>\n",
       "      <td>185</td>\n",
       "      <td>3863</td>\n",
       "      <td>1</td>\n",
       "      <td>[66776 39946  1138]</td>\n",
       "      <td>90396382837344883</td>\n",
       "      <td>648518346349539333</td>\n",
       "      <td>[66750 39982  1139]</td>\n",
       "      <td>[66722 39990  1139]</td>\n",
       "      <td>90396382837366381</td>\n",
       "      <td>648518346349539806</td>\n",
       "      <td>62</td>\n",
       "      <td>0.018033</td>\n",
       "      <td>0</td>\n",
       "    </tr>\n",
       "    <tr>\n",
       "      <th>4</th>\n",
       "      <td>185</td>\n",
       "      <td>4062</td>\n",
       "      <td>1</td>\n",
       "      <td>[89112 48970  2154]</td>\n",
       "      <td>96597662777759466</td>\n",
       "      <td>648518346349523975</td>\n",
       "      <td>[89162 48958  2154]</td>\n",
       "      <td>[89198 48936  2154]</td>\n",
       "      <td>96597662777759456</td>\n",
       "      <td>648518346349537716</td>\n",
       "      <td>62</td>\n",
       "      <td>0.008805</td>\n",
       "      <td>0</td>\n",
       "    </tr>\n",
       "    <tr>\n",
       "      <th>...</th>\n",
       "      <td>...</td>\n",
       "      <td>...</td>\n",
       "      <td>...</td>\n",
       "      <td>...</td>\n",
       "      <td>...</td>\n",
       "      <td>...</td>\n",
       "      <td>...</td>\n",
       "      <td>...</td>\n",
       "      <td>...</td>\n",
       "      <td>...</td>\n",
       "      <td>...</td>\n",
       "      <td>...</td>\n",
       "      <td>...</td>\n",
       "    </tr>\n",
       "    <tr>\n",
       "      <th>1963</th>\n",
       "      <td>185</td>\n",
       "      <td>3546372</td>\n",
       "      <td>1</td>\n",
       "      <td>[76660 54312  1086]</td>\n",
       "      <td>92945050790541263</td>\n",
       "      <td>648518346349539803</td>\n",
       "      <td>[76699 54305  1090]</td>\n",
       "      <td>[76708 54262  1088]</td>\n",
       "      <td>92943951278915237</td>\n",
       "      <td>648518346349538239</td>\n",
       "      <td>130</td>\n",
       "      <td>0.044672</td>\n",
       "      <td>0</td>\n",
       "    </tr>\n",
       "    <tr>\n",
       "      <th>1964</th>\n",
       "      <td>185</td>\n",
       "      <td>3548009</td>\n",
       "      <td>1</td>\n",
       "      <td>[94662 61228   453]</td>\n",
       "      <td>98018175966264919</td>\n",
       "      <td>648518346349531254</td>\n",
       "      <td>[94712 61234   453]</td>\n",
       "      <td>[94728 61228   453]</td>\n",
       "      <td>98018175966265405</td>\n",
       "      <td>648518346349534360</td>\n",
       "      <td>61</td>\n",
       "      <td>0.023423</td>\n",
       "      <td>0</td>\n",
       "    </tr>\n",
       "    <tr>\n",
       "      <th>1965</th>\n",
       "      <td>185</td>\n",
       "      <td>3549101</td>\n",
       "      <td>1</td>\n",
       "      <td>[110936  59500   1362]</td>\n",
       "      <td>102520706146780107</td>\n",
       "      <td>648518346349537716</td>\n",
       "      <td>[110994  59494   1363]</td>\n",
       "      <td>[111032  59498   1362]</td>\n",
       "      <td>102520706146780799</td>\n",
       "      <td>648518346349539896</td>\n",
       "      <td>61</td>\n",
       "      <td>0.016121</td>\n",
       "      <td>0</td>\n",
       "    </tr>\n",
       "    <tr>\n",
       "      <th>1966</th>\n",
       "      <td>185</td>\n",
       "      <td>3549680</td>\n",
       "      <td>1</td>\n",
       "      <td>[89680 50944  1475]</td>\n",
       "      <td>96599840326171296</td>\n",
       "      <td>648518346349539437</td>\n",
       "      <td>[89706 50906  1474]</td>\n",
       "      <td>[89718 50884  1473]</td>\n",
       "      <td>96599840326170447</td>\n",
       "      <td>648518346349539781</td>\n",
       "      <td>61</td>\n",
       "      <td>0.021125</td>\n",
       "      <td>0</td>\n",
       "    </tr>\n",
       "    <tr>\n",
       "      <th>1967</th>\n",
       "      <td>185</td>\n",
       "      <td>3556580</td>\n",
       "      <td>1</td>\n",
       "      <td>[80090 61434   710]</td>\n",
       "      <td>94077534882250000</td>\n",
       "      <td>648518346349538478</td>\n",
       "      <td>[80134 61478   710]</td>\n",
       "      <td>[80126 61480   711]</td>\n",
       "      <td>94078634393879925</td>\n",
       "      <td>648518346349540055</td>\n",
       "      <td>61</td>\n",
       "      <td>0.062039</td>\n",
       "      <td>0</td>\n",
       "    </tr>\n",
       "  </tbody>\n",
       "</table>\n",
       "<p>1968 rows × 13 columns</p>\n",
       "</div>"
      ],
      "text/plain": [
       "      segmentation       id  valid         pre_pt_position  \\\n",
       "0              185     1484      1     [91332 57836  1584]   \n",
       "1              185     2254      1     [64762 45414   711]   \n",
       "2              185     3785      1     [69646 63086   721]   \n",
       "3              185     3863      1     [66776 39946  1138]   \n",
       "4              185     4062      1     [89112 48970  2154]   \n",
       "...            ...      ...    ...                     ...   \n",
       "1963           185  3546372      1     [76660 54312  1086]   \n",
       "1964           185  3548009      1     [94662 61228   453]   \n",
       "1965           185  3549101      1  [110936  59500   1362]   \n",
       "1966           185  3549680      1     [89680 50944  1475]   \n",
       "1967           185  3556580      1     [80090 61434   710]   \n",
       "\n",
       "      pre_pt_supervoxel_id      pre_pt_root_id         ctr_pt_position  \\\n",
       "0        97170491155950710  648518346349539437     [91369 57798  1582]   \n",
       "1        89838917557174822  648518346349537978     [64742 45419   708]   \n",
       "2        91264984138384361  648518346349533058     [69604 63106   721]   \n",
       "3        90396382837344883  648518346349539333     [66750 39982  1139]   \n",
       "4        96597662777759466  648518346349523975     [89162 48958  2154]   \n",
       "...                    ...                 ...                     ...   \n",
       "1963     92945050790541263  648518346349539803     [76699 54305  1090]   \n",
       "1964     98018175966264919  648518346349531254     [94712 61234   453]   \n",
       "1965    102520706146780107  648518346349537716  [110994  59494   1363]   \n",
       "1966     96599840326171296  648518346349539437     [89706 50906  1474]   \n",
       "1967     94077534882250000  648518346349538478     [80134 61478   710]   \n",
       "\n",
       "            post_pt_position  post_pt_supervoxel_id     post_pt_root_id  size  \\\n",
       "0        [91332 57748  1584]      97170491155951077  648518346349531254   798   \n",
       "1        [64720 45430   708]      89838917557173796  648518346349537300   129   \n",
       "2        [69558 63120   721]      90983509161691227  648518346349538715    62   \n",
       "3        [66722 39990  1139]      90396382837366381  648518346349539806    62   \n",
       "4        [89198 48936  2154]      96597662777759456  648518346349537716    62   \n",
       "...                      ...                    ...                 ...   ...   \n",
       "1963     [76708 54262  1088]      92943951278915237  648518346349538239   130   \n",
       "1964     [94728 61228   453]      98018175966265405  648518346349534360    61   \n",
       "1965  [111032  59498   1362]     102520706146780799  648518346349539896    61   \n",
       "1966     [89718 50884  1473]      96599840326170447  648518346349539781    61   \n",
       "1967     [80126 61480   711]      94078634393879925  648518346349540055    61   \n",
       "\n",
       "      spine_vol  exclude_conn  \n",
       "0      0.133004             0  \n",
       "1      0.016346             0  \n",
       "2      0.020969             0  \n",
       "3      0.018033             0  \n",
       "4      0.008805             0  \n",
       "...         ...           ...  \n",
       "1963   0.044672             0  \n",
       "1964   0.023423             0  \n",
       "1965   0.016121             0  \n",
       "1966   0.021125             0  \n",
       "1967   0.062039             0  \n",
       "\n",
       "[1968 rows x 13 columns]"
      ]
     },
     "execution_count": 7,
     "metadata": {},
     "output_type": "execute_result"
    }
   ],
   "source": [
    "synapse_pyc_df = pd.read_csv(\"data/pyc_pyc_subgraph.csv\")\n",
    "synapse_pyc_df"
   ]
  },
  {
   "cell_type": "markdown",
   "metadata": {},
   "source": [
    "## Compute dendrite length\n",
    "- Unit: [$\\mu$m]"
   ]
  },
  {
   "cell_type": "code",
   "execution_count": 17,
   "metadata": {},
   "outputs": [],
   "source": [
    "d_skel = \"data/smoothed_skeletons_v185/\"\n",
    "\n",
    "# Calculate dendrite length\n",
    "dendrite_len = np.zeros((n_pyc,)) # In microns\n",
    "for i in range(n_pyc):\n",
    "    \n",
    "    seg_id = pyc_list[i]\n",
    "    seg_lab = np.load(d_skel+str(seg_id)+\"_skeleton_label.npy\")\n",
    "    seg_skel = skeleton_io.read_skeleton_h5(d_skel+str(seg_id)+\"_skeleton.h5\")\n",
    "    \n",
    "    g = seg_skel.csgraph\n",
    "    dend_idx = np.where((seg_lab==2)+(seg_lab==3)+(seg_lab==4))[0]\n",
    "    g = g[dend_idx][:,dend_idx]\n",
    "    \n",
    "    dendrite_len[i] = np.sum(g)/1000\n",
    "    \n",
    "# Manual correction\n",
    "seg_id = 648518346349538414\n",
    "idx = np.where(pyc_list==seg_id)\n",
    "seg_lab = np.load(d_skel+str(seg_id)+\"_skeleton_label.npy\")\n",
    "seg_skel = skeleton_io.read_skeleton_h5(d_skel+str(seg_id)+\"_skeleton.h5\")\n",
    "\n",
    "g = seg_skel.csgraph\n",
    "dend_idx = np.where((seg_lab==2)+(seg_lab==5))[0]\n",
    "g = g[dend_idx][:,dend_idx]\n",
    "\n",
    "dendrite_len[idx] = np.sum(g)/1000"
   ]
  },
  {
   "cell_type": "code",
   "execution_count": 18,
   "metadata": {},
   "outputs": [],
   "source": [
    "dendrite_len_func = np.zeros(n_func)\n",
    "for i in range(n_func):\n",
    "    seg_id = pyc_func_list[i]\n",
    "    dendrite_len_func[i] = dendrite_len[pyc_list==seg_id] "
   ]
  },
  {
   "cell_type": "markdown",
   "metadata": {},
   "source": [
    "## Compute in-connection density"
   ]
  },
  {
   "cell_type": "code",
   "execution_count": 19,
   "metadata": {},
   "outputs": [],
   "source": [
    "pre_id_all = synapse_pyc_df[\"pre_pt_root_id\"]\n",
    "post_id_all = synapse_pyc_df[\"post_pt_root_id\"]\n",
    "real_synapse = np.zeros((pre_id_all.shape[0],2), dtype=np.uint64)\n",
    "real_synapse[:,0] = pre_id_all\n",
    "real_synapse[:,1] = post_id_all\n",
    "real_connection = np.unique(real_synapse, axis=0)"
   ]
  },
  {
   "cell_type": "code",
   "execution_count": 23,
   "metadata": {},
   "outputs": [],
   "source": [
    "# In/out degree\n",
    "# Computing only for cells with functional data\n",
    "insyn_deg = np.zeros((n_func)) # In-synapse degree\n",
    "inconn_deg = np.zeros((n_func)) # In-connection degree\n",
    "outsyn_deg = np.zeros((n_func)) # Out-synapse degree\n",
    "outconn_deg = np.zeros((n_func)) # Out-connection degree\n",
    "\n",
    "for i in range(n_func):\n",
    "    \n",
    "    seg_id = pyc_func_list[i]\n",
    "    \n",
    "    outsyn_deg[i] = np.sum(real_synapse[:,0]==seg_id)\n",
    "    insyn_deg[i] = np.sum(real_synapse[:,1]==seg_id)\n",
    "    \n",
    "    outconn_deg[i] = np.sum(real_connection[:,0]==seg_id)\n",
    "    inconn_deg[i] = np.sum(real_connection[:,1]==seg_id)"
   ]
  },
  {
   "cell_type": "code",
   "execution_count": 24,
   "metadata": {},
   "outputs": [],
   "source": [
    "# In-connection density\n",
    "inconn_density = inconn_deg/dendrite_len_func"
   ]
  },
  {
   "cell_type": "markdown",
   "metadata": {},
   "source": [
    "## Compute total in-synapse density"
   ]
  },
  {
   "cell_type": "markdown",
   "metadata": {},
   "source": [
    "- `data/pyc_all_synapse.csv`: All synapses involving pyramidal cells. i.e. All incoming synapses to pyramidal cells and all outgoing synapses from pyramidal cells. "
   ]
  },
  {
   "cell_type": "code",
   "execution_count": 25,
   "metadata": {},
   "outputs": [
    {
     "data": {
      "text/html": [
       "<div>\n",
       "<style scoped>\n",
       "    .dataframe tbody tr th:only-of-type {\n",
       "        vertical-align: middle;\n",
       "    }\n",
       "\n",
       "    .dataframe tbody tr th {\n",
       "        vertical-align: top;\n",
       "    }\n",
       "\n",
       "    .dataframe thead th {\n",
       "        text-align: right;\n",
       "    }\n",
       "</style>\n",
       "<table border=\"1\" class=\"dataframe\">\n",
       "  <thead>\n",
       "    <tr style=\"text-align: right;\">\n",
       "      <th></th>\n",
       "      <th>Unnamed: 0</th>\n",
       "      <th>id</th>\n",
       "      <th>valid</th>\n",
       "      <th>pre_pt_position</th>\n",
       "      <th>pre_pt_supervoxel_id</th>\n",
       "      <th>pre_pt_root_id</th>\n",
       "      <th>ctr_pt_position</th>\n",
       "      <th>post_pt_position</th>\n",
       "      <th>post_pt_supervoxel_id</th>\n",
       "      <th>post_pt_root_id</th>\n",
       "      <th>size</th>\n",
       "    </tr>\n",
       "  </thead>\n",
       "  <tbody>\n",
       "    <tr>\n",
       "      <th>0</th>\n",
       "      <td>798380</td>\n",
       "      <td>1</td>\n",
       "      <td>True</td>\n",
       "      <td>[54560 41084  1899]</td>\n",
       "      <td>87019808398267921</td>\n",
       "      <td>648518346344505885</td>\n",
       "      <td>[54623 41105  1898]</td>\n",
       "      <td>[54606 41142  1899]</td>\n",
       "      <td>87019808398265812</td>\n",
       "      <td>648518346349537984</td>\n",
       "      <td>127.0</td>\n",
       "    </tr>\n",
       "    <tr>\n",
       "      <th>1</th>\n",
       "      <td>884354</td>\n",
       "      <td>2</td>\n",
       "      <td>True</td>\n",
       "      <td>[111618  68848    170]</td>\n",
       "      <td>102812038073418275</td>\n",
       "      <td>648518346342561389</td>\n",
       "      <td>[111617  68901    172]</td>\n",
       "      <td>[111536  68888    170]</td>\n",
       "      <td>102530563096718550</td>\n",
       "      <td>648518346349537380</td>\n",
       "      <td>153.0</td>\n",
       "    </tr>\n",
       "    <tr>\n",
       "      <th>2</th>\n",
       "      <td>248</td>\n",
       "      <td>5</td>\n",
       "      <td>True</td>\n",
       "      <td>[99656 73460  1441]</td>\n",
       "      <td>99438779349084007</td>\n",
       "      <td>648518346341408101</td>\n",
       "      <td>[99676 73497  1440]</td>\n",
       "      <td>[99584 73470  1439]</td>\n",
       "      <td>99438779349083054</td>\n",
       "      <td>648518346349507351</td>\n",
       "      <td>112.0</td>\n",
       "    </tr>\n",
       "    <tr>\n",
       "      <th>3</th>\n",
       "      <td>10178</td>\n",
       "      <td>6</td>\n",
       "      <td>True</td>\n",
       "      <td>[56020 42658  1566]</td>\n",
       "      <td>87302374296654983</td>\n",
       "      <td>648518346349533058</td>\n",
       "      <td>[56024 42669  1562]</td>\n",
       "      <td>[55970 42702  1566]</td>\n",
       "      <td>87302374296657562</td>\n",
       "      <td>648518346342805464</td>\n",
       "      <td>714.0</td>\n",
       "    </tr>\n",
       "    <tr>\n",
       "      <th>4</th>\n",
       "      <td>295400</td>\n",
       "      <td>22</td>\n",
       "      <td>True</td>\n",
       "      <td>[76020 42954   713]</td>\n",
       "      <td>92931843766107917</td>\n",
       "      <td>648518346347971764</td>\n",
       "      <td>[76047 42915   709]</td>\n",
       "      <td>[75996 42872   712]</td>\n",
       "      <td>92931843766107136</td>\n",
       "      <td>648518346349538718</td>\n",
       "      <td>608.0</td>\n",
       "    </tr>\n",
       "    <tr>\n",
       "      <th>...</th>\n",
       "      <td>...</td>\n",
       "      <td>...</td>\n",
       "      <td>...</td>\n",
       "      <td>...</td>\n",
       "      <td>...</td>\n",
       "      <td>...</td>\n",
       "      <td>...</td>\n",
       "      <td>...</td>\n",
       "      <td>...</td>\n",
       "      <td>...</td>\n",
       "      <td>...</td>\n",
       "    </tr>\n",
       "    <tr>\n",
       "      <th>902304</th>\n",
       "      <td>169242</td>\n",
       "      <td>3556630</td>\n",
       "      <td>True</td>\n",
       "      <td>[78330 55234  2100]</td>\n",
       "      <td>93508035103698987</td>\n",
       "      <td>648518346346314910</td>\n",
       "      <td>[78320 55200  2101]</td>\n",
       "      <td>[78314 55176  2101]</td>\n",
       "      <td>93508035103699504</td>\n",
       "      <td>648518346349538378</td>\n",
       "      <td>61.0</td>\n",
       "    </tr>\n",
       "    <tr>\n",
       "      <th>902305</th>\n",
       "      <td>692081</td>\n",
       "      <td>3556632</td>\n",
       "      <td>True</td>\n",
       "      <td>[70760 56782   905]</td>\n",
       "      <td>91539870635267659</td>\n",
       "      <td>648518346342798934</td>\n",
       "      <td>[70750 56788   902]</td>\n",
       "      <td>[70702 56780   904]</td>\n",
       "      <td>91539870635267469</td>\n",
       "      <td>648518346349539856</td>\n",
       "      <td>224.0</td>\n",
       "    </tr>\n",
       "    <tr>\n",
       "      <th>902306</th>\n",
       "      <td>538993</td>\n",
       "      <td>3556638</td>\n",
       "      <td>True</td>\n",
       "      <td>[59556 42132   747]</td>\n",
       "      <td>88428244138743851</td>\n",
       "      <td>648518346342799568</td>\n",
       "      <td>[59582 42104   747]</td>\n",
       "      <td>[59610 42086   747]</td>\n",
       "      <td>88428244138743660</td>\n",
       "      <td>648518346349539781</td>\n",
       "      <td>61.0</td>\n",
       "    </tr>\n",
       "    <tr>\n",
       "      <th>902307</th>\n",
       "      <td>145593</td>\n",
       "      <td>3556639</td>\n",
       "      <td>True</td>\n",
       "      <td>[59506 42486   778]</td>\n",
       "      <td>88428248433693199</td>\n",
       "      <td>648518346345304931</td>\n",
       "      <td>[59570 42510   777]</td>\n",
       "      <td>[59606 42526   778]</td>\n",
       "      <td>88428248433693419</td>\n",
       "      <td>648518346349538387</td>\n",
       "      <td>61.0</td>\n",
       "    </tr>\n",
       "    <tr>\n",
       "      <th>902308</th>\n",
       "      <td>52648</td>\n",
       "      <td>3556640</td>\n",
       "      <td>True</td>\n",
       "      <td>[78362 64760  2142]</td>\n",
       "      <td>93519030219984732</td>\n",
       "      <td>648518346341397315</td>\n",
       "      <td>[78366 64798  2141]</td>\n",
       "      <td>[78358 64824  2140]</td>\n",
       "      <td>93519030219984134</td>\n",
       "      <td>648518346349538332</td>\n",
       "      <td>61.0</td>\n",
       "    </tr>\n",
       "  </tbody>\n",
       "</table>\n",
       "<p>902309 rows × 11 columns</p>\n",
       "</div>"
      ],
      "text/plain": [
       "        Unnamed: 0       id  valid         pre_pt_position  \\\n",
       "0           798380        1   True     [54560 41084  1899]   \n",
       "1           884354        2   True  [111618  68848    170]   \n",
       "2              248        5   True     [99656 73460  1441]   \n",
       "3            10178        6   True     [56020 42658  1566]   \n",
       "4           295400       22   True     [76020 42954   713]   \n",
       "...            ...      ...    ...                     ...   \n",
       "902304      169242  3556630   True     [78330 55234  2100]   \n",
       "902305      692081  3556632   True     [70760 56782   905]   \n",
       "902306      538993  3556638   True     [59556 42132   747]   \n",
       "902307      145593  3556639   True     [59506 42486   778]   \n",
       "902308       52648  3556640   True     [78362 64760  2142]   \n",
       "\n",
       "        pre_pt_supervoxel_id      pre_pt_root_id         ctr_pt_position  \\\n",
       "0          87019808398267921  648518346344505885     [54623 41105  1898]   \n",
       "1         102812038073418275  648518346342561389  [111617  68901    172]   \n",
       "2          99438779349084007  648518346341408101     [99676 73497  1440]   \n",
       "3          87302374296654983  648518346349533058     [56024 42669  1562]   \n",
       "4          92931843766107917  648518346347971764     [76047 42915   709]   \n",
       "...                      ...                 ...                     ...   \n",
       "902304     93508035103698987  648518346346314910     [78320 55200  2101]   \n",
       "902305     91539870635267659  648518346342798934     [70750 56788   902]   \n",
       "902306     88428244138743851  648518346342799568     [59582 42104   747]   \n",
       "902307     88428248433693199  648518346345304931     [59570 42510   777]   \n",
       "902308     93519030219984732  648518346341397315     [78366 64798  2141]   \n",
       "\n",
       "              post_pt_position  post_pt_supervoxel_id     post_pt_root_id  \\\n",
       "0          [54606 41142  1899]      87019808398265812  648518346349537984   \n",
       "1       [111536  68888    170]     102530563096718550  648518346349537380   \n",
       "2          [99584 73470  1439]      99438779349083054  648518346349507351   \n",
       "3          [55970 42702  1566]      87302374296657562  648518346342805464   \n",
       "4          [75996 42872   712]      92931843766107136  648518346349538718   \n",
       "...                        ...                    ...                 ...   \n",
       "902304     [78314 55176  2101]      93508035103699504  648518346349538378   \n",
       "902305     [70702 56780   904]      91539870635267469  648518346349539856   \n",
       "902306     [59610 42086   747]      88428244138743660  648518346349539781   \n",
       "902307     [59606 42526   778]      88428248433693419  648518346349538387   \n",
       "902308     [78358 64824  2140]      93519030219984134  648518346349538332   \n",
       "\n",
       "         size  \n",
       "0       127.0  \n",
       "1       153.0  \n",
       "2       112.0  \n",
       "3       714.0  \n",
       "4       608.0  \n",
       "...       ...  \n",
       "902304   61.0  \n",
       "902305  224.0  \n",
       "902306   61.0  \n",
       "902307   61.0  \n",
       "902308   61.0  \n",
       "\n",
       "[902309 rows x 11 columns]"
      ]
     },
     "execution_count": 25,
     "metadata": {},
     "output_type": "execute_result"
    }
   ],
   "source": [
    "synapse_all_pyc_df = pd.read_csv(\"data/pyc_all_synapse.csv\")\n",
    "synapse_all_pyc_df"
   ]
  },
  {
   "cell_type": "code",
   "execution_count": 34,
   "metadata": {},
   "outputs": [
    {
     "data": {
      "text/plain": [
       "array([314.028, 159.94 ,  77.28 ])"
      ]
     },
     "execution_count": 34,
     "metadata": {},
     "output_type": "execute_result"
    }
   ],
   "source": [
    "str2coord(cell_info[\"soma_loc\"][0], \"float\")"
   ]
  },
  {
   "cell_type": "code",
   "execution_count": 36,
   "metadata": {},
   "outputs": [],
   "source": [
    "pyc_soma_loc = np.zeros((n_pyc, 3))\n",
    "for i in range(n_pyc):\n",
    "    pyc_soma_loc[i,:] = str2coord(cell_info[\"soma_loc\"][i], dtype=\"float\")"
   ]
  },
  {
   "cell_type": "code",
   "execution_count": 37,
   "metadata": {},
   "outputs": [
    {
     "data": {
      "text/html": [
       "<div>\n",
       "<style scoped>\n",
       "    .dataframe tbody tr th:only-of-type {\n",
       "        vertical-align: middle;\n",
       "    }\n",
       "\n",
       "    .dataframe tbody tr th {\n",
       "        vertical-align: top;\n",
       "    }\n",
       "\n",
       "    .dataframe thead th {\n",
       "        text-align: right;\n",
       "    }\n",
       "</style>\n",
       "<table border=\"1\" class=\"dataframe\">\n",
       "  <thead>\n",
       "    <tr style=\"text-align: right;\">\n",
       "      <th></th>\n",
       "      <th>Unnamed: 0</th>\n",
       "      <th>id</th>\n",
       "      <th>valid</th>\n",
       "      <th>pre_pt_position</th>\n",
       "      <th>pre_pt_supervoxel_id</th>\n",
       "      <th>pre_pt_root_id</th>\n",
       "      <th>ctr_pt_position</th>\n",
       "      <th>post_pt_position</th>\n",
       "      <th>post_pt_supervoxel_id</th>\n",
       "      <th>post_pt_root_id</th>\n",
       "      <th>size</th>\n",
       "    </tr>\n",
       "  </thead>\n",
       "  <tbody>\n",
       "    <tr>\n",
       "      <th>0</th>\n",
       "      <td>798380</td>\n",
       "      <td>1</td>\n",
       "      <td>True</td>\n",
       "      <td>[54560 41084  1899]</td>\n",
       "      <td>87019808398267921</td>\n",
       "      <td>648518346344505885</td>\n",
       "      <td>[54623 41105  1898]</td>\n",
       "      <td>[54606 41142  1899]</td>\n",
       "      <td>87019808398265812</td>\n",
       "      <td>648518346349537984</td>\n",
       "      <td>127.0</td>\n",
       "    </tr>\n",
       "    <tr>\n",
       "      <th>1</th>\n",
       "      <td>884354</td>\n",
       "      <td>2</td>\n",
       "      <td>True</td>\n",
       "      <td>[111618  68848    170]</td>\n",
       "      <td>102812038073418275</td>\n",
       "      <td>648518346342561389</td>\n",
       "      <td>[111617  68901    172]</td>\n",
       "      <td>[111536  68888    170]</td>\n",
       "      <td>102530563096718550</td>\n",
       "      <td>648518346349537380</td>\n",
       "      <td>153.0</td>\n",
       "    </tr>\n",
       "    <tr>\n",
       "      <th>2</th>\n",
       "      <td>248</td>\n",
       "      <td>5</td>\n",
       "      <td>True</td>\n",
       "      <td>[99656 73460  1441]</td>\n",
       "      <td>99438779349084007</td>\n",
       "      <td>648518346341408101</td>\n",
       "      <td>[99676 73497  1440]</td>\n",
       "      <td>[99584 73470  1439]</td>\n",
       "      <td>99438779349083054</td>\n",
       "      <td>648518346349507351</td>\n",
       "      <td>112.0</td>\n",
       "    </tr>\n",
       "    <tr>\n",
       "      <th>4</th>\n",
       "      <td>295400</td>\n",
       "      <td>22</td>\n",
       "      <td>True</td>\n",
       "      <td>[76020 42954   713]</td>\n",
       "      <td>92931843766107917</td>\n",
       "      <td>648518346347971764</td>\n",
       "      <td>[76047 42915   709]</td>\n",
       "      <td>[75996 42872   712]</td>\n",
       "      <td>92931843766107136</td>\n",
       "      <td>648518346349538718</td>\n",
       "      <td>608.0</td>\n",
       "    </tr>\n",
       "    <tr>\n",
       "      <th>5</th>\n",
       "      <td>714674</td>\n",
       "      <td>25</td>\n",
       "      <td>True</td>\n",
       "      <td>[69344 52400   437]</td>\n",
       "      <td>90972505455472631</td>\n",
       "      <td>648518346346953536</td>\n",
       "      <td>[69361 52441   436]</td>\n",
       "      <td>[69326 52460   436]</td>\n",
       "      <td>90972505455472289</td>\n",
       "      <td>648518346349539863</td>\n",
       "      <td>226.0</td>\n",
       "    </tr>\n",
       "    <tr>\n",
       "      <th>...</th>\n",
       "      <td>...</td>\n",
       "      <td>...</td>\n",
       "      <td>...</td>\n",
       "      <td>...</td>\n",
       "      <td>...</td>\n",
       "      <td>...</td>\n",
       "      <td>...</td>\n",
       "      <td>...</td>\n",
       "      <td>...</td>\n",
       "      <td>...</td>\n",
       "      <td>...</td>\n",
       "    </tr>\n",
       "    <tr>\n",
       "      <th>902304</th>\n",
       "      <td>169242</td>\n",
       "      <td>3556630</td>\n",
       "      <td>True</td>\n",
       "      <td>[78330 55234  2100]</td>\n",
       "      <td>93508035103698987</td>\n",
       "      <td>648518346346314910</td>\n",
       "      <td>[78320 55200  2101]</td>\n",
       "      <td>[78314 55176  2101]</td>\n",
       "      <td>93508035103699504</td>\n",
       "      <td>648518346349538378</td>\n",
       "      <td>61.0</td>\n",
       "    </tr>\n",
       "    <tr>\n",
       "      <th>902305</th>\n",
       "      <td>692081</td>\n",
       "      <td>3556632</td>\n",
       "      <td>True</td>\n",
       "      <td>[70760 56782   905]</td>\n",
       "      <td>91539870635267659</td>\n",
       "      <td>648518346342798934</td>\n",
       "      <td>[70750 56788   902]</td>\n",
       "      <td>[70702 56780   904]</td>\n",
       "      <td>91539870635267469</td>\n",
       "      <td>648518346349539856</td>\n",
       "      <td>224.0</td>\n",
       "    </tr>\n",
       "    <tr>\n",
       "      <th>902306</th>\n",
       "      <td>538993</td>\n",
       "      <td>3556638</td>\n",
       "      <td>True</td>\n",
       "      <td>[59556 42132   747]</td>\n",
       "      <td>88428244138743851</td>\n",
       "      <td>648518346342799568</td>\n",
       "      <td>[59582 42104   747]</td>\n",
       "      <td>[59610 42086   747]</td>\n",
       "      <td>88428244138743660</td>\n",
       "      <td>648518346349539781</td>\n",
       "      <td>61.0</td>\n",
       "    </tr>\n",
       "    <tr>\n",
       "      <th>902307</th>\n",
       "      <td>145593</td>\n",
       "      <td>3556639</td>\n",
       "      <td>True</td>\n",
       "      <td>[59506 42486   778]</td>\n",
       "      <td>88428248433693199</td>\n",
       "      <td>648518346345304931</td>\n",
       "      <td>[59570 42510   777]</td>\n",
       "      <td>[59606 42526   778]</td>\n",
       "      <td>88428248433693419</td>\n",
       "      <td>648518346349538387</td>\n",
       "      <td>61.0</td>\n",
       "    </tr>\n",
       "    <tr>\n",
       "      <th>902308</th>\n",
       "      <td>52648</td>\n",
       "      <td>3556640</td>\n",
       "      <td>True</td>\n",
       "      <td>[78362 64760  2142]</td>\n",
       "      <td>93519030219984732</td>\n",
       "      <td>648518346341397315</td>\n",
       "      <td>[78366 64798  2141]</td>\n",
       "      <td>[78358 64824  2140]</td>\n",
       "      <td>93519030219984134</td>\n",
       "      <td>648518346349538332</td>\n",
       "      <td>61.0</td>\n",
       "    </tr>\n",
       "  </tbody>\n",
       "</table>\n",
       "<p>861135 rows × 11 columns</p>\n",
       "</div>"
      ],
      "text/plain": [
       "        Unnamed: 0       id  valid         pre_pt_position  \\\n",
       "0           798380        1   True     [54560 41084  1899]   \n",
       "1           884354        2   True  [111618  68848    170]   \n",
       "2              248        5   True     [99656 73460  1441]   \n",
       "4           295400       22   True     [76020 42954   713]   \n",
       "5           714674       25   True     [69344 52400   437]   \n",
       "...            ...      ...    ...                     ...   \n",
       "902304      169242  3556630   True     [78330 55234  2100]   \n",
       "902305      692081  3556632   True     [70760 56782   905]   \n",
       "902306      538993  3556638   True     [59556 42132   747]   \n",
       "902307      145593  3556639   True     [59506 42486   778]   \n",
       "902308       52648  3556640   True     [78362 64760  2142]   \n",
       "\n",
       "        pre_pt_supervoxel_id      pre_pt_root_id         ctr_pt_position  \\\n",
       "0          87019808398267921  648518346344505885     [54623 41105  1898]   \n",
       "1         102812038073418275  648518346342561389  [111617  68901    172]   \n",
       "2          99438779349084007  648518346341408101     [99676 73497  1440]   \n",
       "4          92931843766107917  648518346347971764     [76047 42915   709]   \n",
       "5          90972505455472631  648518346346953536     [69361 52441   436]   \n",
       "...                      ...                 ...                     ...   \n",
       "902304     93508035103698987  648518346346314910     [78320 55200  2101]   \n",
       "902305     91539870635267659  648518346342798934     [70750 56788   902]   \n",
       "902306     88428244138743851  648518346342799568     [59582 42104   747]   \n",
       "902307     88428248433693199  648518346345304931     [59570 42510   777]   \n",
       "902308     93519030219984732  648518346341397315     [78366 64798  2141]   \n",
       "\n",
       "              post_pt_position  post_pt_supervoxel_id     post_pt_root_id  \\\n",
       "0          [54606 41142  1899]      87019808398265812  648518346349537984   \n",
       "1       [111536  68888    170]     102530563096718550  648518346349537380   \n",
       "2          [99584 73470  1439]      99438779349083054  648518346349507351   \n",
       "4          [75996 42872   712]      92931843766107136  648518346349538718   \n",
       "5          [69326 52460   436]      90972505455472289  648518346349539863   \n",
       "...                        ...                    ...                 ...   \n",
       "902304     [78314 55176  2101]      93508035103699504  648518346349538378   \n",
       "902305     [70702 56780   904]      91539870635267469  648518346349539856   \n",
       "902306     [59610 42086   747]      88428244138743660  648518346349539781   \n",
       "902307     [59606 42526   778]      88428248433693419  648518346349538387   \n",
       "902308     [78358 64824  2140]      93519030219984134  648518346349538332   \n",
       "\n",
       "         size  \n",
       "0       127.0  \n",
       "1       153.0  \n",
       "2       112.0  \n",
       "4       608.0  \n",
       "5       226.0  \n",
       "...       ...  \n",
       "902304   61.0  \n",
       "902305  224.0  \n",
       "902306   61.0  \n",
       "902307   61.0  \n",
       "902308   61.0  \n",
       "\n",
       "[861135 rows x 11 columns]"
      ]
     },
     "execution_count": 37,
     "metadata": {},
     "output_type": "execute_result"
    }
   ],
   "source": [
    "post_id_all = np.array(synapse_all_pyc_df[\"post_pt_root_id\"])\n",
    "post_idx = np.where(np.isin(post_id_all, pyc_list))[0]\n",
    "\n",
    "synapse_post_pyc_df = synapse_all_pyc_df.iloc[post_idx]\n",
    "\n",
    "post_centroids = np.zeros((post_idx.shape[0],3))\n",
    "for i in range(post_idx.shape[0]):\n",
    "    post_centroids[i,:] = str2coord(synapse_post_pyc_df.iloc[i][\"ctr_pt_position\"])\n",
    "\n",
    "post_id_list = np.array(synapse_post_pyc_df[\"post_pt_root_id\"])\n",
    "post_soma_loc = np.zeros(post_centroids.shape)\n",
    "for i in range(post_id_list.shape[0]):  \n",
    "    post_soma_loc[i,:] = pyc_soma_loc[pyc_list==post_id_list[i],:]\n",
    "    \n",
    "res = np.array([0.004, 0.004, 0.04])\n",
    "post_centroids = post_centroids*res\n",
    "\n",
    "# Filter out synapses within 15 um from the soma to remove perisomatic synapses.\n",
    "d_post = distance(post_centroids, post_soma_loc)\n",
    "valid = (d_post>15)\n",
    "\n",
    "# All incoming synapses to pyramidal cells without perisomatic synapses.\n",
    "synapse_post_pyc_df = synapse_post_pyc_df.iloc[valid]\n",
    "synapse_post_pyc_df"
   ]
  },
  {
   "cell_type": "code",
   "execution_count": 17,
   "metadata": {},
   "outputs": [],
   "source": [
    "### Degree of cells with calcium signals\n",
    "pre_id_all = synapse_post_pyc_df[\"pre_pt_root_id\"]\n",
    "post_id_all = synapse_post_pyc_df[\"post_pt_root_id\"]\n",
    "real_synapse_all = np.zeros((pre_id_all.shape[0],2), dtype=np.uint64)\n",
    "real_synapse_all[:,0] = pre_id_all\n",
    "real_synapse_all[:,1] = post_id_all\n",
    "\n",
    "syn_indens_all = np.zeros(n_ease)\n",
    "for i in range(n_ease):\n",
    "    \n",
    "    seg_id = seg_id_ease[i]\n",
    "    syn_indens_all[i] = np.sum(real_synapse_all[:,1]==seg_id)/dendrite_len_ease[i]"
   ]
  },
  {
   "cell_type": "markdown",
   "metadata": {},
   "source": [
    "### Compute intermittency"
   ]
  },
  {
   "cell_type": "code",
   "execution_count": 17,
   "metadata": {},
   "outputs": [],
   "source": [
    "intermit_pref = np.zeros(n_ease)\n",
    "intermit_max = np.zeros(n_ease)\n",
    "for i in range(n_ease):\n",
    "    \n",
    "    seg_id = seg_id_ease[i]\n",
    "    seg_scan = scan_ease[i]\n",
    "\n",
    "    trace = extract_ease(pinky, seg_id, seg_scan, \"trace\")\n",
    "    spike = extract_ease(pinky, seg_id, seg_scan, \"spike\")\n",
    "    con = np.round((pinky.Stimulus() & {\"scan_id\": seg_scan}).fetch1(\"condition\"),1)\n",
    "    \n",
    "    peak_amp_arr = get_peakamp_tdarray(trace, con)\n",
    "    u, s, vh = np.linalg.svd(peak_amp_arr, full_matrices=False)\n",
    "    resp_dir = np.abs(vh[0,:])\n",
    "    resp_t = np.abs(u[:,0])\n",
    "    \n",
    "    pref_idx = np.where(resp_dir>np.mean(resp_dir))[0]\n",
    "    intermit_max[i] = intermittency_pref(spike, con, np.argmax(resp_dir), thr=3)\n",
    "    intermit_pref[i] = intermittency_pref(spike, con, pref_idx, thr=3)"
   ]
  },
  {
   "cell_type": "markdown",
   "metadata": {},
   "source": [
    "### Compute activity"
   ]
  },
  {
   "cell_type": "code",
   "execution_count": 20,
   "metadata": {},
   "outputs": [],
   "source": [
    "mean_response = np.load(\"data/mean_response.npy\")\n",
    "mean_active_response = np.load(\"data/mean_active_response.npy\")"
   ]
  },
  {
   "cell_type": "markdown",
   "metadata": {},
   "source": [
    "### Intermittency"
   ]
  },
  {
   "cell_type": "code",
   "execution_count": 155,
   "metadata": {},
   "outputs": [
    {
     "data": {
      "image/png": "[encoded data removed]",
      "text/plain": [
       "<Figure size 432x288 with 1 Axes>"
      ]
     },
     "metadata": {
      "needs_background": "light"
     },
     "output_type": "display_data"
    },
    {
     "data": {
      "image/png": "[encoded data removed]",
      "text/plain": [
       "<Figure size 432x288 with 1 Axes>"
      ]
     },
     "metadata": {
      "needs_background": "light"
     },
     "output_type": "display_data"
    }
   ],
   "source": [
    "plt.figure()\n",
    "plt.hist(intermit_pref, bins=15)\n",
    "plt.xticks(np.round(ax1.get_xticks(),1), fontsize=10, fontname=\"Helvetica\")\n",
    "plt.yticks(ax1.get_yticks().astype(\"int\"), fontsize=10, fontname=\"Helvetica\")\n",
    "plt.xlabel(\"Intermittency\", fontsize=fs, fontname=\"Helvetica\")\n",
    "plt.ylabel(\"Number of cells\", fontsize=fs, fontname=\"Helvetica\")\n",
    "plt.xlim(0,1)\n",
    "plt.ylim(0,45)\n",
    "plt.title(\"All cells\", fontsize=15)\n",
    "plt.show()\n",
    "\n",
    "plt.figure()\n",
    "plt.hist(intermit_pref[tune_all_idx])\n",
    "plt.xticks(np.round(ax1.get_xticks(),1), fontsize=10, fontname=\"Helvetica\")\n",
    "plt.yticks(ax1.get_yticks().astype(\"int\"), fontsize=10, fontname=\"Helvetica\")\n",
    "plt.xlabel(\"Intermittency\", fontsize=12, fontname=\"Helvetica\")\n",
    "plt.ylabel(\"Number of cells\", fontsize=12, fontname=\"Helvetica\")\n",
    "plt.xlim(0,1)\n",
    "plt.ylim(0,12)\n",
    "plt.title(\"Orientation tuned cells\", fontsize=15)\n",
    "plt.show()"
   ]
  },
  {
   "cell_type": "markdown",
   "metadata": {},
   "source": [
    "### In-connection density"
   ]
  },
  {
   "cell_type": "code",
   "execution_count": 154,
   "metadata": {},
   "outputs": [
    {
     "data": {
      "image/png": "[encoded data removed]",
      "text/plain": [
       "<Figure size 432x288 with 1 Axes>"
      ]
     },
     "metadata": {
      "needs_background": "light"
     },
     "output_type": "display_data"
    },
    {
     "data": {
      "image/png": "[encoded data removed]",
      "text/plain": [
       "<Figure size 432x288 with 1 Axes>"
      ]
     },
     "metadata": {
      "needs_background": "light"
     },
     "output_type": "display_data"
    }
   ],
   "source": [
    "plt.figure()\n",
    "plt.hist(conn_indens)\n",
    "plt.xlabel(\"In-connection density ($\\mu m^{-1}$)\", fontsize=12, fontname=\"Helvetica\")\n",
    "plt.ylabel(\"Number of cells\", fontsize=12, fontname=\"Helvetica\")\n",
    "# plt.xlim(0,1)\n",
    "# plt.ylim(0,45)\n",
    "plt.title(\"All cells\", fontsize=15)\n",
    "plt.show()\n",
    "\n",
    "plt.figure()\n",
    "plt.hist(conn_indens[tune_all_idx])\n",
    "plt.xlabel(\"In-connection density ($\\mu m^{-1}$)\", fontsize=12, fontname=\"Helvetica\")\n",
    "plt.ylabel(\"Number of cells\", fontsize=12, fontname=\"Helvetica\")\n",
    "# plt.xlim(0,1)\n",
    "# plt.ylim(0,12)\n",
    "plt.title(\"Orientation tuned cells\", fontsize=15)\n",
    "plt.show()"
   ]
  },
  {
   "cell_type": "markdown",
   "metadata": {},
   "source": [
    "### In-connection density vs. mean response"
   ]
  },
  {
   "cell_type": "code",
   "execution_count": 114,
   "metadata": {},
   "outputs": [
    {
     "data": {
      "image/png": "[encoded data removed]",
      "text/plain": [
       "<Figure size 432x288 with 1 Axes>"
      ]
     },
     "metadata": {
      "needs_background": "light"
     },
     "output_type": "display_data"
    },
    {
     "name": "stdout",
     "output_type": "stream",
     "text": [
      "r = 0.4262697665735493, p = 0.0068121908534378795\n"
     ]
    }
   ],
   "source": [
    "xval = conn_indens[tune_all_idx]\n",
    "yval = mean_activity[tune_all_idx]\n",
    "\n",
    "(m, b, r, p, s) = linregress(xval, yval)\n",
    "\n",
    "xlin = np.linspace(np.min(xval)*0.99,np.max(xval)*1.01,100)\n",
    "ylin = xlin*m + b\n",
    "\n",
    "plt.figure()\n",
    "plt.plot(xval, yval, 'k.', alpha=0.4)\n",
    "plt.plot(xlin, ylin, '--', alpha=0.8)\n",
    "plt.xlabel(\"In-connection density ($\\mu m^{-1}$)\", fontsize=12)\n",
    "plt.ylabel(\"Mean response\", fontsize=12)\n",
    "plt.show()\n",
    "\n",
    "r,p = pearsonr(xval, yval)\n",
    "print(\"r = {}, p = {}\".format(r,p))"
   ]
  },
  {
   "cell_type": "code",
   "execution_count": 116,
   "metadata": {},
   "outputs": [
    {
     "data": {
      "image/png": "[encoded data removed]",
      "text/plain": [
       "<Figure size 432x288 with 1 Axes>"
      ]
     },
     "metadata": {
      "needs_background": "light"
     },
     "output_type": "display_data"
    },
    {
     "name": "stdout",
     "output_type": "stream",
     "text": [
      "r = 0.3708716281685347, p = 0.02010862340463966\n"
     ]
    }
   ],
   "source": [
    "xval = conn_indens[tune_all_idx]\n",
    "yval = mean_valid_activity[tune_all_idx]\n",
    "\n",
    "(m, b, r, p, s) = linregress(xval, yval)\n",
    "\n",
    "xlin = np.linspace(np.min(xval)*0.99,np.max(xval)*1.01,100)\n",
    "ylin = xlin*m + b\n",
    "\n",
    "plt.figure()\n",
    "plt.plot(xval, yval, 'k.', alpha=0.4)\n",
    "plt.plot(xlin, ylin, '--', alpha=0.8)\n",
    "plt.xlabel(\"In-connection density ($\\mu m^{-1}$)\", fontsize=12)\n",
    "plt.ylabel(\"Mean active response\", fontsize=12)\n",
    "plt.show()\n",
    "\n",
    "r,p = pearsonr(xval, yval)\n",
    "print(\"r = {}, p = {}\".format(r,p))"
   ]
  },
  {
   "cell_type": "markdown",
   "metadata": {},
   "source": [
    "### In-connection density vs. intermittency"
   ]
  },
  {
   "cell_type": "code",
   "execution_count": 112,
   "metadata": {},
   "outputs": [
    {
     "data": {
      "image/png": "[encoded data removed]",
      "text/plain": [
       "<Figure size 432x288 with 1 Axes>"
      ]
     },
     "metadata": {
      "needs_background": "light"
     },
     "output_type": "display_data"
    },
    {
     "name": "stdout",
     "output_type": "stream",
     "text": [
      "r = -0.432159633358687, p = 0.006007061746413553\n"
     ]
    }
   ],
   "source": [
    "xval = conn_indens[tune_all_idx]\n",
    "yval = intermit_pref[tune_all_idx]\n",
    "\n",
    "(m, b, r, p, s) = linregress(xval, yval)\n",
    "\n",
    "xlin = np.linspace(np.min(xval)*0.99,np.max(xval)*1.01,100)\n",
    "ylin = xlin*m + b\n",
    "\n",
    "plt.figure()\n",
    "plt.plot(xval, yval, 'k.', alpha=0.4)\n",
    "plt.plot(xlin, ylin, '--', alpha=0.8)\n",
    "plt.xlabel(\"In-connection density ($\\mu m^{-1}$)\", fontsize=12)\n",
    "plt.ylabel(\"Intermittency\", fontsize=12)\n",
    "plt.show()\n",
    "\n",
    "r,p = pearsonr(xval, yval)\n",
    "print(\"r = {}, p = {}\".format(r,p))"
   ]
  },
  {
   "cell_type": "code",
   "execution_count": 157,
   "metadata": {},
   "outputs": [
    {
     "data": {
      "image/png": "[encoded data removed]",
      "text/plain": [
       "<Figure size 432x288 with 1 Axes>"
      ]
     },
     "metadata": {
      "needs_background": "light"
     },
     "output_type": "display_data"
    },
    {
     "name": "stdout",
     "output_type": "stream",
     "text": [
      "r = -0.35933920837121897, p = 0.024659655365127688\n"
     ]
    }
   ],
   "source": [
    "xval = conn_indens[tune_all_idx]\n",
    "yval = intermit_max[tune_all_idx]\n",
    "\n",
    "(m, b, r, p, s) = linregress(xval, yval)\n",
    "\n",
    "xlin = np.linspace(np.min(xval)*0.99,np.max(xval)*1.01,100)\n",
    "ylin = xlin*m + b\n",
    "\n",
    "plt.figure()\n",
    "plt.plot(xval, yval, 'k.', alpha=0.4)\n",
    "plt.plot(xlin, ylin, '--', alpha=0.8)\n",
    "plt.xlabel(\"In-connection density ($\\mu m^{-1}$)\", fontsize=12)\n",
    "plt.ylabel(\"Intermittency\", fontsize=12)\n",
    "plt.show()\n",
    "\n",
    "r,p = pearsonr(xval, yval)\n",
    "print(\"r = {}, p = {}\".format(r,p))"
   ]
  },
  {
   "cell_type": "code",
   "execution_count": 180,
   "metadata": {},
   "outputs": [
    {
     "data": {
      "image/png": "[encoded data removed]",
      "text/plain": [
       "<Figure size 432x288 with 1 Axes>"
      ]
     },
     "metadata": {
      "needs_background": "light"
     },
     "output_type": "display_data"
    },
    {
     "name": "stdout",
     "output_type": "stream",
     "text": [
      "r = -0.07676691944923551, p = 0.6422910345091654\n"
     ]
    }
   ],
   "source": [
    "xval = syn_indens_all[tune_all_idx]\n",
    "yval = intermit_pref[tune_all_idx]\n",
    "\n",
    "(m, b, r, p, s) = linregress(xval, yval)\n",
    "\n",
    "xlin = np.linspace(np.min(xval)*0.99,np.max(xval)*1.01,100)\n",
    "ylin = xlin*m + b\n",
    "\n",
    "plt.figure()\n",
    "plt.plot(xval, yval, 'k.', alpha=0.4)\n",
    "plt.plot(xlin, ylin, '--', alpha=0.8)\n",
    "plt.xlabel(\"In-connection density ($\\mu m^{-1}$)\", fontsize=12)\n",
    "plt.ylabel(\"Intermittency\", fontsize=12)\n",
    "plt.show()\n",
    "\n",
    "r,p = pearsonr(xval, yval)\n",
    "print(\"r = {}, p = {}\".format(r,p))"
   ]
  },
  {
   "cell_type": "markdown",
   "metadata": {},
   "source": [
    "### Permutation test"
   ]
  },
  {
   "cell_type": "markdown",
   "metadata": {},
   "source": [
    "#### Intermittency"
   ]
  },
  {
   "cell_type": "code",
   "execution_count": 60,
   "metadata": {},
   "outputs": [],
   "source": [
    "xval = intermit_pref[tune_all_idx]\n",
    "yval = conn_indens[tune_all_idx]\n",
    "\n",
    "T = 10000\n",
    "rand_int = np.zeros((T,))\n",
    "for t in range(T):\n",
    "    \n",
    "    int_shuffled = np.copy(xval)\n",
    "    np.random.shuffle(int_shuffled)\n",
    "    \n",
    "    r, p = pearsonr(int_shuffled, yval)\n",
    "    rand_int[t] = r"
   ]
  },
  {
   "cell_type": "code",
   "execution_count": 61,
   "metadata": {},
   "outputs": [
    {
     "data": {
      "image/png": "[encoded data removed]",
      "text/plain": [
       "<Figure size 432x288 with 1 Axes>"
      ]
     },
     "metadata": {
      "needs_background": "light"
     },
     "output_type": "display_data"
    },
    {
     "data": {
      "image/png": "[encoded data removed]",
      "text/plain": [
       "<Figure size 432x288 with 1 Axes>"
      ]
     },
     "metadata": {
      "needs_background": "light"
     },
     "output_type": "display_data"
    }
   ],
   "source": [
    "r_true_int, p_true_int = pearsonr(conn_indens[tune_all_idx], intermit_pref[tune_all_idx])\n",
    "\n",
    "plt.figure()\n",
    "plt.boxplot(rand_int, sym=\"\", whis=[5,95], vert=False)\n",
    "plt.plot(r_true_int, 1, \"r.\", markersize=12, label=\"Observed\")\n",
    "plt.yticks([])\n",
    "plt.xlabel(\"Pearson corr. coef.\", fontsize=12)\n",
    "plt.legend(loc=\"upper right\")\n",
    "plt.show()\n",
    "\n",
    "plt.figure()\n",
    "plt.hist(rand_int, bins=100, color=\"k\", alpha=0.8)\n",
    "plt.vlines(r_true_int, 0, 275, linestyle=\"--\", color=\"r\")\n",
    "plt.xlabel(\"Pearson corr. coef.\", fontsize=12)\n",
    "plt.show()"
   ]
  },
  {
   "cell_type": "markdown",
   "metadata": {},
   "source": [
    "#### Mean response"
   ]
  },
  {
   "cell_type": "code",
   "execution_count": 41,
   "metadata": {},
   "outputs": [],
   "source": [
    "xval = mean_activity[tune_all_idx]\n",
    "yval = conn_indens[tune_all_idx]\n",
    "\n",
    "T = 10000\n",
    "rand_act = np.zeros((T,))\n",
    "for t in range(T):\n",
    "    \n",
    "    act_shuffled = np.copy(xval)\n",
    "    np.random.shuffle(act_shuffled)\n",
    "    \n",
    "    r, p = pearsonr(act_shuffled, yval)\n",
    "    rand_act[t] = r"
   ]
  },
  {
   "cell_type": "code",
   "execution_count": 53,
   "metadata": {},
   "outputs": [
    {
     "data": {
      "image/png": "[encoded data removed]",
      "text/plain": [
       "<Figure size 432x288 with 1 Axes>"
      ]
     },
     "metadata": {
      "needs_background": "light"
     },
     "output_type": "display_data"
    },
    {
     "data": {
      "image/png": "[encoded data removed]",
      "text/plain": [
       "<Figure size 432x288 with 1 Axes>"
      ]
     },
     "metadata": {
      "needs_background": "light"
     },
     "output_type": "display_data"
    }
   ],
   "source": [
    "r_true_act, p_true_act = pearsonr(conn_indens[tune_all_idx], mean_activity[tune_all_idx])\n",
    "\n",
    "plt.figure()\n",
    "plt.boxplot(rand_act, sym=\"\", whis=[5,95], vert=False)\n",
    "plt.plot(r_true_act, 1, \"r.\", markersize=12, label=\"Observed\")\n",
    "plt.yticks([])\n",
    "plt.xlabel(\"Pearson corr. coef.\", fontsize=12)\n",
    "plt.legend(loc=\"upper right\")\n",
    "plt.show()\n",
    "\n",
    "plt.figure()\n",
    "plt.hist(rand_act, bins=100, color=\"k\", alpha=0.8)\n",
    "plt.vlines(r_true_act, 0, 275, linestyle=\"--\", color=\"r\")\n",
    "plt.xlabel(\"Pearson corr. coef.\", fontsize=12)\n",
    "plt.show()"
   ]
  },
  {
   "cell_type": "code",
   "execution_count": 54,
   "metadata": {},
   "outputs": [],
   "source": [
    "xval = mean_valid_activity[tune_all_idx]\n",
    "yval = conn_indens[tune_all_idx]\n",
    "\n",
    "T = 10000\n",
    "rand_act_resp = np.zeros((T,))\n",
    "for t in range(T):\n",
    "    \n",
    "    act_shuffled = np.copy(xval)\n",
    "    np.random.shuffle(act_shuffled)\n",
    "    \n",
    "    r, p = pearsonr(act_shuffled, yval)\n",
    "    rand_act_resp[t] = r"
   ]
  },
  {
   "cell_type": "markdown",
   "metadata": {},
   "source": [
    "#### Mean active response"
   ]
  },
  {
   "cell_type": "code",
   "execution_count": 59,
   "metadata": {},
   "outputs": [
    {
     "data": {
      "image/png": "[encoded data removed]",
      "text/plain": [
       "<Figure size 432x288 with 1 Axes>"
      ]
     },
     "metadata": {
      "needs_background": "light"
     },
     "output_type": "display_data"
    },
    {
     "data": {
      "image/png": "[encoded data removed]",
      "text/plain": [
       "<Figure size 432x288 with 1 Axes>"
      ]
     },
     "metadata": {
      "needs_background": "light"
     },
     "output_type": "display_data"
    }
   ],
   "source": [
    "r_true_act_resp, p_true_act_resp = pearsonr(conn_indens[tune_all_idx], mean_valid_activity[tune_all_idx])\n",
    "\n",
    "plt.figure()\n",
    "plt.boxplot(rand_act_resp, sym=\"\", whis=[5,95], vert=False)\n",
    "plt.plot(r_true_act_resp, 1, \"r.\", markersize=12, label=\"Observed\")\n",
    "plt.yticks([])\n",
    "plt.xlabel(\"Pearson corr. coef.\", fontsize=12)\n",
    "plt.legend(loc=\"upper right\")\n",
    "plt.show()\n",
    "\n",
    "plt.figure()\n",
    "plt.hist(rand_act_resp, bins=100, color=\"k\", alpha=0.8)\n",
    "plt.vlines(r_true_act_resp, 0, 300, linestyle=\"--\", color=\"r\")\n",
    "plt.show()"
   ]
  },
  {
   "cell_type": "markdown",
   "metadata": {},
   "source": [
    "## Figure 6"
   ]
  },
  {
   "cell_type": "code",
   "execution_count": 28,
   "metadata": {},
   "outputs": [],
   "source": [
    "fs = 18\n",
    "\n",
    "def plot_trace_dir(ax, seg_id, angle, xlab=\"\", ylab=\"\"):\n",
    "    \n",
    "    scan_id = scan_ease[seg_id_ease==seg_id][0]\n",
    "    \n",
    "    trace = extract_ease(pinky, seg_id, scan_id, \"trace_raw\")\n",
    "    con = np.round((pinky.Stimulus() & {\"scan_id\": scan_id}).fetch1(\"condition\"), 1)\n",
    "\n",
    "    section_list = get_section(con, angle)\n",
    "\n",
    "    for s in section_list:\n",
    "        n = s[1] - s[0] + 1\n",
    "        plt.plot(np.arange(0,n*0.0674-0.001,0.0674), trace[s[0]:s[1]+1], linewidth=0.5)\n",
    "\n",
    "    ax.set_xlim(0,1)\n",
    "    ax.set_xticks(np.arange(0,1.1,0.5))\n",
    "    ax.set_xticklabels(np.round(ax.get_xticks(),1), fontsize=15, fontname=\"Helvetica\")\n",
    "    ax.set_yticklabels(ax.get_yticks().astype(\"int\"), fontsize=15, fontname=\"Helvetica\")\n",
    "    ax.set_xlabel(xlab, fontsize=fs, fontname=\"Helvetica\")\n",
    "    ax.set_ylabel(ylab, fontsize=fs, fontname=\"Helvetica\")\n",
    "    \n",
    "    \n",
    "def plot_linfit(ax, xval, yval, xlab=\"Intermittency\", ylab=\"In-connection density ($\\mu m^{-1}$)\"):\n",
    "    \n",
    "    (m, b, r, p, s) = linregress(xval, yval)\n",
    "\n",
    "    xlin = np.linspace(xval.min()*0.95,xval.max()*1.05,100)\n",
    "    ylin = xlin*m + b\n",
    "\n",
    "    bins = np.linspace(xval.min(),xval.max()*1.001,5)\n",
    "    binsize = bins[1]-bins[0]\n",
    "    nbins = bins.shape[0]-1\n",
    "    center = np.zeros(nbins)\n",
    "    err = np.zeros(nbins)\n",
    "    for i in range(nbins):\n",
    "\n",
    "        valid = (xval>=bins[i])*(xval<bins[i+1])\n",
    "        bin_val = yval[valid]\n",
    "\n",
    "        if np.sum(valid)==0:\n",
    "            continue\n",
    "\n",
    "        center[i] = np.mean(bin_val)\n",
    "        err[i] = np.std(bin_val)/bin_val.shape[0]**0.5\n",
    "\n",
    "    valid = center!=0\n",
    "    bins_valid = bins[:-1][valid]\n",
    "    center_valid = center[valid]\n",
    "    err_valid = err[valid]\n",
    "\n",
    "    palette = sns.color_palette(\"colorblind\")\n",
    "    ax.plot(xval, yval, 'k.', alpha=0.2)\n",
    "    ax.plot(xlin, ylin, 'k--', alpha=0.8, label=\"linear fit\")\n",
    "    \n",
    "    ax.set_xlabel(xlab, fontsize=fs, fontname=\"Helvetica\")\n",
    "    ax.set_ylabel(ylab, fontsize=fs, fontname=\"Helvetica\")"
   ]
  },
  {
   "cell_type": "code",
   "execution_count": 94,
   "metadata": {},
   "outputs": [
    {
     "data": {
      "image/png": "[encoded data removed]",
      "text/plain": [
       "<Figure size 504x504 with 4 Axes>"
      ]
     },
     "metadata": {
      "needs_background": "light"
     },
     "output_type": "display_data"
    }
   ],
   "source": [
    "fig = plt.figure(figsize=(7,7), constrained_layout=True)\n",
    "gs = fig.add_gridspec(6,6)\n",
    "\n",
    "ax1 = fig.add_subplot(gs[:4,:6])\n",
    "h = ax1.hist(intermit_pref[tune_all_idx], bins=10)\n",
    "ax1.set_xlim(-0.02, 1.02)\n",
    "ax1.set_ylim(0,11)\n",
    "ax1.set_xticklabels(np.round(ax1.get_xticks(),1), fontsize=18, fontname=\"Helvetica\")\n",
    "ax1.set_yticklabels(ax1.get_yticks().astype(\"int\"), fontsize=18, fontname=\"Helvetica\")\n",
    "ax1.set_xlabel(\"Intermittency\", fontsize=22, fontname=\"Helvetica\")\n",
    "ax1.set_ylabel(\"Number of cells\", fontsize=22, fontname=\"Helvetica\")\n",
    "\n",
    "# Example cells\n",
    "ax2 = fig.add_subplot(gs[4:6,:2])\n",
    "plot_trace_dir(ax2, 648518346349537961, 315, xlab=\"\", ylab=\"Response (a.u.)\")\n",
    "ylim = list(ax2.get_ylim())\n",
    "ylim[1] = 61\n",
    "ax2.set_ylim(ylim)\n",
    "\n",
    "ax3 = fig.add_subplot(gs[4:6,2:4])\n",
    "plot_trace_dir(ax3, 648518346349532006, 180, xlab=\"Time (s)\")\n",
    "\n",
    "ax4 = fig.add_subplot(gs[4:6,4:6])\n",
    "plot_trace_dir(ax4, 648518346349539834, 270, xlab=\"\")\n",
    "\n",
    "plt.savefig(\"figures/fig4_plots_part1.svg\")\n",
    "plt.show()"
   ]
  },
  {
   "cell_type": "code",
   "execution_count": 23,
   "metadata": {},
   "outputs": [
    {
     "data": {
      "image/png": "[encoded data removed]",
      "text/plain": [
       "<Figure size 648x504 with 4 Axes>"
      ]
     },
     "metadata": {
      "needs_background": "light"
     },
     "output_type": "display_data"
    }
   ],
   "source": [
    "fig = plt.figure(figsize=(9,7), constrained_layout=True)\n",
    "gs = fig.add_gridspec(6,6)\n",
    "\n",
    "ax5 = fig.add_subplot(gs[:3,:3])\n",
    "plot_linfit(ax5, conn_indens[tune_all_idx], mean_response[tune_all_idx], xlab=\"In-conn. density ($\\mu m^{-1}$)\", ylab=\"Mean resp. (a.u.)\")\n",
    "ax5.set_xticklabels(np.round(ax5.get_xticks(),3), fontsize=15, fontname=\"Helvetica\")\n",
    "ax5.set_yticklabels(ax5.get_yticks().astype(\"int\"), fontsize=15, fontname=\"Helvetica\")\n",
    "\n",
    "ax6 = fig.add_subplot(gs[:3,3:6])\n",
    "plot_linfit(ax6, conn_indens[tune_all_idx], mean_active_response[tune_all_idx], xlab=\"In-conn. density ($\\mu m^{-1}$)\", ylab=\"Mean active resp. (a.u.)\")\n",
    "ax6.set_xticklabels(np.round(ax6.get_xticks(),3), fontsize=15, fontname=\"Helvetica\")\n",
    "ax6.set_yticklabels(ax6.get_yticks().astype(\"int\"), fontsize=15, fontname=\"Helvetica\")\n",
    "    \n",
    "ax7 = fig.add_subplot(gs[3:,:3])\n",
    "plot_linfit(ax7, conn_indens[tune_all_idx], intermit_pref[tune_all_idx], xlab=\"In-conn. density ($\\mu m^{-1}$)\", ylab=\"Intermittency\")\n",
    "ax7.set_xticklabels(np.round(ax7.get_xticks(),3), fontsize=15, fontname=\"Helvetica\")\n",
    "ax7.set_yticklabels(np.round(ax7.get_yticks(),1), fontsize=15, fontname=\"Helvetica\")\n",
    "\n",
    "ax8 = fig.add_subplot(gs[3:,3:6])\n",
    "plot_linfit(ax8, syn_indens_all[tune_all_idx], intermit_pref[tune_all_idx], xlab=\"Total in-syn. density ($\\mu m^{-1}$)\", ylab=\"Intermittency\")\n",
    "ax8.set_xticklabels(np.round(ax8.get_xticks(),2), fontsize=15, fontname=\"Helvetica\")\n",
    "ax8.set_yticklabels(np.round(ax8.get_yticks(),1), fontsize=15, fontname=\"Helvetica\")\n",
    "\n",
    "plt.savefig(\"figures/fig4_plots_part2.svg\")\n",
    "plt.show()"
   ]
  },
  {
   "cell_type": "code",
   "execution_count": 81,
   "metadata": {},
   "outputs": [
    {
     "data": {
      "image/png": "[encoded data removed]",
      "text/plain": [
       "<Figure size 216x504 with 3 Axes>"
      ]
     },
     "metadata": {
      "needs_background": "light"
     },
     "output_type": "display_data"
    }
   ],
   "source": [
    "fig = plt.figure(figsize=(3,7), constrained_layout=True)\n",
    "gs = fig.add_gridspec(3,1)\n",
    "\n",
    "ax9 = fig.add_subplot(gs[:1,0])\n",
    "ax9.hist(rand_act, bins=100, color=\"k\", alpha=0.8)\n",
    "ax9.vlines(r_true_act, ax9.get_ylim()[0], ax9.get_ylim()[1], color=\"r\", linestyle=\"--\", alpha=0.8)\n",
    "ax9.set_xticklabels(np.round(ax9.get_xticks(),2), fontsize=15, fontname=\"Helvetica\")\n",
    "ax9.set_yticklabels(np.round((ax9.get_yticks()/10000),2), fontsize=15, fontname=\"Helvetica\")\n",
    "ax9.set_title(\"Mean\", fontsize=15, fontname=\"Helvetica\")\n",
    "\n",
    "ax10 = fig.add_subplot(gs[1:2,0])\n",
    "ax10.hist(rand_act_resp, bins=100, color=\"k\", alpha=0.8)\n",
    "ax10.vlines(r_true_act_resp, ax10.get_ylim()[0], ax10.get_ylim()[1], color=\"r\", linestyle=\"--\", alpha=0.8)\n",
    "ax10.set_xticklabels(np.round(ax10.get_xticks(),2), fontsize=15, fontname=\"Helvetica\")\n",
    "ax10.set_yticklabels(np.round((ax10.get_yticks()/10000),2), fontsize=15, fontname=\"Helvetica\")\n",
    "ax10.set_title(\"Mean active\", fontsize=15, fontname=\"Helvetica\")\n",
    "\n",
    "ax11 = fig.add_subplot(gs[2:,0])\n",
    "ax11.hist(rand_int, bins=100, color=\"k\", alpha=0.8)\n",
    "ax11.vlines(r_true_int, ax11.get_ylim()[0], ax11.get_ylim()[1], color=\"r\", linestyle=\"--\", alpha=0.8)\n",
    "ax11.set_xticklabels(np.round(ax11.get_xticks(),2), fontsize=15, fontname=\"Helvetica\")\n",
    "ax11.set_yticklabels(np.round((ax11.get_yticks()/10000),2), fontsize=15, fontname=\"Helvetica\")\n",
    "ax11.set_xlabel(\"Correlation coef.\", fontsize=18, fontname=\"Helvetica\")\n",
    "ax11.set_title(\"Intermittency\", fontsize=15, fontname=\"Helvetica\")\n",
    "\n",
    "plt.savefig(\"figures/fig4_plots_part4.svg\")\n",
    "plt.show()"
   ]
  }
 ],
 "metadata": {
  "kernelspec": {
   "display_name": "Python 3",
   "language": "python",
   "name": "python3"
  },
  "language_info": {
   "codemirror_mode": {
    "name": "ipython",
    "version": 3
   },
   "file_extension": ".py",
   "mimetype": "text/x-python",
   "name": "python",
   "nbconvert_exporter": "python",
   "pygments_lexer": "ipython3",
   "version": "3.6.10"
  }
 },
 "nbformat": 4,
 "nbformat_minor": 2
}
