{
 "cells": [
  {
   "cell_type": "markdown",
   "metadata": {},
   "source": [
    "# Spatial-restricted permutation test\n",
    "- Spatial structure of in-connection density.\n",
    "- Spatial-restricted permutation test."
   ]
  },
  {
   "cell_type": "code",
   "execution_count": 1,
   "metadata": {},
   "outputs": [],
   "source": [
    "import numpy as np\n",
    "import pandas as pd\n",
    "\n",
    "import datajoint as dj\n",
    "\n",
    "import matplotlib.pyplot as plt\n",
    "\n",
    "from lib.utils import *\n",
    "from lib.datajoint import *\n",
    "from lib.plot import *\n",
    "\n",
    "%matplotlib inline"
   ]
  },
  {
   "cell_type": "markdown",
   "metadata": {},
   "source": [
    "## Connect to DataJoint database\n",
    "- You need to be registered to access the database. Please register [here](https://forms.gle/6SeDGRT8zoLqpbfU9).\n",
    "- For more information, refer to [README](https://github.com/seung-lab/MicronsBinder/blob/master/notebooks/multiscale/function/README.md) in the repository.\n",
    "#### Currently, it is temporarily available without registration try running below cell."
   ]
  },
  {
   "cell_type": "code",
   "execution_count": 2,
   "metadata": {},
   "outputs": [
    {
     "name": "stdout",
     "output_type": "stream",
     "text": [
      "Connecting seung_guest@datajoint.ninai.org:3306\n"
     ]
    }
   ],
   "source": [
    "# dj.config[\"database.host\"] = \"datajoint.ninai.org\"\n",
    "dj.config.load(\"dj_conf.json\")\n",
    "dj.conn()\n",
    "\n",
    "pinky = dj.create_virtual_module(\"seung_pinky\", \"seung_pinky\")"
   ]
  },
  {
   "cell_type": "markdown",
   "metadata": {},
   "source": [
    "## All pyramidal cells (PyCs)"
   ]
  },
  {
   "cell_type": "code",
   "execution_count": 7,
   "metadata": {},
   "outputs": [],
   "source": [
    "key = {\"segmentation\": 185}\n",
    "pyc_list = (pinky.Neuron() & key).fetch(\"segment_id\")\n",
    "n_pyc = pyc_list.shape[0]"
   ]
  },
  {
   "cell_type": "markdown",
   "metadata": {},
   "source": [
    "## PyC with functional data"
   ]
  },
  {
   "cell_type": "code",
   "execution_count": 12,
   "metadata": {
    "scrolled": true
   },
   "outputs": [
    {
     "data": {
      "text/html": [
       "<div>\n",
       "<style scoped>\n",
       "    .dataframe tbody tr th:only-of-type {\n",
       "        vertical-align: middle;\n",
       "    }\n",
       "\n",
       "    .dataframe tbody tr th {\n",
       "        vertical-align: top;\n",
       "    }\n",
       "\n",
       "    .dataframe thead th {\n",
       "        text-align: right;\n",
       "    }\n",
       "</style>\n",
       "<table border=\"1\" class=\"dataframe\">\n",
       "  <thead>\n",
       "    <tr style=\"text-align: right;\">\n",
       "      <th></th>\n",
       "      <th>segment_id</th>\n",
       "      <th>scan</th>\n",
       "      <th>osi</th>\n",
       "      <th>osi_p</th>\n",
       "      <th>dsi</th>\n",
       "      <th>dsi_p</th>\n",
       "    </tr>\n",
       "  </thead>\n",
       "  <tbody>\n",
       "    <tr>\n",
       "      <th>0</th>\n",
       "      <td>648518346349539895</td>\n",
       "      <td>2</td>\n",
       "      <td>1.399790</td>\n",
       "      <td>0.0085</td>\n",
       "      <td>0.360205</td>\n",
       "      <td>0.9077</td>\n",
       "    </tr>\n",
       "    <tr>\n",
       "      <th>1</th>\n",
       "      <td>648518346349537860</td>\n",
       "      <td>2</td>\n",
       "      <td>1.791797</td>\n",
       "      <td>0.0000</td>\n",
       "      <td>0.379977</td>\n",
       "      <td>0.7241</td>\n",
       "    </tr>\n",
       "    <tr>\n",
       "      <th>2</th>\n",
       "      <td>648518346349538440</td>\n",
       "      <td>2</td>\n",
       "      <td>1.369347</td>\n",
       "      <td>0.0025</td>\n",
       "      <td>0.257158</td>\n",
       "      <td>0.9983</td>\n",
       "    </tr>\n",
       "    <tr>\n",
       "      <th>3</th>\n",
       "      <td>648518346349538527</td>\n",
       "      <td>2</td>\n",
       "      <td>1.021334</td>\n",
       "      <td>0.0276</td>\n",
       "      <td>0.972555</td>\n",
       "      <td>0.9746</td>\n",
       "    </tr>\n",
       "    <tr>\n",
       "      <th>4</th>\n",
       "      <td>648518346349538209</td>\n",
       "      <td>2</td>\n",
       "      <td>1.863632</td>\n",
       "      <td>0.0000</td>\n",
       "      <td>0.100173</td>\n",
       "      <td>0.9763</td>\n",
       "    </tr>\n",
       "    <tr>\n",
       "      <th>...</th>\n",
       "      <td>...</td>\n",
       "      <td>...</td>\n",
       "      <td>...</td>\n",
       "      <td>...</td>\n",
       "      <td>...</td>\n",
       "      <td>...</td>\n",
       "    </tr>\n",
       "    <tr>\n",
       "      <th>107</th>\n",
       "      <td>648518346349537741</td>\n",
       "      <td>6</td>\n",
       "      <td>1.266736</td>\n",
       "      <td>0.0568</td>\n",
       "      <td>0.528219</td>\n",
       "      <td>0.9732</td>\n",
       "    </tr>\n",
       "    <tr>\n",
       "      <th>108</th>\n",
       "      <td>648518346349537901</td>\n",
       "      <td>6</td>\n",
       "      <td>1.163586</td>\n",
       "      <td>0.1148</td>\n",
       "      <td>1.162096</td>\n",
       "      <td>0.1404</td>\n",
       "    </tr>\n",
       "    <tr>\n",
       "      <th>109</th>\n",
       "      <td>648518346349538001</td>\n",
       "      <td>6</td>\n",
       "      <td>1.321359</td>\n",
       "      <td>0.0631</td>\n",
       "      <td>1.324058</td>\n",
       "      <td>0.0638</td>\n",
       "    </tr>\n",
       "    <tr>\n",
       "      <th>110</th>\n",
       "      <td>648518346349538251</td>\n",
       "      <td>6</td>\n",
       "      <td>1.436740</td>\n",
       "      <td>0.0139</td>\n",
       "      <td>1.399342</td>\n",
       "      <td>0.0287</td>\n",
       "    </tr>\n",
       "    <tr>\n",
       "      <th>111</th>\n",
       "      <td>648518346349538259</td>\n",
       "      <td>6</td>\n",
       "      <td>1.398149</td>\n",
       "      <td>0.0083</td>\n",
       "      <td>0.309803</td>\n",
       "      <td>0.9819</td>\n",
       "    </tr>\n",
       "  </tbody>\n",
       "</table>\n",
       "<p>112 rows × 6 columns</p>\n",
       "</div>"
      ],
      "text/plain": [
       "             segment_id  scan       osi   osi_p       dsi   dsi_p\n",
       "0    648518346349539895     2  1.399790  0.0085  0.360205  0.9077\n",
       "1    648518346349537860     2  1.791797  0.0000  0.379977  0.7241\n",
       "2    648518346349538440     2  1.369347  0.0025  0.257158  0.9983\n",
       "3    648518346349538527     2  1.021334  0.0276  0.972555  0.9746\n",
       "4    648518346349538209     2  1.863632  0.0000  0.100173  0.9763\n",
       "..                  ...   ...       ...     ...       ...     ...\n",
       "107  648518346349537741     6  1.266736  0.0568  0.528219  0.9732\n",
       "108  648518346349537901     6  1.163586  0.1148  1.162096  0.1404\n",
       "109  648518346349538001     6  1.321359  0.0631  1.324058  0.0638\n",
       "110  648518346349538251     6  1.436740  0.0139  1.399342  0.0287\n",
       "111  648518346349538259     6  1.398149  0.0083  0.309803  0.9819\n",
       "\n",
       "[112 rows x 6 columns]"
      ]
     },
     "execution_count": 12,
     "metadata": {},
     "output_type": "execute_result"
    }
   ],
   "source": [
    "cell_info_func = pd.read_csv(\"data/cell_functional_info.csv\")\n",
    "\n",
    "pyc_func_list = np.array(cell_info_func[\"segment_id\"])\n",
    "scan_list = np.array(cell_info_func[\"scan\"])\n",
    "n_func = pyc_func_list.shape[0]\n",
    "\n",
    "osi_p = np.array(cell_info_func[\"osi_p\"])\n",
    "dsi_p = np.array(cell_info_func[\"dsi_p\"])\n",
    "\n",
    "tune_os_idx = osi_p<0.05\n",
    "tune_ds_idx = dsi_p<0.05\n",
    "tune_all_idx = tune_os_idx + tune_ds_idx\n",
    "\n",
    "seg_id_os = pyc_func_list[tune_os_idx]\n",
    "seg_id_ds = pyc_func_list[tune_ds_idx]\n",
    "seg_id_tuned = pyc_func_list[tune_all_idx]\n",
    "\n",
    "cell_info_func"
   ]
  },
  {
   "cell_type": "markdown",
   "metadata": {},
   "source": [
    "## Get soma center coordinates"
   ]
  },
  {
   "cell_type": "code",
   "execution_count": 10,
   "metadata": {},
   "outputs": [],
   "source": [
    "pyc_soma_loc = np.zeros((n_pyc, 3))\n",
    "for i in range(n_pyc):\n",
    "    \n",
    "    seg_id = pyc_list[i]\n",
    "    pyc_soma_loc[i,:] = get_soma_loc(pinky, seg_id)"
   ]
  },
  {
   "cell_type": "code",
   "execution_count": 13,
   "metadata": {},
   "outputs": [],
   "source": [
    "pyc_func_soma_loc = np.zeros((n_func, 3))\n",
    "for i in range(n_func):\n",
    "    \n",
    "    seg_id = pyc_func_list[i]\n",
    "    idx = np.where(pyc_list==seg_id)[0][0]\n",
    "    pyc_func_soma_loc[i,:] = pyc_soma_loc[idx,:]"
   ]
  },
  {
   "cell_type": "markdown",
   "metadata": {},
   "source": [
    "## Spatial distribution of in-connection density"
   ]
  },
  {
   "cell_type": "code",
   "execution_count": 20,
   "metadata": {},
   "outputs": [],
   "source": [
    "inconn_density = np.zeros((n_func,))\n",
    "for i in range(n_func):\n",
    "    \n",
    "    seg_id = pyc_func_list[i]\n",
    "    inconn_density[i] = (pinky.SynDensity() & {\"segment_id\": seg_id}).fetch1(\"conn_in_dens\")"
   ]
  },
  {
   "cell_type": "code",
   "execution_count": 17,
   "metadata": {},
   "outputs": [],
   "source": [
    "xloc = pyc_func_soma_loc[tune_all_idx,0]\n",
    "yloc = pyc_func_soma_loc[tune_all_idx,1]\n",
    "zloc = pyc_func_soma_loc[tune_all_idx,2]"
   ]
  },
  {
   "cell_type": "code",
   "execution_count": 21,
   "metadata": {},
   "outputs": [
    {
     "name": "stderr",
     "output_type": "stream",
     "text": [
      "/Users/jabae/.virtualenvs/jupyter/lib/python3.7/site-packages/ipykernel_launcher.py:26: UserWarning: FixedFormatter should only be used together with FixedLocator\n",
      "/Users/jabae/.virtualenvs/jupyter/lib/python3.7/site-packages/ipykernel_launcher.py:26: UserWarning: FixedFormatter should only be used together with FixedLocator\n",
      "/Users/jabae/.virtualenvs/jupyter/lib/python3.7/site-packages/ipykernel_launcher.py:26: UserWarning: FixedFormatter should only be used together with FixedLocator\n"
     ]
    },
    {
     "data": {
      "image/png": "[encoded data removed]",
      "text/plain": [
       "<Figure size 432x864 with 3 Axes>"
      ]
     },
     "metadata": {
      "needs_background": "light"
     },
     "output_type": "display_data"
    }
   ],
   "source": [
    "fig = plt.figure(figsize=(6,12), constrained_layout=True)\n",
    "gs = fig.add_gridspec(3,1)\n",
    "\n",
    "ax1 = fig.add_subplot(gs[0,0])\n",
    "ax2 = fig.add_subplot(gs[1,0])\n",
    "ax3 = fig.add_subplot(gs[2,0])\n",
    "plot_spatial_ax(ax1, xloc, inconn_density[tune_all_idx], nbins=3, xlab=\"x ($\\mu m$)\")\n",
    "plot_spatial_ax(ax2, yloc, inconn_density[tune_all_idx], nbins=5, xlab=\"y ($\\mu m$)\")\n",
    "plot_spatial_ax(ax3, zloc, inconn_density[tune_all_idx], nbins=3, xlab=\"z ($\\mu m$)\")"
   ]
  },
  {
   "cell_type": "code",
   "execution_count": 22,
   "metadata": {},
   "outputs": [],
   "source": [
    "xloc = pyc_func_soma_loc[tune_all_idx,0]\n",
    "yloc = pyc_func_soma_loc[tune_all_idx,1]\n",
    "zloc = pyc_func_soma_loc[tune_all_idx,2]\n",
    "\n",
    "xbins = np.linspace(np.min(xloc), np.max(xloc)*1.001, 3); nx = xbins.shape[0]-1\n",
    "ybins = np.linspace(np.min(yloc), np.max(yloc)*1.001, 5); ny = ybins.shape[0]-1\n",
    "zbins = np.linspace(np.min(zloc), np.max(zloc)*1.001, 3); nz = zbins.shape[0]-1\n",
    "\n",
    "val_density = inconn_density[tune_all_idx]\n",
    "indices = np.arange(val_density.shape[0])\n",
    "\n",
    "idx_list = []\n",
    "for i in range(nx):\n",
    "    for j in range(ny):\n",
    "        for k in range(nz):\n",
    "            \n",
    "            valid = (xloc>=xbins[i])*(xloc<xbins[i+1]) \\\n",
    "                    *(yloc>=ybins[j])*(yloc<ybins[j+1]) \\\n",
    "                    *(zloc>=zbins[k])*(zloc<zbins[k+1])\n",
    "            \n",
    "            idx_list.append(indices[valid])"
   ]
  }
 ],
 "metadata": {
  "kernelspec": {
   "display_name": "Python 3",
   "language": "python",
   "name": "python3"
  },
  "language_info": {
   "codemirror_mode": {
    "name": "ipython",
    "version": 3
   },
   "file_extension": ".py",
   "mimetype": "text/x-python",
   "name": "python",
   "nbconvert_exporter": "python",
   "pygments_lexer": "ipython3",
   "version": "3.8.5"
  }
 },
 "nbformat": 4,
 "nbformat_minor": 4
}
