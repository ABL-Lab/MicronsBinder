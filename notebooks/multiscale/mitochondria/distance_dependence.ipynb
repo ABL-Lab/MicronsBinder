{
 "cells": [
  {
   "cell_type": "markdown",
   "metadata": {},
   "source": [
    "# Distance dependence analysis  \n",
    "Studying how the coverage factor and volumes change as path length from the soma increases."
   ]
  },
  {
   "cell_type": "markdown",
   "metadata": {},
   "source": [
    "### Downloading data\n",
    "Uncomment and run the cell below if you'd like to run the cells below"
   ]
  },
  {
   "cell_type": "code",
   "execution_count": null,
   "metadata": {},
   "outputs": [],
   "source": [
    "#! bash downloadData.sh\n",
    "#! bash downloadSkeletons.sh"
   ]
  },
  {
   "cell_type": "code",
   "execution_count": 1,
   "metadata": {},
   "outputs": [],
   "source": [
    "# just getting past the weird Static TLS thing...\n",
    "from meshparty import trimesh_io\n",
    "\n",
    "import numpy as np\n",
    "import pandas as pd\n",
    "import matplotlib.pyplot as plt\n",
    "\n",
    "from lib import compartment, u, modelling, plot, coverage, skel"
   ]
  },
  {
   "cell_type": "code",
   "execution_count": 2,
   "metadata": {},
   "outputs": [],
   "source": [
    "DISTDF_FILENAME = \"data/mito_to_skel_v185.h5\"\n",
    "CLEANIDS_FILENAME = \"data/clean_compartment_ids_v185.csv\""
   ]
  },
  {
   "cell_type": "markdown",
   "metadata": {},
   "source": [
    "# Reading data"
   ]
  },
  {
   "cell_type": "code",
   "execution_count": 3,
   "metadata": {},
   "outputs": [],
   "source": [
    "distdf = compartment.read_dist_df(DISTDF_FILENAME)\n",
    "cleanids = u.read_ids(CLEANIDS_FILENAME)"
   ]
  },
  {
   "cell_type": "markdown",
   "metadata": {},
   "source": [
    "# Coverage vs. distance to soma"
   ]
  },
  {
   "cell_type": "code",
   "execution_count": 4,
   "metadata": {},
   "outputs": [
    {
     "name": "stdout",
     "output_type": "stream",
     "text": [
      "#125 of 125\r"
     ]
    }
   ],
   "source": [
    "covfactordf = coverage.compute_mitocovfactor(distdf, cleanids, binwidth=20, refine=False, shrink=False)"
   ]
  },
  {
   "cell_type": "code",
   "execution_count": 5,
   "metadata": {},
   "outputs": [
    {
     "data": {
      "text/html": [
       "<div>\n",
       "<style scoped>\n",
       "    .dataframe tbody tr th:only-of-type {\n",
       "        vertical-align: middle;\n",
       "    }\n",
       "\n",
       "    .dataframe tbody tr th {\n",
       "        vertical-align: top;\n",
       "    }\n",
       "\n",
       "    .dataframe thead th {\n",
       "        text-align: right;\n",
       "    }\n",
       "</style>\n",
       "<table border=\"1\" class=\"dataframe\">\n",
       "  <thead>\n",
       "    <tr style=\"text-align: right;\">\n",
       "      <th></th>\n",
       "      <th>componentid</th>\n",
       "      <th>mitocovfactor</th>\n",
       "      <th>bin_center</th>\n",
       "      <th>nodelbl</th>\n",
       "      <th>disttoleaf</th>\n",
       "      <th>cellid</th>\n",
       "    </tr>\n",
       "  </thead>\n",
       "  <tbody>\n",
       "    <tr>\n",
       "      <th>0</th>\n",
       "      <td>0</td>\n",
       "      <td>0.653445</td>\n",
       "      <td>150.0</td>\n",
       "      <td>2</td>\n",
       "      <td>0.000000</td>\n",
       "      <td>648518346349537297</td>\n",
       "    </tr>\n",
       "    <tr>\n",
       "      <th>1</th>\n",
       "      <td>71</td>\n",
       "      <td>0.274697</td>\n",
       "      <td>170.0</td>\n",
       "      <td>2</td>\n",
       "      <td>0.000000</td>\n",
       "      <td>648518346349537297</td>\n",
       "    </tr>\n",
       "    <tr>\n",
       "      <th>2</th>\n",
       "      <td>84</td>\n",
       "      <td>0.546212</td>\n",
       "      <td>150.0</td>\n",
       "      <td>2</td>\n",
       "      <td>1.144212</td>\n",
       "      <td>648518346349537297</td>\n",
       "    </tr>\n",
       "    <tr>\n",
       "      <th>3</th>\n",
       "      <td>282</td>\n",
       "      <td>0.792467</td>\n",
       "      <td>130.0</td>\n",
       "      <td>2</td>\n",
       "      <td>21.115633</td>\n",
       "      <td>648518346349537297</td>\n",
       "    </tr>\n",
       "    <tr>\n",
       "      <th>4</th>\n",
       "      <td>305</td>\n",
       "      <td>0.889037</td>\n",
       "      <td>130.0</td>\n",
       "      <td>2</td>\n",
       "      <td>17.887986</td>\n",
       "      <td>648518346349537297</td>\n",
       "    </tr>\n",
       "  </tbody>\n",
       "</table>\n",
       "</div>"
      ],
      "text/plain": [
       "   componentid  mitocovfactor  bin_center  nodelbl  disttoleaf  \\\n",
       "0            0       0.653445       150.0        2    0.000000   \n",
       "1           71       0.274697       170.0        2    0.000000   \n",
       "2           84       0.546212       150.0        2    1.144212   \n",
       "3          282       0.792467       130.0        2   21.115633   \n",
       "4          305       0.889037       130.0        2   17.887986   \n",
       "\n",
       "               cellid  \n",
       "0  648518346349537297  \n",
       "1  648518346349537297  \n",
       "2  648518346349537297  \n",
       "3  648518346349537297  \n",
       "4  648518346349537297  "
      ]
     },
     "execution_count": 5,
     "metadata": {},
     "output_type": "execute_result"
    }
   ],
   "source": [
    "covfactordf.head()"
   ]
  },
  {
   "cell_type": "markdown",
   "metadata": {},
   "source": [
    "Removing cells that touch the soma (largely somatic)"
   ]
  },
  {
   "cell_type": "code",
   "execution_count": 6,
   "metadata": {},
   "outputs": [],
   "source": [
    "covfactordf = covfactordf[covfactordf.disttoleaf > 0]"
   ]
  },
  {
   "cell_type": "code",
   "execution_count": 7,
   "metadata": {},
   "outputs": [
    {
     "data": {
      "image/png": "[encoded data removed]",
      "text/plain": [
       "<Figure size 576x504 with 3 Axes>"
      ]
     },
     "metadata": {
      "needs_background": "light"
     },
     "output_type": "display_data"
    }
   ],
   "source": [
    "plot.extPanel4B(covfactordf, varname=\"mitocovfactor\")\n",
    "\n",
    "plt.show()"
   ]
  },
  {
   "cell_type": "code",
   "execution_count": 8,
   "metadata": {},
   "outputs": [
    {
     "data": {
      "text/html": [
       "<div>\n",
       "<style scoped>\n",
       "    .dataframe tbody tr th:only-of-type {\n",
       "        vertical-align: middle;\n",
       "    }\n",
       "\n",
       "    .dataframe tbody tr th {\n",
       "        vertical-align: top;\n",
       "    }\n",
       "\n",
       "    .dataframe thead th {\n",
       "        text-align: right;\n",
       "    }\n",
       "</style>\n",
       "<table border=\"1\" class=\"dataframe\">\n",
       "  <thead>\n",
       "    <tr style=\"text-align: right;\">\n",
       "      <th></th>\n",
       "      <th>componentid</th>\n",
       "      <th>mitocovfactor</th>\n",
       "      <th>bin_center</th>\n",
       "      <th>nodelbl</th>\n",
       "      <th>disttoleaf</th>\n",
       "      <th>cellid</th>\n",
       "    </tr>\n",
       "  </thead>\n",
       "  <tbody>\n",
       "    <tr>\n",
       "      <th>9041</th>\n",
       "      <td>3123</td>\n",
       "      <td>1.149952</td>\n",
       "      <td>130.0</td>\n",
       "      <td>3</td>\n",
       "      <td>7.345349</td>\n",
       "      <td>648518346349536811</td>\n",
       "    </tr>\n",
       "    <tr>\n",
       "      <th>10504</th>\n",
       "      <td>2158</td>\n",
       "      <td>1.042548</td>\n",
       "      <td>130.0</td>\n",
       "      <td>3</td>\n",
       "      <td>23.312280</td>\n",
       "      <td>648518346349537075</td>\n",
       "    </tr>\n",
       "    <tr>\n",
       "      <th>2256</th>\n",
       "      <td>632</td>\n",
       "      <td>1.038933</td>\n",
       "      <td>130.0</td>\n",
       "      <td>3</td>\n",
       "      <td>1.034640</td>\n",
       "      <td>648518346349537492</td>\n",
       "    </tr>\n",
       "    <tr>\n",
       "      <th>11618</th>\n",
       "      <td>9843</td>\n",
       "      <td>1.008795</td>\n",
       "      <td>130.0</td>\n",
       "      <td>3</td>\n",
       "      <td>4.283157</td>\n",
       "      <td>648518346349536205</td>\n",
       "    </tr>\n",
       "    <tr>\n",
       "      <th>6384</th>\n",
       "      <td>1687</td>\n",
       "      <td>1.000000</td>\n",
       "      <td>130.0</td>\n",
       "      <td>3</td>\n",
       "      <td>4.887507</td>\n",
       "      <td>648518346349539934</td>\n",
       "    </tr>\n",
       "  </tbody>\n",
       "</table>\n",
       "</div>"
      ],
      "text/plain": [
       "       componentid  mitocovfactor  bin_center  nodelbl  disttoleaf  \\\n",
       "9041          3123       1.149952       130.0        3    7.345349   \n",
       "10504         2158       1.042548       130.0        3   23.312280   \n",
       "2256           632       1.038933       130.0        3    1.034640   \n",
       "11618         9843       1.008795       130.0        3    4.283157   \n",
       "6384          1687       1.000000       130.0        3    4.887507   \n",
       "\n",
       "                   cellid  \n",
       "9041   648518346349536811  \n",
       "10504  648518346349537075  \n",
       "2256   648518346349537492  \n",
       "11618  648518346349536205  \n",
       "6384   648518346349539934  "
      ]
     },
     "execution_count": 8,
     "metadata": {},
     "output_type": "execute_result"
    }
   ],
   "source": [
    "covfactordf[(covfactordf.bin_center == 130) &\n",
    "            (covfactordf.nodelbl == 3)].\\\n",
    "            sort_values(\"mitocovfactor\", ascending=False).head()"
   ]
  },
  {
   "cell_type": "markdown",
   "metadata": {},
   "source": [
    "# Volume vs. distance to soma"
   ]
  },
  {
   "cell_type": "code",
   "execution_count": 9,
   "metadata": {},
   "outputs": [],
   "source": [
    "def add_disttoleaf(distdf, cellids):\n",
    "    subdfs = list()\n",
    "    \n",
    "    for (i, cellid) in enumerate(cellids):\n",
    "        print(f\"#{i+1} of {len(cellids)}\", end=\"\\r\")\n",
    "        subdf = distdf[distdf.cellid == cellid].copy()\n",
    "        cellskel = skel.read_neuron_skel(cellid)\n",
    "        \n",
    "        pls = skel.path_length_to_leaves(cellskel)\n",
    "        subdf[\"disttoleaf\"] = pls[subdf.nodeids.values] / 1000.  # scale to um\n",
    "        \n",
    "        subdfs.append(subdf)\n",
    "        \n",
    "    return pd.concat(subdfs)"
   ]
  },
  {
   "cell_type": "code",
   "execution_count": 10,
   "metadata": {},
   "outputs": [
    {
     "name": "stdout",
     "output_type": "stream",
     "text": [
      "#125 of 125\r"
     ]
    }
   ],
   "source": [
    "distdf = add_disttoleaf(distdf, cleanids)"
   ]
  },
  {
   "cell_type": "code",
   "execution_count": 11,
   "metadata": {},
   "outputs": [
    {
     "data": {
      "text/html": [
       "<div>\n",
       "<style scoped>\n",
       "    .dataframe tbody tr th:only-of-type {\n",
       "        vertical-align: middle;\n",
       "    }\n",
       "\n",
       "    .dataframe tbody tr th {\n",
       "        vertical-align: top;\n",
       "    }\n",
       "\n",
       "    .dataframe thead th {\n",
       "        text-align: right;\n",
       "    }\n",
       "</style>\n",
       "<table border=\"1\" class=\"dataframe\">\n",
       "  <thead>\n",
       "    <tr style=\"text-align: right;\">\n",
       "      <th></th>\n",
       "      <th>cellid</th>\n",
       "      <th>mitoids</th>\n",
       "      <th>mitovols</th>\n",
       "      <th>nodedists</th>\n",
       "      <th>nodeids</th>\n",
       "      <th>nodelbls</th>\n",
       "      <th>disttoleaf</th>\n",
       "    </tr>\n",
       "  </thead>\n",
       "  <tbody>\n",
       "    <tr>\n",
       "      <th>1198207</th>\n",
       "      <td>648518346349537297</td>\n",
       "      <td>3392500</td>\n",
       "      <td>1487304</td>\n",
       "      <td>26566.162468</td>\n",
       "      <td>6658</td>\n",
       "      <td>2</td>\n",
       "      <td>47.954371</td>\n",
       "    </tr>\n",
       "    <tr>\n",
       "      <th>1198208</th>\n",
       "      <td>648518346349537297</td>\n",
       "      <td>3392500</td>\n",
       "      <td>1487304</td>\n",
       "      <td>29451.866936</td>\n",
       "      <td>6660</td>\n",
       "      <td>2</td>\n",
       "      <td>50.840076</td>\n",
       "    </tr>\n",
       "    <tr>\n",
       "      <th>1198209</th>\n",
       "      <td>648518346349537297</td>\n",
       "      <td>3392500</td>\n",
       "      <td>1487304</td>\n",
       "      <td>26687.582718</td>\n",
       "      <td>6661</td>\n",
       "      <td>2</td>\n",
       "      <td>48.075791</td>\n",
       "    </tr>\n",
       "    <tr>\n",
       "      <th>1198210</th>\n",
       "      <td>648518346349537297</td>\n",
       "      <td>3392500</td>\n",
       "      <td>1487304</td>\n",
       "      <td>28063.105118</td>\n",
       "      <td>6662</td>\n",
       "      <td>2</td>\n",
       "      <td>44.848946</td>\n",
       "    </tr>\n",
       "    <tr>\n",
       "      <th>1198211</th>\n",
       "      <td>648518346349537297</td>\n",
       "      <td>3392500</td>\n",
       "      <td>1487304</td>\n",
       "      <td>27921.338699</td>\n",
       "      <td>6663</td>\n",
       "      <td>2</td>\n",
       "      <td>44.990712</td>\n",
       "    </tr>\n",
       "  </tbody>\n",
       "</table>\n",
       "</div>"
      ],
      "text/plain": [
       "                     cellid  mitoids  mitovols     nodedists  nodeids  \\\n",
       "1198207  648518346349537297  3392500   1487304  26566.162468     6658   \n",
       "1198208  648518346349537297  3392500   1487304  29451.866936     6660   \n",
       "1198209  648518346349537297  3392500   1487304  26687.582718     6661   \n",
       "1198210  648518346349537297  3392500   1487304  28063.105118     6662   \n",
       "1198211  648518346349537297  3392500   1487304  27921.338699     6663   \n",
       "\n",
       "         nodelbls  disttoleaf  \n",
       "1198207         2   47.954371  \n",
       "1198208         2   50.840076  \n",
       "1198209         2   48.075791  \n",
       "1198210         2   44.848946  \n",
       "1198211         2   44.990712  "
      ]
     },
     "execution_count": 11,
     "metadata": {},
     "output_type": "execute_result"
    }
   ],
   "source": [
    "distdf.head()"
   ]
  },
  {
   "cell_type": "code",
   "execution_count": 12,
   "metadata": {},
   "outputs": [],
   "source": [
    "mindist = distdf.groupby(\"mitoids\").min()[[\"disttoleaf\", \"nodedists\"]]\n",
    "meandisttosoma = distdf.groupby(\"mitoids\").mean()[[\"nodedists\", \"mitovols\"]]"
   ]
  },
  {
   "cell_type": "markdown",
   "metadata": {},
   "source": [
    "Adding $\\mathrm{\\mu}$m$^3$ volume and majority vote compartment classification"
   ]
  },
  {
   "cell_type": "code",
   "execution_count": 13,
   "metadata": {},
   "outputs": [],
   "source": [
    "meandisttosoma[\"vol\"] = meandisttosoma[\"mitovols\"] * plot.DEFAULT_VX_VOL\n",
    "lbl_lookup = dict(zip(*compartment.majority_vote_label(distdf)))\n",
    "meandisttosoma[\"nodelbl\"] = [lbl_lookup[i] for i in meandisttosoma.index]"
   ]
  },
  {
   "cell_type": "markdown",
   "metadata": {},
   "source": [
    "Removing mitos that cross into the soma"
   ]
  },
  {
   "cell_type": "code",
   "execution_count": 14,
   "metadata": {},
   "outputs": [],
   "source": [
    "somatic = mindist.index[mindist.nodedists == 0].values\n",
    "meandisttosoma = meandisttosoma.loc[~meandisttosoma.index.isin(somatic)]"
   ]
  },
  {
   "cell_type": "markdown",
   "metadata": {},
   "source": [
    "Removing mitos whose distance to a leaf node is < 10$\\mu$m"
   ]
  },
  {
   "cell_type": "code",
   "execution_count": 15,
   "metadata": {},
   "outputs": [],
   "source": [
    "closetoleaf = mindist.index[mindist.disttoleaf < 30]\n",
    "meandisttosoma_noleaf = meandisttosoma.loc[\n",
    "                            ~meandisttosoma.index.isin(closetoleaf)]"
   ]
  },
  {
   "cell_type": "code",
   "execution_count": 16,
   "metadata": {},
   "outputs": [
    {
     "name": "stderr",
     "output_type": "stream",
     "text": [
      "\n",
      "A value is trying to be set on a copy of a slice from a DataFrame.\n",
      "Try using .loc[row_indexer,col_indexer] = value instead\n",
      "\n",
      "See the caveats in the documentation: http://pandas.pydata.org/pandas-docs/stable/indexing.html#indexing-view-versus-copy\n",
      "\n",
      "A value is trying to be set on a copy of a slice from a DataFrame.\n",
      "Try using .loc[row_indexer,col_indexer] = value instead\n",
      "\n",
      "See the caveats in the documentation: http://pandas.pydata.org/pandas-docs/stable/indexing.html#indexing-view-versus-copy\n"
     ]
    }
   ],
   "source": [
    "meandist_fmt, _, _ = plot.format_distdf(meandisttosoma_noleaf, 30)"
   ]
  },
  {
   "cell_type": "code",
   "execution_count": 17,
   "metadata": {},
   "outputs": [
    {
     "data": {
      "image/png": "[encoded data removed]",
      "text/plain": [
       "<Figure size 576x504 with 3 Axes>"
      ]
     },
     "metadata": {
      "needs_background": "light"
     },
     "output_type": "display_data"
    }
   ],
   "source": [
    "plot.extPanel4C(meandist_fmt)\n",
    "\n",
    "plt.show()"
   ]
  }
 ],
 "metadata": {
  "kernelspec": {
   "display_name": "Python 3",
   "language": "python",
   "name": "python3"
  },
  "language_info": {
   "codemirror_mode": {
    "name": "ipython",
    "version": 3
   },
   "file_extension": ".py",
   "mimetype": "text/x-python",
   "name": "python",
   "nbconvert_exporter": "python",
   "pygments_lexer": "ipython3",
   "version": "3.7.3"
  }
 },
 "nbformat": 4,
 "nbformat_minor": 4
}
