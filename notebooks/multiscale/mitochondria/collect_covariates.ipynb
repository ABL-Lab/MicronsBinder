{
 "cells": [
  {
   "cell_type": "markdown",
   "metadata": {},
   "source": [
    "# Assembling data\n",
    "Trying to tease apart several potentially related variables\n",
    "* Mitochondrial coverage\n",
    "* Mitochondrial index (mito pl / total pl)\n",
    "* Linear synapse density\n",
    "* Soma volume\n",
    "* Nucleus volume\n",
    "* Mitochondrial density within the somatic cytosol\n",
    "* Soma surface synapse density\n",
    "* Depth\n",
    "\n",
    "This notebook is intended to collect this data in a single dataframe for later analysis and interpretation."
   ]
  },
  {
   "cell_type": "markdown",
   "metadata": {},
   "source": [
    "### Downloading data\n",
    "Uncomment and run the cell below if you'd like to run the cells below\n",
    "\n",
    "WARNING: This notebook has high data requirements (mostly the meshes), but no visualization. The other notebooks will work without running these, as the results of this notebook have been included in the intermediate data tarball."
   ]
  },
  {
   "cell_type": "code",
   "execution_count": 1,
   "metadata": {},
   "outputs": [],
   "source": [
    "#! bash downloadData.sh\n",
    "#! bash downloadSkeletons.sh\n",
    "#! bash downloadMeshes.sh"
   ]
  },
  {
   "cell_type": "code",
   "execution_count": 2,
   "metadata": {},
   "outputs": [],
   "source": [
    "from collections import Counter\n",
    "\n",
    "import numpy as np\n",
    "import pandas as pd\n",
    "import matplotlib.pyplot as plt\n",
    "\n",
    "from meshparty import trimesh_io\n",
    "from lib import skel, compartment, u, coverage, plot, mesh"
   ]
  },
  {
   "cell_type": "markdown",
   "metadata": {},
   "source": [
    "# Reading data"
   ]
  },
  {
   "cell_type": "code",
   "execution_count": 3,
   "metadata": {},
   "outputs": [],
   "source": [
    "MITODF_FILENAME = \"data/pni_mito_cellswskel_v185.csv\"\n",
    "CLEANIDS_FILENAME = \"data/clean_compartment_ids_v185.csv\"\n",
    "DISTDF_FILENAME = \"data/mito_to_skel_v185.h5\"\n",
    "COMPLETE_FILENAME = \"data/complete_soma_ids_v185.csv\"\n",
    "SOMAVOL_FILENAME = \"data/neuron_somavol_v185.csv\"\n",
    "POSTSYNDF_FILENAME = \"data/neuron_received_synapses_v185.csv\"\n",
    "NUCDF_FILENAME = \"data/pni_nucleus_segments_v185.csv\"\n",
    "NUC_LOOKUP_FILENAME = \"data/cleanandcomplete_nucleus_lookup.csv\"\n",
    "TRANSFORM_FILENAME = \"data/aibs_depth_rotation.npy\""
   ]
  },
  {
   "cell_type": "code",
   "execution_count": 4,
   "metadata": {},
   "outputs": [],
   "source": [
    "mitodf = pd.read_csv(MITODF_FILENAME, index_col=0)\n",
    "cleanids = u.read_ids(CLEANIDS_FILENAME)\n",
    "distdf = compartment.read_dist_df(DISTDF_FILENAME)\n",
    "completeids = u.read_ids(COMPLETE_FILENAME)\n",
    "somavol = pd.read_csv(SOMAVOL_FILENAME, index_col=0)\n",
    "postsyndf = pd.read_csv(POSTSYNDF_FILENAME, index_col=0)\n",
    "nucdf = pd.read_csv(NUCDF_FILENAME, index_col=0)\n",
    "nuc_lookup = u.read_lookup(NUC_LOOKUP_FILENAME, sep=',')\n",
    "pinky_transform = np.load(TRANSFORM_FILENAME)"
   ]
  },
  {
   "cell_type": "code",
   "execution_count": 5,
   "metadata": {},
   "outputs": [],
   "source": [
    "cleanandcomplete = list(set(completeids).intersection(cleanids))"
   ]
  },
  {
   "cell_type": "code",
   "execution_count": 6,
   "metadata": {},
   "outputs": [],
   "source": [
    "somavol = dict(zip(somavol.index, somavol.vols))"
   ]
  },
  {
   "cell_type": "markdown",
   "metadata": {},
   "source": [
    "# Dendrite statistics\n",
    "* Mitochondrial coverage\n",
    "* Mitochondrial index\n",
    "* Linear synapse density"
   ]
  },
  {
   "cell_type": "code",
   "execution_count": 7,
   "metadata": {},
   "outputs": [],
   "source": [
    "def synapses_per_node(cellid):\n",
    "    centroids = u.extract_coords_dlcsv(\n",
    "        postsyndf[postsyndf.post_pt_root_id == cellid]) * [3.58, 3.58, 40]\n",
    "    \n",
    "    segskel = skel.read_neuron_skel(cellid)\n",
    "    \n",
    "    kdt = u.KDTree(segskel.vertices)\n",
    "    \n",
    "    return Counter(kdt.query(centroids)[1])\n",
    "\n",
    "\n",
    "def compute_all_cov_and_densities(cellids):\n",
    "    \n",
    "    subdfs = list()\n",
    "    for (i, cellid) in enumerate(cellids):\n",
    "        print(f\"#{i+1} of {len(cellids)}\", end=\"\\r\")\n",
    "        covered = distdf.nodeids[distdf.cellid == cellid]\n",
    "        synapse_nodes = synapses_per_node(cellid)\n",
    "        subdf = coverage.bulk_mitochondrial_coverage_by_comp(\n",
    "            cellid, covered, synapse_nodes=synapse_nodes)\n",
    "        cellid_series = pd.Series([cellid] * len(subdf), dtype=np.uint64)\n",
    "        subdf.loc[:, \"cellid\"] = cellid_series\n",
    "        subdfs.append(subdf)\n",
    "        \n",
    "    return pd.concat(subdfs, ignore_index=True)"
   ]
  },
  {
   "cell_type": "code",
   "execution_count": 8,
   "metadata": {},
   "outputs": [
    {
     "name": "stdout",
     "output_type": "stream",
     "text": [
      "#65 of 65\r"
     ]
    }
   ],
   "source": [
    "covdf = compute_all_cov_and_densities(cleanandcomplete)"
   ]
  },
  {
   "cell_type": "code",
   "execution_count": 9,
   "metadata": {},
   "outputs": [
    {
     "data": {
      "text/plain": [
       "648518346349538365"
      ]
     },
     "execution_count": 9,
     "metadata": {},
     "output_type": "execute_result"
    }
   ],
   "source": [
    "cleanandcomplete[32]"
   ]
  },
  {
   "cell_type": "code",
   "execution_count": 10,
   "metadata": {},
   "outputs": [],
   "source": [
    "covdf = covdf[covdf.compartment.isin([2, 3])]"
   ]
  },
  {
   "cell_type": "code",
   "execution_count": 11,
   "metadata": {},
   "outputs": [
    {
     "data": {
      "text/html": [
       "<div>\n",
       "<style scoped>\n",
       "    .dataframe tbody tr th:only-of-type {\n",
       "        vertical-align: middle;\n",
       "    }\n",
       "\n",
       "    .dataframe tbody tr th {\n",
       "        vertical-align: top;\n",
       "    }\n",
       "\n",
       "    .dataframe thead th {\n",
       "        text-align: right;\n",
       "    }\n",
       "</style>\n",
       "<table border=\"1\" class=\"dataframe\">\n",
       "  <thead>\n",
       "    <tr style=\"text-align: right;\">\n",
       "      <th></th>\n",
       "      <th>coverage</th>\n",
       "      <th>compartment</th>\n",
       "      <th>pathlength</th>\n",
       "      <th>synapsecount</th>\n",
       "      <th>synapse_density</th>\n",
       "      <th>cellid</th>\n",
       "    </tr>\n",
       "  </thead>\n",
       "  <tbody>\n",
       "    <tr>\n",
       "      <th>2</th>\n",
       "      <td>0.797220</td>\n",
       "      <td>2</td>\n",
       "      <td>1135.767461</td>\n",
       "      <td>1987</td>\n",
       "      <td>1.749478</td>\n",
       "      <td>648518346349539076</td>\n",
       "    </tr>\n",
       "    <tr>\n",
       "      <th>3</th>\n",
       "      <td>0.781562</td>\n",
       "      <td>3</td>\n",
       "      <td>436.910114</td>\n",
       "      <td>870</td>\n",
       "      <td>1.991256</td>\n",
       "      <td>648518346349539076</td>\n",
       "    </tr>\n",
       "    <tr>\n",
       "      <th>6</th>\n",
       "      <td>0.784184</td>\n",
       "      <td>2</td>\n",
       "      <td>1670.966250</td>\n",
       "      <td>3122</td>\n",
       "      <td>1.868380</td>\n",
       "      <td>648518346349538053</td>\n",
       "    </tr>\n",
       "    <tr>\n",
       "      <th>7</th>\n",
       "      <td>0.762532</td>\n",
       "      <td>3</td>\n",
       "      <td>565.514823</td>\n",
       "      <td>1018</td>\n",
       "      <td>1.800130</td>\n",
       "      <td>648518346349538053</td>\n",
       "    </tr>\n",
       "    <tr>\n",
       "      <th>10</th>\n",
       "      <td>0.750715</td>\n",
       "      <td>2</td>\n",
       "      <td>991.071646</td>\n",
       "      <td>1643</td>\n",
       "      <td>1.657801</td>\n",
       "      <td>648518346349539591</td>\n",
       "    </tr>\n",
       "  </tbody>\n",
       "</table>\n",
       "</div>"
      ],
      "text/plain": [
       "    coverage  compartment   pathlength  synapsecount  synapse_density  \\\n",
       "2   0.797220            2  1135.767461          1987         1.749478   \n",
       "3   0.781562            3   436.910114           870         1.991256   \n",
       "6   0.784184            2  1670.966250          3122         1.868380   \n",
       "7   0.762532            3   565.514823          1018         1.800130   \n",
       "10  0.750715            2   991.071646          1643         1.657801   \n",
       "\n",
       "                cellid  \n",
       "2   648518346349539076  \n",
       "3   648518346349539076  \n",
       "6   648518346349538053  \n",
       "7   648518346349538053  \n",
       "10  648518346349539591  "
      ]
     },
     "execution_count": 11,
     "metadata": {},
     "output_type": "execute_result"
    }
   ],
   "source": [
    "covdf.head()"
   ]
  },
  {
   "cell_type": "markdown",
   "metadata": {},
   "source": [
    "### Mitochondrial Coverage Factor"
   ]
  },
  {
   "cell_type": "code",
   "execution_count": 12,
   "metadata": {},
   "outputs": [
    {
     "name": "stdout",
     "output_type": "stream",
     "text": [
      "#65 of 65\r"
     ]
    }
   ],
   "source": [
    "mitocovfactor = coverage.compute_bulk_mitocovfactor(distdf, cleanandcomplete)"
   ]
  },
  {
   "cell_type": "code",
   "execution_count": 13,
   "metadata": {},
   "outputs": [],
   "source": [
    "mitocovfactor = mitocovfactor[mitocovfactor.nodelbl1.isin([2, 3])]"
   ]
  },
  {
   "cell_type": "code",
   "execution_count": 14,
   "metadata": {},
   "outputs": [
    {
     "data": {
      "text/html": [
       "<div>\n",
       "<style scoped>\n",
       "    .dataframe tbody tr th:only-of-type {\n",
       "        vertical-align: middle;\n",
       "    }\n",
       "\n",
       "    .dataframe tbody tr th {\n",
       "        vertical-align: top;\n",
       "    }\n",
       "\n",
       "    .dataframe thead th {\n",
       "        text-align: right;\n",
       "    }\n",
       "</style>\n",
       "<table border=\"1\" class=\"dataframe\">\n",
       "  <thead>\n",
       "    <tr style=\"text-align: right;\">\n",
       "      <th></th>\n",
       "      <th>nodelbl1</th>\n",
       "      <th>mitocovfactor</th>\n",
       "      <th>cellid</th>\n",
       "    </tr>\n",
       "  </thead>\n",
       "  <tbody>\n",
       "    <tr>\n",
       "      <th>2</th>\n",
       "      <td>2</td>\n",
       "      <td>0.913667</td>\n",
       "      <td>648518346349539076</td>\n",
       "    </tr>\n",
       "    <tr>\n",
       "      <th>3</th>\n",
       "      <td>3</td>\n",
       "      <td>0.984025</td>\n",
       "      <td>648518346349539076</td>\n",
       "    </tr>\n",
       "    <tr>\n",
       "      <th>6</th>\n",
       "      <td>2</td>\n",
       "      <td>0.851435</td>\n",
       "      <td>648518346349538053</td>\n",
       "    </tr>\n",
       "    <tr>\n",
       "      <th>7</th>\n",
       "      <td>3</td>\n",
       "      <td>0.841754</td>\n",
       "      <td>648518346349538053</td>\n",
       "    </tr>\n",
       "    <tr>\n",
       "      <th>10</th>\n",
       "      <td>2</td>\n",
       "      <td>0.879747</td>\n",
       "      <td>648518346349539591</td>\n",
       "    </tr>\n",
       "  </tbody>\n",
       "</table>\n",
       "</div>"
      ],
      "text/plain": [
       "    nodelbl1  mitocovfactor              cellid\n",
       "2          2       0.913667  648518346349539076\n",
       "3          3       0.984025  648518346349539076\n",
       "6          2       0.851435  648518346349538053\n",
       "7          3       0.841754  648518346349538053\n",
       "10         2       0.879747  648518346349539591"
      ]
     },
     "execution_count": 14,
     "metadata": {},
     "output_type": "execute_result"
    }
   ],
   "source": [
    "mitocovfactor.head()"
   ]
  },
  {
   "cell_type": "code",
   "execution_count": 15,
   "metadata": {},
   "outputs": [],
   "source": [
    "covdf = pd.merge(covdf, mitocovfactor,\n",
    "                 left_on=[\"cellid\", \"compartment\"],\n",
    "                 right_on=[\"cellid\", \"nodelbl1\"]).drop(\n",
    "                 [\"nodelbl1\"], axis=1)"
   ]
  },
  {
   "cell_type": "code",
   "execution_count": 16,
   "metadata": {},
   "outputs": [
    {
     "data": {
      "text/html": [
       "<div>\n",
       "<style scoped>\n",
       "    .dataframe tbody tr th:only-of-type {\n",
       "        vertical-align: middle;\n",
       "    }\n",
       "\n",
       "    .dataframe tbody tr th {\n",
       "        vertical-align: top;\n",
       "    }\n",
       "\n",
       "    .dataframe thead th {\n",
       "        text-align: right;\n",
       "    }\n",
       "</style>\n",
       "<table border=\"1\" class=\"dataframe\">\n",
       "  <thead>\n",
       "    <tr style=\"text-align: right;\">\n",
       "      <th></th>\n",
       "      <th>coverage</th>\n",
       "      <th>compartment</th>\n",
       "      <th>pathlength</th>\n",
       "      <th>synapsecount</th>\n",
       "      <th>synapse_density</th>\n",
       "      <th>cellid</th>\n",
       "      <th>mitocovfactor</th>\n",
       "    </tr>\n",
       "  </thead>\n",
       "  <tbody>\n",
       "    <tr>\n",
       "      <th>0</th>\n",
       "      <td>0.797220</td>\n",
       "      <td>2</td>\n",
       "      <td>1135.767461</td>\n",
       "      <td>1987</td>\n",
       "      <td>1.749478</td>\n",
       "      <td>648518346349539076</td>\n",
       "      <td>0.913667</td>\n",
       "    </tr>\n",
       "    <tr>\n",
       "      <th>1</th>\n",
       "      <td>0.781562</td>\n",
       "      <td>3</td>\n",
       "      <td>436.910114</td>\n",
       "      <td>870</td>\n",
       "      <td>1.991256</td>\n",
       "      <td>648518346349539076</td>\n",
       "      <td>0.984025</td>\n",
       "    </tr>\n",
       "    <tr>\n",
       "      <th>2</th>\n",
       "      <td>0.784184</td>\n",
       "      <td>2</td>\n",
       "      <td>1670.966250</td>\n",
       "      <td>3122</td>\n",
       "      <td>1.868380</td>\n",
       "      <td>648518346349538053</td>\n",
       "      <td>0.851435</td>\n",
       "    </tr>\n",
       "    <tr>\n",
       "      <th>3</th>\n",
       "      <td>0.762532</td>\n",
       "      <td>3</td>\n",
       "      <td>565.514823</td>\n",
       "      <td>1018</td>\n",
       "      <td>1.800130</td>\n",
       "      <td>648518346349538053</td>\n",
       "      <td>0.841754</td>\n",
       "    </tr>\n",
       "    <tr>\n",
       "      <th>4</th>\n",
       "      <td>0.750715</td>\n",
       "      <td>2</td>\n",
       "      <td>991.071646</td>\n",
       "      <td>1643</td>\n",
       "      <td>1.657801</td>\n",
       "      <td>648518346349539591</td>\n",
       "      <td>0.879747</td>\n",
       "    </tr>\n",
       "  </tbody>\n",
       "</table>\n",
       "</div>"
      ],
      "text/plain": [
       "   coverage  compartment   pathlength  synapsecount  synapse_density  \\\n",
       "0  0.797220            2  1135.767461          1987         1.749478   \n",
       "1  0.781562            3   436.910114           870         1.991256   \n",
       "2  0.784184            2  1670.966250          3122         1.868380   \n",
       "3  0.762532            3   565.514823          1018         1.800130   \n",
       "4  0.750715            2   991.071646          1643         1.657801   \n",
       "\n",
       "               cellid  mitocovfactor  \n",
       "0  648518346349539076       0.913667  \n",
       "1  648518346349539076       0.984025  \n",
       "2  648518346349538053       0.851435  \n",
       "3  648518346349538053       0.841754  \n",
       "4  648518346349539591       0.879747  "
      ]
     },
     "execution_count": 16,
     "metadata": {},
     "output_type": "execute_result"
    }
   ],
   "source": [
    "covdf.head()"
   ]
  },
  {
   "cell_type": "markdown",
   "metadata": {},
   "source": [
    "### % path length near soma (within 20$\\mathrm{\\mu}$m)"
   ]
  },
  {
   "cell_type": "code",
   "execution_count": 17,
   "metadata": {},
   "outputs": [
    {
     "name": "stdout",
     "output_type": "stream",
     "text": [
      "#65 of 65\r"
     ]
    }
   ],
   "source": [
    "allnearpls = coverage.path_length_near_somas(cleanandcomplete, distthresh=20)"
   ]
  },
  {
   "cell_type": "code",
   "execution_count": 18,
   "metadata": {},
   "outputs": [],
   "source": [
    "plwithinthresh = allnearpls.rename({\"pathlength\": \"%pl within 20um\"}, axis=1)"
   ]
  },
  {
   "cell_type": "code",
   "execution_count": 19,
   "metadata": {},
   "outputs": [],
   "source": [
    "covdf = pd.merge(covdf, plwithinthresh, #how=\"left\",\n",
    "                 left_on=[\"cellid\", \"compartment\"],\n",
    "                 right_on=[\"cellid\", \"nodelbl1\"]).drop(\"nodelbl1\", axis=1)"
   ]
  },
  {
   "cell_type": "code",
   "execution_count": 20,
   "metadata": {},
   "outputs": [
    {
     "data": {
      "text/html": [
       "<div>\n",
       "<style scoped>\n",
       "    .dataframe tbody tr th:only-of-type {\n",
       "        vertical-align: middle;\n",
       "    }\n",
       "\n",
       "    .dataframe tbody tr th {\n",
       "        vertical-align: top;\n",
       "    }\n",
       "\n",
       "    .dataframe thead th {\n",
       "        text-align: right;\n",
       "    }\n",
       "</style>\n",
       "<table border=\"1\" class=\"dataframe\">\n",
       "  <thead>\n",
       "    <tr style=\"text-align: right;\">\n",
       "      <th></th>\n",
       "      <th>coverage</th>\n",
       "      <th>compartment</th>\n",
       "      <th>pathlength</th>\n",
       "      <th>synapsecount</th>\n",
       "      <th>synapse_density</th>\n",
       "      <th>cellid</th>\n",
       "      <th>mitocovfactor</th>\n",
       "      <th>%pl within 20um</th>\n",
       "    </tr>\n",
       "  </thead>\n",
       "  <tbody>\n",
       "    <tr>\n",
       "      <th>0</th>\n",
       "      <td>0.797220</td>\n",
       "      <td>2</td>\n",
       "      <td>1135.767461</td>\n",
       "      <td>1987</td>\n",
       "      <td>1.749478</td>\n",
       "      <td>648518346349539076</td>\n",
       "      <td>0.913667</td>\n",
       "      <td>0.532621</td>\n",
       "    </tr>\n",
       "    <tr>\n",
       "      <th>1</th>\n",
       "      <td>0.781562</td>\n",
       "      <td>3</td>\n",
       "      <td>436.910114</td>\n",
       "      <td>870</td>\n",
       "      <td>1.991256</td>\n",
       "      <td>648518346349539076</td>\n",
       "      <td>0.984025</td>\n",
       "      <td>0.214843</td>\n",
       "    </tr>\n",
       "    <tr>\n",
       "      <th>2</th>\n",
       "      <td>0.784184</td>\n",
       "      <td>2</td>\n",
       "      <td>1670.966250</td>\n",
       "      <td>3122</td>\n",
       "      <td>1.868380</td>\n",
       "      <td>648518346349538053</td>\n",
       "      <td>0.851435</td>\n",
       "      <td>0.374298</td>\n",
       "    </tr>\n",
       "    <tr>\n",
       "      <th>3</th>\n",
       "      <td>0.762532</td>\n",
       "      <td>3</td>\n",
       "      <td>565.514823</td>\n",
       "      <td>1018</td>\n",
       "      <td>1.800130</td>\n",
       "      <td>648518346349538053</td>\n",
       "      <td>0.841754</td>\n",
       "      <td>0.207247</td>\n",
       "    </tr>\n",
       "    <tr>\n",
       "      <th>4</th>\n",
       "      <td>0.750715</td>\n",
       "      <td>2</td>\n",
       "      <td>991.071646</td>\n",
       "      <td>1643</td>\n",
       "      <td>1.657801</td>\n",
       "      <td>648518346349539591</td>\n",
       "      <td>0.879747</td>\n",
       "      <td>0.628978</td>\n",
       "    </tr>\n",
       "  </tbody>\n",
       "</table>\n",
       "</div>"
      ],
      "text/plain": [
       "   coverage  compartment   pathlength  synapsecount  synapse_density  \\\n",
       "0  0.797220            2  1135.767461          1987         1.749478   \n",
       "1  0.781562            3   436.910114           870         1.991256   \n",
       "2  0.784184            2  1670.966250          3122         1.868380   \n",
       "3  0.762532            3   565.514823          1018         1.800130   \n",
       "4  0.750715            2   991.071646          1643         1.657801   \n",
       "\n",
       "               cellid  mitocovfactor  %pl within 20um  \n",
       "0  648518346349539076       0.913667         0.532621  \n",
       "1  648518346349539076       0.984025         0.214843  \n",
       "2  648518346349538053       0.851435         0.374298  \n",
       "3  648518346349538053       0.841754         0.207247  \n",
       "4  648518346349539591       0.879747         0.628978  "
      ]
     },
     "execution_count": 20,
     "metadata": {},
     "output_type": "execute_result"
    }
   ],
   "source": [
    "covdf.head()"
   ]
  },
  {
   "cell_type": "markdown",
   "metadata": {},
   "source": [
    "# Soma statistics\n",
    "* Soma Volume\n",
    "* Nucleus Volume\n",
    "* Mitochondrial density within the somatic cytosol\n",
    "* Somatic synapse density"
   ]
  },
  {
   "cell_type": "markdown",
   "metadata": {},
   "source": [
    "### Soma Volume"
   ]
  },
  {
   "cell_type": "code",
   "execution_count": 21,
   "metadata": {},
   "outputs": [],
   "source": [
    "covdf[\"somavol\"] = [somavol[i] for i in covdf.cellid]"
   ]
  },
  {
   "cell_type": "markdown",
   "metadata": {},
   "source": [
    "### Nucleus volume"
   ]
  },
  {
   "cell_type": "markdown",
   "metadata": {},
   "source": [
    "Nuclei were segmented at a coarse resolution (specified here in $\\mu$m$^3$"
   ]
  },
  {
   "cell_type": "code",
   "execution_count": 22,
   "metadata": {},
   "outputs": [],
   "source": [
    "nuclei_voxelres = (57.28/1000.\n",
    "                   * 57.28/1000.\n",
    "                   * 40/1000.)\n",
    "\n",
    "nucdf[\"vol\"] = nucdf[\"size\"] * nuclei_voxelres"
   ]
  },
  {
   "cell_type": "code",
   "execution_count": 23,
   "metadata": {},
   "outputs": [
    {
     "data": {
      "text/html": [
       "<div>\n",
       "<style scoped>\n",
       "    .dataframe tbody tr th:only-of-type {\n",
       "        vertical-align: middle;\n",
       "    }\n",
       "\n",
       "    .dataframe tbody tr th {\n",
       "        vertical-align: top;\n",
       "    }\n",
       "\n",
       "    .dataframe thead th {\n",
       "        text-align: right;\n",
       "    }\n",
       "</style>\n",
       "<table border=\"1\" class=\"dataframe\">\n",
       "  <thead>\n",
       "    <tr style=\"text-align: right;\">\n",
       "      <th></th>\n",
       "      <th>coverage</th>\n",
       "      <th>compartment</th>\n",
       "      <th>pathlength</th>\n",
       "      <th>synapsecount</th>\n",
       "      <th>synapse_density</th>\n",
       "      <th>cellid</th>\n",
       "      <th>mitocovfactor</th>\n",
       "      <th>%pl within 20um</th>\n",
       "      <th>somavol</th>\n",
       "    </tr>\n",
       "  </thead>\n",
       "  <tbody>\n",
       "    <tr>\n",
       "      <th>0</th>\n",
       "      <td>0.797220</td>\n",
       "      <td>2</td>\n",
       "      <td>1135.767461</td>\n",
       "      <td>1987</td>\n",
       "      <td>1.749478</td>\n",
       "      <td>648518346349539076</td>\n",
       "      <td>0.913667</td>\n",
       "      <td>0.532621</td>\n",
       "      <td>1397.574125</td>\n",
       "    </tr>\n",
       "    <tr>\n",
       "      <th>1</th>\n",
       "      <td>0.781562</td>\n",
       "      <td>3</td>\n",
       "      <td>436.910114</td>\n",
       "      <td>870</td>\n",
       "      <td>1.991256</td>\n",
       "      <td>648518346349539076</td>\n",
       "      <td>0.984025</td>\n",
       "      <td>0.214843</td>\n",
       "      <td>1397.574125</td>\n",
       "    </tr>\n",
       "    <tr>\n",
       "      <th>2</th>\n",
       "      <td>0.784184</td>\n",
       "      <td>2</td>\n",
       "      <td>1670.966250</td>\n",
       "      <td>3122</td>\n",
       "      <td>1.868380</td>\n",
       "      <td>648518346349538053</td>\n",
       "      <td>0.851435</td>\n",
       "      <td>0.374298</td>\n",
       "      <td>1168.690198</td>\n",
       "    </tr>\n",
       "    <tr>\n",
       "      <th>3</th>\n",
       "      <td>0.762532</td>\n",
       "      <td>3</td>\n",
       "      <td>565.514823</td>\n",
       "      <td>1018</td>\n",
       "      <td>1.800130</td>\n",
       "      <td>648518346349538053</td>\n",
       "      <td>0.841754</td>\n",
       "      <td>0.207247</td>\n",
       "      <td>1168.690198</td>\n",
       "    </tr>\n",
       "    <tr>\n",
       "      <th>4</th>\n",
       "      <td>0.750715</td>\n",
       "      <td>2</td>\n",
       "      <td>991.071646</td>\n",
       "      <td>1643</td>\n",
       "      <td>1.657801</td>\n",
       "      <td>648518346349539591</td>\n",
       "      <td>0.879747</td>\n",
       "      <td>0.628978</td>\n",
       "      <td>1406.871081</td>\n",
       "    </tr>\n",
       "  </tbody>\n",
       "</table>\n",
       "</div>"
      ],
      "text/plain": [
       "   coverage  compartment   pathlength  synapsecount  synapse_density  \\\n",
       "0  0.797220            2  1135.767461          1987         1.749478   \n",
       "1  0.781562            3   436.910114           870         1.991256   \n",
       "2  0.784184            2  1670.966250          3122         1.868380   \n",
       "3  0.762532            3   565.514823          1018         1.800130   \n",
       "4  0.750715            2   991.071646          1643         1.657801   \n",
       "\n",
       "               cellid  mitocovfactor  %pl within 20um      somavol  \n",
       "0  648518346349539076       0.913667         0.532621  1397.574125  \n",
       "1  648518346349539076       0.984025         0.214843  1397.574125  \n",
       "2  648518346349538053       0.851435         0.374298  1168.690198  \n",
       "3  648518346349538053       0.841754         0.207247  1168.690198  \n",
       "4  648518346349539591       0.879747         0.628978  1406.871081  "
      ]
     },
     "execution_count": 23,
     "metadata": {},
     "output_type": "execute_result"
    }
   ],
   "source": [
    "covdf.head()"
   ]
  },
  {
   "cell_type": "code",
   "execution_count": 24,
   "metadata": {},
   "outputs": [],
   "source": [
    "covdf[\"nucvol\"] = [nucdf[\"vol\"].loc[nuc_lookup[i]] for i in covdf.cellid]"
   ]
  },
  {
   "cell_type": "markdown",
   "metadata": {},
   "source": [
    "### Mitochondrial density within the somatic cytosol"
   ]
  },
  {
   "cell_type": "code",
   "execution_count": 25,
   "metadata": {},
   "outputs": [],
   "source": [
    "def all_somatic(mitodf, distthresh=15_000):\n",
    "    subdfs = list()\n",
    "    cellids = np.unique(mitodf.cellid)\n",
    "    for (i, cellid) in enumerate(cellids):\n",
    "        print(f\"#{i+1} of {len(cellids)}\", end=\"\\r\")\n",
    "        cellskel = skel.read_neuron_skel(cellid)\n",
    "        subdf = mitodf[mitodf.cellid == cellid]\n",
    "        subdistdf = distdf[distdf.cellid == cellid]\n",
    "        somacoord = cellskel.vertices[cellskel.root]\n",
    "        \n",
    "        somadists = eucdist(cellskel.vertices, somacoord)\n",
    "        to_remove = np.flatnonzero(somadists > distthresh)\n",
    "        mitos_torm = subdistdf.mitoids[subdistdf.nodeids.isin(to_remove)]\n",
    "        \n",
    "        subdfs.append(subdf[~subdf.index.isin(mitos_torm)])\n",
    "    \n",
    "    return pd.concat(subdfs)\n",
    "\n",
    "\n",
    "def eucdist(arr, coord, res=[1, 1, 1]):\n",
    "    return np.linalg.norm((arr * res) - coord, axis=1)"
   ]
  },
  {
   "cell_type": "code",
   "execution_count": 26,
   "metadata": {},
   "outputs": [
    {
     "name": "stdout",
     "output_type": "stream",
     "text": [
      "#65 of 65\r"
     ]
    }
   ],
   "source": [
    "somaticdf = all_somatic(mitodf[mitodf.cellid.isin(cleanandcomplete)])"
   ]
  },
  {
   "cell_type": "code",
   "execution_count": 27,
   "metadata": {},
   "outputs": [],
   "source": [
    "somaticsums = somaticdf.groupby(\"cellid\")[\"mito_vx\"].sum()"
   ]
  },
  {
   "cell_type": "code",
   "execution_count": 28,
   "metadata": {},
   "outputs": [],
   "source": [
    "somaticcounts = somaticdf.groupby(\"cellid\")[\"mito_vx\"].count()"
   ]
  },
  {
   "cell_type": "code",
   "execution_count": 29,
   "metadata": {},
   "outputs": [],
   "source": [
    "mito_voxelres = (7.16/1000. * 7.16/1000. * 40/1000.)\n",
    "covdf[\"somamitovol\"] = somaticsums.loc[covdf.cellid].values * mito_voxelres"
   ]
  },
  {
   "cell_type": "code",
   "execution_count": 30,
   "metadata": {},
   "outputs": [],
   "source": [
    "covdf[\"somamitodensity\"] = (covdf[\"somamitovol\"] / \n",
    "                               (covdf[\"somavol\"] - covdf[\"nucvol\"]))"
   ]
  },
  {
   "cell_type": "code",
   "execution_count": 31,
   "metadata": {},
   "outputs": [],
   "source": [
    "covdf[\"somaticmitocount\"] = somaticcounts.loc[covdf.cellid].values"
   ]
  },
  {
   "cell_type": "code",
   "execution_count": 32,
   "metadata": {},
   "outputs": [
    {
     "data": {
      "text/html": [
       "<div>\n",
       "<style scoped>\n",
       "    .dataframe tbody tr th:only-of-type {\n",
       "        vertical-align: middle;\n",
       "    }\n",
       "\n",
       "    .dataframe tbody tr th {\n",
       "        vertical-align: top;\n",
       "    }\n",
       "\n",
       "    .dataframe thead th {\n",
       "        text-align: right;\n",
       "    }\n",
       "</style>\n",
       "<table border=\"1\" class=\"dataframe\">\n",
       "  <thead>\n",
       "    <tr style=\"text-align: right;\">\n",
       "      <th></th>\n",
       "      <th>coverage</th>\n",
       "      <th>compartment</th>\n",
       "      <th>pathlength</th>\n",
       "      <th>synapsecount</th>\n",
       "      <th>synapse_density</th>\n",
       "      <th>cellid</th>\n",
       "      <th>mitocovfactor</th>\n",
       "      <th>%pl within 20um</th>\n",
       "      <th>somavol</th>\n",
       "      <th>nucvol</th>\n",
       "      <th>somamitovol</th>\n",
       "      <th>somamitodensity</th>\n",
       "      <th>somaticmitocount</th>\n",
       "    </tr>\n",
       "  </thead>\n",
       "  <tbody>\n",
       "    <tr>\n",
       "      <th>0</th>\n",
       "      <td>0.797220</td>\n",
       "      <td>2</td>\n",
       "      <td>1135.767461</td>\n",
       "      <td>1987</td>\n",
       "      <td>1.749478</td>\n",
       "      <td>648518346349539076</td>\n",
       "      <td>0.913667</td>\n",
       "      <td>0.532621</td>\n",
       "      <td>1397.574125</td>\n",
       "      <td>552.057116</td>\n",
       "      <td>73.618911</td>\n",
       "      <td>0.087070</td>\n",
       "      <td>209</td>\n",
       "    </tr>\n",
       "    <tr>\n",
       "      <th>1</th>\n",
       "      <td>0.781562</td>\n",
       "      <td>3</td>\n",
       "      <td>436.910114</td>\n",
       "      <td>870</td>\n",
       "      <td>1.991256</td>\n",
       "      <td>648518346349539076</td>\n",
       "      <td>0.984025</td>\n",
       "      <td>0.214843</td>\n",
       "      <td>1397.574125</td>\n",
       "      <td>552.057116</td>\n",
       "      <td>73.618911</td>\n",
       "      <td>0.087070</td>\n",
       "      <td>209</td>\n",
       "    </tr>\n",
       "    <tr>\n",
       "      <th>2</th>\n",
       "      <td>0.784184</td>\n",
       "      <td>2</td>\n",
       "      <td>1670.966250</td>\n",
       "      <td>3122</td>\n",
       "      <td>1.868380</td>\n",
       "      <td>648518346349538053</td>\n",
       "      <td>0.851435</td>\n",
       "      <td>0.374298</td>\n",
       "      <td>1168.690198</td>\n",
       "      <td>489.896633</td>\n",
       "      <td>72.334162</td>\n",
       "      <td>0.106563</td>\n",
       "      <td>266</td>\n",
       "    </tr>\n",
       "    <tr>\n",
       "      <th>3</th>\n",
       "      <td>0.762532</td>\n",
       "      <td>3</td>\n",
       "      <td>565.514823</td>\n",
       "      <td>1018</td>\n",
       "      <td>1.800130</td>\n",
       "      <td>648518346349538053</td>\n",
       "      <td>0.841754</td>\n",
       "      <td>0.207247</td>\n",
       "      <td>1168.690198</td>\n",
       "      <td>489.896633</td>\n",
       "      <td>72.334162</td>\n",
       "      <td>0.106563</td>\n",
       "      <td>266</td>\n",
       "    </tr>\n",
       "    <tr>\n",
       "      <th>4</th>\n",
       "      <td>0.750715</td>\n",
       "      <td>2</td>\n",
       "      <td>991.071646</td>\n",
       "      <td>1643</td>\n",
       "      <td>1.657801</td>\n",
       "      <td>648518346349539591</td>\n",
       "      <td>0.879747</td>\n",
       "      <td>0.628978</td>\n",
       "      <td>1406.871081</td>\n",
       "      <td>519.001845</td>\n",
       "      <td>94.052091</td>\n",
       "      <td>0.105930</td>\n",
       "      <td>305</td>\n",
       "    </tr>\n",
       "  </tbody>\n",
       "</table>\n",
       "</div>"
      ],
      "text/plain": [
       "   coverage  compartment   pathlength  synapsecount  synapse_density  \\\n",
       "0  0.797220            2  1135.767461          1987         1.749478   \n",
       "1  0.781562            3   436.910114           870         1.991256   \n",
       "2  0.784184            2  1670.966250          3122         1.868380   \n",
       "3  0.762532            3   565.514823          1018         1.800130   \n",
       "4  0.750715            2   991.071646          1643         1.657801   \n",
       "\n",
       "               cellid  mitocovfactor  %pl within 20um      somavol  \\\n",
       "0  648518346349539076       0.913667         0.532621  1397.574125   \n",
       "1  648518346349539076       0.984025         0.214843  1397.574125   \n",
       "2  648518346349538053       0.851435         0.374298  1168.690198   \n",
       "3  648518346349538053       0.841754         0.207247  1168.690198   \n",
       "4  648518346349539591       0.879747         0.628978  1406.871081   \n",
       "\n",
       "       nucvol  somamitovol  somamitodensity  somaticmitocount  \n",
       "0  552.057116    73.618911         0.087070               209  \n",
       "1  552.057116    73.618911         0.087070               209  \n",
       "2  489.896633    72.334162         0.106563               266  \n",
       "3  489.896633    72.334162         0.106563               266  \n",
       "4  519.001845    94.052091         0.105930               305  "
      ]
     },
     "execution_count": 32,
     "metadata": {},
     "output_type": "execute_result"
    }
   ],
   "source": [
    "covdf.head()"
   ]
  },
  {
   "cell_type": "markdown",
   "metadata": {},
   "source": [
    "### Somatic synapse density"
   ]
  },
  {
   "cell_type": "markdown",
   "metadata": {},
   "source": [
    "#### Soma surface area"
   ]
  },
  {
   "cell_type": "code",
   "execution_count": 33,
   "metadata": {},
   "outputs": [],
   "source": [
    "def measure_surface_areas(cellids, distthresh=15_000):\n",
    "    surface_areas = dict()\n",
    "    for (i, cellid) in enumerate(cellids):\n",
    "        print(f\"#{i+1} of {len(cellids)}\", end=\"\\r\")\n",
    "        surface_areas[cellid] = measure_soma_surface_area(cellid)\n",
    "    \n",
    "    return surface_areas\n",
    "        \n",
    "\n",
    "def measure_soma_surface_area(i):\n",
    "    cellskel = skel.read_neuron_skel(i)\n",
    "    somapt = cellskel.vertices[cellskel.root]\n",
    "    cellmesh = mesh.read_neuron_mesh(i)\n",
    "    masked = mask_mesh(cellmesh, somapt)\n",
    "\n",
    "    return masked.area\n",
    "\n",
    "    \n",
    "def mask_mesh(mesh, pt, distthresh=15_000):\n",
    "    dists = distance_to_pt(mesh.vertices, pt)\n",
    "\n",
    "    inds = np.flatnonzero(dists < distthresh)\n",
    "    new_verts = mesh.vertices[inds]\n",
    "    \n",
    "    ind_map = np.empty((max(inds)+1,), dtype=inds.dtype)\n",
    "    ind_map[inds] = np.arange(len(inds))\n",
    "    face_inds = np.all(np.isin(mesh.faces, inds), axis=1)\n",
    "    new_faces = ind_map[mesh.faces[face_inds]]\n",
    "    \n",
    "    return trimesh_io.Mesh(new_verts, new_faces)\n",
    "\n",
    "\n",
    "def distance_to_pt(other_pts, pt):\n",
    "    return np.linalg.norm(other_pts - pt, axis=1)"
   ]
  },
  {
   "cell_type": "code",
   "execution_count": 34,
   "metadata": {},
   "outputs": [
    {
     "name": "stdout",
     "output_type": "stream",
     "text": [
      "#65 of 65\r"
     ]
    }
   ],
   "source": [
    "surfareas = measure_surface_areas(cleanandcomplete, distthresh=15_000)"
   ]
  },
  {
   "cell_type": "markdown",
   "metadata": {},
   "source": [
    "Scaling to $\\mathrm{\\mu}$m$^2$"
   ]
  },
  {
   "cell_type": "code",
   "execution_count": 35,
   "metadata": {},
   "outputs": [],
   "source": [
    "surfareas_um2 = {k: v / 1e6 for (k, v) in surfareas.items()}"
   ]
  },
  {
   "cell_type": "markdown",
   "metadata": {},
   "source": [
    "#### Soma synapse count"
   ]
  },
  {
   "cell_type": "code",
   "execution_count": 36,
   "metadata": {},
   "outputs": [],
   "source": [
    "def somatic_synapses(cellids, distthresh=15_000):\n",
    "    subdfs = list()\n",
    "    for (i, cellid) in enumerate(cellids):\n",
    "        print(f\"#{i+1} of {len(cellids)}\", end=\"\\r\")\n",
    "        cellskel = skel.read_neuron_skel(cellid)\n",
    "        somacoord = cellskel.vertices[cellskel.root]\n",
    "        \n",
    "        subdf = postsyndf[postsyndf.post_pt_root_id == cellid]\n",
    "        somadists = eucdist(u.extract_coords_dlcsv(subdf),\n",
    "                            somacoord, [3.58, 3.58, 40])\n",
    "        subdfs.append(subdf[somadists < distthresh])\n",
    "    \n",
    "    return pd.concat(subdfs)"
   ]
  },
  {
   "cell_type": "code",
   "execution_count": 37,
   "metadata": {},
   "outputs": [
    {
     "name": "stdout",
     "output_type": "stream",
     "text": [
      "#65 of 65\r"
     ]
    }
   ],
   "source": [
    "somaticsyn_df = somatic_synapses(cleanandcomplete)"
   ]
  },
  {
   "cell_type": "code",
   "execution_count": 38,
   "metadata": {},
   "outputs": [],
   "source": [
    "syncounts = dict(somaticsyn_df.groupby(\"post_pt_root_id\")[\"id\"].count())\n",
    "syndensity = {i: syncounts[i] / surfareas_um2[i] for i in cleanandcomplete}"
   ]
  },
  {
   "cell_type": "code",
   "execution_count": 39,
   "metadata": {},
   "outputs": [],
   "source": [
    "covdf[\"somasyndensity\"] = [syndensity[i] for i in covdf.cellid]"
   ]
  },
  {
   "cell_type": "code",
   "execution_count": 40,
   "metadata": {},
   "outputs": [
    {
     "data": {
      "text/plain": [
       "(84, 172, 116.81538461538462)"
      ]
     },
     "execution_count": 40,
     "metadata": {},
     "output_type": "execute_result"
    }
   ],
   "source": [
    "min(syncounts.values()), max(syncounts.values()), sum(syncounts.values()) / len(syncounts)"
   ]
  },
  {
   "cell_type": "markdown",
   "metadata": {},
   "source": [
    "# Depth"
   ]
  },
  {
   "cell_type": "code",
   "execution_count": 41,
   "metadata": {},
   "outputs": [],
   "source": [
    "def get_cell_coords(cellids):\n",
    "    coords = dict()\n",
    "    for cellid in cellids:\n",
    "        cellskel = skel.read_neuron_skel(cellid)\n",
    "        coords[cellid] = cellskel.vertices[cellskel.root]\n",
    "    \n",
    "    return coords"
   ]
  },
  {
   "cell_type": "code",
   "execution_count": 42,
   "metadata": {},
   "outputs": [],
   "source": [
    "coords = get_cell_coords(cleanandcomplete)"
   ]
  },
  {
   "cell_type": "code",
   "execution_count": 43,
   "metadata": {},
   "outputs": [
    {
     "data": {
      "text/plain": [
       "(3,)"
      ]
     },
     "execution_count": 43,
     "metadata": {},
     "output_type": "execute_result"
    }
   ],
   "source": [
    "coords[cleanandcomplete[0]].shape"
   ]
  },
  {
   "cell_type": "code",
   "execution_count": 44,
   "metadata": {},
   "outputs": [
    {
     "data": {
      "text/plain": [
       "array([[183975.21932167, 254778.91494975,    870.11369602]])"
      ]
     },
     "execution_count": 44,
     "metadata": {},
     "output_type": "execute_result"
    }
   ],
   "source": [
    "(pinky_transform @ coords[cleanandcomplete[0]][:, np.newaxis]).T"
   ]
  },
  {
   "cell_type": "code",
   "execution_count": 45,
   "metadata": {},
   "outputs": [
    {
     "data": {
      "text/plain": [
       "array([[183975.21932167],\n",
       "       [254778.91494975],\n",
       "       [   870.11369602]])"
      ]
     },
     "execution_count": 45,
     "metadata": {},
     "output_type": "execute_result"
    }
   ],
   "source": [
    "np.dot(pinky_transform, coords[cleanandcomplete[0]][:, np.newaxis])"
   ]
  },
  {
   "cell_type": "code",
   "execution_count": 46,
   "metadata": {},
   "outputs": [],
   "source": [
    "def transform_coord(coord):\n",
    "    # scaling to a more accurate voxel resolution\n",
    "    # (also to make it compatible with the transformation derived\n",
    "    # at this resolution)\n",
    "    coord = coord * [3.58/4, 3.58/4, 1]\n",
    "    return (pinky_transform @ coord[:, np.newaxis]).ravel()\n",
    "\n",
    "def transform_all_coords(cellids):\n",
    "    return {cellid: transform_coord(coords[cellid])\n",
    "            for cellid in cellids}"
   ]
  },
  {
   "cell_type": "code",
   "execution_count": 47,
   "metadata": {},
   "outputs": [],
   "source": [
    "transformed = transform_all_coords(cleanandcomplete)"
   ]
  },
  {
   "cell_type": "code",
   "execution_count": 48,
   "metadata": {},
   "outputs": [],
   "source": [
    "covdf[\"depth\"] = np.array([transformed[cellid][1] for cellid in covdf.cellid])"
   ]
  },
  {
   "cell_type": "markdown",
   "metadata": {},
   "source": [
    "# Formatting"
   ]
  },
  {
   "cell_type": "markdown",
   "metadata": {},
   "source": [
    "### Renaming cols"
   ]
  },
  {
   "cell_type": "code",
   "execution_count": 49,
   "metadata": {},
   "outputs": [],
   "source": [
    "covdf = covdf.rename({\n",
    "    \"coverage\": \"dendmitocoverage\",\n",
    "    \"synapse_density\": \"dendsyndensity\",\n",
    "}, axis=1)"
   ]
  },
  {
   "cell_type": "markdown",
   "metadata": {},
   "source": [
    "### Combining basal and apical rows"
   ]
  },
  {
   "cell_type": "code",
   "execution_count": 50,
   "metadata": {},
   "outputs": [],
   "source": [
    "basal_covdf = covdf[covdf.compartment == 2]\n",
    "apical_covdf = covdf[covdf.compartment == 3]"
   ]
  },
  {
   "cell_type": "code",
   "execution_count": 51,
   "metadata": {},
   "outputs": [],
   "source": [
    "basal_covdf = basal_covdf.rename(\n",
    "    {\"dendmitocoverage\": \"basalmitocoverage\",\n",
    "     \"dendsyndensity\": \"basalsyndensity\",\n",
    "     \"synapsecount\": \"basalsyncount\",\n",
    "     \"mitocovfactor\": \"basalmitocovfactor\",\n",
    "     \"%pl within 20um\": \"basal %pl within 20um\",\n",
    "     \"pathlength\": \"basalpathlength\"}, axis=1\n",
    "    ).drop(\"compartment\", axis=1)\n",
    "apical_covdf = apical_covdf.rename(\n",
    "    {\"dendmitocoverage\": \"apicalmitocoverage\",\n",
    "     \"dendsyndensity\": \"apicalsyndensity\",\n",
    "     \"synapsecount\": \"apicalsyncount\",\n",
    "     \"mitocovfactor\": \"apicalmitocovfactor\",\n",
    "     \"%pl within 20um\": \"apical %pl within 20um\",\n",
    "     \"pathlength\": \"apicalpathlength\"}, axis=1\n",
    "    ).drop(\n",
    "    [\"somavol\", \"nucvol\", \"somamitovol\", \"somamitodensity\",\n",
    "     \"somaticmitocount\", \"somasyndensity\", \"depth\", \"compartment\"], axis=1)"
   ]
  },
  {
   "cell_type": "code",
   "execution_count": 52,
   "metadata": {},
   "outputs": [],
   "source": [
    "covdf = pd.merge(basal_covdf, apical_covdf, how=\"left\",\n",
    "                 left_on=\"cellid\", right_on=\"cellid\")"
   ]
  },
  {
   "cell_type": "code",
   "execution_count": 53,
   "metadata": {},
   "outputs": [
    {
     "data": {
      "text/html": [
       "<div>\n",
       "<style scoped>\n",
       "    .dataframe tbody tr th:only-of-type {\n",
       "        vertical-align: middle;\n",
       "    }\n",
       "\n",
       "    .dataframe tbody tr th {\n",
       "        vertical-align: top;\n",
       "    }\n",
       "\n",
       "    .dataframe thead th {\n",
       "        text-align: right;\n",
       "    }\n",
       "</style>\n",
       "<table border=\"1\" class=\"dataframe\">\n",
       "  <thead>\n",
       "    <tr style=\"text-align: right;\">\n",
       "      <th></th>\n",
       "      <th>basalmitocoverage</th>\n",
       "      <th>basalpathlength</th>\n",
       "      <th>basalsyncount</th>\n",
       "      <th>basalsyndensity</th>\n",
       "      <th>cellid</th>\n",
       "      <th>basalmitocovfactor</th>\n",
       "      <th>basal %pl within 20um</th>\n",
       "      <th>somavol</th>\n",
       "      <th>nucvol</th>\n",
       "      <th>somamitovol</th>\n",
       "      <th>somamitodensity</th>\n",
       "      <th>somaticmitocount</th>\n",
       "      <th>somasyndensity</th>\n",
       "      <th>depth</th>\n",
       "      <th>apicalmitocoverage</th>\n",
       "      <th>apicalpathlength</th>\n",
       "      <th>apicalsyncount</th>\n",
       "      <th>apicalsyndensity</th>\n",
       "      <th>apicalmitocovfactor</th>\n",
       "      <th>apical %pl within 20um</th>\n",
       "    </tr>\n",
       "  </thead>\n",
       "  <tbody>\n",
       "    <tr>\n",
       "      <th>0</th>\n",
       "      <td>0.797220</td>\n",
       "      <td>1135.767461</td>\n",
       "      <td>1987</td>\n",
       "      <td>1.749478</td>\n",
       "      <td>648518346349539076</td>\n",
       "      <td>0.913667</td>\n",
       "      <td>0.532621</td>\n",
       "      <td>1397.574125</td>\n",
       "      <td>552.057116</td>\n",
       "      <td>73.618911</td>\n",
       "      <td>0.087070</td>\n",
       "      <td>209</td>\n",
       "      <td>0.095585</td>\n",
       "      <td>230328.257398</td>\n",
       "      <td>0.781562</td>\n",
       "      <td>436.910114</td>\n",
       "      <td>870.0</td>\n",
       "      <td>1.991256</td>\n",
       "      <td>0.984025</td>\n",
       "      <td>0.214843</td>\n",
       "    </tr>\n",
       "    <tr>\n",
       "      <th>1</th>\n",
       "      <td>0.784184</td>\n",
       "      <td>1670.966250</td>\n",
       "      <td>3122</td>\n",
       "      <td>1.868380</td>\n",
       "      <td>648518346349538053</td>\n",
       "      <td>0.851435</td>\n",
       "      <td>0.374298</td>\n",
       "      <td>1168.690198</td>\n",
       "      <td>489.896633</td>\n",
       "      <td>72.334162</td>\n",
       "      <td>0.106563</td>\n",
       "      <td>266</td>\n",
       "      <td>0.105546</td>\n",
       "      <td>206077.104367</td>\n",
       "      <td>0.762532</td>\n",
       "      <td>565.514823</td>\n",
       "      <td>1018.0</td>\n",
       "      <td>1.800130</td>\n",
       "      <td>0.841754</td>\n",
       "      <td>0.207247</td>\n",
       "    </tr>\n",
       "    <tr>\n",
       "      <th>2</th>\n",
       "      <td>0.750715</td>\n",
       "      <td>991.071646</td>\n",
       "      <td>1643</td>\n",
       "      <td>1.657801</td>\n",
       "      <td>648518346349539591</td>\n",
       "      <td>0.879747</td>\n",
       "      <td>0.628978</td>\n",
       "      <td>1406.871081</td>\n",
       "      <td>519.001845</td>\n",
       "      <td>94.052091</td>\n",
       "      <td>0.105930</td>\n",
       "      <td>305</td>\n",
       "      <td>0.110872</td>\n",
       "      <td>244008.897477</td>\n",
       "      <td>0.823897</td>\n",
       "      <td>832.012657</td>\n",
       "      <td>1428.0</td>\n",
       "      <td>1.716320</td>\n",
       "      <td>0.907548</td>\n",
       "      <td>0.197432</td>\n",
       "    </tr>\n",
       "    <tr>\n",
       "      <th>3</th>\n",
       "      <td>0.827072</td>\n",
       "      <td>1839.622475</td>\n",
       "      <td>3897</td>\n",
       "      <td>2.118369</td>\n",
       "      <td>648518346349538440</td>\n",
       "      <td>0.923517</td>\n",
       "      <td>0.309913</td>\n",
       "      <td>1475.944871</td>\n",
       "      <td>568.471295</td>\n",
       "      <td>84.315761</td>\n",
       "      <td>0.092913</td>\n",
       "      <td>388</td>\n",
       "      <td>0.126731</td>\n",
       "      <td>205619.742385</td>\n",
       "      <td>0.794688</td>\n",
       "      <td>640.409467</td>\n",
       "      <td>1379.0</td>\n",
       "      <td>2.153310</td>\n",
       "      <td>0.964497</td>\n",
       "      <td>0.332521</td>\n",
       "    </tr>\n",
       "    <tr>\n",
       "      <th>4</th>\n",
       "      <td>0.713487</td>\n",
       "      <td>1886.992268</td>\n",
       "      <td>3161</td>\n",
       "      <td>1.675153</td>\n",
       "      <td>648518346349539593</td>\n",
       "      <td>0.777246</td>\n",
       "      <td>0.450823</td>\n",
       "      <td>1053.064184</td>\n",
       "      <td>461.694352</td>\n",
       "      <td>63.940285</td>\n",
       "      <td>0.108122</td>\n",
       "      <td>239</td>\n",
       "      <td>0.094933</td>\n",
       "      <td>218137.586497</td>\n",
       "      <td>0.791422</td>\n",
       "      <td>446.927376</td>\n",
       "      <td>757.0</td>\n",
       "      <td>1.693787</td>\n",
       "      <td>0.926741</td>\n",
       "      <td>0.251376</td>\n",
       "    </tr>\n",
       "  </tbody>\n",
       "</table>\n",
       "</div>"
      ],
      "text/plain": [
       "   basalmitocoverage  basalpathlength  basalsyncount  basalsyndensity  \\\n",
       "0           0.797220      1135.767461           1987         1.749478   \n",
       "1           0.784184      1670.966250           3122         1.868380   \n",
       "2           0.750715       991.071646           1643         1.657801   \n",
       "3           0.827072      1839.622475           3897         2.118369   \n",
       "4           0.713487      1886.992268           3161         1.675153   \n",
       "\n",
       "               cellid  basalmitocovfactor  basal %pl within 20um      somavol  \\\n",
       "0  648518346349539076            0.913667               0.532621  1397.574125   \n",
       "1  648518346349538053            0.851435               0.374298  1168.690198   \n",
       "2  648518346349539591            0.879747               0.628978  1406.871081   \n",
       "3  648518346349538440            0.923517               0.309913  1475.944871   \n",
       "4  648518346349539593            0.777246               0.450823  1053.064184   \n",
       "\n",
       "       nucvol  somamitovol  somamitodensity  somaticmitocount  somasyndensity  \\\n",
       "0  552.057116    73.618911         0.087070               209        0.095585   \n",
       "1  489.896633    72.334162         0.106563               266        0.105546   \n",
       "2  519.001845    94.052091         0.105930               305        0.110872   \n",
       "3  568.471295    84.315761         0.092913               388        0.126731   \n",
       "4  461.694352    63.940285         0.108122               239        0.094933   \n",
       "\n",
       "           depth  apicalmitocoverage  apicalpathlength  apicalsyncount  \\\n",
       "0  230328.257398            0.781562        436.910114           870.0   \n",
       "1  206077.104367            0.762532        565.514823          1018.0   \n",
       "2  244008.897477            0.823897        832.012657          1428.0   \n",
       "3  205619.742385            0.794688        640.409467          1379.0   \n",
       "4  218137.586497            0.791422        446.927376           757.0   \n",
       "\n",
       "   apicalsyndensity  apicalmitocovfactor  apical %pl within 20um  \n",
       "0          1.991256             0.984025                0.214843  \n",
       "1          1.800130             0.841754                0.207247  \n",
       "2          1.716320             0.907548                0.197432  \n",
       "3          2.153310             0.964497                0.332521  \n",
       "4          1.693787             0.926741                0.251376  "
      ]
     },
     "execution_count": 53,
     "metadata": {},
     "output_type": "execute_result"
    }
   ],
   "source": [
    "covdf.head()"
   ]
  },
  {
   "cell_type": "markdown",
   "metadata": {},
   "source": [
    "# Saving results"
   ]
  },
  {
   "cell_type": "code",
   "execution_count": 54,
   "metadata": {},
   "outputs": [],
   "source": [
    "covdf.to_csv(f\"data/mito_covariates.csv\")"
   ]
  }
 ],
 "metadata": {
  "kernelspec": {
   "display_name": "Python 3",
   "language": "python",
   "name": "python3"
  },
  "language_info": {
   "codemirror_mode": {
    "name": "ipython",
    "version": 3
   },
   "file_extension": ".py",
   "mimetype": "text/x-python",
   "name": "python",
   "nbconvert_exporter": "python",
   "pygments_lexer": "ipython3",
   "version": "3.7.3"
  }
 },
 "nbformat": 4,
 "nbformat_minor": 4
}
