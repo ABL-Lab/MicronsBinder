{
 "cells": [
  {
   "cell_type": "markdown",
   "metadata": {},
   "source": [
    "# Reconstructed cell neurite lengths\n",
    "Plotting both (1) path length distances to the leaves of the skeletons and (2) the dendritic lengths reconstructed as a percentage of the expected value."
   ]
  },
  {
   "cell_type": "code",
   "execution_count": 1,
   "metadata": {},
   "outputs": [],
   "source": [
    "import numpy as np\n",
    "import pandas as pd\n",
    "import random\n",
    "from scipy import stats\n",
    "\n",
    "from matplotlib import rcParams as rc\n",
    "from matplotlib import pyplot as plt\n",
    "\n",
    "from lib import plot, u"
   ]
  },
  {
   "cell_type": "code",
   "execution_count": 2,
   "metadata": {},
   "outputs": [],
   "source": [
    "rc.update({'font.size': 20})"
   ]
  },
  {
   "cell_type": "markdown",
   "metadata": {},
   "source": [
    "## Reading data"
   ]
  },
  {
   "cell_type": "code",
   "execution_count": 3,
   "metadata": {},
   "outputs": [],
   "source": [
    "pyr_leaves_raw = pd.read_csv('data/pyr_neurite_lengths.csv', index_col=0)\n",
    "inh_leaves = pd.read_csv('data/inh_neurite_lengths.csv', index_col=0)"
   ]
  },
  {
   "cell_type": "code",
   "execution_count": 4,
   "metadata": {},
   "outputs": [],
   "source": [
    "pyr_complengths_raw = pd.read_csv('data/pyr_compartment_lengths.csv', index_col=0)"
   ]
  },
  {
   "cell_type": "code",
   "execution_count": 5,
   "metadata": {},
   "outputs": [],
   "source": [
    "pyrs_clean_compartments = u.read_ids(\"data/clean_compartment_ids_v185.csv\")"
   ]
  },
  {
   "cell_type": "code",
   "execution_count": 6,
   "metadata": {},
   "outputs": [],
   "source": [
    "pyr_leaves = pyr_leaves_raw[pyr_leaves_raw.pt_root_id.isin(pyrs_clean_compartments)]\n",
    "pyr_complengths = pyr_complengths_raw[\n",
    "    pyr_complengths_raw.cellid.isin(pyrs_clean_compartments)]"
   ]
  },
  {
   "cell_type": "code",
   "execution_count": 7,
   "metadata": {},
   "outputs": [
    {
     "data": {
      "text/html": [
       "<div>\n",
       "<style scoped>\n",
       "    .dataframe tbody tr th:only-of-type {\n",
       "        vertical-align: middle;\n",
       "    }\n",
       "\n",
       "    .dataframe tbody tr th {\n",
       "        vertical-align: top;\n",
       "    }\n",
       "\n",
       "    .dataframe thead th {\n",
       "        text-align: right;\n",
       "    }\n",
       "</style>\n",
       "<table border=\"1\" class=\"dataframe\">\n",
       "  <thead>\n",
       "    <tr style=\"text-align: right;\">\n",
       "      <th></th>\n",
       "      <th>cell_type</th>\n",
       "      <th>pt_position</th>\n",
       "      <th>pt_root_id</th>\n",
       "      <th>axon_lengths_um</th>\n",
       "      <th>apical_dend_lengths_um</th>\n",
       "      <th>basal_dend_lengths_um</th>\n",
       "      <th>ambiguous_dend_lengths_um</th>\n",
       "    </tr>\n",
       "  </thead>\n",
       "  <tbody>\n",
       "    <tr>\n",
       "      <th>1</th>\n",
       "      <td>e</td>\n",
       "      <td>[84054 50604  1424]</td>\n",
       "      <td>648518346349538466</td>\n",
       "      <td>[59.05064129049888]</td>\n",
       "      <td>[146.08713414259014, 135.36520528654188, 85.83...</td>\n",
       "      <td>[146.08713414259014, 135.36520528654188, 85.83...</td>\n",
       "      <td>[44.28541110779654, 97.37027331260785, 64.9004...</td>\n",
       "    </tr>\n",
       "    <tr>\n",
       "      <th>4</th>\n",
       "      <td>e</td>\n",
       "      <td>[77197 61773   428]</td>\n",
       "      <td>648518346349537038</td>\n",
       "      <td>[41.19627002083458]</td>\n",
       "      <td>[137.72780212763544, 107.79859845784608, 112.9...</td>\n",
       "      <td>[137.72780212763544, 107.79859845784608, 112.9...</td>\n",
       "      <td>[107.99619551700981, 107.82882130638531, 54.53...</td>\n",
       "    </tr>\n",
       "    <tr>\n",
       "      <th>7</th>\n",
       "      <td>e</td>\n",
       "      <td>[65539 51308   977]</td>\n",
       "      <td>648518346349539068</td>\n",
       "      <td>[170.20112486534458, 198.98896093447883, 131.8...</td>\n",
       "      <td>[79.20691470226744, 66.61165006566337, 69.3832...</td>\n",
       "      <td>[79.20691470226744, 66.61165006566337, 69.3832...</td>\n",
       "      <td>[58.38731102396065, 52.83220245412832, 55.1583...</td>\n",
       "    </tr>\n",
       "    <tr>\n",
       "      <th>8</th>\n",
       "      <td>e</td>\n",
       "      <td>[100898  43550    891]</td>\n",
       "      <td>648518346349536988</td>\n",
       "      <td>[261.8033724510187, 240.47636833541313, 162.86...</td>\n",
       "      <td>[101.10263616447452, 97.56225955655388, 100.04...</td>\n",
       "      <td>[101.10263616447452, 97.56225955655388, 100.04...</td>\n",
       "      <td>[12.938807616144814]</td>\n",
       "    </tr>\n",
       "    <tr>\n",
       "      <th>12</th>\n",
       "      <td>e</td>\n",
       "      <td>[101740  53066    718]</td>\n",
       "      <td>648518346349539539</td>\n",
       "      <td>[213.17479986917263, 239.04001396970457, 221.5...</td>\n",
       "      <td>[123.5473979054038, 89.6978445003813, 81.93792...</td>\n",
       "      <td>[123.5473979054038, 89.6978445003813, 81.93792...</td>\n",
       "      <td>[117.61770901976443, 48.600260876360515, 77.36...</td>\n",
       "    </tr>\n",
       "  </tbody>\n",
       "</table>\n",
       "</div>"
      ],
      "text/plain": [
       "   cell_type             pt_position          pt_root_id  \\\n",
       "1          e     [84054 50604  1424]  648518346349538466   \n",
       "4          e     [77197 61773   428]  648518346349537038   \n",
       "7          e     [65539 51308   977]  648518346349539068   \n",
       "8          e  [100898  43550    891]  648518346349536988   \n",
       "12         e  [101740  53066    718]  648518346349539539   \n",
       "\n",
       "                                      axon_lengths_um  \\\n",
       "1                                 [59.05064129049888]   \n",
       "4                                 [41.19627002083458]   \n",
       "7   [170.20112486534458, 198.98896093447883, 131.8...   \n",
       "8   [261.8033724510187, 240.47636833541313, 162.86...   \n",
       "12  [213.17479986917263, 239.04001396970457, 221.5...   \n",
       "\n",
       "                               apical_dend_lengths_um  \\\n",
       "1   [146.08713414259014, 135.36520528654188, 85.83...   \n",
       "4   [137.72780212763544, 107.79859845784608, 112.9...   \n",
       "7   [79.20691470226744, 66.61165006566337, 69.3832...   \n",
       "8   [101.10263616447452, 97.56225955655388, 100.04...   \n",
       "12  [123.5473979054038, 89.6978445003813, 81.93792...   \n",
       "\n",
       "                                basal_dend_lengths_um  \\\n",
       "1   [146.08713414259014, 135.36520528654188, 85.83...   \n",
       "4   [137.72780212763544, 107.79859845784608, 112.9...   \n",
       "7   [79.20691470226744, 66.61165006566337, 69.3832...   \n",
       "8   [101.10263616447452, 97.56225955655388, 100.04...   \n",
       "12  [123.5473979054038, 89.6978445003813, 81.93792...   \n",
       "\n",
       "                            ambiguous_dend_lengths_um  \n",
       "1   [44.28541110779654, 97.37027331260785, 64.9004...  \n",
       "4   [107.99619551700981, 107.82882130638531, 54.53...  \n",
       "7   [58.38731102396065, 52.83220245412832, 55.1583...  \n",
       "8                                [12.938807616144814]  \n",
       "12  [117.61770901976443, 48.600260876360515, 77.36...  "
      ]
     },
     "execution_count": 7,
     "metadata": {},
     "output_type": "execute_result"
    }
   ],
   "source": [
    "pyr_leaves.head()"
   ]
  },
  {
   "cell_type": "code",
   "execution_count": 8,
   "metadata": {},
   "outputs": [
    {
     "data": {
      "text/html": [
       "<div>\n",
       "<style scoped>\n",
       "    .dataframe tbody tr th:only-of-type {\n",
       "        vertical-align: middle;\n",
       "    }\n",
       "\n",
       "    .dataframe tbody tr th {\n",
       "        vertical-align: top;\n",
       "    }\n",
       "\n",
       "    .dataframe thead th {\n",
       "        text-align: right;\n",
       "    }\n",
       "</style>\n",
       "<table border=\"1\" class=\"dataframe\">\n",
       "  <thead>\n",
       "    <tr style=\"text-align: right;\">\n",
       "      <th></th>\n",
       "      <th>cellid</th>\n",
       "      <th>soma_length_um</th>\n",
       "      <th>axon_length_um</th>\n",
       "      <th>basal_length_um</th>\n",
       "      <th>apical_length_um</th>\n",
       "      <th>ambiguous dendrite_length_um</th>\n",
       "      <th>ambiguous_length_um</th>\n",
       "    </tr>\n",
       "  </thead>\n",
       "  <tbody>\n",
       "    <tr>\n",
       "      <th>4</th>\n",
       "      <td>648518346349522862</td>\n",
       "      <td>15.009022</td>\n",
       "      <td>0.000000</td>\n",
       "      <td>192.778053</td>\n",
       "      <td>0.000000</td>\n",
       "      <td>0.0</td>\n",
       "      <td>0.0</td>\n",
       "    </tr>\n",
       "    <tr>\n",
       "      <th>12</th>\n",
       "      <td>648518346349523129</td>\n",
       "      <td>37.956093</td>\n",
       "      <td>0.000000</td>\n",
       "      <td>327.055188</td>\n",
       "      <td>567.679268</td>\n",
       "      <td>0.0</td>\n",
       "      <td>0.0</td>\n",
       "    </tr>\n",
       "    <tr>\n",
       "      <th>13</th>\n",
       "      <td>648518346349533252</td>\n",
       "      <td>64.470290</td>\n",
       "      <td>0.000000</td>\n",
       "      <td>351.839554</td>\n",
       "      <td>141.306714</td>\n",
       "      <td>0.0</td>\n",
       "      <td>0.0</td>\n",
       "    </tr>\n",
       "    <tr>\n",
       "      <th>16</th>\n",
       "      <td>648518346349538001</td>\n",
       "      <td>27.844939</td>\n",
       "      <td>0.000000</td>\n",
       "      <td>0.000000</td>\n",
       "      <td>885.007456</td>\n",
       "      <td>0.0</td>\n",
       "      <td>0.0</td>\n",
       "    </tr>\n",
       "    <tr>\n",
       "      <th>17</th>\n",
       "      <td>648518346349539414</td>\n",
       "      <td>143.935690</td>\n",
       "      <td>63.255578</td>\n",
       "      <td>1384.713261</td>\n",
       "      <td>543.477423</td>\n",
       "      <td>0.0</td>\n",
       "      <td>0.0</td>\n",
       "    </tr>\n",
       "  </tbody>\n",
       "</table>\n",
       "</div>"
      ],
      "text/plain": [
       "                cellid  soma_length_um  axon_length_um  basal_length_um  \\\n",
       "4   648518346349522862       15.009022        0.000000       192.778053   \n",
       "12  648518346349523129       37.956093        0.000000       327.055188   \n",
       "13  648518346349533252       64.470290        0.000000       351.839554   \n",
       "16  648518346349538001       27.844939        0.000000         0.000000   \n",
       "17  648518346349539414      143.935690       63.255578      1384.713261   \n",
       "\n",
       "    apical_length_um  ambiguous dendrite_length_um  ambiguous_length_um  \n",
       "4           0.000000                           0.0                  0.0  \n",
       "12        567.679268                           0.0                  0.0  \n",
       "13        141.306714                           0.0                  0.0  \n",
       "16        885.007456                           0.0                  0.0  \n",
       "17        543.477423                           0.0                  0.0  "
      ]
     },
     "execution_count": 8,
     "metadata": {},
     "output_type": "execute_result"
    }
   ],
   "source": [
    "pyr_complengths.head()"
   ]
  },
  {
   "cell_type": "markdown",
   "metadata": {},
   "source": [
    "## Formatting data"
   ]
  },
  {
   "cell_type": "code",
   "execution_count": 9,
   "metadata": {},
   "outputs": [],
   "source": [
    "def length_frame(df, lengthcol, celltype, neuritetype):\n",
    "    cellids, lengths, celltypes, neuritetypes = [], [], [], []\n",
    "    \n",
    "    for (cellid, lens) in zip(df[\"pt_root_id\"], df[lengthcol]):\n",
    "        for length in eval(lens):\n",
    "            cellids.append(cellid)\n",
    "            lengths.append(length)\n",
    "            celltypes.append(celltype)\n",
    "            neuritetypes.append(neuritetype)\n",
    "    \n",
    "    data_dict = {\n",
    "        \"cellid\": pd.Series(cellids, dtype=\"int\"),\n",
    "        \"neuritelength\": lengths,\n",
    "        \"celltype\": celltypes,\n",
    "        \"neuritetype\": neuritetypes\n",
    "    }\n",
    "\n",
    "    return pd.DataFrame(data_dict)\n",
    "\n",
    "\n",
    "def assemble_pyr_data(df):\n",
    "    axondf = length_frame(df, \"axon_lengths_um\", \"pyramidal\", \"axon\")\n",
    "    basaldf = length_frame(df, \"basal_dend_lengths_um\", \"pyramidal\", \"basal\")\n",
    "    apicaldf = length_frame(df, \"apical_dend_lengths_um\", \"pyramidal\", \"apical\")\n",
    "    \n",
    "    return pd.concat((axondf, basaldf, apicaldf), ignore_index=True)\n",
    "\n",
    "\n",
    "def assemble_inh_data(df):\n",
    "    typedfs = []\n",
    "    for (typename, subdf) in df.groupby(\"forrest_tag\"):\n",
    "        typedfs.append(assemble_typedf(subdf, typename))\n",
    "    \n",
    "    return pd.concat(typedfs, ignore_index=True)\n",
    "\n",
    "\n",
    "def assemble_typedf(df, celltype):\n",
    "    neuritedfs = []\n",
    "    axondf = length_frame(df, \"axon_lengths_um\", celltype, \"axon\")\n",
    "    denddf = length_frame(df, \"dendrite_lengths_um\", celltype, \"dendrite\")\n",
    "    \n",
    "    return pd.concat((axondf, denddf), ignore_index=True)\n",
    "\n",
    "\n",
    "def assemble_all_data():\n",
    "    pyrdf = assemble_pyr_data(pyr_leaves)\n",
    "    inhdf = assemble_inh_data(inh_leaves)\n",
    "    \n",
    "    return pd.concat((pyrdf, inhdf), ignore_index=True)"
   ]
  },
  {
   "cell_type": "code",
   "execution_count": 10,
   "metadata": {},
   "outputs": [],
   "source": [
    "leafdata = assemble_all_data()"
   ]
  },
  {
   "cell_type": "code",
   "execution_count": 11,
   "metadata": {},
   "outputs": [
    {
     "data": {
      "text/html": [
       "<div>\n",
       "<style scoped>\n",
       "    .dataframe tbody tr th:only-of-type {\n",
       "        vertical-align: middle;\n",
       "    }\n",
       "\n",
       "    .dataframe tbody tr th {\n",
       "        vertical-align: top;\n",
       "    }\n",
       "\n",
       "    .dataframe thead th {\n",
       "        text-align: right;\n",
       "    }\n",
       "</style>\n",
       "<table border=\"1\" class=\"dataframe\">\n",
       "  <thead>\n",
       "    <tr style=\"text-align: right;\">\n",
       "      <th></th>\n",
       "      <th>cellid</th>\n",
       "      <th>neuritelength</th>\n",
       "      <th>celltype</th>\n",
       "      <th>neuritetype</th>\n",
       "    </tr>\n",
       "  </thead>\n",
       "  <tbody>\n",
       "    <tr>\n",
       "      <th>0</th>\n",
       "      <td>648518346349538466</td>\n",
       "      <td>59.050641</td>\n",
       "      <td>pyramidal</td>\n",
       "      <td>axon</td>\n",
       "    </tr>\n",
       "    <tr>\n",
       "      <th>1</th>\n",
       "      <td>648518346349537038</td>\n",
       "      <td>41.196270</td>\n",
       "      <td>pyramidal</td>\n",
       "      <td>axon</td>\n",
       "    </tr>\n",
       "    <tr>\n",
       "      <th>2</th>\n",
       "      <td>648518346349539068</td>\n",
       "      <td>170.201125</td>\n",
       "      <td>pyramidal</td>\n",
       "      <td>axon</td>\n",
       "    </tr>\n",
       "    <tr>\n",
       "      <th>3</th>\n",
       "      <td>648518346349539068</td>\n",
       "      <td>198.988961</td>\n",
       "      <td>pyramidal</td>\n",
       "      <td>axon</td>\n",
       "    </tr>\n",
       "    <tr>\n",
       "      <th>4</th>\n",
       "      <td>648518346349539068</td>\n",
       "      <td>131.830306</td>\n",
       "      <td>pyramidal</td>\n",
       "      <td>axon</td>\n",
       "    </tr>\n",
       "  </tbody>\n",
       "</table>\n",
       "</div>"
      ],
      "text/plain": [
       "               cellid  neuritelength   celltype neuritetype\n",
       "0  648518346349538466      59.050641  pyramidal        axon\n",
       "1  648518346349537038      41.196270  pyramidal        axon\n",
       "2  648518346349539068     170.201125  pyramidal        axon\n",
       "3  648518346349539068     198.988961  pyramidal        axon\n",
       "4  648518346349539068     131.830306  pyramidal        axon"
      ]
     },
     "execution_count": 11,
     "metadata": {},
     "output_type": "execute_result"
    }
   ],
   "source": [
    "leafdata.head()"
   ]
  },
  {
   "cell_type": "code",
   "execution_count": 12,
   "metadata": {},
   "outputs": [],
   "source": [
    "leafdata.loc[leafdata.celltype == \"unknown_type\", \"celltype\"] = \"unclassified\""
   ]
  },
  {
   "cell_type": "code",
   "execution_count": 13,
   "metadata": {},
   "outputs": [],
   "source": [
    "plotdf = leafdata.groupby([\"cellid\", \"celltype\", \"neuritetype\"])[\"neuritelength\"].\\\n",
    "    quantile([0.05, 0.5, 0.95]).unstack().reset_index()"
   ]
  },
  {
   "cell_type": "code",
   "execution_count": 14,
   "metadata": {},
   "outputs": [
    {
     "data": {
      "text/html": [
       "<div>\n",
       "<style scoped>\n",
       "    .dataframe tbody tr th:only-of-type {\n",
       "        vertical-align: middle;\n",
       "    }\n",
       "\n",
       "    .dataframe tbody tr th {\n",
       "        vertical-align: top;\n",
       "    }\n",
       "\n",
       "    .dataframe thead th {\n",
       "        text-align: right;\n",
       "    }\n",
       "</style>\n",
       "<table border=\"1\" class=\"dataframe\">\n",
       "  <thead>\n",
       "    <tr style=\"text-align: right;\">\n",
       "      <th></th>\n",
       "      <th>cellid</th>\n",
       "      <th>celltype</th>\n",
       "      <th>neuritetype</th>\n",
       "      <th>0.05</th>\n",
       "      <th>0.5</th>\n",
       "      <th>0.95</th>\n",
       "    </tr>\n",
       "  </thead>\n",
       "  <tbody>\n",
       "    <tr>\n",
       "      <th>0</th>\n",
       "      <td>648518346349477331</td>\n",
       "      <td>bipolar</td>\n",
       "      <td>axon</td>\n",
       "      <td>66.320367</td>\n",
       "      <td>182.381953</td>\n",
       "      <td>321.115928</td>\n",
       "    </tr>\n",
       "    <tr>\n",
       "      <th>1</th>\n",
       "      <td>648518346349477331</td>\n",
       "      <td>bipolar</td>\n",
       "      <td>dendrite</td>\n",
       "      <td>14.907629</td>\n",
       "      <td>41.191849</td>\n",
       "      <td>115.981463</td>\n",
       "    </tr>\n",
       "    <tr>\n",
       "      <th>2</th>\n",
       "      <td>648518346349487432</td>\n",
       "      <td>bipolar</td>\n",
       "      <td>dendrite</td>\n",
       "      <td>5.608375</td>\n",
       "      <td>50.099377</td>\n",
       "      <td>106.246134</td>\n",
       "    </tr>\n",
       "    <tr>\n",
       "      <th>3</th>\n",
       "      <td>648518346349487752</td>\n",
       "      <td>bipolar</td>\n",
       "      <td>axon</td>\n",
       "      <td>41.109148</td>\n",
       "      <td>41.109148</td>\n",
       "      <td>41.109148</td>\n",
       "    </tr>\n",
       "    <tr>\n",
       "      <th>4</th>\n",
       "      <td>648518346349487752</td>\n",
       "      <td>bipolar</td>\n",
       "      <td>dendrite</td>\n",
       "      <td>14.267682</td>\n",
       "      <td>59.603715</td>\n",
       "      <td>134.409277</td>\n",
       "    </tr>\n",
       "  </tbody>\n",
       "</table>\n",
       "</div>"
      ],
      "text/plain": [
       "               cellid celltype neuritetype       0.05         0.5        0.95\n",
       "0  648518346349477331  bipolar        axon  66.320367  182.381953  321.115928\n",
       "1  648518346349477331  bipolar    dendrite  14.907629   41.191849  115.981463\n",
       "2  648518346349487432  bipolar    dendrite   5.608375   50.099377  106.246134\n",
       "3  648518346349487752  bipolar        axon  41.109148   41.109148   41.109148\n",
       "4  648518346349487752  bipolar    dendrite  14.267682   59.603715  134.409277"
      ]
     },
     "execution_count": 14,
     "metadata": {},
     "output_type": "execute_result"
    }
   ],
   "source": [
    "plotdf.head()"
   ]
  },
  {
   "cell_type": "code",
   "execution_count": 15,
   "metadata": {},
   "outputs": [],
   "source": [
    "plotdf[\"celltype\"] = [c.capitalize() for c in plotdf.celltype]"
   ]
  },
  {
   "cell_type": "markdown",
   "metadata": {},
   "source": [
    "## Plotting"
   ]
  },
  {
   "cell_type": "markdown",
   "metadata": {},
   "source": [
    "#### Distances to leaves (neurite length from soma)"
   ]
  },
  {
   "cell_type": "code",
   "execution_count": 16,
   "metadata": {},
   "outputs": [],
   "source": [
    "def _errorbar_w_jitter(xs, ys, errslow, errshi,\n",
    "                      jitter=0.2, seed=None, **kwargs):\n",
    "    if seed is not None:\n",
    "        np.random.seed(seed)\n",
    "\n",
    "    xs = xs + stats.uniform(-jitter, 2*jitter).rvs(len(xs))\n",
    "    low = ys - errslow\n",
    "    hi = errshi - ys\n",
    "    \n",
    "    plt.errorbar(xs, ys, yerr=[low, hi],\n",
    "                 marker='', linestyle='', color=\"tab:gray\")\n",
    "    plt.scatter(xs, ys, marker='o', s=20, color='k', zorder=10)\n",
    "    \n",
    "\n",
    "def errorbar_w_jitter(df, levels, levelcolname=\"celltype\",\n",
    "                      seed=None, level_xs=None):\n",
    "    df = df[df[levelcolname].isin(levels)]\n",
    "    \n",
    "    if level_xs is None:\n",
    "        level_xs = list(range(len(levels)))\n",
    "\n",
    "    levelmap = {level: x for (level, x) in zip(levels, level_xs)}\n",
    "    xs = [levelmap[v] for v in df[levelcolname]]\n",
    "    \n",
    "    _errorbar_w_jitter(xs, df[0.5], df[0.05], df[0.95], seed=seed)\n",
    "    \n",
    "    plt.xticks(level_xs, levels, rotation=45)"
   ]
  },
  {
   "cell_type": "code",
   "execution_count": 17,
   "metadata": {},
   "outputs": [
    {
     "data": {
      "image/png": "[encoded data removed]",
      "text/plain": [
       "<Figure size 720x432 with 1 Axes>"
      ]
     },
     "metadata": {
      "needs_background": "light"
     },
     "output_type": "display_data"
    }
   ],
   "source": [
    "plt.figure(figsize=(10, 6))\n",
    "levels = [\"Pyramidal\", \"Bipolar\", \"Basket\",\n",
    "          \"Chandelier\", \"Martinotti\",\n",
    "          \"Neurogliaform\", \"Unclassified\"]\n",
    "\n",
    "errorbar_w_jitter(plotdf[plotdf.neuritetype == \"axon\"], levels,\n",
    "                  level_xs = [0, 2, 3, 4, 5, 6, 7], seed=67234697)\n",
    "plt.ylabel(\"Axon branch length ($\\mu$m)\")\n",
    "\n",
    "plot.format_axes()\n",
    "plt.show()"
   ]
  },
  {
   "cell_type": "code",
   "execution_count": 18,
   "metadata": {},
   "outputs": [
    {
     "name": "stderr",
     "output_type": "stream",
     "text": [
      "/usr/people/nturner/miniconda3/lib/python3.7/site-packages/pandas/core/indexing.py:1597: SettingWithCopyWarning: \n",
      "A value is trying to be set on a copy of a slice from a DataFrame.\n",
      "Try using .loc[row_indexer,col_indexer] = value instead\n",
      "\n",
      "See the caveats in the documentation: https://pandas.pydata.org/pandas-docs/stable/user_guide/indexing.html#returning-a-view-versus-a-copy\n",
      "  self.obj[key] = value\n",
      "/usr/people/nturner/miniconda3/lib/python3.7/site-packages/pandas/core/indexing.py:1676: SettingWithCopyWarning: \n",
      "A value is trying to be set on a copy of a slice from a DataFrame.\n",
      "Try using .loc[row_indexer,col_indexer] = value instead\n",
      "\n",
      "See the caveats in the documentation: https://pandas.pydata.org/pandas-docs/stable/user_guide/indexing.html#returning-a-view-versus-a-copy\n",
      "  self._setitem_single_column(ilocs[0], value, pi)\n"
     ]
    }
   ],
   "source": [
    "denddf = plotdf[plotdf.neuritetype != \"axon\"]\n",
    "\n",
    "full_neuritetype = []\n",
    "for (celltype, neuritetype) in zip(denddf.celltype, denddf.neuritetype):\n",
    "    if celltype != \"Pyramidal\":\n",
    "        full_neuritetype.append(celltype)\n",
    "    else:\n",
    "        full_neuritetype.append(f\"{celltype}\\n{neuritetype}\")\n",
    "\n",
    "denddf.loc[:, \"full_celltype\"] = full_neuritetype"
   ]
  },
  {
   "cell_type": "code",
   "execution_count": 26,
   "metadata": {},
   "outputs": [
    {
     "data": {
      "image/png": "[encoded data removed]",
      "text/plain": [
       "<Figure size 720x576 with 1 Axes>"
      ]
     },
     "metadata": {
      "needs_background": "light"
     },
     "output_type": "display_data"
    }
   ],
   "source": [
    "plt.figure(figsize=(10, 8))\n",
    "levels = [\"Pyramidal\\nbasal\", \"Pyramidal\\napical\",\n",
    "          \"Bipolar\", \"Basket\", \"Chandelier\", \"Martinotti\",\n",
    "          \"Neurogliaform\", \"Unclassified\"]\n",
    "\n",
    "errorbar_w_jitter(denddf, levels, levelcolname=\"full_celltype\", seed=67234697)\n",
    "plt.ylabel(\"Dendrite branch length ($\\mu$m)\")\n",
    "\n",
    "plot.format_axes()\n",
    "plt.tight_layout()\n",
    "plt.savefig(\"assets/dendritelength.png\")\n",
    "plt.show()"
   ]
  },
  {
   "cell_type": "markdown",
   "metadata": {},
   "source": [
    "### Percentage completion"
   ]
  },
  {
   "cell_type": "code",
   "execution_count": 20,
   "metadata": {},
   "outputs": [
    {
     "data": {
      "text/html": [
       "<div>\n",
       "<style scoped>\n",
       "    .dataframe tbody tr th:only-of-type {\n",
       "        vertical-align: middle;\n",
       "    }\n",
       "\n",
       "    .dataframe tbody tr th {\n",
       "        vertical-align: top;\n",
       "    }\n",
       "\n",
       "    .dataframe thead th {\n",
       "        text-align: right;\n",
       "    }\n",
       "</style>\n",
       "<table border=\"1\" class=\"dataframe\">\n",
       "  <thead>\n",
       "    <tr style=\"text-align: right;\">\n",
       "      <th></th>\n",
       "      <th>cellid</th>\n",
       "      <th>soma_length_um</th>\n",
       "      <th>axon_length_um</th>\n",
       "      <th>basal_length_um</th>\n",
       "      <th>apical_length_um</th>\n",
       "      <th>ambiguous dendrite_length_um</th>\n",
       "      <th>ambiguous_length_um</th>\n",
       "    </tr>\n",
       "  </thead>\n",
       "  <tbody>\n",
       "    <tr>\n",
       "      <th>4</th>\n",
       "      <td>648518346349522862</td>\n",
       "      <td>15.009022</td>\n",
       "      <td>0.000000</td>\n",
       "      <td>192.778053</td>\n",
       "      <td>0.000000</td>\n",
       "      <td>0.0</td>\n",
       "      <td>0.0</td>\n",
       "    </tr>\n",
       "    <tr>\n",
       "      <th>12</th>\n",
       "      <td>648518346349523129</td>\n",
       "      <td>37.956093</td>\n",
       "      <td>0.000000</td>\n",
       "      <td>327.055188</td>\n",
       "      <td>567.679268</td>\n",
       "      <td>0.0</td>\n",
       "      <td>0.0</td>\n",
       "    </tr>\n",
       "    <tr>\n",
       "      <th>13</th>\n",
       "      <td>648518346349533252</td>\n",
       "      <td>64.470290</td>\n",
       "      <td>0.000000</td>\n",
       "      <td>351.839554</td>\n",
       "      <td>141.306714</td>\n",
       "      <td>0.0</td>\n",
       "      <td>0.0</td>\n",
       "    </tr>\n",
       "    <tr>\n",
       "      <th>16</th>\n",
       "      <td>648518346349538001</td>\n",
       "      <td>27.844939</td>\n",
       "      <td>0.000000</td>\n",
       "      <td>0.000000</td>\n",
       "      <td>885.007456</td>\n",
       "      <td>0.0</td>\n",
       "      <td>0.0</td>\n",
       "    </tr>\n",
       "    <tr>\n",
       "      <th>17</th>\n",
       "      <td>648518346349539414</td>\n",
       "      <td>143.935690</td>\n",
       "      <td>63.255578</td>\n",
       "      <td>1384.713261</td>\n",
       "      <td>543.477423</td>\n",
       "      <td>0.0</td>\n",
       "      <td>0.0</td>\n",
       "    </tr>\n",
       "  </tbody>\n",
       "</table>\n",
       "</div>"
      ],
      "text/plain": [
       "                cellid  soma_length_um  axon_length_um  basal_length_um  \\\n",
       "4   648518346349522862       15.009022        0.000000       192.778053   \n",
       "12  648518346349523129       37.956093        0.000000       327.055188   \n",
       "13  648518346349533252       64.470290        0.000000       351.839554   \n",
       "16  648518346349538001       27.844939        0.000000         0.000000   \n",
       "17  648518346349539414      143.935690       63.255578      1384.713261   \n",
       "\n",
       "    apical_length_um  ambiguous dendrite_length_um  ambiguous_length_um  \n",
       "4           0.000000                           0.0                  0.0  \n",
       "12        567.679268                           0.0                  0.0  \n",
       "13        141.306714                           0.0                  0.0  \n",
       "16        885.007456                           0.0                  0.0  \n",
       "17        543.477423                           0.0                  0.0  "
      ]
     },
     "execution_count": 20,
     "metadata": {},
     "output_type": "execute_result"
    }
   ],
   "source": [
    "pyr_complengths.head()"
   ]
  },
  {
   "cell_type": "code",
   "execution_count": 21,
   "metadata": {},
   "outputs": [
    {
     "name": "stderr",
     "output_type": "stream",
     "text": [
      "/usr/people/nturner/miniconda3/lib/python3.7/site-packages/pandas/core/indexing.py:1597: SettingWithCopyWarning: \n",
      "A value is trying to be set on a copy of a slice from a DataFrame.\n",
      "Try using .loc[row_indexer,col_indexer] = value instead\n",
      "\n",
      "See the caveats in the documentation: https://pandas.pydata.org/pandas-docs/stable/user_guide/indexing.html#returning-a-view-versus-a-copy\n",
      "  self.obj[key] = value\n",
      "/usr/people/nturner/miniconda3/lib/python3.7/site-packages/pandas/core/indexing.py:1676: SettingWithCopyWarning: \n",
      "A value is trying to be set on a copy of a slice from a DataFrame.\n",
      "Try using .loc[row_indexer,col_indexer] = value instead\n",
      "\n",
      "See the caveats in the documentation: https://pandas.pydata.org/pandas-docs/stable/user_guide/indexing.html#returning-a-view-versus-a-copy\n",
      "  self._setitem_single_column(ilocs[0], value, pi)\n"
     ]
    }
   ],
   "source": [
    "pyr_complengths.loc[:, \"dend_length_um\"] = (\n",
    "    pyr_complengths[\"apical_length_um\"] +\n",
    "    pyr_complengths[\"ambiguous dendrite_length_um\"] +\n",
    "    pyr_complengths[\"basal_length_um\"])"
   ]
  },
  {
   "cell_type": "code",
   "execution_count": 22,
   "metadata": {},
   "outputs": [],
   "source": [
    "def plotpercentagehist(data, bins):\n",
    "    plt.hist(data, color='k', bins=bins)\n",
    "    plt.xticks(np.arange(11) * 0.1, np.arange(11) * 10, fontsize=25)\n",
    "    plt.yticks(fontsize=25)\n",
    "    plt.xlim(0, 1)"
   ]
  },
  {
   "cell_type": "markdown",
   "metadata": {},
   "source": [
    "Average path lengths from [Gilman, Medalla & Luebke 2017](https://doi.org/10.1093/cercor/bhw062):  \n",
    "\n",
    "* Dendrite arbor - 4.291mm  \n",
    "* Basal arbor - 2.583mm\n",
    "* Apical arbor - 1.707mm"
   ]
  },
  {
   "cell_type": "code",
   "execution_count": 23,
   "metadata": {},
   "outputs": [
    {
     "data": {
      "image/png": "[encoded data removed]",
      "text/plain": [
       "<Figure size 1080x432 with 1 Axes>"
      ]
     },
     "metadata": {
      "needs_background": "light"
     },
     "output_type": "display_data"
    }
   ],
   "source": [
    "plt.figure(figsize=(15, 6))\n",
    "  \n",
    "bins = np.arange(21) * 0.05\n",
    "percentages = pyr_complengths.dend_length_um / 4291\n",
    "plotpercentagehist(percentages, bins)\n",
    "\n",
    "plt.axvline(np.percentile(percentages, 50), ls='--', lw=3, color='r')\n",
    "\n",
    "plt.xlabel(\"% Expected dendritic path length\", fontsize=30)\n",
    "plt.ylabel(\"Count\", fontsize=30)\n",
    "\n",
    "plt.show()"
   ]
  },
  {
   "cell_type": "code",
   "execution_count": 24,
   "metadata": {},
   "outputs": [
    {
     "data": {
      "image/png": "[encoded data removed]",
      "text/plain": [
       "<Figure size 504x432 with 1 Axes>"
      ]
     },
     "metadata": {
      "needs_background": "light"
     },
     "output_type": "display_data"
    }
   ],
   "source": [
    "plt.figure(figsize=(7, 6))\n",
    "  \n",
    "bins = np.arange(21) * 0.05\n",
    "percentages = pyr_complengths.basal_length_um / 2583\n",
    "plotpercentagehist(percentages, bins)\n",
    "\n",
    "plt.axvline(np.percentile(percentages, 50), ls='--', lw=3, color='r')\n",
    "\n",
    "plt.xlabel(\"% Expected basal path length\", fontsize=30)\n",
    "plt.ylabel(\"Count\", fontsize=30)\n",
    "\n",
    "plt.show()"
   ]
  },
  {
   "cell_type": "code",
   "execution_count": 25,
   "metadata": {},
   "outputs": [
    {
     "data": {
      "image/png": "[encoded data removed]",
      "text/plain": [
       "<Figure size 504x432 with 1 Axes>"
      ]
     },
     "metadata": {
      "needs_background": "light"
     },
     "output_type": "display_data"
    }
   ],
   "source": [
    "plt.figure(figsize=(7, 6))\n",
    "  \n",
    "bins = np.arange(21) * 0.05\n",
    "percentages = pyr_complengths.apical_length_um / 1707\n",
    "plotpercentagehist(percentages, bins)\n",
    "\n",
    "plt.axvline(np.percentile(percentages, 50), ls='--', lw=3, color='r')\n",
    "\n",
    "plt.xlabel(\"% Expected apical path length\", fontsize=30)\n",
    "plt.ylabel(\"Count\", fontsize=30)\n",
    "\n",
    "plt.show()"
   ]
  }
 ],
 "metadata": {
  "kernelspec": {
   "display_name": "Python 3",
   "language": "python",
   "name": "python3"
  },
  "language_info": {
   "codemirror_mode": {
    "name": "ipython",
    "version": 3
   },
   "file_extension": ".py",
   "mimetype": "text/x-python",
   "name": "python",
   "nbconvert_exporter": "python",
   "pygments_lexer": "ipython3",
   "version": "3.7.3"
  }
 },
 "nbformat": 4,
 "nbformat_minor": 4
}
