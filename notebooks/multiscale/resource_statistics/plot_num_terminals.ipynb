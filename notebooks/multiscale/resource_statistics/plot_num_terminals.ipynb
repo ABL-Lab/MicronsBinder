{
 "cells": [
  {
   "cell_type": "markdown",
   "metadata": {},
   "source": [
    "# Synaptic terminal plots"
   ]
  },
  {
   "cell_type": "code",
   "execution_count": 2,
   "metadata": {},
   "outputs": [],
   "source": [
    "import numpy as np\n",
    "import pandas as pd\n",
    "import matplotlib.pyplot as plt\n",
    "import matplotlib\n",
    "\n",
    "from lib import plot, u"
   ]
  },
  {
   "cell_type": "markdown",
   "metadata": {},
   "source": [
    "### Reading data"
   ]
  },
  {
   "cell_type": "code",
   "execution_count": 3,
   "metadata": {},
   "outputs": [],
   "source": [
    "excids = pd.read_csv(\"data/soma_ids/p100_pyr_soma_IDs_v185.csv\", index_col=0\n",
    "                    ).pt_root_id.tolist()\n",
    "inhids = pd.read_csv(\"data/soma_ids/p100_inh_soma_IDs_v185.csv\", index_col=0\n",
    "                    ).pt_root_id.tolist()\n",
    "somaids = excids + inhids"
   ]
  },
  {
   "cell_type": "code",
   "execution_count": 4,
   "metadata": {},
   "outputs": [
    {
     "name": "stderr",
     "output_type": "stream",
     "text": [
      "/usr/people/nturner/miniconda3/lib/python3.7/site-packages/numpy/lib/arraysetops.py:580: FutureWarning: elementwise comparison failed; returning scalar instead, but in the future will perform elementwise comparison\n",
      "  mask |= (ar1 == a)\n"
     ]
    }
   ],
   "source": [
    "df_m = pd.read_csv(\"data/segment_terminal_counts.csv\", index_col=0,\n",
    "                   dtype={\"post_pt_root_id\":\"object\",\n",
    "                          \"post_syns\":\"float64\",\n",
    "                          \"id\":\"int64\",\n",
    "                          \"pre_pt_root_id\":\"object\",\n",
    "                          \"pre_syns\":\"float64\"})\n",
    "\n",
    "\n",
    "def formatidcol(column):\n",
    "    newcol = list()\n",
    "    for v in column:\n",
    "        if isinstance(v, np.float) and np.isnan(v):\n",
    "            newcol.append(v)\n",
    "        else:\n",
    "            try:\n",
    "                newcol.append(int(v))\n",
    "            except Exception as e:\n",
    "                print(v)\n",
    "                print(type(v))\n",
    "                raise e\n",
    "    \n",
    "    return pd.Series(newcol, dtype=\"object\")\n",
    "\n",
    "\n",
    "df_m[\"pre_pt_root_id\"] = formatidcol(df_m[\"pre_pt_root_id\"])\n",
    "df_m[\"post_pt_root_id\"] = formatidcol(df_m[\"post_pt_root_id\"])"
   ]
  },
  {
   "cell_type": "markdown",
   "metadata": {},
   "source": [
    "### Plotting"
   ]
  },
  {
   "cell_type": "code",
   "execution_count": 5,
   "metadata": {},
   "outputs": [],
   "source": [
    "df_exc = df_m[df_m[\"id\"].isin(excids)]\n",
    "df_inh = df_m[df_m[\"id\"].isin(inhids)]\n",
    "df_nosoma = df_m[~df_m[\"id\"].isin(somaids)]"
   ]
  },
  {
   "cell_type": "code",
   "execution_count": 6,
   "metadata": {},
   "outputs": [],
   "source": [
    "df_m.loc[pd.isnull(df_m.post_syns), \"type\"] = \"presyn\"\n",
    "df_m.loc[pd.isnull(df_m.pre_syns), \"type\"] = \"postsyn\"\n",
    "df_m.loc[pd.isnull(df_m[\"type\"]), \"type\"] = \"mixed\"\n",
    "df_m.loc[df_m[\"id\"].isin(somaids), \"type\"] = \"soma\""
   ]
  },
  {
   "cell_type": "code",
   "execution_count": 7,
   "metadata": {},
   "outputs": [
    {
     "data": {
      "text/html": [
       "<div>\n",
       "<style scoped>\n",
       "    .dataframe tbody tr th:only-of-type {\n",
       "        vertical-align: middle;\n",
       "    }\n",
       "\n",
       "    .dataframe tbody tr th {\n",
       "        vertical-align: top;\n",
       "    }\n",
       "\n",
       "    .dataframe thead th {\n",
       "        text-align: right;\n",
       "    }\n",
       "</style>\n",
       "<table border=\"1\" class=\"dataframe\">\n",
       "  <thead>\n",
       "    <tr style=\"text-align: right;\">\n",
       "      <th></th>\n",
       "      <th>post_pt_root_id</th>\n",
       "      <th>post_syns</th>\n",
       "      <th>id</th>\n",
       "      <th>pre_pt_root_id</th>\n",
       "      <th>pre_syns</th>\n",
       "      <th>type</th>\n",
       "    </tr>\n",
       "  </thead>\n",
       "  <tbody>\n",
       "    <tr>\n",
       "      <th>0</th>\n",
       "      <td>648518346345450394</td>\n",
       "      <td>1.0</td>\n",
       "      <td>648518346345450394</td>\n",
       "      <td>NaN</td>\n",
       "      <td>NaN</td>\n",
       "      <td>postsyn</td>\n",
       "    </tr>\n",
       "    <tr>\n",
       "      <th>1</th>\n",
       "      <td>648518346345659230</td>\n",
       "      <td>1.0</td>\n",
       "      <td>648518346345659230</td>\n",
       "      <td>NaN</td>\n",
       "      <td>NaN</td>\n",
       "      <td>postsyn</td>\n",
       "    </tr>\n",
       "    <tr>\n",
       "      <th>2</th>\n",
       "      <td>648518346345788377</td>\n",
       "      <td>1.0</td>\n",
       "      <td>648518346345788377</td>\n",
       "      <td>NaN</td>\n",
       "      <td>NaN</td>\n",
       "      <td>postsyn</td>\n",
       "    </tr>\n",
       "    <tr>\n",
       "      <th>3</th>\n",
       "      <td>648518346343745756</td>\n",
       "      <td>1.0</td>\n",
       "      <td>648518346343745756</td>\n",
       "      <td>NaN</td>\n",
       "      <td>NaN</td>\n",
       "      <td>postsyn</td>\n",
       "    </tr>\n",
       "    <tr>\n",
       "      <th>4</th>\n",
       "      <td>648518346348808231</td>\n",
       "      <td>1.0</td>\n",
       "      <td>648518346348808231</td>\n",
       "      <td>NaN</td>\n",
       "      <td>NaN</td>\n",
       "      <td>postsyn</td>\n",
       "    </tr>\n",
       "  </tbody>\n",
       "</table>\n",
       "</div>"
      ],
      "text/plain": [
       "      post_pt_root_id  post_syns                  id pre_pt_root_id  pre_syns  \\\n",
       "0  648518346345450394        1.0  648518346345450394            NaN       NaN   \n",
       "1  648518346345659230        1.0  648518346345659230            NaN       NaN   \n",
       "2  648518346345788377        1.0  648518346345788377            NaN       NaN   \n",
       "3  648518346343745756        1.0  648518346343745756            NaN       NaN   \n",
       "4  648518346348808231        1.0  648518346348808231            NaN       NaN   \n",
       "\n",
       "      type  \n",
       "0  postsyn  \n",
       "1  postsyn  \n",
       "2  postsyn  \n",
       "3  postsyn  \n",
       "4  postsyn  "
      ]
     },
     "execution_count": 7,
     "metadata": {},
     "output_type": "execute_result"
    }
   ],
   "source": [
    "df_m.head()"
   ]
  },
  {
   "cell_type": "code",
   "execution_count": 19,
   "metadata": {},
   "outputs": [
    {
     "name": "stdout",
     "output_type": "stream",
     "text": [
      "96450 neurites with >= 10 synapses\n"
     ]
    }
   ],
   "source": [
    "num_presyn_gte7 = df_m[(df_m.pre_syns >= 10) &\n",
    "                       (np.isnan(df_m.post_syns))].shape[0]\n",
    "num_postsyn_gte7 = df_m[(df_m.post_syns >= 10) &\n",
    "                        (np.isnan(df_m.pre_syns))].shape[0]\n",
    "print(f\"{num_presyn_gte7 + num_postsyn_gte7} neurites with >= 10 synapses\")"
   ]
  },
  {
   "cell_type": "code",
   "execution_count": 24,
   "metadata": {},
   "outputs": [],
   "source": [
    "gt10 = pd.concat((\n",
    "         df_m[(df_m.pre_syns >= 10) &\n",
    "              (np.isnan(df_m.post_syns))],\n",
    "         df_m[(df_m.post_syns >= 10) &\n",
    "              (np.isnan(df_m.pre_syns))]))"
   ]
  },
  {
   "cell_type": "code",
   "execution_count": 27,
   "metadata": {},
   "outputs": [
    {
     "data": {
      "text/html": [
       "<div>\n",
       "<style scoped>\n",
       "    .dataframe tbody tr th:only-of-type {\n",
       "        vertical-align: middle;\n",
       "    }\n",
       "\n",
       "    .dataframe tbody tr th {\n",
       "        vertical-align: top;\n",
       "    }\n",
       "\n",
       "    .dataframe thead th {\n",
       "        text-align: right;\n",
       "    }\n",
       "</style>\n",
       "<table border=\"1\" class=\"dataframe\">\n",
       "  <thead>\n",
       "    <tr style=\"text-align: right;\">\n",
       "      <th></th>\n",
       "      <th>post_pt_root_id</th>\n",
       "      <th>post_syns</th>\n",
       "      <th>id</th>\n",
       "      <th>pre_pt_root_id</th>\n",
       "      <th>pre_syns</th>\n",
       "      <th>type</th>\n",
       "    </tr>\n",
       "  </thead>\n",
       "  <tbody>\n",
       "    <tr>\n",
       "      <th>640932</th>\n",
       "      <td>NaN</td>\n",
       "      <td>NaN</td>\n",
       "      <td>648518346341351458</td>\n",
       "      <td>648518346341351458</td>\n",
       "      <td>24.0</td>\n",
       "      <td>presyn</td>\n",
       "    </tr>\n",
       "    <tr>\n",
       "      <th>640936</th>\n",
       "      <td>NaN</td>\n",
       "      <td>NaN</td>\n",
       "      <td>648518346341351467</td>\n",
       "      <td>648518346341351467</td>\n",
       "      <td>42.0</td>\n",
       "      <td>presyn</td>\n",
       "    </tr>\n",
       "    <tr>\n",
       "      <th>640944</th>\n",
       "      <td>NaN</td>\n",
       "      <td>NaN</td>\n",
       "      <td>648518346341351496</td>\n",
       "      <td>648518346341351496</td>\n",
       "      <td>18.0</td>\n",
       "      <td>presyn</td>\n",
       "    </tr>\n",
       "    <tr>\n",
       "      <th>640951</th>\n",
       "      <td>NaN</td>\n",
       "      <td>NaN</td>\n",
       "      <td>648518346341351503</td>\n",
       "      <td>648518346341351503</td>\n",
       "      <td>18.0</td>\n",
       "      <td>presyn</td>\n",
       "    </tr>\n",
       "    <tr>\n",
       "      <th>640952</th>\n",
       "      <td>NaN</td>\n",
       "      <td>NaN</td>\n",
       "      <td>648518346341351504</td>\n",
       "      <td>648518346341351504</td>\n",
       "      <td>10.0</td>\n",
       "      <td>presyn</td>\n",
       "    </tr>\n",
       "  </tbody>\n",
       "</table>\n",
       "</div>"
      ],
      "text/plain": [
       "       post_pt_root_id  post_syns                  id      pre_pt_root_id  \\\n",
       "640932             NaN        NaN  648518346341351458  648518346341351458   \n",
       "640936             NaN        NaN  648518346341351467  648518346341351467   \n",
       "640944             NaN        NaN  648518346341351496  648518346341351496   \n",
       "640951             NaN        NaN  648518346341351503  648518346341351503   \n",
       "640952             NaN        NaN  648518346341351504  648518346341351504   \n",
       "\n",
       "        pre_syns    type  \n",
       "640932      24.0  presyn  \n",
       "640936      42.0  presyn  \n",
       "640944      18.0  presyn  \n",
       "640951      18.0  presyn  \n",
       "640952      10.0  presyn  "
      ]
     },
     "execution_count": 27,
     "metadata": {},
     "output_type": "execute_result"
    }
   ],
   "source": [
    "gt10.head()"
   ]
  },
  {
   "cell_type": "code",
   "execution_count": 28,
   "metadata": {},
   "outputs": [],
   "source": [
    "u.write_ids(gt10[\"id\"].values, \"gt10ids.csv\")"
   ]
  },
  {
   "cell_type": "code",
   "execution_count": 11,
   "metadata": {},
   "outputs": [],
   "source": [
    "def stackedhist(df, varname, levels, colors, bins=None,\n",
    "                levelcolname=\"type\"):\n",
    "    arrs = [df[varname][df[levelcolname] == level]\n",
    "            for level in levels]\n",
    "    \n",
    "    plt.hist(arrs, bins=bins, color=colors, stacked=True)\n",
    "    \n",
    "\n",
    "def stephist(df, varname, levels, colors, bins=None,\n",
    "             levelcolname=\"type\"):\n",
    "    arrs = [df[varname][df[levelcolname] == level]\n",
    "            for level in levels]\n",
    "    \n",
    "    for (arr, col) in zip(arrs, colors):\n",
    "        plt.hist(arr, bins=bins, edgecolor=col, lw=3, histtype=\"step\")\n",
    "        \n",
    "        \n",
    "def alphahist(df, varname, levels, colors, bins=None,\n",
    "             levelcolname=\"type\"):\n",
    "    arrs = [df[varname][df[levelcolname] == level]\n",
    "            for level in levels]\n",
    "    \n",
    "    for (arr, col) in zip(arrs, colors):\n",
    "        plt.hist(arr, bins=bins, color=col, alpha=0.6)\n",
    "\n",
    "\n",
    "def splithist(df, varname, levels, colors, bins=None,\n",
    "             levelcolname=\"type\", logx=True, logy=True,\n",
    "              xlbl=\"\", fontsize=20, ylim=None):\n",
    "    arrs = [df[varname][df[levelcolname] == level]\n",
    "            for level in levels]\n",
    "    print(list(map(len, arrs)))\n",
    "    \n",
    "    for (i, (arr, col)) in enumerate(zip(arrs, colors)):\n",
    "        plt.subplot(1, len(levels), i+1)\n",
    "        plt.hist(arr, bins=bins, edgecolor=col, color=col)\n",
    "        \n",
    "        if i == 0:\n",
    "            plt.ylabel(\"Count\", fontsize=fontsize)\n",
    "\n",
    "        if i == 0:\n",
    "            plt.xlabel(xlbl, fontsize=fontsize)\n",
    "        \n",
    "        if logx:\n",
    "            plt.xscale(\"log\")\n",
    "        \n",
    "        if logy:\n",
    "            plt.yscale(\"log\")\n",
    "        \n",
    "        if ylim is None:\n",
    "            ylim = plt.gca().get_ylim()\n",
    "            if logy:\n",
    "                plt.ylim(0.5, ylim[1])\n",
    "                ylim = (0.5, ylim[1])\n",
    "        else:\n",
    "            plt.ylim(*ylim)\n",
    "            \n",
    "        plot.format_axes()"
   ]
  },
  {
   "cell_type": "code",
   "execution_count": 23,
   "metadata": {},
   "outputs": [
    {
     "name": "stdout",
     "output_type": "stream",
     "text": [
      "[612201, 396]\n"
     ]
    },
    {
     "data": {
      "image/png": "[encoded data removed]",
      "text/plain": [
       "<Figure size 1080x360 with 2 Axes>"
      ]
     },
     "metadata": {
      "needs_background": "light"
     },
     "output_type": "display_data"
    }
   ],
   "source": [
    "plt.figure(figsize=(15, 5))\n",
    "bins = u.logspace_bins(df_m.post_syns, 12)\n",
    "matplotlib.rc('font', family='sans-serif')\n",
    "matplotlib.rc('font', serif='Helvetica')\n",
    "splithist(df_m, \"post_syns\", [\"postsyn\", \"soma\"],\n",
    "          bins=bins, colors=[\"k\", \"k\", 'k'],\n",
    "          xlbl=\"Predicted # postsynaptic terminals\",\n",
    "          fontsize=30)\n",
    "plt.show()"
   ]
  },
  {
   "cell_type": "code",
   "execution_count": 22,
   "metadata": {},
   "outputs": [
    {
     "name": "stdout",
     "output_type": "stream",
     "text": [
      "[640285, 396]\n"
     ]
    },
    {
     "data": {
      "image/png": "[encoded data removed]",
      "text/plain": [
       "<Figure size 1080x360 with 2 Axes>"
      ]
     },
     "metadata": {
      "needs_background": "light"
     },
     "output_type": "display_data"
    }
   ],
   "source": [
    "plt.figure(figsize=(15, 5))\n",
    "bins = u.logspace_bins(df_m.pre_syns, 12)\n",
    "\n",
    "splithist(df_m, \"pre_syns\", [\"presyn\", \"soma\"],\n",
    "          bins=bins, colors=[\"k\", \"k\", 'k'],\n",
    "          xlbl=\"Predicted # presynaptic terminals\",\n",
    "          fontsize=30, ylim=ylim)\n",
    "plt.show()"
   ]
  }
 ],
 "metadata": {
  "kernelspec": {
   "display_name": "Python 3",
   "language": "python",
   "name": "python3"
  },
  "language_info": {
   "codemirror_mode": {
    "name": "ipython",
    "version": 3
   },
   "file_extension": ".py",
   "mimetype": "text/x-python",
   "name": "python",
   "nbconvert_exporter": "python",
   "pygments_lexer": "ipython3",
   "version": "3.7.3"
  }
 },
 "nbformat": 4,
 "nbformat_minor": 4
}
